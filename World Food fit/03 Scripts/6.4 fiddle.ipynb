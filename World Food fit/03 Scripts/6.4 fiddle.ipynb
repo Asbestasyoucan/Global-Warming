{
 "cells": [
  {
   "cell_type": "markdown",
   "id": "d8aa3cc4",
   "metadata": {},
   "source": [
    "# 1. Importing libraries and data"
   ]
  },
  {
   "cell_type": "code",
   "execution_count": 1,
   "id": "39103806",
   "metadata": {},
   "outputs": [],
   "source": [
    "import pandas as pd\n",
    "import numpy as np\n",
    "import seaborn as sns\n",
    "import matplotlib\n",
    "import matplotlib.pyplot as plt\n",
    "import os\n",
    "import sklearn\n",
    "from sklearn.model_selection import train_test_split \n",
    "from sklearn.linear_model import LinearRegression\n",
    "from sklearn.metrics import mean_squared_error, r2_score"
   ]
  },
  {
   "cell_type": "code",
   "execution_count": 2,
   "id": "e10cbed7",
   "metadata": {},
   "outputs": [],
   "source": [
    "# This option ensures that the graphs created are displayed within the notebook without the need to \"call\" them specifically\n",
    "\n",
    "%matplotlib inline"
   ]
  },
  {
   "cell_type": "code",
   "execution_count": 3,
   "id": "9efad617",
   "metadata": {},
   "outputs": [],
   "source": [
    "path = 'C:\\\\Users\\\\Marce\\\\careerfoundry\\\\food'"
   ]
  },
  {
   "cell_type": "code",
   "execution_count": 4,
   "id": "c8522f8e",
   "metadata": {},
   "outputs": [],
   "source": [
    "df = pd.read_csv(os.path.join(path, '02 Data', 'Prepared Data', 'currencyrdy.csv'))"
   ]
  },
  {
   "cell_type": "code",
   "execution_count": 5,
   "id": "f62a09d1",
   "metadata": {},
   "outputs": [
    {
     "data": {
      "text/plain": [
       "Index(['Country', 'Product/Category', 'Month', 'Year', 'Price/USD'], dtype='object')"
      ]
     },
     "execution_count": 5,
     "metadata": {},
     "output_type": "execute_result"
    }
   ],
   "source": [
    "df.columns"
   ]
  },
  {
   "cell_type": "code",
   "execution_count": 6,
   "id": "7e0bb6db",
   "metadata": {},
   "outputs": [
    {
     "data": {
      "text/html": [
       "<div>\n",
       "<style scoped>\n",
       "    .dataframe tbody tr th:only-of-type {\n",
       "        vertical-align: middle;\n",
       "    }\n",
       "\n",
       "    .dataframe tbody tr th {\n",
       "        vertical-align: top;\n",
       "    }\n",
       "\n",
       "    .dataframe thead th {\n",
       "        text-align: right;\n",
       "    }\n",
       "</style>\n",
       "<table border=\"1\" class=\"dataframe\">\n",
       "  <thead>\n",
       "    <tr style=\"text-align: right;\">\n",
       "      <th></th>\n",
       "      <th>Country</th>\n",
       "      <th>Product/Category</th>\n",
       "      <th>Month</th>\n",
       "      <th>Year</th>\n",
       "      <th>Price/USD</th>\n",
       "    </tr>\n",
       "  </thead>\n",
       "  <tbody>\n",
       "    <tr>\n",
       "      <th>0</th>\n",
       "      <td>Afghanistan</td>\n",
       "      <td>Bread - Retail</td>\n",
       "      <td>Jan</td>\n",
       "      <td>2000</td>\n",
       "      <td>0.1777</td>\n",
       "    </tr>\n",
       "    <tr>\n",
       "      <th>1</th>\n",
       "      <td>Afghanistan</td>\n",
       "      <td>Bread - Retail</td>\n",
       "      <td>Jan</td>\n",
       "      <td>2001</td>\n",
       "      <td>0.2078</td>\n",
       "    </tr>\n",
       "    <tr>\n",
       "      <th>2</th>\n",
       "      <td>Afghanistan</td>\n",
       "      <td>Bread - Retail</td>\n",
       "      <td>Jan</td>\n",
       "      <td>2002</td>\n",
       "      <td>0.1060</td>\n",
       "    </tr>\n",
       "    <tr>\n",
       "      <th>3</th>\n",
       "      <td>Afghanistan</td>\n",
       "      <td>Bread - Retail</td>\n",
       "      <td>Jan</td>\n",
       "      <td>2003</td>\n",
       "      <td>0.1515</td>\n",
       "    </tr>\n",
       "    <tr>\n",
       "      <th>4</th>\n",
       "      <td>Afghanistan</td>\n",
       "      <td>Bread - Retail</td>\n",
       "      <td>Jan</td>\n",
       "      <td>2004</td>\n",
       "      <td>0.1751</td>\n",
       "    </tr>\n",
       "  </tbody>\n",
       "</table>\n",
       "</div>"
      ],
      "text/plain": [
       "       Country Product/Category Month  Year  Price/USD\n",
       "0  Afghanistan   Bread - Retail   Jan  2000     0.1777\n",
       "1  Afghanistan   Bread - Retail   Jan  2001     0.2078\n",
       "2  Afghanistan   Bread - Retail   Jan  2002     0.1060\n",
       "3  Afghanistan   Bread - Retail   Jan  2003     0.1515\n",
       "4  Afghanistan   Bread - Retail   Jan  2004     0.1751"
      ]
     },
     "execution_count": 6,
     "metadata": {},
     "output_type": "execute_result"
    }
   ],
   "source": [
    "df.head(5)"
   ]
  },
  {
   "cell_type": "code",
   "execution_count": 7,
   "id": "26845a45",
   "metadata": {},
   "outputs": [
    {
     "data": {
      "text/plain": [
       "(107108, 5)"
      ]
     },
     "execution_count": 7,
     "metadata": {},
     "output_type": "execute_result"
    }
   ],
   "source": [
    "df.shape"
   ]
  },
  {
   "cell_type": "code",
   "execution_count": 8,
   "id": "ec638a6d",
   "metadata": {},
   "outputs": [
    {
     "data": {
      "text/plain": [
       "Country                0\n",
       "Product/Category       0\n",
       "Month                  0\n",
       "Year                   0\n",
       "Price/USD           5316\n",
       "dtype: int64"
      ]
     },
     "execution_count": 8,
     "metadata": {},
     "output_type": "execute_result"
    }
   ],
   "source": [
    "df.isnull().sum()"
   ]
  },
  {
   "cell_type": "code",
   "execution_count": 9,
   "id": "fe5387f1",
   "metadata": {},
   "outputs": [],
   "source": [
    "df['PriceUSD'].fillna(df['PriceUSD'].median(), inplace = True)"
   ]
  },
  {
   "cell_type": "code",
   "execution_count": 10,
   "id": "e41ff2d6",
   "metadata": {},
   "outputs": [
    {
     "data": {
      "text/html": [
       "<div>\n",
       "<style scoped>\n",
       "    .dataframe tbody tr th:only-of-type {\n",
       "        vertical-align: middle;\n",
       "    }\n",
       "\n",
       "    .dataframe tbody tr th {\n",
       "        vertical-align: top;\n",
       "    }\n",
       "\n",
       "    .dataframe thead th {\n",
       "        text-align: right;\n",
       "    }\n",
       "</style>\n",
       "<table border=\"1\" class=\"dataframe\">\n",
       "  <thead>\n",
       "    <tr style=\"text-align: right;\">\n",
       "      <th></th>\n",
       "      <th>Year</th>\n",
       "      <th>Price/USD</th>\n",
       "    </tr>\n",
       "  </thead>\n",
       "  <tbody>\n",
       "    <tr>\n",
       "      <th>count</th>\n",
       "      <td>107108.000000</td>\n",
       "      <td>107108.000000</td>\n",
       "    </tr>\n",
       "    <tr>\n",
       "      <th>mean</th>\n",
       "      <td>2014.571414</td>\n",
       "      <td>13.291063</td>\n",
       "    </tr>\n",
       "    <tr>\n",
       "      <th>std</th>\n",
       "      <td>4.778718</td>\n",
       "      <td>381.852362</td>\n",
       "    </tr>\n",
       "    <tr>\n",
       "      <th>min</th>\n",
       "      <td>1992.000000</td>\n",
       "      <td>0.000000</td>\n",
       "    </tr>\n",
       "    <tr>\n",
       "      <th>25%</th>\n",
       "      <td>2011.000000</td>\n",
       "      <td>0.458300</td>\n",
       "    </tr>\n",
       "    <tr>\n",
       "      <th>50%</th>\n",
       "      <td>2015.000000</td>\n",
       "      <td>0.892300</td>\n",
       "    </tr>\n",
       "    <tr>\n",
       "      <th>75%</th>\n",
       "      <td>2019.000000</td>\n",
       "      <td>2.539400</td>\n",
       "    </tr>\n",
       "    <tr>\n",
       "      <th>max</th>\n",
       "      <td>2021.000000</td>\n",
       "      <td>39937.572400</td>\n",
       "    </tr>\n",
       "  </tbody>\n",
       "</table>\n",
       "</div>"
      ],
      "text/plain": [
       "                Year      Price/USD\n",
       "count  107108.000000  107108.000000\n",
       "mean     2014.571414      13.291063\n",
       "std         4.778718     381.852362\n",
       "min      1992.000000       0.000000\n",
       "25%      2011.000000       0.458300\n",
       "50%      2015.000000       0.892300\n",
       "75%      2019.000000       2.539400\n",
       "max      2021.000000   39937.572400"
      ]
     },
     "execution_count": 10,
     "metadata": {},
     "output_type": "execute_result"
    }
   ],
   "source": [
    "df.describe()"
   ]
  },
  {
   "cell_type": "code",
   "execution_count": 11,
   "id": "dea30d7d",
   "metadata": {},
   "outputs": [],
   "source": [
    "dups = df.duplicated()"
   ]
  },
  {
   "cell_type": "code",
   "execution_count": 12,
   "id": "695f89b3",
   "metadata": {},
   "outputs": [
    {
     "data": {
      "text/plain": [
       "(107108,)"
      ]
     },
     "execution_count": 12,
     "metadata": {},
     "output_type": "execute_result"
    }
   ],
   "source": [
    "# no dups\n",
    "\n",
    "dups.shape"
   ]
  },
  {
   "cell_type": "code",
   "execution_count": 13,
   "id": "ba480de6",
   "metadata": {},
   "outputs": [
    {
     "name": "stderr",
     "output_type": "stream",
     "text": [
      "C:\\Users\\Marce\\anaconda3\\lib\\site-packages\\seaborn\\distributions.py:2619: FutureWarning: `distplot` is a deprecated function and will be removed in a future version. Please adapt your code to use either `displot` (a figure-level function with similar flexibility) or `histplot` (an axes-level function for histograms).\n",
      "  warnings.warn(msg, FutureWarning)\n"
     ]
    },
    {
     "data": {
      "text/plain": [
       "<AxesSubplot:xlabel='Price/USD', ylabel='Density'>"
      ]
     },
     "execution_count": 13,
     "metadata": {},
     "output_type": "execute_result"
    },
    {
     "data": {
      "image/png": "[encoded data removed]",
      "text/plain": [
       "<Figure size 432x288 with 1 Axes>"
      ]
     },
     "metadata": {
      "needs_background": "light"
     },
     "output_type": "display_data"
    }
   ],
   "source": [
    "sns.distplot(df['Price/USD'], bins=10) # Shows extreme values"
   ]
  },
  {
   "cell_type": "code",
   "execution_count": 14,
   "id": "05495c96",
   "metadata": {},
   "outputs": [
    {
     "data": {
      "text/plain": [
       "13.291062797361578"
      ]
     },
     "execution_count": 14,
     "metadata": {},
     "output_type": "execute_result"
    }
   ],
   "source": [
    "# check mean\n",
    "\n",
    "df['Price/USD'].mean()"
   ]
  },
  {
   "cell_type": "code",
   "execution_count": 15,
   "id": "61d82fe5",
   "metadata": {},
   "outputs": [
    {
     "data": {
      "text/plain": [
       "0.8923"
      ]
     },
     "execution_count": 15,
     "metadata": {},
     "output_type": "execute_result"
    }
   ],
   "source": [
    "# check median\n",
    "\n",
    "df['Price/USD'].median() # Check the median"
   ]
  },
  {
   "cell_type": "code",
   "execution_count": 16,
   "id": "ec54b98d",
   "metadata": {},
   "outputs": [
    {
     "data": {
      "text/plain": [
       "39937.5724"
      ]
     },
     "execution_count": 16,
     "metadata": {},
     "output_type": "execute_result"
    }
   ],
   "source": [
    "# check max\n",
    "\n",
    "df['Price/USD'].max() # Check the max"
   ]
  },
  {
   "cell_type": "code",
   "execution_count": 17,
   "id": "613ea228",
   "metadata": {},
   "outputs": [
    {
     "data": {
      "image/png": "[encoded data removed]",
      "text/plain": [
       "<Figure size 432x288 with 1 Axes>"
      ]
     },
     "metadata": {
      "needs_background": "light"
     },
     "output_type": "display_data"
    }
   ],
   "source": [
    "df.plot (x=\"Year\", y=\"Price/USD\", style=\"o\")\n",
    "plt.title(\"Prices per year\")\n",
    "plt.xlabel(\"Year\")\n",
    "plt.ylabel(\"Prices\")\n",
    "plt.show()"
   ]
  },
  {
   "cell_type": "markdown",
   "id": "b02c4cd1",
   "metadata": {},
   "source": [
    "# Hypothesis = Increasing years have a positive effect on prices."
   ]
  },
  {
   "cell_type": "code",
   "execution_count": 18,
   "id": "e2ba6699",
   "metadata": {},
   "outputs": [],
   "source": [
    "# Reshape the variables into NumPy arrays and put them into separate objects.\n",
    "\n",
    "X = df['Year'].values.reshape(-1,1)\n",
    "y = df['Price/USD'].values.reshape(-1,1)"
   ]
  },
  {
   "cell_type": "code",
   "execution_count": 19,
   "id": "260c3afe",
   "metadata": {},
   "outputs": [
    {
     "data": {
      "text/plain": [
       "array([[2000],\n",
       "       [2001],\n",
       "       [2002],\n",
       "       ...,\n",
       "       [2020],\n",
       "       [2020],\n",
       "       [2020]], dtype=int64)"
      ]
     },
     "execution_count": 19,
     "metadata": {},
     "output_type": "execute_result"
    }
   ],
   "source": [
    "X"
   ]
  },
  {
   "cell_type": "code",
   "execution_count": 20,
   "id": "4d2eb09e",
   "metadata": {},
   "outputs": [
    {
     "data": {
      "text/plain": [
       "array([[0.1777],\n",
       "       [0.2078],\n",
       "       [0.106 ],\n",
       "       ...,\n",
       "       [0.7934],\n",
       "       [0.7817],\n",
       "       [0.7834]])"
      ]
     },
     "execution_count": 20,
     "metadata": {},
     "output_type": "execute_result"
    }
   ],
   "source": [
    "y"
   ]
  },
  {
   "cell_type": "code",
   "execution_count": 21,
   "id": "105e0f66",
   "metadata": {},
   "outputs": [],
   "source": [
    "# Split data into a training set and a test set.\n",
    "\n",
    "X_train, X_test, y_train, y_test = train_test_split(X, y, test_size=0.3, random_state=0)"
   ]
  },
  {
   "cell_type": "code",
   "execution_count": 22,
   "id": "529c8679",
   "metadata": {},
   "outputs": [],
   "source": [
    "# create a regression object\n",
    "\n",
    "regression = LinearRegression()"
   ]
  },
  {
   "cell_type": "code",
   "execution_count": 23,
   "id": "20777fbb",
   "metadata": {},
   "outputs": [
    {
     "data": {
      "text/plain": [
       "LinearRegression()"
      ]
     },
     "execution_count": 23,
     "metadata": {},
     "output_type": "execute_result"
    }
   ],
   "source": [
    "# fit the regression object onto the training set\n",
    "\n",
    "regression.fit(X_train, y_train)"
   ]
  },
  {
   "cell_type": "code",
   "execution_count": 24,
   "id": "86d4719b",
   "metadata": {},
   "outputs": [],
   "source": [
    "# Predict the values of y using X.\n",
    "\n",
    "y_predicted = regression.predict(X_test)"
   ]
  },
  {
   "cell_type": "code",
   "execution_count": 25,
   "id": "c4e0b2c9",
   "metadata": {},
   "outputs": [
    {
     "data": {
      "image/png": "[encoded data removed]",
      "text/plain": [
       "<Figure size 432x288 with 1 Axes>"
      ]
     },
     "metadata": {
      "needs_background": "light"
     },
     "output_type": "display_data"
    }
   ],
   "source": [
    "# Create a plot that shows the regression line from the model on the test set.\n",
    "\n",
    "plot_test = plt\n",
    "plot_test.scatter(X_test, y_test, color=\"gray\", s = 15)\n",
    "plot_test.plot(X_test, y_predicted, color = \"red\", linewidth = 3)\n",
    "plot_test.title(\"Prices per Year (Test set)\")\n",
    "plot_test.xlabel(\"Years\")\n",
    "plot_test.ylabel(\"Prices\")\n",
    "plt.savefig('regression.png')\n",
    "plot_test.show()"
   ]
  },
  {
   "cell_type": "markdown",
   "id": "e846588f",
   "metadata": {},
   "source": [
    "## the line doesn't fit the data"
   ]
  },
  {
   "cell_type": "code",
   "execution_count": 26,
   "id": "43519d7c",
   "metadata": {},
   "outputs": [],
   "source": [
    "# create objects with model summary statistics\n",
    "\n",
    "rmse = mean_squared_error(y_test, y_predicted) # This is the mean squared error\n",
    "r2 = r2_score(y_test, y_predicted) # This is the R2 score. "
   ]
  },
  {
   "cell_type": "code",
   "execution_count": 27,
   "id": "e56adb48",
   "metadata": {},
   "outputs": [
    {
     "name": "stdout",
     "output_type": "stream",
     "text": [
      "Slope: [[-4.29857866]]\n",
      "Mean squared error:  70824.16999798988\n",
      "R2 score:  -0.0003984335512148274\n"
     ]
    }
   ],
   "source": [
    "# print the model summary statistics\n",
    "\n",
    "print('Slope:' ,regression.coef_)\n",
    "print('Mean squared error: ', rmse)\n",
    "print('R2 score: ', r2)"
   ]
  },
  {
   "cell_type": "code",
   "execution_count": 28,
   "id": "586af733",
   "metadata": {},
   "outputs": [
    {
     "data": {
      "text/plain": [
       "array([[47.11604051],\n",
       "       [55.71319782],\n",
       "       [21.32456858],\n",
       "       ...,\n",
       "       [51.41461917],\n",
       "       [-4.46690335],\n",
       "       [25.62314723]])"
      ]
     },
     "execution_count": 28,
     "metadata": {},
     "output_type": "execute_result"
    }
   ],
   "source": [
    "y_predicted"
   ]
  },
  {
   "cell_type": "code",
   "execution_count": 29,
   "id": "16a92098",
   "metadata": {},
   "outputs": [
    {
     "data": {
      "text/html": [
       "<div>\n",
       "<style scoped>\n",
       "    .dataframe tbody tr th:only-of-type {\n",
       "        vertical-align: middle;\n",
       "    }\n",
       "\n",
       "    .dataframe tbody tr th {\n",
       "        vertical-align: top;\n",
       "    }\n",
       "\n",
       "    .dataframe thead th {\n",
       "        text-align: right;\n",
       "    }\n",
       "</style>\n",
       "<table border=\"1\" class=\"dataframe\">\n",
       "  <thead>\n",
       "    <tr style=\"text-align: right;\">\n",
       "      <th></th>\n",
       "      <th>Actual</th>\n",
       "      <th>Predicted</th>\n",
       "    </tr>\n",
       "  </thead>\n",
       "  <tbody>\n",
       "    <tr>\n",
       "      <th>0</th>\n",
       "      <td>3.4600</td>\n",
       "      <td>47.116041</td>\n",
       "    </tr>\n",
       "    <tr>\n",
       "      <th>1</th>\n",
       "      <td>0.0482</td>\n",
       "      <td>55.713198</td>\n",
       "    </tr>\n",
       "    <tr>\n",
       "      <th>2</th>\n",
       "      <td>0.1036</td>\n",
       "      <td>21.324569</td>\n",
       "    </tr>\n",
       "    <tr>\n",
       "      <th>3</th>\n",
       "      <td>0.8530</td>\n",
       "      <td>17.025990</td>\n",
       "    </tr>\n",
       "    <tr>\n",
       "      <th>4</th>\n",
       "      <td>0.8572</td>\n",
       "      <td>21.324569</td>\n",
       "    </tr>\n",
       "    <tr>\n",
       "      <th>5</th>\n",
       "      <td>0.2158</td>\n",
       "      <td>55.713198</td>\n",
       "    </tr>\n",
       "    <tr>\n",
       "      <th>6</th>\n",
       "      <td>4.3606</td>\n",
       "      <td>17.025990</td>\n",
       "    </tr>\n",
       "    <tr>\n",
       "      <th>7</th>\n",
       "      <td>3.6245</td>\n",
       "      <td>34.220305</td>\n",
       "    </tr>\n",
       "    <tr>\n",
       "      <th>8</th>\n",
       "      <td>0.6525</td>\n",
       "      <td>-4.466903</td>\n",
       "    </tr>\n",
       "    <tr>\n",
       "      <th>9</th>\n",
       "      <td>0.5947</td>\n",
       "      <td>-4.466903</td>\n",
       "    </tr>\n",
       "    <tr>\n",
       "      <th>10</th>\n",
       "      <td>0.8923</td>\n",
       "      <td>-0.168325</td>\n",
       "    </tr>\n",
       "    <tr>\n",
       "      <th>11</th>\n",
       "      <td>0.8941</td>\n",
       "      <td>-8.765482</td>\n",
       "    </tr>\n",
       "    <tr>\n",
       "      <th>12</th>\n",
       "      <td>25.1466</td>\n",
       "      <td>-0.168325</td>\n",
       "    </tr>\n",
       "    <tr>\n",
       "      <th>13</th>\n",
       "      <td>33.2014</td>\n",
       "      <td>47.116041</td>\n",
       "    </tr>\n",
       "    <tr>\n",
       "      <th>14</th>\n",
       "      <td>298.0771</td>\n",
       "      <td>77.206091</td>\n",
       "    </tr>\n",
       "    <tr>\n",
       "      <th>15</th>\n",
       "      <td>105.2861</td>\n",
       "      <td>29.921726</td>\n",
       "    </tr>\n",
       "    <tr>\n",
       "      <th>16</th>\n",
       "      <td>0.2992</td>\n",
       "      <td>-0.168325</td>\n",
       "    </tr>\n",
       "    <tr>\n",
       "      <th>17</th>\n",
       "      <td>30.5289</td>\n",
       "      <td>-8.765482</td>\n",
       "    </tr>\n",
       "    <tr>\n",
       "      <th>18</th>\n",
       "      <td>0.5448</td>\n",
       "      <td>4.130254</td>\n",
       "    </tr>\n",
       "    <tr>\n",
       "      <th>19</th>\n",
       "      <td>1.3164</td>\n",
       "      <td>-8.765482</td>\n",
       "    </tr>\n",
       "    <tr>\n",
       "      <th>20</th>\n",
       "      <td>3.5417</td>\n",
       "      <td>12.727411</td>\n",
       "    </tr>\n",
       "    <tr>\n",
       "      <th>21</th>\n",
       "      <td>0.8923</td>\n",
       "      <td>42.817462</td>\n",
       "    </tr>\n",
       "    <tr>\n",
       "      <th>22</th>\n",
       "      <td>0.3383</td>\n",
       "      <td>21.324569</td>\n",
       "    </tr>\n",
       "    <tr>\n",
       "      <th>23</th>\n",
       "      <td>0.5569</td>\n",
       "      <td>-8.765482</td>\n",
       "    </tr>\n",
       "    <tr>\n",
       "      <th>24</th>\n",
       "      <td>0.6707</td>\n",
       "      <td>8.428833</td>\n",
       "    </tr>\n",
       "    <tr>\n",
       "      <th>25</th>\n",
       "      <td>0.8923</td>\n",
       "      <td>-8.765482</td>\n",
       "    </tr>\n",
       "    <tr>\n",
       "      <th>26</th>\n",
       "      <td>0.2064</td>\n",
       "      <td>17.025990</td>\n",
       "    </tr>\n",
       "    <tr>\n",
       "      <th>27</th>\n",
       "      <td>1.1641</td>\n",
       "      <td>17.025990</td>\n",
       "    </tr>\n",
       "    <tr>\n",
       "      <th>28</th>\n",
       "      <td>0.9766</td>\n",
       "      <td>-13.064061</td>\n",
       "    </tr>\n",
       "    <tr>\n",
       "      <th>29</th>\n",
       "      <td>0.8316</td>\n",
       "      <td>4.130254</td>\n",
       "    </tr>\n",
       "  </tbody>\n",
       "</table>\n",
       "</div>"
      ],
      "text/plain": [
       "      Actual  Predicted\n",
       "0     3.4600  47.116041\n",
       "1     0.0482  55.713198\n",
       "2     0.1036  21.324569\n",
       "3     0.8530  17.025990\n",
       "4     0.8572  21.324569\n",
       "5     0.2158  55.713198\n",
       "6     4.3606  17.025990\n",
       "7     3.6245  34.220305\n",
       "8     0.6525  -4.466903\n",
       "9     0.5947  -4.466903\n",
       "10    0.8923  -0.168325\n",
       "11    0.8941  -8.765482\n",
       "12   25.1466  -0.168325\n",
       "13   33.2014  47.116041\n",
       "14  298.0771  77.206091\n",
       "15  105.2861  29.921726\n",
       "16    0.2992  -0.168325\n",
       "17   30.5289  -8.765482\n",
       "18    0.5448   4.130254\n",
       "19    1.3164  -8.765482\n",
       "20    3.5417  12.727411\n",
       "21    0.8923  42.817462\n",
       "22    0.3383  21.324569\n",
       "23    0.5569  -8.765482\n",
       "24    0.6707   8.428833\n",
       "25    0.8923  -8.765482\n",
       "26    0.2064  17.025990\n",
       "27    1.1641  17.025990\n",
       "28    0.9766 -13.064061\n",
       "29    0.8316   4.130254"
      ]
     },
     "execution_count": 29,
     "metadata": {},
     "output_type": "execute_result"
    }
   ],
   "source": [
    "# Create a dataframe comparing the actual and predicted values of y.\n",
    "\n",
    "data = pd.DataFrame({'Actual': y_test.flatten(), 'Predicted': y_predicted.flatten()})\n",
    "data.head(30)"
   ]
  },
  {
   "cell_type": "markdown",
   "id": "e7a8f351",
   "metadata": {},
   "source": [
    "## the model performed badly on the test set. bias is unlikely, but my mistake (which I realized now), probably was not to unify the different currencies"
   ]
  },
  {
   "cell_type": "code",
   "execution_count": null,
   "id": "010e14eb",
   "metadata": {},
   "outputs": [],
   "source": []
  }
 ],
 "metadata": {
  "kernelspec": {
   "display_name": "Python 3 (ipykernel)",
   "language": "python",
   "name": "python3"
  },
  "language_info": {
   "codemirror_mode": {
    "name": "ipython",
    "version": 3
   },
   "file_extension": ".py",
   "mimetype": "text/x-python",
   "name": "python",
   "nbconvert_exporter": "python",
   "pygments_lexer": "ipython3",
   "version": "3.8.11"
  }
 },
 "nbformat": 4,
 "nbformat_minor": 5
}
