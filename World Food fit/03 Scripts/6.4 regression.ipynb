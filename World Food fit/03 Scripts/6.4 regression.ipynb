{
 "cells": [
  {
   "cell_type": "markdown",
   "id": "d8aa3cc4",
   "metadata": {},
   "source": [
    "# 1. Importing libraries and data"
   ]
  },
  {
   "cell_type": "code",
   "execution_count": 1,
   "id": "39103806",
   "metadata": {},
   "outputs": [],
   "source": [
    "import pandas as pd\n",
    "import numpy as np\n",
    "import seaborn as sns\n",
    "import matplotlib\n",
    "import matplotlib.pyplot as plt\n",
    "import os\n",
    "import sklearn\n",
    "from sklearn.model_selection import train_test_split \n",
    "from sklearn.linear_model import LinearRegression\n",
    "from sklearn.metrics import mean_squared_error, r2_score"
   ]
  },
  {
   "cell_type": "code",
   "execution_count": 2,
   "id": "e10cbed7",
   "metadata": {},
   "outputs": [],
   "source": [
    "# This option ensures that the graphs created are displayed within the notebook without the need to \"call\" them specifically\n",
    "\n",
    "%matplotlib inline"
   ]
  },
  {
   "cell_type": "code",
   "execution_count": 3,
   "id": "9efad617",
   "metadata": {},
   "outputs": [],
   "source": [
    "path = 'C:\\\\Users\\\\Marce\\\\careerfoundry\\\\food'"
   ]
  },
  {
   "cell_type": "code",
   "execution_count": 4,
   "id": "c8522f8e",
   "metadata": {},
   "outputs": [],
   "source": [
    "df = pd.read_pickle(os.path.join(path, '02 Data', 'Prepared Data', 'merged.pkl'))"
   ]
  },
  {
   "cell_type": "code",
   "execution_count": 5,
   "id": "f62a09d1",
   "metadata": {},
   "outputs": [
    {
     "data": {
      "text/plain": [
       "Index(['adm0_id', 'Country', 'adm1_id', 'adm1_name', 'mkt_id', 'mkt_name',\n",
       "       'cm_id', 'cm_name', 'cur_id', 'cur_name', 'pt_id', 'pt_name', 'um_id',\n",
       "       'um_name', 'mp_month', 'mp_year', 'mp_price', 'mp_commoditysource',\n",
       "       'Time',\n",
       "       'Total alcohol consumption per capita, male (liters of pure alcohol)',\n",
       "       'Taxes on goods and services', 'Tax payments',\n",
       "       'Secondary education, pupils', 'Rural population (%)',\n",
       "       'Revenue, excluding grants (% of GDP)',\n",
       "       'Poverty headcount ratio at national poverty lines (% of population) ',\n",
       "       'Number of under-five deaths ',\n",
       "       'Multidimensional poverty index (scale 0-1)',\n",
       "       'Mortality rate, infant (per 1,000 live births)',\n",
       "       'Mortality rate attributed to unsafe water, unsafe sanitation and lack of hygiene (per 100,000 population)',\n",
       "       '_merge', 'Price category'],\n",
       "      dtype='object')"
      ]
     },
     "execution_count": 5,
     "metadata": {},
     "output_type": "execute_result"
    }
   ],
   "source": [
    "df.columns"
   ]
  },
  {
   "cell_type": "code",
   "execution_count": 6,
   "id": "4f895471",
   "metadata": {},
   "outputs": [],
   "source": [
    "df2 = df[['Country','Time',\n",
    "       'Taxes on goods and services', 'Tax payments','Rural population (%)',\n",
    "       'Revenue, excluding grants (% of GDP)',\n",
    "       'Number of under-five deaths ',\n",
    "       'Mortality rate, infant (per 1,000 live births)']]"
   ]
  },
  {
   "cell_type": "code",
   "execution_count": 7,
   "id": "7e0bb6db",
   "metadata": {},
   "outputs": [
    {
     "data": {
      "text/html": [
       "<div>\n",
       "<style scoped>\n",
       "    .dataframe tbody tr th:only-of-type {\n",
       "        vertical-align: middle;\n",
       "    }\n",
       "\n",
       "    .dataframe tbody tr th {\n",
       "        vertical-align: top;\n",
       "    }\n",
       "\n",
       "    .dataframe thead th {\n",
       "        text-align: right;\n",
       "    }\n",
       "</style>\n",
       "<table border=\"1\" class=\"dataframe\">\n",
       "  <thead>\n",
       "    <tr style=\"text-align: right;\">\n",
       "      <th></th>\n",
       "      <th>Country</th>\n",
       "      <th>Time</th>\n",
       "      <th>Taxes on goods and services</th>\n",
       "      <th>Tax payments</th>\n",
       "      <th>Rural population (%)</th>\n",
       "      <th>Revenue, excluding grants (% of GDP)</th>\n",
       "      <th>Number of under-five deaths</th>\n",
       "      <th>Mortality rate, infant (per 1,000 live births)</th>\n",
       "    </tr>\n",
       "  </thead>\n",
       "  <tbody>\n",
       "    <tr>\n",
       "      <th>0</th>\n",
       "      <td>Afghanistan</td>\n",
       "      <td>2016.0</td>\n",
       "      <td>4.473712e+10</td>\n",
       "      <td>19.0</td>\n",
       "      <td>74.980</td>\n",
       "      <td>12.678010</td>\n",
       "      <td>79915.0</td>\n",
       "      <td>51.3</td>\n",
       "    </tr>\n",
       "    <tr>\n",
       "      <th>1</th>\n",
       "      <td>Afghanistan</td>\n",
       "      <td>2017.0</td>\n",
       "      <td>5.318862e+10</td>\n",
       "      <td>19.0</td>\n",
       "      <td>74.750</td>\n",
       "      <td>13.039262</td>\n",
       "      <td>77124.0</td>\n",
       "      <td>49.6</td>\n",
       "    </tr>\n",
       "    <tr>\n",
       "      <th>2</th>\n",
       "      <td>Afghanistan</td>\n",
       "      <td>2018.0</td>\n",
       "      <td>NaN</td>\n",
       "      <td>19.0</td>\n",
       "      <td>74.505</td>\n",
       "      <td>NaN</td>\n",
       "      <td>74595.0</td>\n",
       "      <td>48.0</td>\n",
       "    </tr>\n",
       "    <tr>\n",
       "      <th>3</th>\n",
       "      <td>Afghanistan</td>\n",
       "      <td>2019.0</td>\n",
       "      <td>NaN</td>\n",
       "      <td>19.0</td>\n",
       "      <td>74.246</td>\n",
       "      <td>NaN</td>\n",
       "      <td>72186.0</td>\n",
       "      <td>46.5</td>\n",
       "    </tr>\n",
       "    <tr>\n",
       "      <th>4</th>\n",
       "      <td>Afghanistan</td>\n",
       "      <td>2020.0</td>\n",
       "      <td>NaN</td>\n",
       "      <td>NaN</td>\n",
       "      <td>73.974</td>\n",
       "      <td>NaN</td>\n",
       "      <td>NaN</td>\n",
       "      <td>NaN</td>\n",
       "    </tr>\n",
       "  </tbody>\n",
       "</table>\n",
       "</div>"
      ],
      "text/plain": [
       "       Country    Time  Taxes on goods and services  Tax payments  \\\n",
       "0  Afghanistan  2016.0                 4.473712e+10          19.0   \n",
       "1  Afghanistan  2017.0                 5.318862e+10          19.0   \n",
       "2  Afghanistan  2018.0                          NaN          19.0   \n",
       "3  Afghanistan  2019.0                          NaN          19.0   \n",
       "4  Afghanistan  2020.0                          NaN           NaN   \n",
       "\n",
       "   Rural population (%)  Revenue, excluding grants (% of GDP)  \\\n",
       "0                74.980                             12.678010   \n",
       "1                74.750                             13.039262   \n",
       "2                74.505                                   NaN   \n",
       "3                74.246                                   NaN   \n",
       "4                73.974                                   NaN   \n",
       "\n",
       "   Number of under-five deaths   \\\n",
       "0                       79915.0   \n",
       "1                       77124.0   \n",
       "2                       74595.0   \n",
       "3                       72186.0   \n",
       "4                           NaN   \n",
       "\n",
       "   Mortality rate, infant (per 1,000 live births)  \n",
       "0                                            51.3  \n",
       "1                                            49.6  \n",
       "2                                            48.0  \n",
       "3                                            46.5  \n",
       "4                                             NaN  "
      ]
     },
     "execution_count": 7,
     "metadata": {},
     "output_type": "execute_result"
    }
   ],
   "source": [
    "df2.head(5)"
   ]
  },
  {
   "cell_type": "code",
   "execution_count": 8,
   "id": "26845a45",
   "metadata": {},
   "outputs": [
    {
     "data": {
      "text/plain": [
       "(4880275, 8)"
      ]
     },
     "execution_count": 8,
     "metadata": {},
     "output_type": "execute_result"
    }
   ],
   "source": [
    "df2.shape"
   ]
  },
  {
   "cell_type": "code",
   "execution_count": 9,
   "id": "a44ce9ec",
   "metadata": {},
   "outputs": [
    {
     "name": "stderr",
     "output_type": "stream",
     "text": [
      "C:\\Users\\Marce\\anaconda3\\lib\\site-packages\\pandas\\core\\frame.py:5034: SettingWithCopyWarning: \n",
      "A value is trying to be set on a copy of a slice from a DataFrame\n",
      "\n",
      "See the caveats in the documentation: https://pandas.pydata.org/pandas-docs/stable/user_guide/indexing.html#returning-a-view-versus-a-copy\n",
      "  return super().rename(\n"
     ]
    }
   ],
   "source": [
    "df2.rename(columns={'Taxes on goods and services':'Taxes','Revenue, excluding grants (% of GDP)':'Revenue','Mortality rate, infant (per 1,000 live births)':'infantmortality'},inplace=True)"
   ]
  },
  {
   "cell_type": "code",
   "execution_count": 10,
   "id": "ec638a6d",
   "metadata": {},
   "outputs": [
    {
     "data": {
      "text/plain": [
       "Country                               0\n",
       "Time                                  0\n",
       "Taxes                           1887093\n",
       "Tax payments                    1049831\n",
       "Rural population (%)                500\n",
       "Revenue                         1887093\n",
       "Number of under-five deaths      976055\n",
       "infantmortality                  976055\n",
       "dtype: int64"
      ]
     },
     "execution_count": 10,
     "metadata": {},
     "output_type": "execute_result"
    }
   ],
   "source": [
    "df2.isnull().sum()"
   ]
  },
  {
   "cell_type": "code",
   "execution_count": 11,
   "id": "e41ff2d6",
   "metadata": {},
   "outputs": [
    {
     "data": {
      "text/html": [
       "<div>\n",
       "<style scoped>\n",
       "    .dataframe tbody tr th:only-of-type {\n",
       "        vertical-align: middle;\n",
       "    }\n",
       "\n",
       "    .dataframe tbody tr th {\n",
       "        vertical-align: top;\n",
       "    }\n",
       "\n",
       "    .dataframe thead th {\n",
       "        text-align: right;\n",
       "    }\n",
       "</style>\n",
       "<table border=\"1\" class=\"dataframe\">\n",
       "  <thead>\n",
       "    <tr style=\"text-align: right;\">\n",
       "      <th></th>\n",
       "      <th>Time</th>\n",
       "      <th>Taxes</th>\n",
       "      <th>Tax payments</th>\n",
       "      <th>Rural population (%)</th>\n",
       "      <th>Revenue</th>\n",
       "      <th>Number of under-five deaths</th>\n",
       "      <th>infantmortality</th>\n",
       "    </tr>\n",
       "  </thead>\n",
       "  <tbody>\n",
       "    <tr>\n",
       "      <th>count</th>\n",
       "      <td>4.880275e+06</td>\n",
       "      <td>2.993182e+06</td>\n",
       "      <td>3.830444e+06</td>\n",
       "      <td>4.879775e+06</td>\n",
       "      <td>2.993182e+06</td>\n",
       "      <td>3.904220e+06</td>\n",
       "      <td>3.904220e+06</td>\n",
       "    </tr>\n",
       "    <tr>\n",
       "      <th>mean</th>\n",
       "      <td>2.018000e+03</td>\n",
       "      <td>6.623914e+13</td>\n",
       "      <td>3.015473e+01</td>\n",
       "      <td>5.835939e+01</td>\n",
       "      <td>1.820095e+01</td>\n",
       "      <td>9.114501e+04</td>\n",
       "      <td>3.837104e+01</td>\n",
       "    </tr>\n",
       "    <tr>\n",
       "      <th>std</th>\n",
       "      <td>1.414214e+00</td>\n",
       "      <td>1.919896e+14</td>\n",
       "      <td>1.387346e+01</td>\n",
       "      <td>2.090123e+01</td>\n",
       "      <td>6.304101e+00</td>\n",
       "      <td>1.893896e+05</td>\n",
       "      <td>1.914211e+01</td>\n",
       "    </tr>\n",
       "    <tr>\n",
       "      <th>min</th>\n",
       "      <td>2.016000e+03</td>\n",
       "      <td>2.495992e+07</td>\n",
       "      <td>6.000000e+00</td>\n",
       "      <td>9.908000e+00</td>\n",
       "      <td>1.369620e-04</td>\n",
       "      <td>3.600000e+02</td>\n",
       "      <td>2.400000e+00</td>\n",
       "    </tr>\n",
       "    <tr>\n",
       "      <th>25%</th>\n",
       "      <td>2.017000e+03</td>\n",
       "      <td>8.478481e+10</td>\n",
       "      <td>1.900000e+01</td>\n",
       "      <td>4.467500e+01</td>\n",
       "      <td>1.420535e+01</td>\n",
       "      <td>1.372400e+04</td>\n",
       "      <td>2.390000e+01</td>\n",
       "    </tr>\n",
       "    <tr>\n",
       "      <th>50%</th>\n",
       "      <td>2.018000e+03</td>\n",
       "      <td>6.150000e+11</td>\n",
       "      <td>3.100000e+01</td>\n",
       "      <td>5.702400e+01</td>\n",
       "      <td>1.919469e+01</td>\n",
       "      <td>2.880100e+04</td>\n",
       "      <td>3.540000e+01</td>\n",
       "    </tr>\n",
       "    <tr>\n",
       "      <th>75%</th>\n",
       "      <td>2.019000e+03</td>\n",
       "      <td>2.940000e+12</td>\n",
       "      <td>4.200000e+01</td>\n",
       "      <td>7.969000e+01</td>\n",
       "      <td>2.072523e+01</td>\n",
       "      <td>7.648100e+04</td>\n",
       "      <td>5.190000e+01</td>\n",
       "    </tr>\n",
       "    <tr>\n",
       "      <th>max</th>\n",
       "      <td>2.020000e+03</td>\n",
       "      <td>7.050000e+14</td>\n",
       "      <td>5.900000e+01</td>\n",
       "      <td>8.761200e+01</td>\n",
       "      <td>4.281407e+01</td>\n",
       "      <td>8.778380e+05</td>\n",
       "      <td>8.040000e+01</td>\n",
       "    </tr>\n",
       "  </tbody>\n",
       "</table>\n",
       "</div>"
      ],
      "text/plain": [
       "               Time         Taxes  Tax payments  Rural population (%)  \\\n",
       "count  4.880275e+06  2.993182e+06  3.830444e+06          4.879775e+06   \n",
       "mean   2.018000e+03  6.623914e+13  3.015473e+01          5.835939e+01   \n",
       "std    1.414214e+00  1.919896e+14  1.387346e+01          2.090123e+01   \n",
       "min    2.016000e+03  2.495992e+07  6.000000e+00          9.908000e+00   \n",
       "25%    2.017000e+03  8.478481e+10  1.900000e+01          4.467500e+01   \n",
       "50%    2.018000e+03  6.150000e+11  3.100000e+01          5.702400e+01   \n",
       "75%    2.019000e+03  2.940000e+12  4.200000e+01          7.969000e+01   \n",
       "max    2.020000e+03  7.050000e+14  5.900000e+01          8.761200e+01   \n",
       "\n",
       "            Revenue  Number of under-five deaths   infantmortality  \n",
       "count  2.993182e+06                  3.904220e+06     3.904220e+06  \n",
       "mean   1.820095e+01                  9.114501e+04     3.837104e+01  \n",
       "std    6.304101e+00                  1.893896e+05     1.914211e+01  \n",
       "min    1.369620e-04                  3.600000e+02     2.400000e+00  \n",
       "25%    1.420535e+01                  1.372400e+04     2.390000e+01  \n",
       "50%    1.919469e+01                  2.880100e+04     3.540000e+01  \n",
       "75%    2.072523e+01                  7.648100e+04     5.190000e+01  \n",
       "max    4.281407e+01                  8.778380e+05     8.040000e+01  "
      ]
     },
     "execution_count": 11,
     "metadata": {},
     "output_type": "execute_result"
    }
   ],
   "source": [
    "df2.describe()"
   ]
  },
  {
   "cell_type": "code",
   "execution_count": 12,
   "id": "dea30d7d",
   "metadata": {},
   "outputs": [],
   "source": [
    "dups = df2.duplicated()"
   ]
  },
  {
   "cell_type": "code",
   "execution_count": 13,
   "id": "695f89b3",
   "metadata": {},
   "outputs": [
    {
     "data": {
      "text/plain": [
       "(4880275,)"
      ]
     },
     "execution_count": 13,
     "metadata": {},
     "output_type": "execute_result"
    }
   ],
   "source": [
    "# no dups\n",
    "\n",
    "dups.shape"
   ]
  },
  {
   "cell_type": "code",
   "execution_count": 14,
   "id": "ba480de6",
   "metadata": {},
   "outputs": [
    {
     "name": "stderr",
     "output_type": "stream",
     "text": [
      "C:\\Users\\Marce\\anaconda3\\lib\\site-packages\\seaborn\\distributions.py:2619: FutureWarning: `distplot` is a deprecated function and will be removed in a future version. Please adapt your code to use either `displot` (a figure-level function with similar flexibility) or `histplot` (an axes-level function for histograms).\n",
      "  warnings.warn(msg, FutureWarning)\n"
     ]
    },
    {
     "data": {
      "text/plain": [
       "<AxesSubplot:xlabel='mp_price', ylabel='Density'>"
      ]
     },
     "execution_count": 14,
     "metadata": {},
     "output_type": "execute_result"
    },
    {
     "data": {
      "image/png": "[encoded data removed]",
      "text/plain": [
       "<Figure size 432x288 with 1 Axes>"
      ]
     },
     "metadata": {
      "needs_background": "light"
     },
     "output_type": "display_data"
    }
   ],
   "source": [
    "sns.distplot(df['mp_price'], bins=50) # Shows extreme values"
   ]
  },
  {
   "cell_type": "code",
   "execution_count": 15,
   "id": "05495c96",
   "metadata": {},
   "outputs": [
    {
     "data": {
      "text/plain": [
       "8405.5164656542"
      ]
     },
     "execution_count": 15,
     "metadata": {},
     "output_type": "execute_result"
    }
   ],
   "source": [
    "# check mean\n",
    "\n",
    "df['mp_price'].mean()"
   ]
  },
  {
   "cell_type": "code",
   "execution_count": 16,
   "id": "61d82fe5",
   "metadata": {},
   "outputs": [
    {
     "data": {
      "text/plain": [
       "400.0"
      ]
     },
     "execution_count": 16,
     "metadata": {},
     "output_type": "execute_result"
    }
   ],
   "source": [
    "# check median\n",
    "\n",
    "df['mp_price'].median() # Check the median"
   ]
  },
  {
   "cell_type": "code",
   "execution_count": 17,
   "id": "ec54b98d",
   "metadata": {},
   "outputs": [
    {
     "data": {
      "text/plain": [
       "21777780.0"
      ]
     },
     "execution_count": 17,
     "metadata": {},
     "output_type": "execute_result"
    }
   ],
   "source": [
    "# check max\n",
    "\n",
    "df['mp_price'].max() # Check the max"
   ]
  },
  {
   "cell_type": "code",
   "execution_count": 18,
   "id": "613ea228",
   "metadata": {},
   "outputs": [
    {
     "data": {
      "image/png": "[encoded data removed]",
      "text/plain": [
       "<Figure size 432x288 with 1 Axes>"
      ]
     },
     "metadata": {
      "needs_background": "light"
     },
     "output_type": "display_data"
    }
   ],
   "source": [
    "df.plot (x=\"mp_year\", y=\"mp_price\", style=\"o\")\n",
    "plt.title(\"Prices per year\")\n",
    "plt.xlabel(\"Year\")\n",
    "plt.ylabel(\"Prices\")\n",
    "plt.show()"
   ]
  },
  {
   "cell_type": "markdown",
   "id": "b02c4cd1",
   "metadata": {},
   "source": [
    "# Hypothesis = Increasing years have a positive effect on prices."
   ]
  },
  {
   "cell_type": "code",
   "execution_count": 19,
   "id": "e2ba6699",
   "metadata": {},
   "outputs": [],
   "source": [
    "# Reshape the variables into NumPy arrays and put them into separate objects.\n",
    "\n",
    "X = df['mp_year'].values.reshape(-1,1)\n",
    "y = df['mp_price'].values.reshape(-1,1)"
   ]
  },
  {
   "cell_type": "code",
   "execution_count": 20,
   "id": "260c3afe",
   "metadata": {},
   "outputs": [
    {
     "data": {
      "text/plain": [
       "array([[2014],\n",
       "       [2014],\n",
       "       [2014],\n",
       "       ...,\n",
       "       [2021],\n",
       "       [2021],\n",
       "       [2021]], dtype=int64)"
      ]
     },
     "execution_count": 20,
     "metadata": {},
     "output_type": "execute_result"
    }
   ],
   "source": [
    "X"
   ]
  },
  {
   "cell_type": "code",
   "execution_count": 21,
   "id": "4d2eb09e",
   "metadata": {},
   "outputs": [
    {
     "data": {
      "text/plain": [
       "array([[  50.],\n",
       "       [  50.],\n",
       "       [  50.],\n",
       "       ...,\n",
       "       [1200.],\n",
       "       [1200.],\n",
       "       [1200.]])"
      ]
     },
     "execution_count": 21,
     "metadata": {},
     "output_type": "execute_result"
    }
   ],
   "source": [
    "y"
   ]
  },
  {
   "cell_type": "code",
   "execution_count": 22,
   "id": "105e0f66",
   "metadata": {},
   "outputs": [],
   "source": [
    "# Split data into a training set and a test set.\n",
    "\n",
    "X_train, X_test, y_train, y_test = train_test_split(X, y, test_size=0.3, random_state=0)"
   ]
  },
  {
   "cell_type": "code",
   "execution_count": 23,
   "id": "529c8679",
   "metadata": {},
   "outputs": [],
   "source": [
    "# create a regression object\n",
    "\n",
    "regression = LinearRegression()"
   ]
  },
  {
   "cell_type": "code",
   "execution_count": 24,
   "id": "20777fbb",
   "metadata": {},
   "outputs": [
    {
     "data": {
      "text/plain": [
       "LinearRegression()"
      ]
     },
     "execution_count": 24,
     "metadata": {},
     "output_type": "execute_result"
    }
   ],
   "source": [
    "# fit the regression object onto the training set\n",
    "\n",
    "regression.fit(X_train, y_train)"
   ]
  },
  {
   "cell_type": "code",
   "execution_count": 25,
   "id": "86d4719b",
   "metadata": {},
   "outputs": [],
   "source": [
    "# Predict the values of y using X.\n",
    "\n",
    "y_predicted = regression.predict(X_test)"
   ]
  },
  {
   "cell_type": "code",
   "execution_count": 26,
   "id": "c4e0b2c9",
   "metadata": {},
   "outputs": [
    {
     "data": {
      "image/png": "[encoded data removed]",
      "text/plain": [
       "<Figure size 432x288 with 1 Axes>"
      ]
     },
     "metadata": {
      "needs_background": "light"
     },
     "output_type": "display_data"
    }
   ],
   "source": [
    "# Create a plot that shows the regression line from the model on the test set.\n",
    "\n",
    "plot_test = plt\n",
    "plot_test.scatter(X_test, y_test, color=\"gray\", s = 15)\n",
    "plot_test.plot(X_test, y_predicted, color = \"red\", linewidth = 3)\n",
    "plot_test.title(\"Prices per Year (Test set)\")\n",
    "plot_test.xlabel(\"Years\")\n",
    "plot_test.ylabel(\"Prices\")\n",
    "plt.savefig('regression.png')\n",
    "plot_test.show()"
   ]
  },
  {
   "cell_type": "markdown",
   "id": "e846588f",
   "metadata": {},
   "source": [
    "## the line doesn't fit the data"
   ]
  },
  {
   "cell_type": "code",
   "execution_count": 27,
   "id": "43519d7c",
   "metadata": {},
   "outputs": [],
   "source": [
    "# create objects with model summary statistics\n",
    "\n",
    "rmse = mean_squared_error(y_test, y_predicted) # This is the mean squared error\n",
    "r2 = r2_score(y_test, y_predicted) # This is the R2 score. "
   ]
  },
  {
   "cell_type": "code",
   "execution_count": 28,
   "id": "e56adb48",
   "metadata": {},
   "outputs": [
    {
     "name": "stdout",
     "output_type": "stream",
     "text": [
      "Slope: [[-98.30850791]]\n",
      "Mean squared error:  21859032620.14716\n",
      "R2 score:  2.215642297298537e-06\n"
     ]
    }
   ],
   "source": [
    "# print the model summary statistics\n",
    "\n",
    "print('Slope:' ,regression.coef_)\n",
    "print('Mean squared error: ', rmse)\n",
    "print('R2 score: ', r2)"
   ]
  },
  {
   "cell_type": "code",
   "execution_count": 29,
   "id": "586af733",
   "metadata": {},
   "outputs": [
    {
     "data": {
      "text/plain": [
       "array([[8050.62449309],\n",
       "       [8345.55001683],\n",
       "       [8050.62449309],\n",
       "       ...,\n",
       "       [8050.62449309],\n",
       "       [8542.16703265],\n",
       "       [8738.78404848]])"
      ]
     },
     "execution_count": 29,
     "metadata": {},
     "output_type": "execute_result"
    }
   ],
   "source": [
    "y_predicted"
   ]
  },
  {
   "cell_type": "code",
   "execution_count": 30,
   "id": "16a92098",
   "metadata": {},
   "outputs": [
    {
     "data": {
      "text/html": [
       "<div>\n",
       "<style scoped>\n",
       "    .dataframe tbody tr th:only-of-type {\n",
       "        vertical-align: middle;\n",
       "    }\n",
       "\n",
       "    .dataframe tbody tr th {\n",
       "        vertical-align: top;\n",
       "    }\n",
       "\n",
       "    .dataframe thead th {\n",
       "        text-align: right;\n",
       "    }\n",
       "</style>\n",
       "<table border=\"1\" class=\"dataframe\">\n",
       "  <thead>\n",
       "    <tr style=\"text-align: right;\">\n",
       "      <th></th>\n",
       "      <th>Actual</th>\n",
       "      <th>Predicted</th>\n",
       "    </tr>\n",
       "  </thead>\n",
       "  <tbody>\n",
       "    <tr>\n",
       "      <th>0</th>\n",
       "      <td>550.0000</td>\n",
       "      <td>8050.624493</td>\n",
       "    </tr>\n",
       "    <tr>\n",
       "      <th>1</th>\n",
       "      <td>41854.8387</td>\n",
       "      <td>8345.550017</td>\n",
       "    </tr>\n",
       "    <tr>\n",
       "      <th>2</th>\n",
       "      <td>1500.0000</td>\n",
       "      <td>8050.624493</td>\n",
       "    </tr>\n",
       "    <tr>\n",
       "      <th>3</th>\n",
       "      <td>300.0000</td>\n",
       "      <td>7952.315985</td>\n",
       "    </tr>\n",
       "    <tr>\n",
       "      <th>4</th>\n",
       "      <td>675.0000</td>\n",
       "      <td>8542.167033</td>\n",
       "    </tr>\n",
       "    <tr>\n",
       "      <th>5</th>\n",
       "      <td>800.0000</td>\n",
       "      <td>8640.475541</td>\n",
       "    </tr>\n",
       "    <tr>\n",
       "      <th>6</th>\n",
       "      <td>12000.0000</td>\n",
       "      <td>8148.933001</td>\n",
       "    </tr>\n",
       "    <tr>\n",
       "      <th>7</th>\n",
       "      <td>270.0000</td>\n",
       "      <td>9033.709572</td>\n",
       "    </tr>\n",
       "    <tr>\n",
       "      <th>8</th>\n",
       "      <td>716.7500</td>\n",
       "      <td>8542.167033</td>\n",
       "    </tr>\n",
       "    <tr>\n",
       "      <th>9</th>\n",
       "      <td>2100.0000</td>\n",
       "      <td>8050.624493</td>\n",
       "    </tr>\n",
       "    <tr>\n",
       "      <th>10</th>\n",
       "      <td>1700.0000</td>\n",
       "      <td>8345.550017</td>\n",
       "    </tr>\n",
       "    <tr>\n",
       "      <th>11</th>\n",
       "      <td>23000.0000</td>\n",
       "      <td>8738.784048</td>\n",
       "    </tr>\n",
       "    <tr>\n",
       "      <th>12</th>\n",
       "      <td>213.0000</td>\n",
       "      <td>8247.241509</td>\n",
       "    </tr>\n",
       "    <tr>\n",
       "      <th>13</th>\n",
       "      <td>580.0000</td>\n",
       "      <td>7952.315985</td>\n",
       "    </tr>\n",
       "    <tr>\n",
       "      <th>14</th>\n",
       "      <td>15000.0000</td>\n",
       "      <td>8050.624493</td>\n",
       "    </tr>\n",
       "    <tr>\n",
       "      <th>15</th>\n",
       "      <td>5833.3333</td>\n",
       "      <td>8247.241509</td>\n",
       "    </tr>\n",
       "    <tr>\n",
       "      <th>16</th>\n",
       "      <td>3.4500</td>\n",
       "      <td>8247.241509</td>\n",
       "    </tr>\n",
       "    <tr>\n",
       "      <th>17</th>\n",
       "      <td>21500.0000</td>\n",
       "      <td>8050.624493</td>\n",
       "    </tr>\n",
       "    <tr>\n",
       "      <th>18</th>\n",
       "      <td>28.1700</td>\n",
       "      <td>8837.092556</td>\n",
       "    </tr>\n",
       "    <tr>\n",
       "      <th>19</th>\n",
       "      <td>983.3333</td>\n",
       "      <td>8247.241509</td>\n",
       "    </tr>\n",
       "    <tr>\n",
       "      <th>20</th>\n",
       "      <td>15.6114</td>\n",
       "      <td>8640.475541</td>\n",
       "    </tr>\n",
       "    <tr>\n",
       "      <th>21</th>\n",
       "      <td>215.0000</td>\n",
       "      <td>9230.326588</td>\n",
       "    </tr>\n",
       "    <tr>\n",
       "      <th>22</th>\n",
       "      <td>200.0000</td>\n",
       "      <td>9132.018080</td>\n",
       "    </tr>\n",
       "    <tr>\n",
       "      <th>23</th>\n",
       "      <td>250.0000</td>\n",
       "      <td>8050.624493</td>\n",
       "    </tr>\n",
       "    <tr>\n",
       "      <th>24</th>\n",
       "      <td>12500.0000</td>\n",
       "      <td>8542.167033</td>\n",
       "    </tr>\n",
       "    <tr>\n",
       "      <th>25</th>\n",
       "      <td>3458.4063</td>\n",
       "      <td>8542.167033</td>\n",
       "    </tr>\n",
       "    <tr>\n",
       "      <th>26</th>\n",
       "      <td>25402.0000</td>\n",
       "      <td>8837.092556</td>\n",
       "    </tr>\n",
       "    <tr>\n",
       "      <th>27</th>\n",
       "      <td>3.9500</td>\n",
       "      <td>7952.315985</td>\n",
       "    </tr>\n",
       "    <tr>\n",
       "      <th>28</th>\n",
       "      <td>240.0000</td>\n",
       "      <td>8837.092556</td>\n",
       "    </tr>\n",
       "    <tr>\n",
       "      <th>29</th>\n",
       "      <td>22.5000</td>\n",
       "      <td>8443.858525</td>\n",
       "    </tr>\n",
       "  </tbody>\n",
       "</table>\n",
       "</div>"
      ],
      "text/plain": [
       "        Actual    Predicted\n",
       "0     550.0000  8050.624493\n",
       "1   41854.8387  8345.550017\n",
       "2    1500.0000  8050.624493\n",
       "3     300.0000  7952.315985\n",
       "4     675.0000  8542.167033\n",
       "5     800.0000  8640.475541\n",
       "6   12000.0000  8148.933001\n",
       "7     270.0000  9033.709572\n",
       "8     716.7500  8542.167033\n",
       "9    2100.0000  8050.624493\n",
       "10   1700.0000  8345.550017\n",
       "11  23000.0000  8738.784048\n",
       "12    213.0000  8247.241509\n",
       "13    580.0000  7952.315985\n",
       "14  15000.0000  8050.624493\n",
       "15   5833.3333  8247.241509\n",
       "16      3.4500  8247.241509\n",
       "17  21500.0000  8050.624493\n",
       "18     28.1700  8837.092556\n",
       "19    983.3333  8247.241509\n",
       "20     15.6114  8640.475541\n",
       "21    215.0000  9230.326588\n",
       "22    200.0000  9132.018080\n",
       "23    250.0000  8050.624493\n",
       "24  12500.0000  8542.167033\n",
       "25   3458.4063  8542.167033\n",
       "26  25402.0000  8837.092556\n",
       "27      3.9500  7952.315985\n",
       "28    240.0000  8837.092556\n",
       "29     22.5000  8443.858525"
      ]
     },
     "execution_count": 30,
     "metadata": {},
     "output_type": "execute_result"
    }
   ],
   "source": [
    "# Create a dataframe comparing the actual and predicted values of y.\n",
    "\n",
    "data = pd.DataFrame({'Actual': y_test.flatten(), 'Predicted': y_predicted.flatten()})\n",
    "data.head(30)"
   ]
  },
  {
   "cell_type": "markdown",
   "id": "e7a8f351",
   "metadata": {},
   "source": [
    "## the model performed badly on the test set. bias is unlikely, but my mistake (which I realized now), probably was not to unify the different currencies"
   ]
  },
  {
   "cell_type": "code",
   "execution_count": null,
   "id": "010e14eb",
   "metadata": {},
   "outputs": [],
   "source": []
  }
 ],
 "metadata": {
  "kernelspec": {
   "display_name": "Python 3 (ipykernel)",
   "language": "python",
   "name": "python3"
  },
  "language_info": {
   "codemirror_mode": {
    "name": "ipython",
    "version": 3
   },
   "file_extension": ".py",
   "mimetype": "text/x-python",
   "name": "python",
   "nbconvert_exporter": "python",
   "pygments_lexer": "ipython3",
   "version": "3.8.11"
  }
 },
 "nbformat": 4,
 "nbformat_minor": 5
}
