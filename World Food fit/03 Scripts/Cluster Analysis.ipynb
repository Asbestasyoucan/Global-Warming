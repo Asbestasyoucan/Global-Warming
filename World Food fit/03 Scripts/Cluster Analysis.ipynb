{
 "cells": [
  {
   "cell_type": "markdown",
   "id": "38d84d0a",
   "metadata": {},
   "source": [
    "### Importing libraries and data and renaming columns"
   ]
  },
  {
   "cell_type": "code",
   "execution_count": 1,
   "id": "89748f7e",
   "metadata": {},
   "outputs": [],
   "source": [
    "import pandas as pd\n",
    "import numpy as np\n",
    "import seaborn as sns\n",
    "import matplotlib\n",
    "import matplotlib.pyplot as plt\n",
    "import os\n",
    "import sklearn\n",
    "from sklearn.cluster import KMeans # Here is where you import the k-means algorithm from scikit-learn.\n",
    "import pylab as pl # PyLab is a convenience module that bulk imports matplotlib.\n",
    "from sklearn import preprocessing"
   ]
  },
  {
   "cell_type": "code",
   "execution_count": 2,
   "id": "80b666fd",
   "metadata": {},
   "outputs": [],
   "source": [
    "%matplotlib inline"
   ]
  },
  {
   "cell_type": "code",
   "execution_count": 3,
   "id": "777da9b3",
   "metadata": {},
   "outputs": [],
   "source": [
    "path = 'C:\\\\Users\\\\Marce\\\\careerfoundry\\\\World Food fit'"
   ]
  },
  {
   "cell_type": "code",
   "execution_count": 4,
   "id": "31b510b6",
   "metadata": {},
   "outputs": [],
   "source": [
    "df = pd.read_csv(os.path.join(path, '02 Data', 'Prepared Data', 'currencyrdy.csv'))"
   ]
  },
  {
   "cell_type": "code",
   "execution_count": 5,
   "id": "4e42a68c",
   "metadata": {},
   "outputs": [],
   "source": [
    "pd.set_option('precision', 0)"
   ]
  },
  {
   "cell_type": "code",
   "execution_count": 6,
   "id": "793f9522",
   "metadata": {},
   "outputs": [],
   "source": [
    "pd.set_option('display.float_format', lambda x: '%.3f' % x)"
   ]
  },
  {
   "cell_type": "code",
   "execution_count": 7,
   "id": "daa613d3",
   "metadata": {},
   "outputs": [
    {
     "data": {
      "text/plain": [
       "(107108, 5)"
      ]
     },
     "execution_count": 7,
     "metadata": {},
     "output_type": "execute_result"
    }
   ],
   "source": [
    "df.shape"
   ]
  },
  {
   "cell_type": "code",
   "execution_count": 8,
   "id": "8ac26f0a",
   "metadata": {},
   "outputs": [
    {
     "data": {
      "text/html": [
       "<div>\n",
       "<style scoped>\n",
       "    .dataframe tbody tr th:only-of-type {\n",
       "        vertical-align: middle;\n",
       "    }\n",
       "\n",
       "    .dataframe tbody tr th {\n",
       "        vertical-align: top;\n",
       "    }\n",
       "\n",
       "    .dataframe thead th {\n",
       "        text-align: right;\n",
       "    }\n",
       "</style>\n",
       "<table border=\"1\" class=\"dataframe\">\n",
       "  <thead>\n",
       "    <tr style=\"text-align: right;\">\n",
       "      <th></th>\n",
       "      <th>Country</th>\n",
       "      <th>Product/Category</th>\n",
       "      <th>Month</th>\n",
       "      <th>Year</th>\n",
       "      <th>PriceUSD</th>\n",
       "    </tr>\n",
       "  </thead>\n",
       "  <tbody>\n",
       "    <tr>\n",
       "      <th>0</th>\n",
       "      <td>Afghanistan</td>\n",
       "      <td>Bread - Retail</td>\n",
       "      <td>Jan</td>\n",
       "      <td>2000</td>\n",
       "      <td>0.178</td>\n",
       "    </tr>\n",
       "    <tr>\n",
       "      <th>1</th>\n",
       "      <td>Afghanistan</td>\n",
       "      <td>Bread - Retail</td>\n",
       "      <td>Jan</td>\n",
       "      <td>2001</td>\n",
       "      <td>0.208</td>\n",
       "    </tr>\n",
       "    <tr>\n",
       "      <th>2</th>\n",
       "      <td>Afghanistan</td>\n",
       "      <td>Bread - Retail</td>\n",
       "      <td>Jan</td>\n",
       "      <td>2002</td>\n",
       "      <td>0.106</td>\n",
       "    </tr>\n",
       "    <tr>\n",
       "      <th>3</th>\n",
       "      <td>Afghanistan</td>\n",
       "      <td>Bread - Retail</td>\n",
       "      <td>Jan</td>\n",
       "      <td>2003</td>\n",
       "      <td>0.151</td>\n",
       "    </tr>\n",
       "    <tr>\n",
       "      <th>4</th>\n",
       "      <td>Afghanistan</td>\n",
       "      <td>Bread - Retail</td>\n",
       "      <td>Jan</td>\n",
       "      <td>2004</td>\n",
       "      <td>0.175</td>\n",
       "    </tr>\n",
       "  </tbody>\n",
       "</table>\n",
       "</div>"
      ],
      "text/plain": [
       "       Country Product/Category Month  Year  PriceUSD\n",
       "0  Afghanistan   Bread - Retail   Jan  2000     0.178\n",
       "1  Afghanistan   Bread - Retail   Jan  2001     0.208\n",
       "2  Afghanistan   Bread - Retail   Jan  2002     0.106\n",
       "3  Afghanistan   Bread - Retail   Jan  2003     0.151\n",
       "4  Afghanistan   Bread - Retail   Jan  2004     0.175"
      ]
     },
     "execution_count": 8,
     "metadata": {},
     "output_type": "execute_result"
    }
   ],
   "source": [
    "df.head()"
   ]
  },
  {
   "cell_type": "code",
   "execution_count": 9,
   "id": "ff176b1e",
   "metadata": {},
   "outputs": [
    {
     "data": {
      "text/plain": [
       "Index(['Country', 'Product/Category', 'Month', 'Year', 'PriceUSD'], dtype='object')"
      ]
     },
     "execution_count": 9,
     "metadata": {},
     "output_type": "execute_result"
    }
   ],
   "source": [
    "df.columns"
   ]
  },
  {
   "cell_type": "code",
   "execution_count": 10,
   "id": "1553908b",
   "metadata": {},
   "outputs": [
    {
     "data": {
      "text/plain": [
       "Country                0\n",
       "Product/Category       0\n",
       "Month                  0\n",
       "Year                   0\n",
       "PriceUSD            5316\n",
       "dtype: int64"
      ]
     },
     "execution_count": 10,
     "metadata": {},
     "output_type": "execute_result"
    }
   ],
   "source": [
    "df.isnull().sum()"
   ]
  },
  {
   "cell_type": "code",
   "execution_count": 11,
   "id": "6671a9bb",
   "metadata": {},
   "outputs": [],
   "source": [
    "df['PriceUSD'].fillna(df['PriceUSD'].median(),inplace=True)"
   ]
  },
  {
   "cell_type": "code",
   "execution_count": 12,
   "id": "e93a755f",
   "metadata": {},
   "outputs": [],
   "source": [
    "d={\n",
    "'Jan':1,\n",
    "'Feb':2,\n",
    "'Mar':3,\n",
    "'Apr':4,\n",
    "'May':5,\n",
    "'Jun':6,\n",
    "'Jul':7,\n",
    "'Aug':8,\n",
    "'Sep':9,\n",
    "'Oct':10,\n",
    "'Nov':11,\n",
    "'Dec':12\n",
    "}"
   ]
  },
  {
   "cell_type": "code",
   "execution_count": 13,
   "id": "661ba097",
   "metadata": {},
   "outputs": [],
   "source": [
    "df.Month = df.Month.map(d)"
   ]
  },
  {
   "cell_type": "code",
   "execution_count": 14,
   "id": "94a8599c",
   "metadata": {},
   "outputs": [],
   "source": [
    "df2 = df[df['Product/Category'].isin(['Wheat flour - Retail','Sugar - Retail','Rice - Retail'])]"
   ]
  },
  {
   "cell_type": "code",
   "execution_count": 15,
   "id": "d293e58c",
   "metadata": {},
   "outputs": [],
   "source": [
    "df3 = df2[['Month','Year','PriceUSD']]"
   ]
  },
  {
   "cell_type": "code",
   "execution_count": 16,
   "id": "15977fa7",
   "metadata": {},
   "outputs": [
    {
     "data": {
      "text/plain": [
       "Month       0\n",
       "Year        0\n",
       "PriceUSD    0\n",
       "dtype: int64"
      ]
     },
     "execution_count": 16,
     "metadata": {},
     "output_type": "execute_result"
    }
   ],
   "source": [
    "df3.isnull().sum()"
   ]
  },
  {
   "cell_type": "code",
   "execution_count": 17,
   "id": "b9e86a5a",
   "metadata": {},
   "outputs": [
    {
     "data": {
      "text/html": [
       "<div>\n",
       "<style scoped>\n",
       "    .dataframe tbody tr th:only-of-type {\n",
       "        vertical-align: middle;\n",
       "    }\n",
       "\n",
       "    .dataframe tbody tr th {\n",
       "        vertical-align: top;\n",
       "    }\n",
       "\n",
       "    .dataframe thead th {\n",
       "        text-align: right;\n",
       "    }\n",
       "</style>\n",
       "<table border=\"1\" class=\"dataframe\">\n",
       "  <thead>\n",
       "    <tr style=\"text-align: right;\">\n",
       "      <th></th>\n",
       "      <th>Month</th>\n",
       "      <th>Year</th>\n",
       "      <th>PriceUSD</th>\n",
       "    </tr>\n",
       "  </thead>\n",
       "  <tbody>\n",
       "    <tr>\n",
       "      <th>750</th>\n",
       "      <td>1</td>\n",
       "      <td>2021</td>\n",
       "      <td>0.589</td>\n",
       "    </tr>\n",
       "    <tr>\n",
       "      <th>751</th>\n",
       "      <td>2</td>\n",
       "      <td>2021</td>\n",
       "      <td>0.587</td>\n",
       "    </tr>\n",
       "    <tr>\n",
       "      <th>752</th>\n",
       "      <td>3</td>\n",
       "      <td>2021</td>\n",
       "      <td>0.583</td>\n",
       "    </tr>\n",
       "    <tr>\n",
       "      <th>753</th>\n",
       "      <td>4</td>\n",
       "      <td>2021</td>\n",
       "      <td>0.585</td>\n",
       "    </tr>\n",
       "    <tr>\n",
       "      <th>754</th>\n",
       "      <td>5</td>\n",
       "      <td>2020</td>\n",
       "      <td>0.569</td>\n",
       "    </tr>\n",
       "  </tbody>\n",
       "</table>\n",
       "</div>"
      ],
      "text/plain": [
       "     Month  Year  PriceUSD\n",
       "750      1  2021     0.589\n",
       "751      2  2021     0.587\n",
       "752      3  2021     0.583\n",
       "753      4  2021     0.585\n",
       "754      5  2020     0.569"
      ]
     },
     "execution_count": 17,
     "metadata": {},
     "output_type": "execute_result"
    }
   ],
   "source": [
    "df3.head()"
   ]
  },
  {
   "cell_type": "code",
   "execution_count": 18,
   "id": "c7fb0036",
   "metadata": {},
   "outputs": [
    {
     "data": {
      "text/plain": [
       "<bound method IndexOpsMixin.value_counts of 750        1\n",
       "751        2\n",
       "752        3\n",
       "753        4\n",
       "754        5\n",
       "          ..\n",
       "107103     8\n",
       "107104     9\n",
       "107105    10\n",
       "107106    11\n",
       "107107    12\n",
       "Name: Month, Length: 7623, dtype: int64>"
      ]
     },
     "execution_count": 18,
     "metadata": {},
     "output_type": "execute_result"
    }
   ],
   "source": [
    "df3['Month'].value_counts"
   ]
  },
  {
   "cell_type": "markdown",
   "id": "9886b1ef",
   "metadata": {},
   "source": [
    "### 2. The elbow technique"
   ]
  },
  {
   "cell_type": "code",
   "execution_count": 19,
   "id": "637901b2",
   "metadata": {},
   "outputs": [],
   "source": [
    "# define range of potential clusters\n",
    "num_cl = range(1, 5)\n",
    "\n",
    "# define k-means clusters in the range from above\n",
    "kmeans = [KMeans(n_clusters=i) for i in num_cl]"
   ]
  },
  {
   "cell_type": "code",
   "execution_count": 20,
   "id": "173a16e0",
   "metadata": {},
   "outputs": [
    {
     "data": {
      "text/plain": [
       "[-1248823.797242118,\n",
       " -453254.73478307365,\n",
       " -331322.45344474906,\n",
       " -247430.4598947188]"
      ]
     },
     "execution_count": 20,
     "metadata": {},
     "output_type": "execute_result"
    }
   ],
   "source": [
    "# create a score that represents a rate of variation for the given cluster option\n",
    "score = [kmeans[i].fit(df3).score(df3) for i in range(len(kmeans))]\n",
    "\n",
    "score"
   ]
  },
  {
   "cell_type": "code",
   "execution_count": 21,
   "id": "b6d95210",
   "metadata": {},
   "outputs": [
    {
     "data": {
      "image/png": "[encoded data removed]",
      "text/plain": [
       "<Figure size 432x288 with 1 Axes>"
      ]
     },
     "metadata": {
      "needs_background": "light"
     },
     "output_type": "display_data"
    }
   ],
   "source": [
    "# Plot the elbow curve using PyLab\n",
    "\n",
    "pl.plot(num_cl,score)\n",
    "pl.xlabel('number of clusters')\n",
    "pl.ylabel('score')\n",
    "pl.title('elbow curve')\n",
    "pl.plot(num_cl,score)\n",
    "pl.show()"
   ]
  },
  {
   "cell_type": "markdown",
   "id": "94a06a3d",
   "metadata": {},
   "source": [
    "# breakpoint is clearly 2, that's why I chose 2"
   ]
  },
  {
   "cell_type": "markdown",
   "id": "6197533f",
   "metadata": {},
   "source": [
    "### 3. k-means clustering"
   ]
  },
  {
   "cell_type": "code",
   "execution_count": 22,
   "id": "39371169",
   "metadata": {},
   "outputs": [],
   "source": [
    "# Create the k-means object.\n",
    "\n",
    "kmeans = KMeans(n_clusters = 2, n_jobs = -1) "
   ]
  },
  {
   "cell_type": "code",
   "execution_count": 23,
   "id": "c7b88a0e",
   "metadata": {},
   "outputs": [
    {
     "name": "stderr",
     "output_type": "stream",
     "text": [
      "C:\\Users\\Marce\\anaconda3\\lib\\site-packages\\sklearn\\cluster\\_kmeans.py:792: FutureWarning: 'n_jobs' was deprecated in version 0.23 and will be removed in 1.0 (renaming of 0.25).\n",
      "  warnings.warn(\"'n_jobs' was deprecated in version 0.23 and will be\"\n"
     ]
    },
    {
     "data": {
      "text/plain": [
       "KMeans(n_clusters=2, n_jobs=-1)"
      ]
     },
     "execution_count": 23,
     "metadata": {},
     "output_type": "execute_result"
    }
   ],
   "source": [
    "kmeans.fit(df3)"
   ]
  },
  {
   "cell_type": "code",
   "execution_count": 24,
   "id": "c2322a27",
   "metadata": {},
   "outputs": [
    {
     "name": "stderr",
     "output_type": "stream",
     "text": [
      "C:\\Users\\Marce\\anaconda3\\lib\\site-packages\\sklearn\\cluster\\_kmeans.py:792: FutureWarning: 'n_jobs' was deprecated in version 0.23 and will be removed in 1.0 (renaming of 0.25).\n",
      "  warnings.warn(\"'n_jobs' was deprecated in version 0.23 and will be\"\n",
      "C:\\Users\\Marce\\AppData\\Local\\Temp/ipykernel_9500/2121862071.py:1: SettingWithCopyWarning: \n",
      "A value is trying to be set on a copy of a slice from a DataFrame.\n",
      "Try using .loc[row_indexer,col_indexer] = value instead\n",
      "\n",
      "See the caveats in the documentation: https://pandas.pydata.org/pandas-docs/stable/user_guide/indexing.html#returning-a-view-versus-a-copy\n",
      "  df3['clusters'] = kmeans.fit_predict(df3)\n"
     ]
    }
   ],
   "source": [
    "df3['clusters'] = kmeans.fit_predict(df3)"
   ]
  },
  {
   "cell_type": "code",
   "execution_count": 25,
   "id": "2acc950e",
   "metadata": {},
   "outputs": [
    {
     "data": {
      "text/html": [
       "<div>\n",
       "<style scoped>\n",
       "    .dataframe tbody tr th:only-of-type {\n",
       "        vertical-align: middle;\n",
       "    }\n",
       "\n",
       "    .dataframe tbody tr th {\n",
       "        vertical-align: top;\n",
       "    }\n",
       "\n",
       "    .dataframe thead th {\n",
       "        text-align: right;\n",
       "    }\n",
       "</style>\n",
       "<table border=\"1\" class=\"dataframe\">\n",
       "  <thead>\n",
       "    <tr style=\"text-align: right;\">\n",
       "      <th></th>\n",
       "      <th>Month</th>\n",
       "      <th>Year</th>\n",
       "      <th>PriceUSD</th>\n",
       "      <th>clusters</th>\n",
       "    </tr>\n",
       "  </thead>\n",
       "  <tbody>\n",
       "    <tr>\n",
       "      <th>750</th>\n",
       "      <td>1</td>\n",
       "      <td>2021</td>\n",
       "      <td>0.589</td>\n",
       "      <td>0</td>\n",
       "    </tr>\n",
       "    <tr>\n",
       "      <th>751</th>\n",
       "      <td>2</td>\n",
       "      <td>2021</td>\n",
       "      <td>0.587</td>\n",
       "      <td>0</td>\n",
       "    </tr>\n",
       "    <tr>\n",
       "      <th>752</th>\n",
       "      <td>3</td>\n",
       "      <td>2021</td>\n",
       "      <td>0.583</td>\n",
       "      <td>0</td>\n",
       "    </tr>\n",
       "    <tr>\n",
       "      <th>753</th>\n",
       "      <td>4</td>\n",
       "      <td>2021</td>\n",
       "      <td>0.585</td>\n",
       "      <td>0</td>\n",
       "    </tr>\n",
       "    <tr>\n",
       "      <th>754</th>\n",
       "      <td>5</td>\n",
       "      <td>2020</td>\n",
       "      <td>0.569</td>\n",
       "      <td>0</td>\n",
       "    </tr>\n",
       "  </tbody>\n",
       "</table>\n",
       "</div>"
      ],
      "text/plain": [
       "     Month  Year  PriceUSD  clusters\n",
       "750      1  2021     0.589         0\n",
       "751      2  2021     0.587         0\n",
       "752      3  2021     0.583         0\n",
       "753      4  2021     0.585         0\n",
       "754      5  2020     0.569         0"
      ]
     },
     "execution_count": 25,
     "metadata": {},
     "output_type": "execute_result"
    }
   ],
   "source": [
    "df3.head(5)"
   ]
  },
  {
   "cell_type": "code",
   "execution_count": 26,
   "id": "22958ada",
   "metadata": {},
   "outputs": [
    {
     "data": {
      "text/plain": [
       "0    7600\n",
       "1      23\n",
       "Name: clusters, dtype: int64"
      ]
     },
     "execution_count": 26,
     "metadata": {},
     "output_type": "execute_result"
    }
   ],
   "source": [
    "df3[\"clusters\"].value_counts()"
   ]
  },
  {
   "cell_type": "code",
   "execution_count": 27,
   "id": "70abc12f",
   "metadata": {},
   "outputs": [
    {
     "data": {
      "text/html": [
       "<div>\n",
       "<style scoped>\n",
       "    .dataframe tbody tr th:only-of-type {\n",
       "        vertical-align: middle;\n",
       "    }\n",
       "\n",
       "    .dataframe tbody tr th {\n",
       "        vertical-align: top;\n",
       "    }\n",
       "\n",
       "    .dataframe thead th {\n",
       "        text-align: right;\n",
       "    }\n",
       "</style>\n",
       "<table border=\"1\" class=\"dataframe\">\n",
       "  <thead>\n",
       "    <tr style=\"text-align: right;\">\n",
       "      <th></th>\n",
       "      <th>Month</th>\n",
       "      <th>Year</th>\n",
       "      <th>PriceUSD</th>\n",
       "      <th>clusters</th>\n",
       "    </tr>\n",
       "  </thead>\n",
       "  <tbody>\n",
       "    <tr>\n",
       "      <th>count</th>\n",
       "      <td>7623.000</td>\n",
       "      <td>7623.000</td>\n",
       "      <td>7623.000</td>\n",
       "      <td>7623.000</td>\n",
       "    </tr>\n",
       "    <tr>\n",
       "      <th>mean</th>\n",
       "      <td>6.421</td>\n",
       "      <td>2013.803</td>\n",
       "      <td>1.888</td>\n",
       "      <td>0.003</td>\n",
       "    </tr>\n",
       "    <tr>\n",
       "      <th>std</th>\n",
       "      <td>3.434</td>\n",
       "      <td>4.953</td>\n",
       "      <td>11.292</td>\n",
       "      <td>0.055</td>\n",
       "    </tr>\n",
       "    <tr>\n",
       "      <th>min</th>\n",
       "      <td>1.000</td>\n",
       "      <td>1994.000</td>\n",
       "      <td>0.054</td>\n",
       "      <td>0.000</td>\n",
       "    </tr>\n",
       "    <tr>\n",
       "      <th>25%</th>\n",
       "      <td>3.000</td>\n",
       "      <td>2011.000</td>\n",
       "      <td>0.465</td>\n",
       "      <td>0.000</td>\n",
       "    </tr>\n",
       "    <tr>\n",
       "      <th>50%</th>\n",
       "      <td>6.000</td>\n",
       "      <td>2014.000</td>\n",
       "      <td>0.698</td>\n",
       "      <td>0.000</td>\n",
       "    </tr>\n",
       "    <tr>\n",
       "      <th>75%</th>\n",
       "      <td>9.000</td>\n",
       "      <td>2018.000</td>\n",
       "      <td>0.892</td>\n",
       "      <td>0.000</td>\n",
       "    </tr>\n",
       "    <tr>\n",
       "      <th>max</th>\n",
       "      <td>12.000</td>\n",
       "      <td>2021.000</td>\n",
       "      <td>243.038</td>\n",
       "      <td>1.000</td>\n",
       "    </tr>\n",
       "  </tbody>\n",
       "</table>\n",
       "</div>"
      ],
      "text/plain": [
       "         Month     Year  PriceUSD  clusters\n",
       "count 7623.000 7623.000  7623.000  7623.000\n",
       "mean     6.421 2013.803     1.888     0.003\n",
       "std      3.434    4.953    11.292     0.055\n",
       "min      1.000 1994.000     0.054     0.000\n",
       "25%      3.000 2011.000     0.465     0.000\n",
       "50%      6.000 2014.000     0.698     0.000\n",
       "75%      9.000 2018.000     0.892     0.000\n",
       "max     12.000 2021.000   243.038     1.000"
      ]
     },
     "execution_count": 27,
     "metadata": {},
     "output_type": "execute_result"
    }
   ],
   "source": [
    "df3.describe()"
   ]
  },
  {
   "cell_type": "code",
   "execution_count": 28,
   "id": "fd9d1626",
   "metadata": {},
   "outputs": [
    {
     "data": {
      "text/plain": [
       "Month         6.000\n",
       "Year       2014.000\n",
       "PriceUSD      0.698\n",
       "clusters      0.000\n",
       "dtype: float64"
      ]
     },
     "execution_count": 28,
     "metadata": {},
     "output_type": "execute_result"
    }
   ],
   "source": [
    "df3.median()"
   ]
  },
  {
   "cell_type": "code",
   "execution_count": 29,
   "id": "8c8a1847",
   "metadata": {},
   "outputs": [
    {
     "data": {
      "image/png": "[encoded data removed]",
      "text/plain": [
       "<Figure size 864x576 with 1 Axes>"
      ]
     },
     "metadata": {
      "needs_background": "light"
     },
     "output_type": "display_data"
    }
   ],
   "source": [
    "# Plot the clusters\n",
    "\n",
    "plt.figure(figsize=(12,8))\n",
    "ax = sns.scatterplot(x=df3['Month'], y=df3['PriceUSD'], hue=kmeans.labels_, s=100) \n",
    "# Here, you're subsetting `X` for the x and y arguments to avoid using their labels. \n",
    "# `hue` takes the value of the attribute `kmeans.labels_`, which is the result of running the k-means algorithm.\n",
    "# `s` represents the size of the points you want to see in the plot.\n",
    "\n",
    "ax.grid(False) # This removes the grid from the background.\n",
    "plt.xlabel('Month') # Label x-axis.\n",
    "plt.ylabel('Prices') # Label y-axis.\n",
    "plt.savefig('cluster.png')\n",
    "plt.show()"
   ]
  },
  {
   "cell_type": "code",
   "execution_count": 30,
   "id": "c44e303d",
   "metadata": {},
   "outputs": [
    {
     "name": "stderr",
     "output_type": "stream",
     "text": [
      "C:\\Users\\Marce\\anaconda3\\lib\\site-packages\\pandas\\core\\indexing.py:1817: SettingWithCopyWarning: \n",
      "A value is trying to be set on a copy of a slice from a DataFrame.\n",
      "Try using .loc[row_indexer,col_indexer] = value instead\n",
      "\n",
      "See the caveats in the documentation: https://pandas.pydata.org/pandas-docs/stable/user_guide/indexing.html#returning-a-view-versus-a-copy\n",
      "  self._setitem_single_column(loc, value, pi)\n"
     ]
    }
   ],
   "source": [
    "df3.loc[df3['clusters'] == 0, 'clusters'] = 'red'\n",
    "df3.loc[df3['clusters'] == 1, 'clusters'] = 'blue'"
   ]
  },
  {
   "cell_type": "code",
   "execution_count": 31,
   "id": "19d529b6",
   "metadata": {},
   "outputs": [
    {
     "data": {
      "text/html": [
       "<div>\n",
       "<style scoped>\n",
       "    .dataframe tbody tr th:only-of-type {\n",
       "        vertical-align: middle;\n",
       "    }\n",
       "\n",
       "    .dataframe tbody tr th {\n",
       "        vertical-align: top;\n",
       "    }\n",
       "\n",
       "    .dataframe thead tr th {\n",
       "        text-align: left;\n",
       "    }\n",
       "\n",
       "    .dataframe thead tr:last-of-type th {\n",
       "        text-align: right;\n",
       "    }\n",
       "</style>\n",
       "<table border=\"1\" class=\"dataframe\">\n",
       "  <thead>\n",
       "    <tr>\n",
       "      <th></th>\n",
       "      <th colspan=\"2\" halign=\"left\">Month</th>\n",
       "      <th colspan=\"2\" halign=\"left\">PriceUSD</th>\n",
       "      <th colspan=\"2\" halign=\"left\">Year</th>\n",
       "    </tr>\n",
       "    <tr>\n",
       "      <th></th>\n",
       "      <th>mean</th>\n",
       "      <th>median</th>\n",
       "      <th>mean</th>\n",
       "      <th>median</th>\n",
       "      <th>mean</th>\n",
       "      <th>median</th>\n",
       "    </tr>\n",
       "    <tr>\n",
       "      <th>clusters</th>\n",
       "      <th></th>\n",
       "      <th></th>\n",
       "      <th></th>\n",
       "      <th></th>\n",
       "      <th></th>\n",
       "      <th></th>\n",
       "    </tr>\n",
       "  </thead>\n",
       "  <tbody>\n",
       "    <tr>\n",
       "      <th>blue</th>\n",
       "      <td>6.652</td>\n",
       "      <td>7.000</td>\n",
       "      <td>187.490</td>\n",
       "      <td>210.195</td>\n",
       "      <td>2007.696</td>\n",
       "      <td>2008.000</td>\n",
       "    </tr>\n",
       "    <tr>\n",
       "      <th>red</th>\n",
       "      <td>6.421</td>\n",
       "      <td>6.000</td>\n",
       "      <td>1.326</td>\n",
       "      <td>0.696</td>\n",
       "      <td>2013.821</td>\n",
       "      <td>2014.000</td>\n",
       "    </tr>\n",
       "  </tbody>\n",
       "</table>\n",
       "</div>"
      ],
      "text/plain": [
       "         Month        PriceUSD             Year         \n",
       "          mean median     mean  median     mean   median\n",
       "clusters                                                \n",
       "blue     6.652  7.000  187.490 210.195 2007.696 2008.000\n",
       "red      6.421  6.000    1.326   0.696 2013.821 2014.000"
      ]
     },
     "execution_count": 31,
     "metadata": {},
     "output_type": "execute_result"
    }
   ],
   "source": [
    "df3.groupby('clusters').agg({'Month':['mean', 'median'],\n",
    "                         'PriceUSD':['mean', 'median'], \n",
    "                         'Year':['mean', 'median']})"
   ]
  },
  {
   "cell_type": "markdown",
   "id": "e8751a41",
   "metadata": {},
   "source": [
    "###"
   ]
  },
  {
   "cell_type": "markdown",
   "id": "e308bd7a",
   "metadata": {},
   "source": [
    "###"
   ]
  }
 ],
 "metadata": {
  "kernelspec": {
   "display_name": "Python 3 (ipykernel)",
   "language": "python",
   "name": "python3"
  },
  "language_info": {
   "codemirror_mode": {
    "name": "ipython",
    "version": 3
   },
   "file_extension": ".py",
   "mimetype": "text/x-python",
   "name": "python",
   "nbconvert_exporter": "python",
   "pygments_lexer": "ipython3",
   "version": "3.8.11"
  }
 },
 "nbformat": 4,
 "nbformat_minor": 5
}
