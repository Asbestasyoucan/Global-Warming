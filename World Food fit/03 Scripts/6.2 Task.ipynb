{
 "cells": [
  {
   "cell_type": "markdown",
   "id": "1eb81767",
   "metadata": {},
   "source": [
    "# 01. Importing Libraries"
   ]
  },
  {
   "cell_type": "code",
   "execution_count": 1,
   "id": "8514d22d",
   "metadata": {},
   "outputs": [],
   "source": [
    "import pandas as pd\n",
    "import numpy as np\n",
    "import os\n",
    "import seaborn as sns\n",
    "import scipy\n",
    "import matplotlib\n",
    "import matplotlib.pyplot as plt"
   ]
  },
  {
   "cell_type": "markdown",
   "id": "21548205",
   "metadata": {},
   "source": [
    "# 02. Importing Data"
   ]
  },
  {
   "cell_type": "code",
   "execution_count": 2,
   "id": "e1f71e61",
   "metadata": {},
   "outputs": [],
   "source": [
    "# set path\n",
    "\n",
    "path = r'C:\\Users\\Marce\\careerfoundry\\food'"
   ]
  },
  {
   "cell_type": "code",
   "execution_count": 3,
   "id": "d2337d66",
   "metadata": {},
   "outputs": [],
   "source": [
    "# Import dataframes\n",
    "\n",
    "df1 = pd.read_csv(os.path.join(path,\"02 Data\",\"Original Data\",\"food_prices.csv\"), encoding='latin-1')\n",
    "df2 = pd.read_csv(os.path.join(path,\"02 Data\",\"Original Data\",\"world_dev.csv\"))"
   ]
  },
  {
   "cell_type": "code",
   "execution_count": 4,
   "id": "866d9e96",
   "metadata": {},
   "outputs": [
    {
     "data": {
      "text/html": [
       "<div>\n",
       "<style scoped>\n",
       "    .dataframe tbody tr th:only-of-type {\n",
       "        vertical-align: middle;\n",
       "    }\n",
       "\n",
       "    .dataframe tbody tr th {\n",
       "        vertical-align: top;\n",
       "    }\n",
       "\n",
       "    .dataframe thead th {\n",
       "        text-align: right;\n",
       "    }\n",
       "</style>\n",
       "<table border=\"1\" class=\"dataframe\">\n",
       "  <thead>\n",
       "    <tr style=\"text-align: right;\">\n",
       "      <th></th>\n",
       "      <th>adm0_id</th>\n",
       "      <th>adm0_name</th>\n",
       "      <th>adm1_id</th>\n",
       "      <th>adm1_name</th>\n",
       "      <th>mkt_id</th>\n",
       "      <th>mkt_name</th>\n",
       "      <th>cm_id</th>\n",
       "      <th>cm_name</th>\n",
       "      <th>cur_id</th>\n",
       "      <th>cur_name</th>\n",
       "      <th>pt_id</th>\n",
       "      <th>pt_name</th>\n",
       "      <th>um_id</th>\n",
       "      <th>um_name</th>\n",
       "      <th>mp_month</th>\n",
       "      <th>mp_year</th>\n",
       "      <th>mp_price</th>\n",
       "      <th>mp_commoditysource</th>\n",
       "    </tr>\n",
       "  </thead>\n",
       "  <tbody>\n",
       "    <tr>\n",
       "      <th>0</th>\n",
       "      <td>1</td>\n",
       "      <td>Afghanistan</td>\n",
       "      <td>272</td>\n",
       "      <td>Badakhshan</td>\n",
       "      <td>266</td>\n",
       "      <td>Fayzabad</td>\n",
       "      <td>55</td>\n",
       "      <td>Bread</td>\n",
       "      <td>87</td>\n",
       "      <td>AFN</td>\n",
       "      <td>15</td>\n",
       "      <td>Retail</td>\n",
       "      <td>5</td>\n",
       "      <td>KG</td>\n",
       "      <td>1</td>\n",
       "      <td>2014</td>\n",
       "      <td>50.0</td>\n",
       "      <td>WFP</td>\n",
       "    </tr>\n",
       "    <tr>\n",
       "      <th>1</th>\n",
       "      <td>1</td>\n",
       "      <td>Afghanistan</td>\n",
       "      <td>272</td>\n",
       "      <td>Badakhshan</td>\n",
       "      <td>266</td>\n",
       "      <td>Fayzabad</td>\n",
       "      <td>55</td>\n",
       "      <td>Bread</td>\n",
       "      <td>87</td>\n",
       "      <td>AFN</td>\n",
       "      <td>15</td>\n",
       "      <td>Retail</td>\n",
       "      <td>5</td>\n",
       "      <td>KG</td>\n",
       "      <td>2</td>\n",
       "      <td>2014</td>\n",
       "      <td>50.0</td>\n",
       "      <td>WFP</td>\n",
       "    </tr>\n",
       "    <tr>\n",
       "      <th>2</th>\n",
       "      <td>1</td>\n",
       "      <td>Afghanistan</td>\n",
       "      <td>272</td>\n",
       "      <td>Badakhshan</td>\n",
       "      <td>266</td>\n",
       "      <td>Fayzabad</td>\n",
       "      <td>55</td>\n",
       "      <td>Bread</td>\n",
       "      <td>87</td>\n",
       "      <td>AFN</td>\n",
       "      <td>15</td>\n",
       "      <td>Retail</td>\n",
       "      <td>5</td>\n",
       "      <td>KG</td>\n",
       "      <td>3</td>\n",
       "      <td>2014</td>\n",
       "      <td>50.0</td>\n",
       "      <td>WFP</td>\n",
       "    </tr>\n",
       "    <tr>\n",
       "      <th>3</th>\n",
       "      <td>1</td>\n",
       "      <td>Afghanistan</td>\n",
       "      <td>272</td>\n",
       "      <td>Badakhshan</td>\n",
       "      <td>266</td>\n",
       "      <td>Fayzabad</td>\n",
       "      <td>55</td>\n",
       "      <td>Bread</td>\n",
       "      <td>87</td>\n",
       "      <td>AFN</td>\n",
       "      <td>15</td>\n",
       "      <td>Retail</td>\n",
       "      <td>5</td>\n",
       "      <td>KG</td>\n",
       "      <td>4</td>\n",
       "      <td>2014</td>\n",
       "      <td>50.0</td>\n",
       "      <td>WFP</td>\n",
       "    </tr>\n",
       "    <tr>\n",
       "      <th>4</th>\n",
       "      <td>1</td>\n",
       "      <td>Afghanistan</td>\n",
       "      <td>272</td>\n",
       "      <td>Badakhshan</td>\n",
       "      <td>266</td>\n",
       "      <td>Fayzabad</td>\n",
       "      <td>55</td>\n",
       "      <td>Bread</td>\n",
       "      <td>87</td>\n",
       "      <td>AFN</td>\n",
       "      <td>15</td>\n",
       "      <td>Retail</td>\n",
       "      <td>5</td>\n",
       "      <td>KG</td>\n",
       "      <td>5</td>\n",
       "      <td>2014</td>\n",
       "      <td>50.0</td>\n",
       "      <td>WFP</td>\n",
       "    </tr>\n",
       "  </tbody>\n",
       "</table>\n",
       "</div>"
      ],
      "text/plain": [
       "   adm0_id    adm0_name  adm1_id   adm1_name  mkt_id  mkt_name  cm_id cm_name  \\\n",
       "0        1  Afghanistan      272  Badakhshan     266  Fayzabad     55   Bread   \n",
       "1        1  Afghanistan      272  Badakhshan     266  Fayzabad     55   Bread   \n",
       "2        1  Afghanistan      272  Badakhshan     266  Fayzabad     55   Bread   \n",
       "3        1  Afghanistan      272  Badakhshan     266  Fayzabad     55   Bread   \n",
       "4        1  Afghanistan      272  Badakhshan     266  Fayzabad     55   Bread   \n",
       "\n",
       "   cur_id cur_name  pt_id pt_name  um_id um_name  mp_month  mp_year  mp_price  \\\n",
       "0      87      AFN     15  Retail      5      KG         1     2014      50.0   \n",
       "1      87      AFN     15  Retail      5      KG         2     2014      50.0   \n",
       "2      87      AFN     15  Retail      5      KG         3     2014      50.0   \n",
       "3      87      AFN     15  Retail      5      KG         4     2014      50.0   \n",
       "4      87      AFN     15  Retail      5      KG         5     2014      50.0   \n",
       "\n",
       "  mp_commoditysource  \n",
       "0                WFP  \n",
       "1                WFP  \n",
       "2                WFP  \n",
       "3                WFP  \n",
       "4                WFP  "
      ]
     },
     "execution_count": 4,
     "metadata": {},
     "output_type": "execute_result"
    }
   ],
   "source": [
    "df1.head()"
   ]
  },
  {
   "cell_type": "code",
   "execution_count": 5,
   "id": "5ba184bd",
   "metadata": {},
   "outputs": [
    {
     "data": {
      "text/plain": [
       "(743914, 18)"
      ]
     },
     "execution_count": 5,
     "metadata": {},
     "output_type": "execute_result"
    }
   ],
   "source": [
    "df1.shape"
   ]
  },
  {
   "cell_type": "code",
   "execution_count": 6,
   "id": "7139cd1c",
   "metadata": {},
   "outputs": [
    {
     "data": {
      "text/html": [
       "<div>\n",
       "<style scoped>\n",
       "    .dataframe tbody tr th:only-of-type {\n",
       "        vertical-align: middle;\n",
       "    }\n",
       "\n",
       "    .dataframe tbody tr th {\n",
       "        vertical-align: top;\n",
       "    }\n",
       "\n",
       "    .dataframe thead th {\n",
       "        text-align: right;\n",
       "    }\n",
       "</style>\n",
       "<table border=\"1\" class=\"dataframe\">\n",
       "  <thead>\n",
       "    <tr style=\"text-align: right;\">\n",
       "      <th></th>\n",
       "      <th>Time</th>\n",
       "      <th>Country</th>\n",
       "      <th>Total alcohol consumption per capita, male (liters of pure alcohol)</th>\n",
       "      <th>Taxes on goods and services</th>\n",
       "      <th>Tax payments</th>\n",
       "      <th>Secondary education, pupils</th>\n",
       "      <th>Rural population (%)</th>\n",
       "      <th>Revenue, excluding grants (% of GDP)</th>\n",
       "      <th>Poverty headcount ratio at national poverty lines (% of population)</th>\n",
       "      <th>Number of under-five deaths</th>\n",
       "      <th>Multidimensional poverty index (scale 0-1)</th>\n",
       "      <th>Mortality rate, infant (per 1,000 live births)</th>\n",
       "      <th>Mortality rate attributed to unsafe water, unsafe sanitation and lack of hygiene (per 100,000 population)</th>\n",
       "    </tr>\n",
       "  </thead>\n",
       "  <tbody>\n",
       "    <tr>\n",
       "      <th>0</th>\n",
       "      <td>2016</td>\n",
       "      <td>Algeria</td>\n",
       "      <td>NaN</td>\n",
       "      <td>NaN</td>\n",
       "      <td>27.0</td>\n",
       "      <td>NaN</td>\n",
       "      <td>28.541</td>\n",
       "      <td>NaN</td>\n",
       "      <td>NaN</td>\n",
       "      <td>25025.0</td>\n",
       "      <td>NaN</td>\n",
       "      <td>21.3</td>\n",
       "      <td>1.9</td>\n",
       "    </tr>\n",
       "    <tr>\n",
       "      <th>1</th>\n",
       "      <td>2016</td>\n",
       "      <td>Afghanistan</td>\n",
       "      <td>NaN</td>\n",
       "      <td>4.473712e+10</td>\n",
       "      <td>19.0</td>\n",
       "      <td>2725421.0</td>\n",
       "      <td>74.980</td>\n",
       "      <td>12.678010</td>\n",
       "      <td>54.5</td>\n",
       "      <td>79915.0</td>\n",
       "      <td>0.27</td>\n",
       "      <td>51.3</td>\n",
       "      <td>13.9</td>\n",
       "    </tr>\n",
       "    <tr>\n",
       "      <th>2</th>\n",
       "      <td>2016</td>\n",
       "      <td>Andorra</td>\n",
       "      <td>NaN</td>\n",
       "      <td>NaN</td>\n",
       "      <td>NaN</td>\n",
       "      <td>4425.0</td>\n",
       "      <td>11.752</td>\n",
       "      <td>NaN</td>\n",
       "      <td>NaN</td>\n",
       "      <td>2.0</td>\n",
       "      <td>NaN</td>\n",
       "      <td>3.2</td>\n",
       "      <td>NaN</td>\n",
       "    </tr>\n",
       "    <tr>\n",
       "      <th>3</th>\n",
       "      <td>2016</td>\n",
       "      <td>AntiguaandBarbuda</td>\n",
       "      <td>NaN</td>\n",
       "      <td>NaN</td>\n",
       "      <td>57.0</td>\n",
       "      <td>NaN</td>\n",
       "      <td>75.154</td>\n",
       "      <td>NaN</td>\n",
       "      <td>NaN</td>\n",
       "      <td>11.0</td>\n",
       "      <td>NaN</td>\n",
       "      <td>6.5</td>\n",
       "      <td>0.1</td>\n",
       "    </tr>\n",
       "    <tr>\n",
       "      <th>4</th>\n",
       "      <td>2016</td>\n",
       "      <td>Armenia</td>\n",
       "      <td>NaN</td>\n",
       "      <td>4.510000e+11</td>\n",
       "      <td>14.0</td>\n",
       "      <td>NaN</td>\n",
       "      <td>36.918</td>\n",
       "      <td>22.834729</td>\n",
       "      <td>NaN</td>\n",
       "      <td>587.0</td>\n",
       "      <td>NaN</td>\n",
       "      <td>12.2</td>\n",
       "      <td>0.2</td>\n",
       "    </tr>\n",
       "  </tbody>\n",
       "</table>\n",
       "</div>"
      ],
      "text/plain": [
       "   Time            Country  \\\n",
       "0  2016            Algeria   \n",
       "1  2016        Afghanistan   \n",
       "2  2016            Andorra   \n",
       "3  2016  AntiguaandBarbuda   \n",
       "4  2016            Armenia   \n",
       "\n",
       "   Total alcohol consumption per capita, male (liters of pure alcohol)  \\\n",
       "0                                                NaN                     \n",
       "1                                                NaN                     \n",
       "2                                                NaN                     \n",
       "3                                                NaN                     \n",
       "4                                                NaN                     \n",
       "\n",
       "   Taxes on goods and services  Tax payments  Secondary education, pupils  \\\n",
       "0                          NaN          27.0                          NaN   \n",
       "1                 4.473712e+10          19.0                    2725421.0   \n",
       "2                          NaN           NaN                       4425.0   \n",
       "3                          NaN          57.0                          NaN   \n",
       "4                 4.510000e+11          14.0                          NaN   \n",
       "\n",
       "   Rural population (%)  Revenue, excluding grants (% of GDP)  \\\n",
       "0                28.541                                   NaN   \n",
       "1                74.980                             12.678010   \n",
       "2                11.752                                   NaN   \n",
       "3                75.154                                   NaN   \n",
       "4                36.918                             22.834729   \n",
       "\n",
       "   Poverty headcount ratio at national poverty lines (% of population)   \\\n",
       "0                                                NaN                      \n",
       "1                                               54.5                      \n",
       "2                                                NaN                      \n",
       "3                                                NaN                      \n",
       "4                                                NaN                      \n",
       "\n",
       "   Number of under-five deaths   Multidimensional poverty index (scale 0-1)  \\\n",
       "0                       25025.0                                         NaN   \n",
       "1                       79915.0                                        0.27   \n",
       "2                           2.0                                         NaN   \n",
       "3                          11.0                                         NaN   \n",
       "4                         587.0                                         NaN   \n",
       "\n",
       "   Mortality rate, infant (per 1,000 live births)  \\\n",
       "0                                            21.3   \n",
       "1                                            51.3   \n",
       "2                                             3.2   \n",
       "3                                             6.5   \n",
       "4                                            12.2   \n",
       "\n",
       "   Mortality rate attributed to unsafe water, unsafe sanitation and lack of hygiene (per 100,000 population)  \n",
       "0                                                1.9                                                          \n",
       "1                                               13.9                                                          \n",
       "2                                                NaN                                                          \n",
       "3                                                0.1                                                          \n",
       "4                                                0.2                                                          "
      ]
     },
     "execution_count": 6,
     "metadata": {},
     "output_type": "execute_result"
    }
   ],
   "source": [
    "df2.head()"
   ]
  },
  {
   "cell_type": "code",
   "execution_count": 7,
   "id": "bb643a45",
   "metadata": {},
   "outputs": [],
   "source": [
    "df1.rename(columns={\"adm0_name\":\"Country\"}, inplace=True)"
   ]
  },
  {
   "cell_type": "code",
   "execution_count": 8,
   "id": "6a8ac7d3",
   "metadata": {},
   "outputs": [],
   "source": [
    "# merge data\n",
    "\n",
    "df_clean = df1.merge(df2, on = ['Country'], how = 'left', indicator= True)"
   ]
  },
  {
   "cell_type": "code",
   "execution_count": 9,
   "id": "2f1cd14c",
   "metadata": {},
   "outputs": [
    {
     "data": {
      "text/plain": [
       "both          2242035\n",
       "left_only      295507\n",
       "right_only          0\n",
       "Name: _merge, dtype: int64"
      ]
     },
     "execution_count": 9,
     "metadata": {},
     "output_type": "execute_result"
    }
   ],
   "source": [
    "df_clean[\"_merge\"].value_counts()"
   ]
  },
  {
   "cell_type": "code",
   "execution_count": 10,
   "id": "d92d4c00",
   "metadata": {
    "scrolled": true
   },
   "outputs": [],
   "source": [
    "#pd.set_option('display.max_rows', 500)"
   ]
  },
  {
   "cell_type": "code",
   "execution_count": null,
   "id": "b9917c2e",
   "metadata": {},
   "outputs": [],
   "source": [
    "df_clean = df_clean[df_clean['_merge'] =='both']"
   ]
  },
  {
   "cell_type": "code",
   "execution_count": null,
   "id": "77560cfa",
   "metadata": {},
   "outputs": [],
   "source": [
    "df_clean.shape"
   ]
  },
  {
   "cell_type": "code",
   "execution_count": null,
   "id": "5da7cdec",
   "metadata": {},
   "outputs": [],
   "source": [
    "df_clean.columns"
   ]
  },
  {
   "cell_type": "code",
   "execution_count": null,
   "id": "e8efe5ac",
   "metadata": {
    "scrolled": true
   },
   "outputs": [],
   "source": [
    "df_clean.head(10)"
   ]
  },
  {
   "cell_type": "code",
   "execution_count": null,
   "id": "e065533b",
   "metadata": {},
   "outputs": [],
   "source": [
    "sub = df_clean[[\"Time\",\"Country\",\n",
    "                'Poverty headcount ratio at national poverty lines (% of population) ',\n",
    "       'Number of under-five deaths ',\n",
    "       'Multidimensional poverty index (scale 0-1)','mp_price', \"mp_month\"]]"
   ]
  },
  {
   "cell_type": "code",
   "execution_count": null,
   "id": "b654f93a",
   "metadata": {},
   "outputs": [],
   "source": [
    "sub.rename(columns = {'Poverty headcount ratio at national poverty lines (% of population) ' : \"poverty\"}, inplace = True)"
   ]
  },
  {
   "cell_type": "code",
   "execution_count": null,
   "id": "2aaa2165",
   "metadata": {},
   "outputs": [],
   "source": [
    "sub.head(20)"
   ]
  },
  {
   "cell_type": "code",
   "execution_count": null,
   "id": "0ae7a5a9",
   "metadata": {},
   "outputs": [],
   "source": [
    "sub.isnull().sum()"
   ]
  },
  {
   "cell_type": "code",
   "execution_count": null,
   "id": "9d0a4099",
   "metadata": {},
   "outputs": [],
   "source": [
    "sub['poverty'].fillna(sub['poverty'].mean(), inplace = True)\n",
    "sub['Number of under-five deaths '].fillna(sub['Number of under-five deaths '].mean(), inplace = True)\n",
    "sub['Multidimensional poverty index (scale 0-1)'].fillna(sub['Multidimensional poverty index (scale 0-1)'].mean(), inplace = True)"
   ]
  },
  {
   "cell_type": "markdown",
   "id": "72feb179",
   "metadata": {},
   "source": [
    "While I realise this imputation is not optimal, I need to do it because `aggregate` won't work with the loads of NaNs"
   ]
  },
  {
   "cell_type": "code",
   "execution_count": null,
   "id": "f4433753",
   "metadata": {},
   "outputs": [],
   "source": [
    "g2 = sub.groupby([\"Time\", \"Country\", 'poverty', 'Number of under-five deaths ',\n",
    "       'Multidimensional poverty index (scale 0-1)'], as_index=False).mean('mp_price')"
   ]
  },
  {
   "cell_type": "code",
   "execution_count": null,
   "id": "bbb308cd",
   "metadata": {},
   "outputs": [],
   "source": [
    "g2.shape"
   ]
  },
  {
   "cell_type": "code",
   "execution_count": null,
   "id": "99a0899e",
   "metadata": {},
   "outputs": [],
   "source": [
    "g2"
   ]
  },
  {
   "cell_type": "code",
   "execution_count": null,
   "id": "d10f5ace",
   "metadata": {},
   "outputs": [],
   "source": [
    "g2.drop(columns = {'mp_month'}, inplace = True)"
   ]
  },
  {
   "cell_type": "code",
   "execution_count": null,
   "id": "dbcd0123",
   "metadata": {},
   "outputs": [],
   "source": [
    "g2.head(10)"
   ]
  },
  {
   "cell_type": "markdown",
   "id": "745a324d",
   "metadata": {},
   "source": [
    "This is you now! Rerun your visualisations with the new df and the new columns"
   ]
  },
  {
   "cell_type": "code",
   "execution_count": null,
   "id": "91343c55",
   "metadata": {},
   "outputs": [],
   "source": [
    "# Create a subplot with matplotlib\n",
    "\n",
    "f,ax = plt.subplots(figsize=(10,10))# create correlation heatmap in seaborn, apply a heatmap onto subplot\n",
    "\n",
    "corr = sns.heatmap(g2.corr(), annot = True, ax = ax)"
   ]
  },
  {
   "cell_type": "code",
   "execution_count": null,
   "id": "84947804",
   "metadata": {},
   "outputs": [],
   "source": [
    "sns.lmplot(x = \"Multidimensional poverty index (scale 0-1)\",y = \"poverty\", data = g2)"
   ]
  },
  {
   "cell_type": "code",
   "execution_count": null,
   "id": "ab0f32b4",
   "metadata": {},
   "outputs": [],
   "source": [
    "sub2 = sub[[\"Country\",\n",
    "                'poverty',\n",
    "       'Number of under-five deaths ',\n",
    "       'Multidimensional poverty index (scale 0-1)']]"
   ]
  },
  {
   "cell_type": "code",
   "execution_count": null,
   "id": "d4a12df2",
   "metadata": {
    "scrolled": true
   },
   "outputs": [],
   "source": [
    "g = sns.pairplot(sub2)"
   ]
  },
  {
   "cell_type": "code",
   "execution_count": null,
   "id": "4d3c8cc4",
   "metadata": {
    "scrolled": true
   },
   "outputs": [],
   "source": [
    "sns.histplot(df_clean['Poverty headcount ratio at national poverty lines (% of population) '], bins = 15)"
   ]
  },
  {
   "cell_type": "code",
   "execution_count": null,
   "id": "d780746a",
   "metadata": {},
   "outputs": [],
   "source": [
    "df_clean.loc[df_clean['mp_price'] < 2000, 'Price category'] = 'Low price'"
   ]
  },
  {
   "cell_type": "code",
   "execution_count": null,
   "id": "68dfefdb",
   "metadata": {},
   "outputs": [],
   "source": [
    "df_clean.loc[df_clean['mp_price'] >= 2000, 'Price category'] = 'High price'"
   ]
  },
  {
   "cell_type": "code",
   "execution_count": null,
   "id": "c03cd294",
   "metadata": {},
   "outputs": [],
   "source": [
    "df_clean['Price category'].value_counts(dropna = False)"
   ]
  },
  {
   "cell_type": "code",
   "execution_count": null,
   "id": "7572eb63",
   "metadata": {},
   "outputs": [],
   "source": [
    "df_clean.columns"
   ]
  },
  {
   "cell_type": "code",
   "execution_count": null,
   "id": "82bbca96",
   "metadata": {},
   "outputs": [],
   "source": [
    "# Create a categorical plot in seaborn using the price categories created above\n",
    "\n",
    "sns.set(style=\"ticks\")\n",
    "g = sns.catplot(x=\"Time\", y=\"mp_price\", hue=\"Price category\", data=df_clean)"
   ]
  },
  {
   "cell_type": "code",
   "execution_count": null,
   "id": "6869568a",
   "metadata": {},
   "outputs": [],
   "source": [
    "df_clean.to_pickle(os.path.join(path, \"02 Data\",\"Prepared Data\", \"merged.pkl\"))"
   ]
  },
  {
   "cell_type": "markdown",
   "id": "fa696863",
   "metadata": {},
   "source": [
    "### From my questions I can't answer any with the visualizations."
   ]
  },
  {
   "cell_type": "markdown",
   "id": "9ddc0bce",
   "metadata": {},
   "source": [
    "# H0 = Increasing years don't have an effect on prices.\n",
    "# H1 = Increasing years have a positive effect on prices."
   ]
  }
 ],
 "metadata": {
  "kernelspec": {
   "display_name": "Python 3 (ipykernel)",
   "language": "python",
   "name": "python3"
  },
  "language_info": {
   "codemirror_mode": {
    "name": "ipython",
    "version": 3
   },
   "file_extension": ".py",
   "mimetype": "text/x-python",
   "name": "python",
   "nbconvert_exporter": "python",
   "pygments_lexer": "ipython3",
   "version": "3.8.11"
  }
 },
 "nbformat": 4,
 "nbformat_minor": 5
}
