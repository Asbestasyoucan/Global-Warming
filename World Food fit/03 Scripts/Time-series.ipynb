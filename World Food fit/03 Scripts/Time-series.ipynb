{
 "cells": [
  {
   "cell_type": "markdown",
   "id": "38d84d0a",
   "metadata": {},
   "source": [
    "### Importing libraries and data and renaming columns"
   ]
  },
  {
   "cell_type": "code",
   "execution_count": 1,
   "id": "89748f7e",
   "metadata": {},
   "outputs": [],
   "source": [
    "import pandas as pd\n",
    "import numpy as np\n",
    "import seaborn as sns\n",
    "import matplotlib\n",
    "import matplotlib.pyplot as plt\n",
    "import os\n",
    "import statsmodels.api as sm\n",
    "import warnings"
   ]
  },
  {
   "cell_type": "code",
   "execution_count": 2,
   "id": "8b198fb3",
   "metadata": {},
   "outputs": [],
   "source": [
    "path = 'C:\\\\Users\\\\Marce\\\\careerfoundry\\\\World Food fit'"
   ]
  },
  {
   "cell_type": "code",
   "execution_count": 3,
   "id": "f01e79c1",
   "metadata": {},
   "outputs": [],
   "source": [
    "data = pd.read_csv(os.path.join(path, '02 Data', 'Prepared Data', 'currencyrdy.csv'))"
   ]
  },
  {
   "cell_type": "code",
   "execution_count": 4,
   "id": "0e804a91",
   "metadata": {},
   "outputs": [],
   "source": [
    "warnings.filterwarnings(\"ignore\")\n",
    "\n",
    "plt.style.use('fivethirtyeight')"
   ]
  },
  {
   "cell_type": "code",
   "execution_count": 5,
   "id": "6c4b5d19",
   "metadata": {},
   "outputs": [],
   "source": [
    "pd.set_option('display.float_format', lambda x: '%.3f' % x)"
   ]
  },
  {
   "cell_type": "code",
   "execution_count": 6,
   "id": "88709fb2",
   "metadata": {},
   "outputs": [],
   "source": [
    "pd.set_option('precision', 0)"
   ]
  },
  {
   "cell_type": "code",
   "execution_count": 7,
   "id": "cf6e96ae",
   "metadata": {},
   "outputs": [
    {
     "data": {
      "text/html": [
       "<div>\n",
       "<style scoped>\n",
       "    .dataframe tbody tr th:only-of-type {\n",
       "        vertical-align: middle;\n",
       "    }\n",
       "\n",
       "    .dataframe tbody tr th {\n",
       "        vertical-align: top;\n",
       "    }\n",
       "\n",
       "    .dataframe thead th {\n",
       "        text-align: right;\n",
       "    }\n",
       "</style>\n",
       "<table border=\"1\" class=\"dataframe\">\n",
       "  <thead>\n",
       "    <tr style=\"text-align: right;\">\n",
       "      <th></th>\n",
       "      <th>Country</th>\n",
       "      <th>Product/Category</th>\n",
       "      <th>Month</th>\n",
       "      <th>Year</th>\n",
       "      <th>PriceUSD</th>\n",
       "    </tr>\n",
       "  </thead>\n",
       "  <tbody>\n",
       "    <tr>\n",
       "      <th>0</th>\n",
       "      <td>Afghanistan</td>\n",
       "      <td>Bread - Retail</td>\n",
       "      <td>Jan</td>\n",
       "      <td>2000</td>\n",
       "      <td>0.178</td>\n",
       "    </tr>\n",
       "    <tr>\n",
       "      <th>1</th>\n",
       "      <td>Afghanistan</td>\n",
       "      <td>Bread - Retail</td>\n",
       "      <td>Jan</td>\n",
       "      <td>2001</td>\n",
       "      <td>0.208</td>\n",
       "    </tr>\n",
       "    <tr>\n",
       "      <th>2</th>\n",
       "      <td>Afghanistan</td>\n",
       "      <td>Bread - Retail</td>\n",
       "      <td>Jan</td>\n",
       "      <td>2002</td>\n",
       "      <td>0.106</td>\n",
       "    </tr>\n",
       "    <tr>\n",
       "      <th>3</th>\n",
       "      <td>Afghanistan</td>\n",
       "      <td>Bread - Retail</td>\n",
       "      <td>Jan</td>\n",
       "      <td>2003</td>\n",
       "      <td>0.151</td>\n",
       "    </tr>\n",
       "    <tr>\n",
       "      <th>4</th>\n",
       "      <td>Afghanistan</td>\n",
       "      <td>Bread - Retail</td>\n",
       "      <td>Jan</td>\n",
       "      <td>2004</td>\n",
       "      <td>0.175</td>\n",
       "    </tr>\n",
       "  </tbody>\n",
       "</table>\n",
       "</div>"
      ],
      "text/plain": [
       "       Country Product/Category Month  Year  PriceUSD\n",
       "0  Afghanistan   Bread - Retail   Jan  2000     0.178\n",
       "1  Afghanistan   Bread - Retail   Jan  2001     0.208\n",
       "2  Afghanistan   Bread - Retail   Jan  2002     0.106\n",
       "3  Afghanistan   Bread - Retail   Jan  2003     0.151\n",
       "4  Afghanistan   Bread - Retail   Jan  2004     0.175"
      ]
     },
     "execution_count": 7,
     "metadata": {},
     "output_type": "execute_result"
    }
   ],
   "source": [
    "data.head(5)"
   ]
  },
  {
   "cell_type": "code",
   "execution_count": 8,
   "id": "a36315d1",
   "metadata": {},
   "outputs": [
    {
     "data": {
      "text/plain": [
       "(107108, 5)"
      ]
     },
     "execution_count": 8,
     "metadata": {},
     "output_type": "execute_result"
    }
   ],
   "source": [
    "data.shape"
   ]
  },
  {
   "cell_type": "code",
   "execution_count": 9,
   "id": "bb2b94ff",
   "metadata": {},
   "outputs": [],
   "source": [
    "#change month from abbreviation to number, first create a list\n",
    "\n",
    "months = {\n",
    "        'Jan' : 1,\n",
    "        'Feb' : 2,\n",
    "        'Mar' : 3,\n",
    "        'Apr' : 4,\n",
    "        'May' : 5,\n",
    "        'Jun' : 6,\n",
    "        'Jul' : 7,\n",
    "        'Aug' : 8,\n",
    "        'Sep' : 9, \n",
    "        'Oct' : 10,\n",
    "        'Nov' : 11,\n",
    "        'Dec' : 12\n",
    "}"
   ]
  },
  {
   "cell_type": "code",
   "execution_count": 10,
   "id": "edaf39be",
   "metadata": {},
   "outputs": [],
   "source": [
    "## map the list to change month from abbreviation to number\n",
    "\n",
    "data.Month = data.Month.map(months)"
   ]
  },
  {
   "cell_type": "code",
   "execution_count": 11,
   "id": "276c654b",
   "metadata": {},
   "outputs": [
    {
     "data": {
      "text/plain": [
       "Index(['Country', 'Product/Category', 'Month', 'Year', 'PriceUSD'], dtype='object')"
      ]
     },
     "execution_count": 11,
     "metadata": {},
     "output_type": "execute_result"
    }
   ],
   "source": [
    "data.columns"
   ]
  },
  {
   "cell_type": "code",
   "execution_count": 12,
   "id": "a4c14ee6",
   "metadata": {},
   "outputs": [
    {
     "data": {
      "text/plain": [
       "Country                0\n",
       "Product/Category       0\n",
       "Month                  0\n",
       "Year                   0\n",
       "PriceUSD            5316\n",
       "dtype: int64"
      ]
     },
     "execution_count": 12,
     "metadata": {},
     "output_type": "execute_result"
    }
   ],
   "source": [
    "data.isnull().sum()"
   ]
  },
  {
   "cell_type": "code",
   "execution_count": 13,
   "id": "84feccf7",
   "metadata": {},
   "outputs": [],
   "source": [
    "data['PriceUSD'].fillna(data['PriceUSD'].median(),inplace=True)"
   ]
  },
  {
   "cell_type": "code",
   "execution_count": 14,
   "id": "4d22cc3c",
   "metadata": {},
   "outputs": [
    {
     "data": {
      "text/plain": [
       "Country             0\n",
       "Product/Category    0\n",
       "Month               0\n",
       "Year                0\n",
       "PriceUSD            0\n",
       "dtype: int64"
      ]
     },
     "execution_count": 14,
     "metadata": {},
     "output_type": "execute_result"
    }
   ],
   "source": [
    "data.isnull().sum()"
   ]
  },
  {
   "cell_type": "code",
   "execution_count": 15,
   "id": "a1d6913b",
   "metadata": {},
   "outputs": [
    {
     "data": {
      "text/plain": [
       "Wheat flour - Retail                  3272\n",
       "Sugar - Retail                        2418\n",
       "Rice - Retail                         1933\n",
       "Potatoes - Retail                     1805\n",
       "Maize - Retail                        1731\n",
       "                                      ... \n",
       "Beans (haricot, red) - Wholesale         1\n",
       "Transport (public, moto) - Retail        1\n",
       "Transport (public, bus) - Retail         1\n",
       "Kocho - Retail                           1\n",
       "Beans (haricot, white) - Wholesale       1\n",
       "Name: Product/Category, Length: 609, dtype: int64"
      ]
     },
     "execution_count": 15,
     "metadata": {},
     "output_type": "execute_result"
    }
   ],
   "source": [
    "data['Product/Category'].value_counts()"
   ]
  },
  {
   "cell_type": "code",
   "execution_count": 16,
   "id": "a9087c50",
   "metadata": {},
   "outputs": [
    {
     "data": {
      "text/plain": [
       "<pandas.core.groupby.generic.DataFrameGroupBy object at 0x000001E5ED2ADDF0>"
      ]
     },
     "execution_count": 16,
     "metadata": {},
     "output_type": "execute_result"
    }
   ],
   "source": [
    "data.groupby(['Product/Category','Month','Year'],as_index=False)"
   ]
  },
  {
   "cell_type": "code",
   "execution_count": 34,
   "id": "a310fa35",
   "metadata": {},
   "outputs": [],
   "source": [
    "df2 = data[data['Product/Category'].isin(['Wheat flour - Retail','Sugar - Retail','Rice - Retail'])]"
   ]
  },
  {
   "cell_type": "code",
   "execution_count": 35,
   "id": "d4a087e5",
   "metadata": {},
   "outputs": [],
   "source": [
    "#df3 = df2.loc[df2['Product/Category']=='Rice (ordinary, second quality) - Wholesale']"
   ]
  },
  {
   "cell_type": "code",
   "execution_count": 36,
   "id": "668c2b2a",
   "metadata": {},
   "outputs": [],
   "source": [
    "#df2 = data[(data['Country']=='Guatemala') & (data['Product/Category']=='Sugar')]"
   ]
  },
  {
   "cell_type": "code",
   "execution_count": 37,
   "id": "acb42e3f",
   "metadata": {},
   "outputs": [
    {
     "data": {
      "text/html": [
       "<div>\n",
       "<style scoped>\n",
       "    .dataframe tbody tr th:only-of-type {\n",
       "        vertical-align: middle;\n",
       "    }\n",
       "\n",
       "    .dataframe tbody tr th {\n",
       "        vertical-align: top;\n",
       "    }\n",
       "\n",
       "    .dataframe thead th {\n",
       "        text-align: right;\n",
       "    }\n",
       "</style>\n",
       "<table border=\"1\" class=\"dataframe\">\n",
       "  <thead>\n",
       "    <tr style=\"text-align: right;\">\n",
       "      <th></th>\n",
       "      <th>Country</th>\n",
       "      <th>Product/Category</th>\n",
       "      <th>Month</th>\n",
       "      <th>Year</th>\n",
       "      <th>PriceUSD</th>\n",
       "    </tr>\n",
       "  </thead>\n",
       "  <tbody>\n",
       "    <tr>\n",
       "      <th>750</th>\n",
       "      <td>Afghanistan</td>\n",
       "      <td>Sugar - Retail</td>\n",
       "      <td>1</td>\n",
       "      <td>2021</td>\n",
       "      <td>0.589</td>\n",
       "    </tr>\n",
       "    <tr>\n",
       "      <th>751</th>\n",
       "      <td>Afghanistan</td>\n",
       "      <td>Sugar - Retail</td>\n",
       "      <td>2</td>\n",
       "      <td>2021</td>\n",
       "      <td>0.587</td>\n",
       "    </tr>\n",
       "    <tr>\n",
       "      <th>752</th>\n",
       "      <td>Afghanistan</td>\n",
       "      <td>Sugar - Retail</td>\n",
       "      <td>3</td>\n",
       "      <td>2021</td>\n",
       "      <td>0.583</td>\n",
       "    </tr>\n",
       "    <tr>\n",
       "      <th>753</th>\n",
       "      <td>Afghanistan</td>\n",
       "      <td>Sugar - Retail</td>\n",
       "      <td>4</td>\n",
       "      <td>2021</td>\n",
       "      <td>0.585</td>\n",
       "    </tr>\n",
       "    <tr>\n",
       "      <th>754</th>\n",
       "      <td>Afghanistan</td>\n",
       "      <td>Sugar - Retail</td>\n",
       "      <td>5</td>\n",
       "      <td>2020</td>\n",
       "      <td>0.569</td>\n",
       "    </tr>\n",
       "  </tbody>\n",
       "</table>\n",
       "</div>"
      ],
      "text/plain": [
       "         Country Product/Category  Month  Year  PriceUSD\n",
       "750  Afghanistan   Sugar - Retail      1  2021     0.589\n",
       "751  Afghanistan   Sugar - Retail      2  2021     0.587\n",
       "752  Afghanistan   Sugar - Retail      3  2021     0.583\n",
       "753  Afghanistan   Sugar - Retail      4  2021     0.585\n",
       "754  Afghanistan   Sugar - Retail      5  2020     0.569"
      ]
     },
     "execution_count": 37,
     "metadata": {},
     "output_type": "execute_result"
    }
   ],
   "source": [
    "df2.head()"
   ]
  },
  {
   "cell_type": "code",
   "execution_count": 38,
   "id": "0f280062",
   "metadata": {},
   "outputs": [
    {
     "data": {
      "text/html": [
       "<div>\n",
       "<style scoped>\n",
       "    .dataframe tbody tr th:only-of-type {\n",
       "        vertical-align: middle;\n",
       "    }\n",
       "\n",
       "    .dataframe tbody tr th {\n",
       "        vertical-align: top;\n",
       "    }\n",
       "\n",
       "    .dataframe thead th {\n",
       "        text-align: right;\n",
       "    }\n",
       "</style>\n",
       "<table border=\"1\" class=\"dataframe\">\n",
       "  <thead>\n",
       "    <tr style=\"text-align: right;\">\n",
       "      <th></th>\n",
       "      <th>Country</th>\n",
       "      <th>Product/Category</th>\n",
       "      <th>Month</th>\n",
       "      <th>Year</th>\n",
       "      <th>PriceUSD</th>\n",
       "    </tr>\n",
       "  </thead>\n",
       "  <tbody>\n",
       "    <tr>\n",
       "      <th>750</th>\n",
       "      <td>Afghanistan</td>\n",
       "      <td>Sugar - Retail</td>\n",
       "      <td>1</td>\n",
       "      <td>2021</td>\n",
       "      <td>0.589</td>\n",
       "    </tr>\n",
       "    <tr>\n",
       "      <th>751</th>\n",
       "      <td>Afghanistan</td>\n",
       "      <td>Sugar - Retail</td>\n",
       "      <td>2</td>\n",
       "      <td>2021</td>\n",
       "      <td>0.587</td>\n",
       "    </tr>\n",
       "    <tr>\n",
       "      <th>752</th>\n",
       "      <td>Afghanistan</td>\n",
       "      <td>Sugar - Retail</td>\n",
       "      <td>3</td>\n",
       "      <td>2021</td>\n",
       "      <td>0.583</td>\n",
       "    </tr>\n",
       "    <tr>\n",
       "      <th>753</th>\n",
       "      <td>Afghanistan</td>\n",
       "      <td>Sugar - Retail</td>\n",
       "      <td>4</td>\n",
       "      <td>2021</td>\n",
       "      <td>0.585</td>\n",
       "    </tr>\n",
       "    <tr>\n",
       "      <th>754</th>\n",
       "      <td>Afghanistan</td>\n",
       "      <td>Sugar - Retail</td>\n",
       "      <td>5</td>\n",
       "      <td>2020</td>\n",
       "      <td>0.569</td>\n",
       "    </tr>\n",
       "  </tbody>\n",
       "</table>\n",
       "</div>"
      ],
      "text/plain": [
       "         Country Product/Category  Month  Year  PriceUSD\n",
       "750  Afghanistan   Sugar - Retail      1  2021     0.589\n",
       "751  Afghanistan   Sugar - Retail      2  2021     0.587\n",
       "752  Afghanistan   Sugar - Retail      3  2021     0.583\n",
       "753  Afghanistan   Sugar - Retail      4  2021     0.585\n",
       "754  Afghanistan   Sugar - Retail      5  2020     0.569"
      ]
     },
     "execution_count": 38,
     "metadata": {},
     "output_type": "execute_result"
    }
   ],
   "source": [
    "df2.head()"
   ]
  },
  {
   "cell_type": "code",
   "execution_count": 39,
   "id": "786aa76a",
   "metadata": {},
   "outputs": [
    {
     "data": {
      "text/plain": [
       "(7623, 5)"
      ]
     },
     "execution_count": 39,
     "metadata": {},
     "output_type": "execute_result"
    }
   ],
   "source": [
    "df2.shape"
   ]
  },
  {
   "cell_type": "code",
   "execution_count": 40,
   "id": "f3605940",
   "metadata": {},
   "outputs": [],
   "source": [
    "df3=df2.groupby(['Month'],as_index=False).mean('PriceUSD')"
   ]
  },
  {
   "cell_type": "code",
   "execution_count": 41,
   "id": "cc944be0",
   "metadata": {},
   "outputs": [
    {
     "data": {
      "text/html": [
       "<div>\n",
       "<style scoped>\n",
       "    .dataframe tbody tr th:only-of-type {\n",
       "        vertical-align: middle;\n",
       "    }\n",
       "\n",
       "    .dataframe tbody tr th {\n",
       "        vertical-align: top;\n",
       "    }\n",
       "\n",
       "    .dataframe thead th {\n",
       "        text-align: right;\n",
       "    }\n",
       "</style>\n",
       "<table border=\"1\" class=\"dataframe\">\n",
       "  <thead>\n",
       "    <tr style=\"text-align: right;\">\n",
       "      <th></th>\n",
       "      <th>Month</th>\n",
       "      <th>Year</th>\n",
       "      <th>PriceUSD</th>\n",
       "    </tr>\n",
       "  </thead>\n",
       "  <tbody>\n",
       "    <tr>\n",
       "      <th>0</th>\n",
       "      <td>1</td>\n",
       "      <td>2014.132</td>\n",
       "      <td>1.972</td>\n",
       "    </tr>\n",
       "    <tr>\n",
       "      <th>1</th>\n",
       "      <td>2</td>\n",
       "      <td>2014.135</td>\n",
       "      <td>2.038</td>\n",
       "    </tr>\n",
       "    <tr>\n",
       "      <th>2</th>\n",
       "      <td>3</td>\n",
       "      <td>2014.057</td>\n",
       "      <td>1.670</td>\n",
       "    </tr>\n",
       "    <tr>\n",
       "      <th>3</th>\n",
       "      <td>4</td>\n",
       "      <td>2014.061</td>\n",
       "      <td>1.854</td>\n",
       "    </tr>\n",
       "    <tr>\n",
       "      <th>4</th>\n",
       "      <td>5</td>\n",
       "      <td>2014.031</td>\n",
       "      <td>1.961</td>\n",
       "    </tr>\n",
       "  </tbody>\n",
       "</table>\n",
       "</div>"
      ],
      "text/plain": [
       "   Month     Year  PriceUSD\n",
       "0      1 2014.132     1.972\n",
       "1      2 2014.135     2.038\n",
       "2      3 2014.057     1.670\n",
       "3      4 2014.061     1.854\n",
       "4      5 2014.031     1.961"
      ]
     },
     "execution_count": 41,
     "metadata": {},
     "output_type": "execute_result"
    }
   ],
   "source": [
    "df3.head()"
   ]
  },
  {
   "cell_type": "code",
   "execution_count": 42,
   "id": "7abb82ea",
   "metadata": {},
   "outputs": [
    {
     "data": {
      "text/plain": [
       "(12, 3)"
      ]
     },
     "execution_count": 42,
     "metadata": {},
     "output_type": "execute_result"
    }
   ],
   "source": [
    "df3.shape"
   ]
  },
  {
   "cell_type": "code",
   "execution_count": 43,
   "id": "83b32c82",
   "metadata": {},
   "outputs": [
    {
     "data": {
      "text/html": [
       "<div>\n",
       "<style scoped>\n",
       "    .dataframe tbody tr th:only-of-type {\n",
       "        vertical-align: middle;\n",
       "    }\n",
       "\n",
       "    .dataframe tbody tr th {\n",
       "        vertical-align: top;\n",
       "    }\n",
       "\n",
       "    .dataframe thead th {\n",
       "        text-align: right;\n",
       "    }\n",
       "</style>\n",
       "<table border=\"1\" class=\"dataframe\">\n",
       "  <thead>\n",
       "    <tr style=\"text-align: right;\">\n",
       "      <th></th>\n",
       "      <th>PriceUSD</th>\n",
       "    </tr>\n",
       "    <tr>\n",
       "      <th>datetime</th>\n",
       "      <th></th>\n",
       "    </tr>\n",
       "  </thead>\n",
       "  <tbody>\n",
       "    <tr>\n",
       "      <th>01</th>\n",
       "      <td>1.972</td>\n",
       "    </tr>\n",
       "    <tr>\n",
       "      <th>02</th>\n",
       "      <td>2.038</td>\n",
       "    </tr>\n",
       "    <tr>\n",
       "      <th>03</th>\n",
       "      <td>1.670</td>\n",
       "    </tr>\n",
       "    <tr>\n",
       "      <th>04</th>\n",
       "      <td>1.854</td>\n",
       "    </tr>\n",
       "    <tr>\n",
       "      <th>05</th>\n",
       "      <td>1.961</td>\n",
       "    </tr>\n",
       "    <tr>\n",
       "      <th>06</th>\n",
       "      <td>1.838</td>\n",
       "    </tr>\n",
       "    <tr>\n",
       "      <th>07</th>\n",
       "      <td>1.912</td>\n",
       "    </tr>\n",
       "    <tr>\n",
       "      <th>08</th>\n",
       "      <td>1.824</td>\n",
       "    </tr>\n",
       "    <tr>\n",
       "      <th>09</th>\n",
       "      <td>1.888</td>\n",
       "    </tr>\n",
       "    <tr>\n",
       "      <th>10</th>\n",
       "      <td>1.842</td>\n",
       "    </tr>\n",
       "  </tbody>\n",
       "</table>\n",
       "</div>"
      ],
      "text/plain": [
       "          PriceUSD\n",
       "datetime          \n",
       "01           1.972\n",
       "02           2.038\n",
       "03           1.670\n",
       "04           1.854\n",
       "05           1.961\n",
       "06           1.838\n",
       "07           1.912\n",
       "08           1.824\n",
       "09           1.888\n",
       "10           1.842"
      ]
     },
     "execution_count": 43,
     "metadata": {},
     "output_type": "execute_result"
    }
   ],
   "source": [
    "df3['datetime'] = pd.to_datetime(df3['Month'], format='%m').dt.strftime('%m')\n",
    "df3 = df3.set_index('datetime') # Set the datetime as the index of the dataframe.\n",
    "df3.drop(['Year','Month'], axis=1, inplace=True) # Drop columns\n",
    "df3.head(10)"
   ]
  },
  {
   "cell_type": "code",
   "execution_count": 44,
   "id": "3bac6fb9",
   "metadata": {},
   "outputs": [
    {
     "data": {
      "text/plain": [
       "[<matplotlib.lines.Line2D at 0x1e5ee670940>]"
      ]
     },
     "execution_count": 44,
     "metadata": {},
     "output_type": "execute_result"
    },
    {
     "data": {
      "image/png": "[encoded data removed]",
      "text/plain": [
       "<Figure size 1500x500 with 1 Axes>"
      ]
     },
     "metadata": {},
     "output_type": "display_data"
    }
   ],
   "source": [
    "# Plot the new data set\n",
    "\n",
    "plt.figure(figsize=(15,5), dpi=100)\n",
    "plt.plot(df3)"
   ]
  },
  {
   "cell_type": "code",
   "execution_count": 45,
   "id": "e4ab251d",
   "metadata": {},
   "outputs": [],
   "source": [
    "# Decompose the time series using an additive model\n",
    "\n",
    "#decomposition = sm.tsa.seasonal_decompose(df3, model='additive')\n",
    "decomp = sm.tsa.seasonal_decompose(df3, freq=6)"
   ]
  },
  {
   "cell_type": "code",
   "execution_count": 46,
   "id": "2b2ffbd9",
   "metadata": {},
   "outputs": [],
   "source": [
    "from pylab import rcParams # This will define a fixed size for all special charts.\n",
    "\n",
    "rcParams['figure.figsize'] = 18, 7"
   ]
  },
  {
   "cell_type": "code",
   "execution_count": 47,
   "id": "7cef2111",
   "metadata": {},
   "outputs": [
    {
     "data": {
      "image/png": "[encoded data removed]",
      "text/plain": [
       "<Figure size 1296x504 with 4 Axes>"
      ]
     },
     "metadata": {},
     "output_type": "display_data"
    }
   ],
   "source": [
    "# Plot the separate components\n",
    "\n",
    "decomp.plot()\n",
    "plt.show()"
   ]
  },
  {
   "cell_type": "markdown",
   "id": "ded7c8a9",
   "metadata": {},
   "source": [
    "### I got unsmoothed data, level and trend differ. not much too say about the seasonality.  noise is pretty small."
   ]
  },
  {
   "cell_type": "code",
   "execution_count": 48,
   "id": "379dd40a",
   "metadata": {},
   "outputs": [
    {
     "name": "stdout",
     "output_type": "stream",
     "text": [
      "Dickey-Fuller Stationarity test:\n",
      "Test Statistic                -3.865\n",
      "p-value                        0.002\n",
      "Number of Lags Used            0.000\n",
      "Number of Observations Used   11.000\n",
      "Critical Value (1%)           -4.223\n",
      "Critical Value (5%)           -3.189\n",
      "Critical Value (10%)          -2.730\n",
      "dtype: float64\n"
     ]
    }
   ],
   "source": [
    "# The adfuller() function will import from the model from statsmodels for the test; however, running it will only return \n",
    "# an array of numbers. This is why you need to also define a function that prints the correct output from that array.\n",
    "\n",
    "from statsmodels.tsa.stattools import adfuller # Import the adfuller() function\n",
    "\n",
    "def dickey_fuller(timeseries): # Define the function\n",
    "    # Perform the Dickey-Fuller test:\n",
    "    print ('Dickey-Fuller Stationarity test:')\n",
    "    test = adfuller(timeseries, autolag='AIC')\n",
    "    result = pd.Series(test[0:4], index=['Test Statistic','p-value','Number of Lags Used','Number of Observations Used'])\n",
    "    for key,value in test[4].items():\n",
    "       result['Critical Value (%s)'%key] = value\n",
    "    print (result)\n",
    "\n",
    "# Apply the test using the function on the time series\n",
    "dickey_fuller(df3['PriceUSD'])"
   ]
  },
  {
   "cell_type": "markdown",
   "id": "c44fd681",
   "metadata": {},
   "source": [
    "### Test statistic is smaller than critical 5% value =  null hypothesis rejected\n",
    "### Null hypothesis = Prices don't  increase seasonally"
   ]
  },
  {
   "cell_type": "code",
   "execution_count": 49,
   "id": "e95c272b",
   "metadata": {},
   "outputs": [
    {
     "data": {
      "image/png": "[encoded data removed]",
      "text/plain": [
       "<Figure size 1296x504 with 1 Axes>"
      ]
     },
     "metadata": {},
     "output_type": "display_data"
    }
   ],
   "source": [
    "from statsmodels.graphics.tsaplots import plot_acf, plot_pacf # Here, you import the autocorrelation and partial correlation plots\n",
    "\n",
    "plot_acf(df3)\n",
    "plt.show()"
   ]
  },
  {
   "cell_type": "markdown",
   "id": "683e45f5",
   "metadata": {},
   "source": [
    "# test statistic is smaller than the 5% critical, no further steps needed"
   ]
  },
  {
   "cell_type": "code",
   "execution_count": null,
   "id": "f0b90bb7",
   "metadata": {},
   "outputs": [],
   "source": []
  },
  {
   "cell_type": "code",
   "execution_count": null,
   "id": "46effe1f",
   "metadata": {},
   "outputs": [],
   "source": []
  },
  {
   "cell_type": "code",
   "execution_count": null,
   "id": "062ac34e",
   "metadata": {},
   "outputs": [],
   "source": []
  }
 ],
 "metadata": {
  "kernelspec": {
   "display_name": "Python 3 (ipykernel)",
   "language": "python",
   "name": "python3"
  },
  "language_info": {
   "codemirror_mode": {
    "name": "ipython",
    "version": 3
   },
   "file_extension": ".py",
   "mimetype": "text/x-python",
   "name": "python",
   "nbconvert_exporter": "python",
   "pygments_lexer": "ipython3",
   "version": "3.8.11"
  }
 },
 "nbformat": 4,
 "nbformat_minor": 5
}
