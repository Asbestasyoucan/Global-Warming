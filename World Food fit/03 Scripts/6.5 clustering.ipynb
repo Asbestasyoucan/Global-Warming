{
 "cells": [
  {
   "cell_type": "markdown",
   "id": "38d84d0a",
   "metadata": {},
   "source": [
    "### Importing libraries and data and renaming columns"
   ]
  },
  {
   "cell_type": "code",
   "execution_count": 1,
   "id": "89748f7e",
   "metadata": {},
   "outputs": [],
   "source": [
    "import pandas as pd\n",
    "import numpy as np\n",
    "import seaborn as sns\n",
    "import matplotlib\n",
    "import matplotlib.pyplot as plt\n",
    "import os\n",
    "import sklearn\n",
    "from sklearn.cluster import KMeans # Here is where you import the k-means algorithm from scikit-learn.\n",
    "import pylab as pl # PyLab is a convenience module that bulk imports matplotlib.\n",
    "from sklearn import preprocessing"
   ]
  },
  {
   "cell_type": "code",
   "execution_count": 2,
   "id": "80b666fd",
   "metadata": {},
   "outputs": [],
   "source": [
    "%matplotlib inline"
   ]
  },
  {
   "cell_type": "code",
   "execution_count": 3,
   "id": "777da9b3",
   "metadata": {},
   "outputs": [],
   "source": [
    "path = 'C:\\\\Users\\\\Marce\\\\careerfoundry\\\\food'"
   ]
  },
  {
   "cell_type": "code",
   "execution_count": 4,
   "id": "31b510b6",
   "metadata": {},
   "outputs": [],
   "source": [
    "df = pd.read_pickle(os.path.join(path, '02 Data', 'Prepared Data', 'merged.pkl'))"
   ]
  },
  {
   "cell_type": "code",
   "execution_count": 5,
   "id": "4e42a68c",
   "metadata": {},
   "outputs": [],
   "source": [
    "pd.set_option('precision', 0)"
   ]
  },
  {
   "cell_type": "code",
   "execution_count": 6,
   "id": "793f9522",
   "metadata": {},
   "outputs": [],
   "source": [
    "pd.set_option('display.float_format', lambda x: '%.3f' % x)"
   ]
  },
  {
   "cell_type": "code",
   "execution_count": 7,
   "id": "daa613d3",
   "metadata": {},
   "outputs": [
    {
     "data": {
      "text/plain": [
       "(4880275, 32)"
      ]
     },
     "execution_count": 7,
     "metadata": {},
     "output_type": "execute_result"
    }
   ],
   "source": [
    "df.shape"
   ]
  },
  {
   "cell_type": "code",
   "execution_count": 8,
   "id": "8ac26f0a",
   "metadata": {},
   "outputs": [
    {
     "data": {
      "text/html": [
       "<div>\n",
       "<style scoped>\n",
       "    .dataframe tbody tr th:only-of-type {\n",
       "        vertical-align: middle;\n",
       "    }\n",
       "\n",
       "    .dataframe tbody tr th {\n",
       "        vertical-align: top;\n",
       "    }\n",
       "\n",
       "    .dataframe thead th {\n",
       "        text-align: right;\n",
       "    }\n",
       "</style>\n",
       "<table border=\"1\" class=\"dataframe\">\n",
       "  <thead>\n",
       "    <tr style=\"text-align: right;\">\n",
       "      <th></th>\n",
       "      <th>adm0_id</th>\n",
       "      <th>Country</th>\n",
       "      <th>adm1_id</th>\n",
       "      <th>adm1_name</th>\n",
       "      <th>mkt_id</th>\n",
       "      <th>mkt_name</th>\n",
       "      <th>cm_id</th>\n",
       "      <th>cm_name</th>\n",
       "      <th>cur_id</th>\n",
       "      <th>cur_name</th>\n",
       "      <th>...</th>\n",
       "      <th>Secondary education, pupils</th>\n",
       "      <th>Rural population (%)</th>\n",
       "      <th>Revenue, excluding grants (% of GDP)</th>\n",
       "      <th>Poverty headcount ratio at national poverty lines (% of population)</th>\n",
       "      <th>Number of under-five deaths</th>\n",
       "      <th>Multidimensional poverty index (scale 0-1)</th>\n",
       "      <th>Mortality rate, infant (per 1,000 live births)</th>\n",
       "      <th>Mortality rate attributed to unsafe water, unsafe sanitation and lack of hygiene (per 100,000 population)</th>\n",
       "      <th>_merge</th>\n",
       "      <th>Price category</th>\n",
       "    </tr>\n",
       "  </thead>\n",
       "  <tbody>\n",
       "    <tr>\n",
       "      <th>0</th>\n",
       "      <td>1.000</td>\n",
       "      <td>Afghanistan</td>\n",
       "      <td>272</td>\n",
       "      <td>Badakhshan</td>\n",
       "      <td>266</td>\n",
       "      <td>Fayzabad</td>\n",
       "      <td>55</td>\n",
       "      <td>Bread - Retail</td>\n",
       "      <td>0.000</td>\n",
       "      <td>AFN</td>\n",
       "      <td>...</td>\n",
       "      <td>2725421.000</td>\n",
       "      <td>74.980</td>\n",
       "      <td>12.678</td>\n",
       "      <td>54.500</td>\n",
       "      <td>79915.000</td>\n",
       "      <td>0.270</td>\n",
       "      <td>51.300</td>\n",
       "      <td>13.900</td>\n",
       "      <td>both</td>\n",
       "      <td>Low price</td>\n",
       "    </tr>\n",
       "    <tr>\n",
       "      <th>1</th>\n",
       "      <td>1.000</td>\n",
       "      <td>Afghanistan</td>\n",
       "      <td>272</td>\n",
       "      <td>Badakhshan</td>\n",
       "      <td>266</td>\n",
       "      <td>Fayzabad</td>\n",
       "      <td>55</td>\n",
       "      <td>Bread - Retail</td>\n",
       "      <td>0.000</td>\n",
       "      <td>AFN</td>\n",
       "      <td>...</td>\n",
       "      <td>2899453.000</td>\n",
       "      <td>74.750</td>\n",
       "      <td>13.039</td>\n",
       "      <td>NaN</td>\n",
       "      <td>77124.000</td>\n",
       "      <td>NaN</td>\n",
       "      <td>49.600</td>\n",
       "      <td>NaN</td>\n",
       "      <td>both</td>\n",
       "      <td>Low price</td>\n",
       "    </tr>\n",
       "    <tr>\n",
       "      <th>2</th>\n",
       "      <td>1.000</td>\n",
       "      <td>Afghanistan</td>\n",
       "      <td>272</td>\n",
       "      <td>Badakhshan</td>\n",
       "      <td>266</td>\n",
       "      <td>Fayzabad</td>\n",
       "      <td>55</td>\n",
       "      <td>Bread - Retail</td>\n",
       "      <td>0.000</td>\n",
       "      <td>AFN</td>\n",
       "      <td>...</td>\n",
       "      <td>3063889.000</td>\n",
       "      <td>74.505</td>\n",
       "      <td>NaN</td>\n",
       "      <td>NaN</td>\n",
       "      <td>74595.000</td>\n",
       "      <td>NaN</td>\n",
       "      <td>48.000</td>\n",
       "      <td>NaN</td>\n",
       "      <td>both</td>\n",
       "      <td>Low price</td>\n",
       "    </tr>\n",
       "    <tr>\n",
       "      <th>3</th>\n",
       "      <td>1.000</td>\n",
       "      <td>Afghanistan</td>\n",
       "      <td>272</td>\n",
       "      <td>Badakhshan</td>\n",
       "      <td>266</td>\n",
       "      <td>Fayzabad</td>\n",
       "      <td>55</td>\n",
       "      <td>Bread - Retail</td>\n",
       "      <td>0.000</td>\n",
       "      <td>AFN</td>\n",
       "      <td>...</td>\n",
       "      <td>NaN</td>\n",
       "      <td>74.246</td>\n",
       "      <td>NaN</td>\n",
       "      <td>NaN</td>\n",
       "      <td>72186.000</td>\n",
       "      <td>NaN</td>\n",
       "      <td>46.500</td>\n",
       "      <td>NaN</td>\n",
       "      <td>both</td>\n",
       "      <td>Low price</td>\n",
       "    </tr>\n",
       "    <tr>\n",
       "      <th>4</th>\n",
       "      <td>1.000</td>\n",
       "      <td>Afghanistan</td>\n",
       "      <td>272</td>\n",
       "      <td>Badakhshan</td>\n",
       "      <td>266</td>\n",
       "      <td>Fayzabad</td>\n",
       "      <td>55</td>\n",
       "      <td>Bread - Retail</td>\n",
       "      <td>0.000</td>\n",
       "      <td>AFN</td>\n",
       "      <td>...</td>\n",
       "      <td>NaN</td>\n",
       "      <td>73.974</td>\n",
       "      <td>NaN</td>\n",
       "      <td>NaN</td>\n",
       "      <td>NaN</td>\n",
       "      <td>NaN</td>\n",
       "      <td>NaN</td>\n",
       "      <td>NaN</td>\n",
       "      <td>both</td>\n",
       "      <td>Low price</td>\n",
       "    </tr>\n",
       "  </tbody>\n",
       "</table>\n",
       "<p>5 rows × 32 columns</p>\n",
       "</div>"
      ],
      "text/plain": [
       "   adm0_id      Country  adm1_id   adm1_name  mkt_id  mkt_name  cm_id  \\\n",
       "0    1.000  Afghanistan      272  Badakhshan     266  Fayzabad     55   \n",
       "1    1.000  Afghanistan      272  Badakhshan     266  Fayzabad     55   \n",
       "2    1.000  Afghanistan      272  Badakhshan     266  Fayzabad     55   \n",
       "3    1.000  Afghanistan      272  Badakhshan     266  Fayzabad     55   \n",
       "4    1.000  Afghanistan      272  Badakhshan     266  Fayzabad     55   \n",
       "\n",
       "          cm_name  cur_id cur_name  ...  Secondary education, pupils  \\\n",
       "0  Bread - Retail   0.000      AFN  ...                  2725421.000   \n",
       "1  Bread - Retail   0.000      AFN  ...                  2899453.000   \n",
       "2  Bread - Retail   0.000      AFN  ...                  3063889.000   \n",
       "3  Bread - Retail   0.000      AFN  ...                          NaN   \n",
       "4  Bread - Retail   0.000      AFN  ...                          NaN   \n",
       "\n",
       "  Rural population (%)  Revenue, excluding grants (% of GDP)  \\\n",
       "0               74.980                                12.678   \n",
       "1               74.750                                13.039   \n",
       "2               74.505                                   NaN   \n",
       "3               74.246                                   NaN   \n",
       "4               73.974                                   NaN   \n",
       "\n",
       "  Poverty headcount ratio at national poverty lines (% of population)   \\\n",
       "0                                             54.500                     \n",
       "1                                                NaN                     \n",
       "2                                                NaN                     \n",
       "3                                                NaN                     \n",
       "4                                                NaN                     \n",
       "\n",
       "   Number of under-five deaths   Multidimensional poverty index (scale 0-1)  \\\n",
       "0                     79915.000                                       0.270   \n",
       "1                     77124.000                                         NaN   \n",
       "2                     74595.000                                         NaN   \n",
       "3                     72186.000                                         NaN   \n",
       "4                           NaN                                         NaN   \n",
       "\n",
       "   Mortality rate, infant (per 1,000 live births)  \\\n",
       "0                                          51.300   \n",
       "1                                          49.600   \n",
       "2                                          48.000   \n",
       "3                                          46.500   \n",
       "4                                             NaN   \n",
       "\n",
       "   Mortality rate attributed to unsafe water, unsafe sanitation and lack of hygiene (per 100,000 population)  \\\n",
       "0                                             13.900                                                           \n",
       "1                                                NaN                                                           \n",
       "2                                                NaN                                                           \n",
       "3                                                NaN                                                           \n",
       "4                                                NaN                                                           \n",
       "\n",
       "   _merge  Price category  \n",
       "0    both       Low price  \n",
       "1    both       Low price  \n",
       "2    both       Low price  \n",
       "3    both       Low price  \n",
       "4    both       Low price  \n",
       "\n",
       "[5 rows x 32 columns]"
      ]
     },
     "execution_count": 8,
     "metadata": {},
     "output_type": "execute_result"
    }
   ],
   "source": [
    "df.head()"
   ]
  },
  {
   "cell_type": "code",
   "execution_count": 9,
   "id": "ff176b1e",
   "metadata": {},
   "outputs": [
    {
     "data": {
      "text/plain": [
       "Index(['adm0_id', 'Country', 'adm1_id', 'adm1_name', 'mkt_id', 'mkt_name',\n",
       "       'cm_id', 'cm_name', 'cur_id', 'cur_name', 'pt_id', 'pt_name', 'um_id',\n",
       "       'um_name', 'mp_month', 'mp_year', 'mp_price', 'mp_commoditysource',\n",
       "       'Time',\n",
       "       'Total alcohol consumption per capita, male (liters of pure alcohol)',\n",
       "       'Taxes on goods and services', 'Tax payments',\n",
       "       'Secondary education, pupils', 'Rural population (%)',\n",
       "       'Revenue, excluding grants (% of GDP)',\n",
       "       'Poverty headcount ratio at national poverty lines (% of population) ',\n",
       "       'Number of under-five deaths ',\n",
       "       'Multidimensional poverty index (scale 0-1)',\n",
       "       'Mortality rate, infant (per 1,000 live births)',\n",
       "       'Mortality rate attributed to unsafe water, unsafe sanitation and lack of hygiene (per 100,000 population)',\n",
       "       '_merge', 'Price category'],\n",
       "      dtype='object')"
      ]
     },
     "execution_count": 9,
     "metadata": {},
     "output_type": "execute_result"
    }
   ],
   "source": [
    "df.columns"
   ]
  },
  {
   "cell_type": "code",
   "execution_count": 10,
   "id": "294aad8c",
   "metadata": {},
   "outputs": [],
   "source": [
    "df2 = df[['Country','Time','mp_price','mp_month','Taxes on goods and services','Revenue, excluding grants (% of GDP)','Mortality rate attributed to unsafe water, unsafe sanitation and lack of hygiene (per 100,000 population)']]"
   ]
  },
  {
   "cell_type": "code",
   "execution_count": 11,
   "id": "7f2185bd",
   "metadata": {},
   "outputs": [
    {
     "name": "stderr",
     "output_type": "stream",
     "text": [
      "C:\\Users\\Marce\\anaconda3\\lib\\site-packages\\pandas\\core\\frame.py:5034: SettingWithCopyWarning: \n",
      "A value is trying to be set on a copy of a slice from a DataFrame\n",
      "\n",
      "See the caveats in the documentation: https://pandas.pydata.org/pandas-docs/stable/user_guide/indexing.html#returning-a-view-versus-a-copy\n",
      "  return super().rename(\n"
     ]
    }
   ],
   "source": [
    "df2.rename(columns={'Taxes on goods and services':'Taxes','Revenue, excluding grants (% of GDP)':'Revenue','Mortality rate attributed to unsafe water, unsafe sanitation and lack of hygiene (per 100,000 population)':'mortality'},inplace=True)"
   ]
  },
  {
   "cell_type": "code",
   "execution_count": 12,
   "id": "7c3739dd",
   "metadata": {},
   "outputs": [
    {
     "data": {
      "text/html": [
       "<div>\n",
       "<style scoped>\n",
       "    .dataframe tbody tr th:only-of-type {\n",
       "        vertical-align: middle;\n",
       "    }\n",
       "\n",
       "    .dataframe tbody tr th {\n",
       "        vertical-align: top;\n",
       "    }\n",
       "\n",
       "    .dataframe thead th {\n",
       "        text-align: right;\n",
       "    }\n",
       "</style>\n",
       "<table border=\"1\" class=\"dataframe\">\n",
       "  <thead>\n",
       "    <tr style=\"text-align: right;\">\n",
       "      <th></th>\n",
       "      <th>Country</th>\n",
       "      <th>Time</th>\n",
       "      <th>mp_price</th>\n",
       "      <th>mp_month</th>\n",
       "      <th>Taxes</th>\n",
       "      <th>Revenue</th>\n",
       "      <th>mortality</th>\n",
       "    </tr>\n",
       "  </thead>\n",
       "  <tbody>\n",
       "    <tr>\n",
       "      <th>0</th>\n",
       "      <td>Afghanistan</td>\n",
       "      <td>2016.000</td>\n",
       "      <td>50.000</td>\n",
       "      <td>1</td>\n",
       "      <td>44737123118.000</td>\n",
       "      <td>12.678</td>\n",
       "      <td>13.900</td>\n",
       "    </tr>\n",
       "    <tr>\n",
       "      <th>1</th>\n",
       "      <td>Afghanistan</td>\n",
       "      <td>2017.000</td>\n",
       "      <td>50.000</td>\n",
       "      <td>1</td>\n",
       "      <td>53188616509.000</td>\n",
       "      <td>13.039</td>\n",
       "      <td>NaN</td>\n",
       "    </tr>\n",
       "    <tr>\n",
       "      <th>2</th>\n",
       "      <td>Afghanistan</td>\n",
       "      <td>2018.000</td>\n",
       "      <td>50.000</td>\n",
       "      <td>1</td>\n",
       "      <td>NaN</td>\n",
       "      <td>NaN</td>\n",
       "      <td>NaN</td>\n",
       "    </tr>\n",
       "    <tr>\n",
       "      <th>3</th>\n",
       "      <td>Afghanistan</td>\n",
       "      <td>2019.000</td>\n",
       "      <td>50.000</td>\n",
       "      <td>1</td>\n",
       "      <td>NaN</td>\n",
       "      <td>NaN</td>\n",
       "      <td>NaN</td>\n",
       "    </tr>\n",
       "    <tr>\n",
       "      <th>4</th>\n",
       "      <td>Afghanistan</td>\n",
       "      <td>2020.000</td>\n",
       "      <td>50.000</td>\n",
       "      <td>1</td>\n",
       "      <td>NaN</td>\n",
       "      <td>NaN</td>\n",
       "      <td>NaN</td>\n",
       "    </tr>\n",
       "  </tbody>\n",
       "</table>\n",
       "</div>"
      ],
      "text/plain": [
       "       Country     Time  mp_price  mp_month           Taxes  Revenue  \\\n",
       "0  Afghanistan 2016.000    50.000         1 44737123118.000   12.678   \n",
       "1  Afghanistan 2017.000    50.000         1 53188616509.000   13.039   \n",
       "2  Afghanistan 2018.000    50.000         1             NaN      NaN   \n",
       "3  Afghanistan 2019.000    50.000         1             NaN      NaN   \n",
       "4  Afghanistan 2020.000    50.000         1             NaN      NaN   \n",
       "\n",
       "   mortality  \n",
       "0     13.900  \n",
       "1        NaN  \n",
       "2        NaN  \n",
       "3        NaN  \n",
       "4        NaN  "
      ]
     },
     "execution_count": 12,
     "metadata": {},
     "output_type": "execute_result"
    }
   ],
   "source": [
    "df2.head()"
   ]
  },
  {
   "cell_type": "code",
   "execution_count": 13,
   "id": "ba447fed",
   "metadata": {},
   "outputs": [
    {
     "data": {
      "text/plain": [
       "(4880275, 7)"
      ]
     },
     "execution_count": 13,
     "metadata": {},
     "output_type": "execute_result"
    }
   ],
   "source": [
    "df2.shape"
   ]
  },
  {
   "cell_type": "code",
   "execution_count": 14,
   "id": "62635199",
   "metadata": {},
   "outputs": [
    {
     "data": {
      "text/html": [
       "<div>\n",
       "<style scoped>\n",
       "    .dataframe tbody tr th:only-of-type {\n",
       "        vertical-align: middle;\n",
       "    }\n",
       "\n",
       "    .dataframe tbody tr th {\n",
       "        vertical-align: top;\n",
       "    }\n",
       "\n",
       "    .dataframe thead th {\n",
       "        text-align: right;\n",
       "    }\n",
       "</style>\n",
       "<table border=\"1\" class=\"dataframe\">\n",
       "  <thead>\n",
       "    <tr style=\"text-align: right;\">\n",
       "      <th></th>\n",
       "      <th>Time</th>\n",
       "      <th>mp_price</th>\n",
       "      <th>mp_month</th>\n",
       "      <th>Taxes</th>\n",
       "      <th>Revenue</th>\n",
       "      <th>mortality</th>\n",
       "    </tr>\n",
       "  </thead>\n",
       "  <tbody>\n",
       "    <tr>\n",
       "      <th>count</th>\n",
       "      <td>4880275.000</td>\n",
       "      <td>4880275.000</td>\n",
       "      <td>4880275.000</td>\n",
       "      <td>2993182.000</td>\n",
       "      <td>2993182.000</td>\n",
       "      <td>976055.000</td>\n",
       "    </tr>\n",
       "    <tr>\n",
       "      <th>mean</th>\n",
       "      <td>2018.000</td>\n",
       "      <td>8405.516</td>\n",
       "      <td>6.367</td>\n",
       "      <td>66239135729629.070</td>\n",
       "      <td>18.201</td>\n",
       "      <td>30.405</td>\n",
       "    </tr>\n",
       "    <tr>\n",
       "      <th>std</th>\n",
       "      <td>1.414</td>\n",
       "      <td>151822.465</td>\n",
       "      <td>3.398</td>\n",
       "      <td>191989574264493.062</td>\n",
       "      <td>6.304</td>\n",
       "      <td>26.037</td>\n",
       "    </tr>\n",
       "    <tr>\n",
       "      <th>min</th>\n",
       "      <td>2016.000</td>\n",
       "      <td>0.013</td>\n",
       "      <td>1.000</td>\n",
       "      <td>24959917.290</td>\n",
       "      <td>0.000</td>\n",
       "      <td>0.100</td>\n",
       "    </tr>\n",
       "    <tr>\n",
       "      <th>25%</th>\n",
       "      <td>2017.000</td>\n",
       "      <td>122.310</td>\n",
       "      <td>3.000</td>\n",
       "      <td>84784811000.000</td>\n",
       "      <td>14.205</td>\n",
       "      <td>7.100</td>\n",
       "    </tr>\n",
       "    <tr>\n",
       "      <th>50%</th>\n",
       "      <td>2018.000</td>\n",
       "      <td>400.000</td>\n",
       "      <td>6.000</td>\n",
       "      <td>615000000000.000</td>\n",
       "      <td>19.195</td>\n",
       "      <td>19.600</td>\n",
       "    </tr>\n",
       "    <tr>\n",
       "      <th>75%</th>\n",
       "      <td>2019.000</td>\n",
       "      <td>2000.000</td>\n",
       "      <td>9.000</td>\n",
       "      <td>2940000000000.000</td>\n",
       "      <td>20.725</td>\n",
       "      <td>45.200</td>\n",
       "    </tr>\n",
       "    <tr>\n",
       "      <th>max</th>\n",
       "      <td>2020.000</td>\n",
       "      <td>21777780.000</td>\n",
       "      <td>12.000</td>\n",
       "      <td>705000000000000.000</td>\n",
       "      <td>42.814</td>\n",
       "      <td>101.000</td>\n",
       "    </tr>\n",
       "  </tbody>\n",
       "</table>\n",
       "</div>"
      ],
      "text/plain": [
       "             Time     mp_price    mp_month               Taxes     Revenue  \\\n",
       "count 4880275.000  4880275.000 4880275.000         2993182.000 2993182.000   \n",
       "mean     2018.000     8405.516       6.367  66239135729629.070      18.201   \n",
       "std         1.414   151822.465       3.398 191989574264493.062       6.304   \n",
       "min      2016.000        0.013       1.000        24959917.290       0.000   \n",
       "25%      2017.000      122.310       3.000     84784811000.000      14.205   \n",
       "50%      2018.000      400.000       6.000    615000000000.000      19.195   \n",
       "75%      2019.000     2000.000       9.000   2940000000000.000      20.725   \n",
       "max      2020.000 21777780.000      12.000 705000000000000.000      42.814   \n",
       "\n",
       "       mortality  \n",
       "count 976055.000  \n",
       "mean      30.405  \n",
       "std       26.037  \n",
       "min        0.100  \n",
       "25%        7.100  \n",
       "50%       19.600  \n",
       "75%       45.200  \n",
       "max      101.000  "
      ]
     },
     "execution_count": 14,
     "metadata": {},
     "output_type": "execute_result"
    }
   ],
   "source": [
    "df2.describe()"
   ]
  },
  {
   "cell_type": "code",
   "execution_count": 15,
   "id": "fa2aab46",
   "metadata": {},
   "outputs": [],
   "source": [
    "df3 = df2[df2['Time'] == 2016]"
   ]
  },
  {
   "cell_type": "code",
   "execution_count": 16,
   "id": "2381bca5",
   "metadata": {},
   "outputs": [
    {
     "data": {
      "text/html": [
       "<div>\n",
       "<style scoped>\n",
       "    .dataframe tbody tr th:only-of-type {\n",
       "        vertical-align: middle;\n",
       "    }\n",
       "\n",
       "    .dataframe tbody tr th {\n",
       "        vertical-align: top;\n",
       "    }\n",
       "\n",
       "    .dataframe thead th {\n",
       "        text-align: right;\n",
       "    }\n",
       "</style>\n",
       "<table border=\"1\" class=\"dataframe\">\n",
       "  <thead>\n",
       "    <tr style=\"text-align: right;\">\n",
       "      <th></th>\n",
       "      <th>Country</th>\n",
       "      <th>Time</th>\n",
       "      <th>mp_price</th>\n",
       "      <th>mp_month</th>\n",
       "      <th>Taxes</th>\n",
       "      <th>Revenue</th>\n",
       "      <th>mortality</th>\n",
       "    </tr>\n",
       "  </thead>\n",
       "  <tbody>\n",
       "    <tr>\n",
       "      <th>0</th>\n",
       "      <td>Afghanistan</td>\n",
       "      <td>2016.000</td>\n",
       "      <td>50.000</td>\n",
       "      <td>1</td>\n",
       "      <td>44737123118.000</td>\n",
       "      <td>12.678</td>\n",
       "      <td>13.900</td>\n",
       "    </tr>\n",
       "    <tr>\n",
       "      <th>5</th>\n",
       "      <td>Afghanistan</td>\n",
       "      <td>2016.000</td>\n",
       "      <td>50.000</td>\n",
       "      <td>2</td>\n",
       "      <td>44737123118.000</td>\n",
       "      <td>12.678</td>\n",
       "      <td>13.900</td>\n",
       "    </tr>\n",
       "    <tr>\n",
       "      <th>10</th>\n",
       "      <td>Afghanistan</td>\n",
       "      <td>2016.000</td>\n",
       "      <td>50.000</td>\n",
       "      <td>3</td>\n",
       "      <td>44737123118.000</td>\n",
       "      <td>12.678</td>\n",
       "      <td>13.900</td>\n",
       "    </tr>\n",
       "    <tr>\n",
       "      <th>15</th>\n",
       "      <td>Afghanistan</td>\n",
       "      <td>2016.000</td>\n",
       "      <td>50.000</td>\n",
       "      <td>4</td>\n",
       "      <td>44737123118.000</td>\n",
       "      <td>12.678</td>\n",
       "      <td>13.900</td>\n",
       "    </tr>\n",
       "    <tr>\n",
       "      <th>20</th>\n",
       "      <td>Afghanistan</td>\n",
       "      <td>2016.000</td>\n",
       "      <td>50.000</td>\n",
       "      <td>5</td>\n",
       "      <td>44737123118.000</td>\n",
       "      <td>12.678</td>\n",
       "      <td>13.900</td>\n",
       "    </tr>\n",
       "  </tbody>\n",
       "</table>\n",
       "</div>"
      ],
      "text/plain": [
       "        Country     Time  mp_price  mp_month           Taxes  Revenue  \\\n",
       "0   Afghanistan 2016.000    50.000         1 44737123118.000   12.678   \n",
       "5   Afghanistan 2016.000    50.000         2 44737123118.000   12.678   \n",
       "10  Afghanistan 2016.000    50.000         3 44737123118.000   12.678   \n",
       "15  Afghanistan 2016.000    50.000         4 44737123118.000   12.678   \n",
       "20  Afghanistan 2016.000    50.000         5 44737123118.000   12.678   \n",
       "\n",
       "    mortality  \n",
       "0      13.900  \n",
       "5      13.900  \n",
       "10     13.900  \n",
       "15     13.900  \n",
       "20     13.900  "
      ]
     },
     "execution_count": 16,
     "metadata": {},
     "output_type": "execute_result"
    }
   ],
   "source": [
    "df3.head()"
   ]
  },
  {
   "cell_type": "code",
   "execution_count": 17,
   "id": "5d244689",
   "metadata": {},
   "outputs": [
    {
     "data": {
      "text/plain": [
       "(976055, 7)"
      ]
     },
     "execution_count": 17,
     "metadata": {},
     "output_type": "execute_result"
    }
   ],
   "source": [
    "df3.shape"
   ]
  },
  {
   "cell_type": "code",
   "execution_count": 18,
   "id": "f38ad9fe",
   "metadata": {},
   "outputs": [
    {
     "data": {
      "text/plain": [
       "Country           0\n",
       "Time              0\n",
       "mp_price          0\n",
       "mp_month          0\n",
       "Taxes        215383\n",
       "Revenue      215383\n",
       "mortality         0\n",
       "dtype: int64"
      ]
     },
     "execution_count": 18,
     "metadata": {},
     "output_type": "execute_result"
    }
   ],
   "source": [
    "df3.isnull().sum()"
   ]
  },
  {
   "cell_type": "code",
   "execution_count": 19,
   "id": "91312c04",
   "metadata": {},
   "outputs": [
    {
     "data": {
      "text/html": [
       "<div>\n",
       "<style scoped>\n",
       "    .dataframe tbody tr th:only-of-type {\n",
       "        vertical-align: middle;\n",
       "    }\n",
       "\n",
       "    .dataframe tbody tr th {\n",
       "        vertical-align: top;\n",
       "    }\n",
       "\n",
       "    .dataframe thead th {\n",
       "        text-align: right;\n",
       "    }\n",
       "</style>\n",
       "<table border=\"1\" class=\"dataframe\">\n",
       "  <thead>\n",
       "    <tr style=\"text-align: right;\">\n",
       "      <th></th>\n",
       "      <th>Time</th>\n",
       "      <th>mp_price</th>\n",
       "      <th>mp_month</th>\n",
       "      <th>Taxes</th>\n",
       "      <th>Revenue</th>\n",
       "      <th>mortality</th>\n",
       "    </tr>\n",
       "  </thead>\n",
       "  <tbody>\n",
       "    <tr>\n",
       "      <th>count</th>\n",
       "      <td>976055.000</td>\n",
       "      <td>976055.000</td>\n",
       "      <td>976055.000</td>\n",
       "      <td>760672.000</td>\n",
       "      <td>760672.000</td>\n",
       "      <td>976055.000</td>\n",
       "    </tr>\n",
       "    <tr>\n",
       "      <th>mean</th>\n",
       "      <td>2016.000</td>\n",
       "      <td>8405.516</td>\n",
       "      <td>6.367</td>\n",
       "      <td>56006979439446.680</td>\n",
       "      <td>18.003</td>\n",
       "      <td>30.405</td>\n",
       "    </tr>\n",
       "    <tr>\n",
       "      <th>std</th>\n",
       "      <td>0.000</td>\n",
       "      <td>151822.527</td>\n",
       "      <td>3.398</td>\n",
       "      <td>162858591997387.281</td>\n",
       "      <td>4.483</td>\n",
       "      <td>26.037</td>\n",
       "    </tr>\n",
       "    <tr>\n",
       "      <th>min</th>\n",
       "      <td>2016.000</td>\n",
       "      <td>0.013</td>\n",
       "      <td>1.000</td>\n",
       "      <td>1652936750.000</td>\n",
       "      <td>9.268</td>\n",
       "      <td>0.100</td>\n",
       "    </tr>\n",
       "    <tr>\n",
       "      <th>25%</th>\n",
       "      <td>2016.000</td>\n",
       "      <td>122.310</td>\n",
       "      <td>3.000</td>\n",
       "      <td>65735587000.000</td>\n",
       "      <td>16.048</td>\n",
       "      <td>7.100</td>\n",
       "    </tr>\n",
       "    <tr>\n",
       "      <th>50%</th>\n",
       "      <td>2016.000</td>\n",
       "      <td>400.000</td>\n",
       "      <td>6.000</td>\n",
       "      <td>517000000000.000</td>\n",
       "      <td>17.720</td>\n",
       "      <td>19.600</td>\n",
       "    </tr>\n",
       "    <tr>\n",
       "      <th>75%</th>\n",
       "      <td>2016.000</td>\n",
       "      <td>2000.000</td>\n",
       "      <td>9.000</td>\n",
       "      <td>3280000000000.000</td>\n",
       "      <td>20.035</td>\n",
       "      <td>45.200</td>\n",
       "    </tr>\n",
       "    <tr>\n",
       "      <th>max</th>\n",
       "      <td>2016.000</td>\n",
       "      <td>21777780.000</td>\n",
       "      <td>12.000</td>\n",
       "      <td>557000000000000.000</td>\n",
       "      <td>34.920</td>\n",
       "      <td>101.000</td>\n",
       "    </tr>\n",
       "  </tbody>\n",
       "</table>\n",
       "</div>"
      ],
      "text/plain": [
       "            Time     mp_price   mp_month               Taxes    Revenue  \\\n",
       "count 976055.000   976055.000 976055.000          760672.000 760672.000   \n",
       "mean    2016.000     8405.516      6.367  56006979439446.680     18.003   \n",
       "std        0.000   151822.527      3.398 162858591997387.281      4.483   \n",
       "min     2016.000        0.013      1.000      1652936750.000      9.268   \n",
       "25%     2016.000      122.310      3.000     65735587000.000     16.048   \n",
       "50%     2016.000      400.000      6.000    517000000000.000     17.720   \n",
       "75%     2016.000     2000.000      9.000   3280000000000.000     20.035   \n",
       "max     2016.000 21777780.000     12.000 557000000000000.000     34.920   \n",
       "\n",
       "       mortality  \n",
       "count 976055.000  \n",
       "mean      30.405  \n",
       "std       26.037  \n",
       "min        0.100  \n",
       "25%        7.100  \n",
       "50%       19.600  \n",
       "75%       45.200  \n",
       "max      101.000  "
      ]
     },
     "execution_count": 19,
     "metadata": {},
     "output_type": "execute_result"
    }
   ],
   "source": [
    "df3.describe()"
   ]
  },
  {
   "cell_type": "code",
   "execution_count": 20,
   "id": "fca5e79d",
   "metadata": {},
   "outputs": [
    {
     "name": "stderr",
     "output_type": "stream",
     "text": [
      "C:\\Users\\Marce\\AppData\\Local\\Temp/ipykernel_14360/3131045010.py:1: FutureWarning: Dropping of nuisance columns in DataFrame reductions (with 'numeric_only=None') is deprecated; in a future version this will raise TypeError.  Select only valid columns before calling the reduction.\n",
      "  df3.median()\n"
     ]
    },
    {
     "data": {
      "text/plain": [
       "Time                2016.000\n",
       "mp_price             400.000\n",
       "mp_month               6.000\n",
       "Taxes       517000000000.000\n",
       "Revenue               17.720\n",
       "mortality             19.600\n",
       "dtype: float64"
      ]
     },
     "execution_count": 20,
     "metadata": {},
     "output_type": "execute_result"
    }
   ],
   "source": [
    "df3.median()"
   ]
  },
  {
   "cell_type": "code",
   "execution_count": 21,
   "id": "23f96a71",
   "metadata": {},
   "outputs": [
    {
     "name": "stderr",
     "output_type": "stream",
     "text": [
      "C:\\Users\\Marce\\anaconda3\\lib\\site-packages\\pandas\\core\\generic.py:6392: SettingWithCopyWarning: \n",
      "A value is trying to be set on a copy of a slice from a DataFrame\n",
      "\n",
      "See the caveats in the documentation: https://pandas.pydata.org/pandas-docs/stable/user_guide/indexing.html#returning-a-view-versus-a-copy\n",
      "  return self._update_inplace(result)\n"
     ]
    }
   ],
   "source": [
    "df3['Taxes'].fillna(df3['Taxes'].median(), inplace = True)\n",
    "df3['Revenue'].fillna(df3['Revenue'].median(), inplace = True)"
   ]
  },
  {
   "cell_type": "code",
   "execution_count": 22,
   "id": "3818db38",
   "metadata": {},
   "outputs": [
    {
     "data": {
      "text/plain": [
       "Country      0\n",
       "Time         0\n",
       "mp_price     0\n",
       "mp_month     0\n",
       "Taxes        0\n",
       "Revenue      0\n",
       "mortality    0\n",
       "dtype: int64"
      ]
     },
     "execution_count": 22,
     "metadata": {},
     "output_type": "execute_result"
    }
   ],
   "source": [
    "df3.isnull().sum()"
   ]
  },
  {
   "cell_type": "code",
   "execution_count": 23,
   "id": "ff58be4a",
   "metadata": {},
   "outputs": [
    {
     "name": "stderr",
     "output_type": "stream",
     "text": [
      "C:\\Users\\Marce\\AppData\\Local\\Temp/ipykernel_14360/2619997228.py:2: SettingWithCopyWarning: \n",
      "A value is trying to be set on a copy of a slice from a DataFrame.\n",
      "Try using .loc[row_indexer,col_indexer] = value instead\n",
      "\n",
      "See the caveats in the documentation: https://pandas.pydata.org/pandas-docs/stable/user_guide/indexing.html#returning-a-view-versus-a-copy\n",
      "  df3[\"Country\"] = le.fit_transform(df3.Country.values)\n"
     ]
    }
   ],
   "source": [
    "le = preprocessing.LabelEncoder()\n",
    "df3[\"Country\"] = le.fit_transform(df3.Country.values)"
   ]
  },
  {
   "cell_type": "markdown",
   "id": "9886b1ef",
   "metadata": {},
   "source": [
    "### 2. The elbow technique"
   ]
  },
  {
   "cell_type": "code",
   "execution_count": 24,
   "id": "637901b2",
   "metadata": {},
   "outputs": [],
   "source": [
    "# define range of potential clusters\n",
    "num_cl = range(1, 5)\n",
    "\n",
    "# define k-means clusters in the range from above\n",
    "kmeans = [KMeans(n_clusters=i) for i in num_cl]"
   ]
  },
  {
   "cell_type": "code",
   "execution_count": 25,
   "id": "173a16e0",
   "metadata": {},
   "outputs": [
    {
     "data": {
      "text/plain": [
       "[-2.0692065841197722e+34,\n",
       " -8.162994814451487e+31,\n",
       " -2.2495364360490063e+30,\n",
       " -3.0464950278963384e+29]"
      ]
     },
     "execution_count": 25,
     "metadata": {},
     "output_type": "execute_result"
    }
   ],
   "source": [
    "# create a score that represents a rate of variation for the given cluster option\n",
    "score = [kmeans[i].fit(df3).score(df3) for i in range(len(kmeans))]\n",
    "\n",
    "score"
   ]
  },
  {
   "cell_type": "code",
   "execution_count": 26,
   "id": "b6d95210",
   "metadata": {},
   "outputs": [
    {
     "data": {
      "image/png": "[encoded data removed]",
      "text/plain": [
       "<Figure size 432x288 with 1 Axes>"
      ]
     },
     "metadata": {
      "needs_background": "light"
     },
     "output_type": "display_data"
    }
   ],
   "source": [
    "# Plot the elbow curve using PyLab\n",
    "\n",
    "pl.plot(num_cl,score)\n",
    "pl.xlabel('number of clusters')\n",
    "pl.ylabel('score')\n",
    "pl.title('elbow curve')\n",
    "pl.plot(num_cl,score)\n",
    "pl.show()"
   ]
  },
  {
   "cell_type": "markdown",
   "id": "94a06a3d",
   "metadata": {},
   "source": [
    "# breakpoint is clearly 2, that's why I chose 2"
   ]
  },
  {
   "cell_type": "markdown",
   "id": "6197533f",
   "metadata": {},
   "source": [
    "### 3. k-means clustering"
   ]
  },
  {
   "cell_type": "code",
   "execution_count": 27,
   "id": "39371169",
   "metadata": {},
   "outputs": [],
   "source": [
    "# Create the k-means object.\n",
    "\n",
    "kmeans = KMeans(n_clusters = 2, n_jobs = -1) "
   ]
  },
  {
   "cell_type": "code",
   "execution_count": 28,
   "id": "c7b88a0e",
   "metadata": {},
   "outputs": [
    {
     "name": "stderr",
     "output_type": "stream",
     "text": [
      "C:\\Users\\Marce\\anaconda3\\lib\\site-packages\\sklearn\\cluster\\_kmeans.py:792: FutureWarning: 'n_jobs' was deprecated in version 0.23 and will be removed in 1.0 (renaming of 0.25).\n",
      "  warnings.warn(\"'n_jobs' was deprecated in version 0.23 and will be\"\n"
     ]
    },
    {
     "data": {
      "text/plain": [
       "KMeans(n_clusters=2, n_jobs=-1)"
      ]
     },
     "execution_count": 28,
     "metadata": {},
     "output_type": "execute_result"
    }
   ],
   "source": [
    "kmeans.fit(df3)"
   ]
  },
  {
   "cell_type": "code",
   "execution_count": 29,
   "id": "c2322a27",
   "metadata": {},
   "outputs": [
    {
     "name": "stderr",
     "output_type": "stream",
     "text": [
      "C:\\Users\\Marce\\anaconda3\\lib\\site-packages\\sklearn\\cluster\\_kmeans.py:792: FutureWarning: 'n_jobs' was deprecated in version 0.23 and will be removed in 1.0 (renaming of 0.25).\n",
      "  warnings.warn(\"'n_jobs' was deprecated in version 0.23 and will be\"\n",
      "C:\\Users\\Marce\\AppData\\Local\\Temp/ipykernel_14360/2121862071.py:1: SettingWithCopyWarning: \n",
      "A value is trying to be set on a copy of a slice from a DataFrame.\n",
      "Try using .loc[row_indexer,col_indexer] = value instead\n",
      "\n",
      "See the caveats in the documentation: https://pandas.pydata.org/pandas-docs/stable/user_guide/indexing.html#returning-a-view-versus-a-copy\n",
      "  df3['clusters'] = kmeans.fit_predict(df3)\n"
     ]
    }
   ],
   "source": [
    "df3['clusters'] = kmeans.fit_predict(df3)"
   ]
  },
  {
   "cell_type": "code",
   "execution_count": 30,
   "id": "2acc950e",
   "metadata": {},
   "outputs": [
    {
     "data": {
      "text/html": [
       "<div>\n",
       "<style scoped>\n",
       "    .dataframe tbody tr th:only-of-type {\n",
       "        vertical-align: middle;\n",
       "    }\n",
       "\n",
       "    .dataframe tbody tr th {\n",
       "        vertical-align: top;\n",
       "    }\n",
       "\n",
       "    .dataframe thead th {\n",
       "        text-align: right;\n",
       "    }\n",
       "</style>\n",
       "<table border=\"1\" class=\"dataframe\">\n",
       "  <thead>\n",
       "    <tr style=\"text-align: right;\">\n",
       "      <th></th>\n",
       "      <th>Country</th>\n",
       "      <th>Time</th>\n",
       "      <th>mp_price</th>\n",
       "      <th>mp_month</th>\n",
       "      <th>Taxes</th>\n",
       "      <th>Revenue</th>\n",
       "      <th>mortality</th>\n",
       "      <th>clusters</th>\n",
       "    </tr>\n",
       "  </thead>\n",
       "  <tbody>\n",
       "    <tr>\n",
       "      <th>0</th>\n",
       "      <td>0</td>\n",
       "      <td>2016.000</td>\n",
       "      <td>50.000</td>\n",
       "      <td>1</td>\n",
       "      <td>44737123118.000</td>\n",
       "      <td>12.678</td>\n",
       "      <td>13.900</td>\n",
       "      <td>0</td>\n",
       "    </tr>\n",
       "    <tr>\n",
       "      <th>5</th>\n",
       "      <td>0</td>\n",
       "      <td>2016.000</td>\n",
       "      <td>50.000</td>\n",
       "      <td>2</td>\n",
       "      <td>44737123118.000</td>\n",
       "      <td>12.678</td>\n",
       "      <td>13.900</td>\n",
       "      <td>0</td>\n",
       "    </tr>\n",
       "    <tr>\n",
       "      <th>10</th>\n",
       "      <td>0</td>\n",
       "      <td>2016.000</td>\n",
       "      <td>50.000</td>\n",
       "      <td>3</td>\n",
       "      <td>44737123118.000</td>\n",
       "      <td>12.678</td>\n",
       "      <td>13.900</td>\n",
       "      <td>0</td>\n",
       "    </tr>\n",
       "    <tr>\n",
       "      <th>15</th>\n",
       "      <td>0</td>\n",
       "      <td>2016.000</td>\n",
       "      <td>50.000</td>\n",
       "      <td>4</td>\n",
       "      <td>44737123118.000</td>\n",
       "      <td>12.678</td>\n",
       "      <td>13.900</td>\n",
       "      <td>0</td>\n",
       "    </tr>\n",
       "    <tr>\n",
       "      <th>20</th>\n",
       "      <td>0</td>\n",
       "      <td>2016.000</td>\n",
       "      <td>50.000</td>\n",
       "      <td>5</td>\n",
       "      <td>44737123118.000</td>\n",
       "      <td>12.678</td>\n",
       "      <td>13.900</td>\n",
       "      <td>0</td>\n",
       "    </tr>\n",
       "  </tbody>\n",
       "</table>\n",
       "</div>"
      ],
      "text/plain": [
       "    Country     Time  mp_price  mp_month           Taxes  Revenue  mortality  \\\n",
       "0         0 2016.000    50.000         1 44737123118.000   12.678     13.900   \n",
       "5         0 2016.000    50.000         2 44737123118.000   12.678     13.900   \n",
       "10        0 2016.000    50.000         3 44737123118.000   12.678     13.900   \n",
       "15        0 2016.000    50.000         4 44737123118.000   12.678     13.900   \n",
       "20        0 2016.000    50.000         5 44737123118.000   12.678     13.900   \n",
       "\n",
       "    clusters  \n",
       "0          0  \n",
       "5          0  \n",
       "10         0  \n",
       "15         0  \n",
       "20         0  "
      ]
     },
     "execution_count": 30,
     "metadata": {},
     "output_type": "execute_result"
    }
   ],
   "source": [
    "df3.head(5)"
   ]
  },
  {
   "cell_type": "code",
   "execution_count": 31,
   "id": "22958ada",
   "metadata": {},
   "outputs": [
    {
     "data": {
      "text/plain": [
       "0    903618\n",
       "1     72437\n",
       "Name: clusters, dtype: int64"
      ]
     },
     "execution_count": 31,
     "metadata": {},
     "output_type": "execute_result"
    }
   ],
   "source": [
    "df3[\"clusters\"].value_counts()"
   ]
  },
  {
   "cell_type": "code",
   "execution_count": 32,
   "id": "70abc12f",
   "metadata": {},
   "outputs": [
    {
     "data": {
      "text/html": [
       "<div>\n",
       "<style scoped>\n",
       "    .dataframe tbody tr th:only-of-type {\n",
       "        vertical-align: middle;\n",
       "    }\n",
       "\n",
       "    .dataframe tbody tr th {\n",
       "        vertical-align: top;\n",
       "    }\n",
       "\n",
       "    .dataframe thead th {\n",
       "        text-align: right;\n",
       "    }\n",
       "</style>\n",
       "<table border=\"1\" class=\"dataframe\">\n",
       "  <thead>\n",
       "    <tr style=\"text-align: right;\">\n",
       "      <th></th>\n",
       "      <th>Country</th>\n",
       "      <th>Time</th>\n",
       "      <th>mp_price</th>\n",
       "      <th>mp_month</th>\n",
       "      <th>Taxes</th>\n",
       "      <th>Revenue</th>\n",
       "      <th>mortality</th>\n",
       "      <th>clusters</th>\n",
       "    </tr>\n",
       "  </thead>\n",
       "  <tbody>\n",
       "    <tr>\n",
       "      <th>count</th>\n",
       "      <td>976055.000</td>\n",
       "      <td>976055.000</td>\n",
       "      <td>976055.000</td>\n",
       "      <td>976055.000</td>\n",
       "      <td>976055.000</td>\n",
       "      <td>976055.000</td>\n",
       "      <td>976055.000</td>\n",
       "      <td>976055.000</td>\n",
       "    </tr>\n",
       "    <tr>\n",
       "      <th>mean</th>\n",
       "      <td>23.783</td>\n",
       "      <td>2016.000</td>\n",
       "      <td>8405.516</td>\n",
       "      <td>6.367</td>\n",
       "      <td>43762179462761.031</td>\n",
       "      <td>17.940</td>\n",
       "      <td>30.405</td>\n",
       "      <td>0.074</td>\n",
       "    </tr>\n",
       "    <tr>\n",
       "      <th>std</th>\n",
       "      <td>11.242</td>\n",
       "      <td>0.000</td>\n",
       "      <td>151822.527</td>\n",
       "      <td>3.398</td>\n",
       "      <td>145601216332045.125</td>\n",
       "      <td>3.959</td>\n",
       "      <td>26.037</td>\n",
       "      <td>0.262</td>\n",
       "    </tr>\n",
       "    <tr>\n",
       "      <th>min</th>\n",
       "      <td>0.000</td>\n",
       "      <td>2016.000</td>\n",
       "      <td>0.013</td>\n",
       "      <td>1.000</td>\n",
       "      <td>1652936750.000</td>\n",
       "      <td>9.268</td>\n",
       "      <td>0.100</td>\n",
       "      <td>0.000</td>\n",
       "    </tr>\n",
       "    <tr>\n",
       "      <th>25%</th>\n",
       "      <td>15.000</td>\n",
       "      <td>2016.000</td>\n",
       "      <td>122.310</td>\n",
       "      <td>3.000</td>\n",
       "      <td>313000000000.000</td>\n",
       "      <td>16.048</td>\n",
       "      <td>7.100</td>\n",
       "      <td>0.000</td>\n",
       "    </tr>\n",
       "    <tr>\n",
       "      <th>50%</th>\n",
       "      <td>25.000</td>\n",
       "      <td>2016.000</td>\n",
       "      <td>400.000</td>\n",
       "      <td>6.000</td>\n",
       "      <td>517000000000.000</td>\n",
       "      <td>17.720</td>\n",
       "      <td>19.600</td>\n",
       "      <td>0.000</td>\n",
       "    </tr>\n",
       "    <tr>\n",
       "      <th>75%</th>\n",
       "      <td>35.000</td>\n",
       "      <td>2016.000</td>\n",
       "      <td>2000.000</td>\n",
       "      <td>9.000</td>\n",
       "      <td>1010000000000.000</td>\n",
       "      <td>20.035</td>\n",
       "      <td>45.200</td>\n",
       "      <td>0.000</td>\n",
       "    </tr>\n",
       "    <tr>\n",
       "      <th>max</th>\n",
       "      <td>42.000</td>\n",
       "      <td>2016.000</td>\n",
       "      <td>21777780.000</td>\n",
       "      <td>12.000</td>\n",
       "      <td>557000000000000.000</td>\n",
       "      <td>34.920</td>\n",
       "      <td>101.000</td>\n",
       "      <td>1.000</td>\n",
       "    </tr>\n",
       "  </tbody>\n",
       "</table>\n",
       "</div>"
      ],
      "text/plain": [
       "         Country       Time     mp_price   mp_month               Taxes  \\\n",
       "count 976055.000 976055.000   976055.000 976055.000          976055.000   \n",
       "mean      23.783   2016.000     8405.516      6.367  43762179462761.031   \n",
       "std       11.242      0.000   151822.527      3.398 145601216332045.125   \n",
       "min        0.000   2016.000        0.013      1.000      1652936750.000   \n",
       "25%       15.000   2016.000      122.310      3.000    313000000000.000   \n",
       "50%       25.000   2016.000      400.000      6.000    517000000000.000   \n",
       "75%       35.000   2016.000     2000.000      9.000   1010000000000.000   \n",
       "max       42.000   2016.000 21777780.000     12.000 557000000000000.000   \n",
       "\n",
       "         Revenue  mortality   clusters  \n",
       "count 976055.000 976055.000 976055.000  \n",
       "mean      17.940     30.405      0.074  \n",
       "std        3.959     26.037      0.262  \n",
       "min        9.268      0.100      0.000  \n",
       "25%       16.048      7.100      0.000  \n",
       "50%       17.720     19.600      0.000  \n",
       "75%       20.035     45.200      0.000  \n",
       "max       34.920    101.000      1.000  "
      ]
     },
     "execution_count": 32,
     "metadata": {},
     "output_type": "execute_result"
    }
   ],
   "source": [
    "df3.describe()"
   ]
  },
  {
   "cell_type": "code",
   "execution_count": 33,
   "id": "fd9d1626",
   "metadata": {},
   "outputs": [
    {
     "data": {
      "text/plain": [
       "Country               25.000\n",
       "Time                2016.000\n",
       "mp_price             400.000\n",
       "mp_month               6.000\n",
       "Taxes       517000000000.000\n",
       "Revenue               17.720\n",
       "mortality             19.600\n",
       "clusters               0.000\n",
       "dtype: float64"
      ]
     },
     "execution_count": 33,
     "metadata": {},
     "output_type": "execute_result"
    }
   ],
   "source": [
    "df3.median()"
   ]
  },
  {
   "cell_type": "code",
   "execution_count": 34,
   "id": "8c8a1847",
   "metadata": {},
   "outputs": [
    {
     "data": {
      "image/png": "[encoded data removed]",
      "text/plain": [
       "<Figure size 864x576 with 1 Axes>"
      ]
     },
     "metadata": {
      "needs_background": "light"
     },
     "output_type": "display_data"
    }
   ],
   "source": [
    "# Plot the clusters\n",
    "\n",
    "plt.figure(figsize=(12,8))\n",
    "ax = sns.scatterplot(x=df3['Country'], y=df3['Revenue'], hue=kmeans.labels_, s=100) \n",
    "# Here, you're subsetting `X` for the x and y arguments to avoid using their labels. \n",
    "# `hue` takes the value of the attribute `kmeans.labels_`, which is the result of running the k-means algorithm.\n",
    "# `s` represents the size of the points you want to see in the plot.\n",
    "\n",
    "ax.grid(False) # This removes the grid from the background.\n",
    "plt.xlabel('Country') # Label x-axis.\n",
    "plt.ylabel('Revenue') # Label y-axis.\n",
    "plt.show()"
   ]
  },
  {
   "cell_type": "code",
   "execution_count": 35,
   "id": "e56300aa",
   "metadata": {},
   "outputs": [
    {
     "data": {
      "image/png": "[encoded data removed]",
      "text/plain": [
       "<Figure size 864x576 with 1 Axes>"
      ]
     },
     "metadata": {
      "needs_background": "light"
     },
     "output_type": "display_data"
    }
   ],
   "source": [
    "# Plot the clusters\n",
    "\n",
    "plt.figure(figsize=(12,8))\n",
    "ax = sns.scatterplot(x=df3['Country'], y=df3['Taxes'], hue=kmeans.labels_, s=100) \n",
    "# Here, you're subsetting `X` for the x and y arguments to avoid using their labels. \n",
    "# `hue` takes the value of the attribute `kmeans.labels_`, which is the result of running the k-means algorithm.\n",
    "# `s` represents the size of the points you want to see in the plot.\n",
    "\n",
    "ax.grid(False) # This removes the grid from the background.\n",
    "plt.xlabel('Country') # Label x-axis.\n",
    "plt.ylabel('Taxes') # Label y-axis.\n",
    "plt.show()"
   ]
  },
  {
   "cell_type": "code",
   "execution_count": 36,
   "id": "ef37892c",
   "metadata": {},
   "outputs": [
    {
     "data": {
      "image/png": "[encoded data removed]",
      "text/plain": [
       "<Figure size 864x576 with 1 Axes>"
      ]
     },
     "metadata": {
      "needs_background": "light"
     },
     "output_type": "display_data"
    }
   ],
   "source": [
    "# Plot the clusters\n",
    "\n",
    "plt.figure(figsize=(12,8))\n",
    "ax = sns.scatterplot(x=df3['Country'], y=df3['mp_price'], hue=kmeans.labels_, s=100)\n",
    "\n",
    "ax.grid(False) \n",
    "plt.xlabel('Country') \n",
    "plt.ylabel('mp_price')\n",
    "plt.savefig('neinman.png')\n",
    "plt.show()"
   ]
  },
  {
   "cell_type": "code",
   "execution_count": 37,
   "id": "a6c00bc3",
   "metadata": {},
   "outputs": [
    {
     "data": {
      "image/png": "[encoded data removed]",
      "text/plain": [
       "<Figure size 864x576 with 1 Axes>"
      ]
     },
     "metadata": {
      "needs_background": "light"
     },
     "output_type": "display_data"
    }
   ],
   "source": [
    "# Plot the clusters\n",
    "\n",
    "plt.figure(figsize=(12,8))\n",
    "ax = sns.scatterplot(x=df3['Country'], y=df3['mortality'], hue=kmeans.labels_, s=100) \n",
    "# Here, you're subsetting `X` for the x and y arguments to avoid using their labels. \n",
    "# `hue` takes the value of the attribute `kmeans.labels_`, which is the result of running the k-means algorithm.\n",
    "# `s` represents the size of the points you want to see in the plot.\n",
    "\n",
    "ax.grid(False) # This removes the grid from the background.\n",
    "plt.xlabel('Country') # Label x-axis.\n",
    "plt.ylabel('mortality') # Label y-axis.\n",
    "plt.show()"
   ]
  },
  {
   "cell_type": "code",
   "execution_count": 38,
   "id": "c44e303d",
   "metadata": {},
   "outputs": [
    {
     "name": "stderr",
     "output_type": "stream",
     "text": [
      "C:\\Users\\Marce\\anaconda3\\lib\\site-packages\\pandas\\core\\indexing.py:1817: SettingWithCopyWarning: \n",
      "A value is trying to be set on a copy of a slice from a DataFrame.\n",
      "Try using .loc[row_indexer,col_indexer] = value instead\n",
      "\n",
      "See the caveats in the documentation: https://pandas.pydata.org/pandas-docs/stable/user_guide/indexing.html#returning-a-view-versus-a-copy\n",
      "  self._setitem_single_column(loc, value, pi)\n"
     ]
    }
   ],
   "source": [
    "df3.loc[df3['clusters'] == 0, 'clusters'] = 'red'\n",
    "df3.loc[df3['clusters'] == 1, 'clusters'] = 'blue'"
   ]
  },
  {
   "cell_type": "code",
   "execution_count": 39,
   "id": "19d529b6",
   "metadata": {},
   "outputs": [
    {
     "data": {
      "text/html": [
       "<div>\n",
       "<style scoped>\n",
       "    .dataframe tbody tr th:only-of-type {\n",
       "        vertical-align: middle;\n",
       "    }\n",
       "\n",
       "    .dataframe tbody tr th {\n",
       "        vertical-align: top;\n",
       "    }\n",
       "\n",
       "    .dataframe thead tr th {\n",
       "        text-align: left;\n",
       "    }\n",
       "\n",
       "    .dataframe thead tr:last-of-type th {\n",
       "        text-align: right;\n",
       "    }\n",
       "</style>\n",
       "<table border=\"1\" class=\"dataframe\">\n",
       "  <thead>\n",
       "    <tr>\n",
       "      <th></th>\n",
       "      <th colspan=\"2\" halign=\"left\">Taxes</th>\n",
       "      <th colspan=\"2\" halign=\"left\">mp_price</th>\n",
       "      <th colspan=\"2\" halign=\"left\">Revenue</th>\n",
       "      <th colspan=\"2\" halign=\"left\">mortality</th>\n",
       "    </tr>\n",
       "    <tr>\n",
       "      <th></th>\n",
       "      <th>mean</th>\n",
       "      <th>median</th>\n",
       "      <th>mean</th>\n",
       "      <th>median</th>\n",
       "      <th>mean</th>\n",
       "      <th>median</th>\n",
       "      <th>mean</th>\n",
       "      <th>median</th>\n",
       "    </tr>\n",
       "    <tr>\n",
       "      <th>clusters</th>\n",
       "      <th></th>\n",
       "      <th></th>\n",
       "      <th></th>\n",
       "      <th></th>\n",
       "      <th></th>\n",
       "      <th></th>\n",
       "      <th></th>\n",
       "      <th></th>\n",
       "    </tr>\n",
       "  </thead>\n",
       "  <tbody>\n",
       "    <tr>\n",
       "      <th>blue</th>\n",
       "      <td>556999999999999.938</td>\n",
       "      <td>557000000000000.000</td>\n",
       "      <td>34460.108</td>\n",
       "      <td>23916.667</td>\n",
       "      <td>12.474</td>\n",
       "      <td>12.474</td>\n",
       "      <td>7.100</td>\n",
       "      <td>7.100</td>\n",
       "    </tr>\n",
       "    <tr>\n",
       "      <th>red</th>\n",
       "      <td>2619342547835.713</td>\n",
       "      <td>517000000000.000</td>\n",
       "      <td>6316.894</td>\n",
       "      <td>348.330</td>\n",
       "      <td>18.379</td>\n",
       "      <td>17.720</td>\n",
       "      <td>32.273</td>\n",
       "      <td>23.900</td>\n",
       "    </tr>\n",
       "  </tbody>\n",
       "</table>\n",
       "</div>"
      ],
      "text/plain": [
       "                       Taxes                      mp_price           Revenue  \\\n",
       "                        mean              median      mean    median    mean   \n",
       "clusters                                                                       \n",
       "blue     556999999999999.938 557000000000000.000 34460.108 23916.667  12.474   \n",
       "red        2619342547835.713    517000000000.000  6316.894   348.330  18.379   \n",
       "\n",
       "                mortality         \n",
       "         median      mean median  \n",
       "clusters                          \n",
       "blue     12.474     7.100  7.100  \n",
       "red      17.720    32.273 23.900  "
      ]
     },
     "execution_count": 39,
     "metadata": {},
     "output_type": "execute_result"
    }
   ],
   "source": [
    "df3.groupby('clusters').agg({'Taxes':['mean', 'median'],\n",
    "                         'mp_price':['mean', 'median'], \n",
    "                         'Revenue':['mean', 'median'],\n",
    "                          'mortality':['mean', 'median'],})"
   ]
  },
  {
   "cell_type": "markdown",
   "id": "e8751a41",
   "metadata": {},
   "source": [
    "###"
   ]
  },
  {
   "cell_type": "markdown",
   "id": "e308bd7a",
   "metadata": {},
   "source": [
    "###"
   ]
  }
 ],
 "metadata": {
  "kernelspec": {
   "display_name": "Python 3 (ipykernel)",
   "language": "python",
   "name": "python3"
  },
  "language_info": {
   "codemirror_mode": {
    "name": "ipython",
    "version": 3
   },
   "file_extension": ".py",
   "mimetype": "text/x-python",
   "name": "python",
   "nbconvert_exporter": "python",
   "pygments_lexer": "ipython3",
   "version": "3.8.11"
  }
 },
 "nbformat": 4,
 "nbformat_minor": 5
}
