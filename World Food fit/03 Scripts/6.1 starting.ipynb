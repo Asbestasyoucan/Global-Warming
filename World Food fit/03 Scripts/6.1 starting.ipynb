{
 "cells": [
  {
   "cell_type": "markdown",
   "id": "173568ab",
   "metadata": {},
   "source": [
    "# 01. Importing Libraries"
   ]
  },
  {
   "cell_type": "code",
   "execution_count": 1,
   "id": "378e2659",
   "metadata": {},
   "outputs": [],
   "source": [
    "import pandas as pd\n",
    "import numpy as np\n",
    "from numpy import nan\n",
    "import os\n",
    "import matplotlib.pyplot as plt\n",
    "import seaborn as sns\n",
    "import scipy\n",
    "import matplotlib"
   ]
  },
  {
   "cell_type": "markdown",
   "id": "f20f4889",
   "metadata": {},
   "source": [
    "# 02. Importing Data"
   ]
  },
  {
   "cell_type": "code",
   "execution_count": 2,
   "id": "17e4cceb",
   "metadata": {},
   "outputs": [],
   "source": [
    "# set path\n",
    "\n",
    "path = r'C:\\Users\\Marce\\careerfoundry\\food'"
   ]
  },
  {
   "cell_type": "code",
   "execution_count": 3,
   "id": "6bc2eeb0",
   "metadata": {},
   "outputs": [],
   "source": [
    "# Import dataframe foods(foodprices.csv)\n",
    "\n",
    "foods = pd.read_csv(os.path.join(path, \"02 Data\",\"Original Data\", \"foodprices.csv\"),dtype={'adm1_name': 'str'})"
   ]
  },
  {
   "cell_type": "code",
   "execution_count": 4,
   "id": "d1900664",
   "metadata": {},
   "outputs": [],
   "source": [
    "# create new dataset to work with\n",
    "\n",
    "df_new = foods"
   ]
  },
  {
   "cell_type": "code",
   "execution_count": 5,
   "id": "ade1e6e5",
   "metadata": {},
   "outputs": [],
   "source": [
    "# don't show \"SettingWithCopyWarning\"\n",
    "\n",
    "pd.options.mode.chained_assignment = None"
   ]
  },
  {
   "cell_type": "code",
   "execution_count": 6,
   "id": "05e96be8",
   "metadata": {},
   "outputs": [],
   "source": [
    "# set max columns to None\n",
    "\n",
    "pd.set_option('display.max_columns', None)"
   ]
  },
  {
   "cell_type": "code",
   "execution_count": 7,
   "id": "ed422997",
   "metadata": {},
   "outputs": [],
   "source": [
    "# display floating numbers with two decimals\n",
    "\n",
    "pd.options.display.float_format = '{:20,.2f}'.format"
   ]
  },
  {
   "cell_type": "markdown",
   "id": "5cdaa8e7",
   "metadata": {},
   "source": [
    "# 03 Consistency checks /// Cleaning"
   ]
  },
  {
   "cell_type": "code",
   "execution_count": 8,
   "id": "6fb40a6a",
   "metadata": {},
   "outputs": [
    {
     "name": "stdout",
     "output_type": "stream",
     "text": [
      "adm1_name\n"
     ]
    }
   ],
   "source": [
    "# checking whether the df_new dataframe contains any mixed-type columns\n",
    "\n",
    "for col in df_new.columns.tolist():\n",
    "  weird = (df_new[[col]].applymap(type) != df_new[[col]].iloc[0].apply(type)).any(axis = 1)\n",
    "  if len (df_new[weird]) > 0:\n",
    "    print (col)"
   ]
  },
  {
   "cell_type": "code",
   "execution_count": 9,
   "id": "7b19636a",
   "metadata": {},
   "outputs": [],
   "source": [
    "# new df with relevant columns\n",
    "\n",
    "df_small = df_new[[\"adm0_name\",\"adm1_name\",\"mkt_name\",\"cm_name\",\"cur_name\",\"pt_name\",\"um_name\", \"mp_month\",\"mp_year\",\"mp_price\"]].copy()"
   ]
  },
  {
   "cell_type": "code",
   "execution_count": 10,
   "id": "db95fb07",
   "metadata": {},
   "outputs": [
    {
     "name": "stdout",
     "output_type": "stream",
     "text": [
      "adm1_name\n"
     ]
    }
   ],
   "source": [
    "# finding mixed-type columns in df_small\n",
    "\n",
    "for col in df_small.columns.tolist():\n",
    "  weird = (df_small[[col]].applymap(type) != df_small[[col]].iloc[0].apply(type)).any(axis = 1)\n",
    "  if len (df_small[weird]) > 0:\n",
    "    print (col)"
   ]
  },
  {
   "cell_type": "code",
   "execution_count": 11,
   "id": "37292742",
   "metadata": {},
   "outputs": [
    {
     "data": {
      "text/plain": [
       "adm0_name         0\n",
       "adm1_name    611016\n",
       "mkt_name          0\n",
       "cm_name           0\n",
       "cur_name          0\n",
       "pt_name           0\n",
       "um_name           0\n",
       "mp_month          0\n",
       "mp_year           0\n",
       "mp_price          0\n",
       "dtype: int64"
      ]
     },
     "execution_count": 11,
     "metadata": {},
     "output_type": "execute_result"
    }
   ],
   "source": [
    "# finding missing values in df_small\n",
    "\n",
    "df_small.isnull().sum()"
   ]
  },
  {
   "cell_type": "code",
   "execution_count": 12,
   "id": "755d1aec",
   "metadata": {},
   "outputs": [],
   "source": [
    "# find duplicates in df_small\n",
    "\n",
    "df_dups = df_small[df_small.duplicated()]"
   ]
  },
  {
   "cell_type": "code",
   "execution_count": 13,
   "id": "02f7ea16",
   "metadata": {},
   "outputs": [
    {
     "data": {
      "text/plain": [
       "(0, 10)"
      ]
     },
     "execution_count": 13,
     "metadata": {},
     "output_type": "execute_result"
    }
   ],
   "source": [
    "# no duplicates\n",
    "\n",
    "df_dups.shape"
   ]
  },
  {
   "cell_type": "code",
   "execution_count": 14,
   "id": "e46be039",
   "metadata": {},
   "outputs": [
    {
     "name": "stdout",
     "output_type": "stream",
     "text": [
      "<class 'pandas.core.frame.DataFrame'>\n",
      "RangeIndex: 2050638 entries, 0 to 2050637\n",
      "Data columns (total 10 columns):\n",
      " #   Column     Dtype  \n",
      "---  ------     -----  \n",
      " 0   adm0_name  object \n",
      " 1   adm1_name  object \n",
      " 2   mkt_name   object \n",
      " 3   cm_name    object \n",
      " 4   cur_name   object \n",
      " 5   pt_name    object \n",
      " 6   um_name    object \n",
      " 7   mp_month   int64  \n",
      " 8   mp_year    int64  \n",
      " 9   mp_price   float64\n",
      "dtypes: float64(1), int64(2), object(7)\n",
      "memory usage: 156.5+ MB\n"
     ]
    }
   ],
   "source": [
    "df_small.info()"
   ]
  },
  {
   "cell_type": "code",
   "execution_count": 15,
   "id": "57e93d18",
   "metadata": {},
   "outputs": [
    {
     "data": {
      "text/plain": [
       "(2050638, 10)"
      ]
     },
     "execution_count": 15,
     "metadata": {},
     "output_type": "execute_result"
    }
   ],
   "source": [
    "df_small.shape"
   ]
  },
  {
   "cell_type": "code",
   "execution_count": 16,
   "id": "d7df2036",
   "metadata": {},
   "outputs": [
    {
     "data": {
      "text/html": [
       "<div>\n",
       "<style scoped>\n",
       "    .dataframe tbody tr th:only-of-type {\n",
       "        vertical-align: middle;\n",
       "    }\n",
       "\n",
       "    .dataframe tbody tr th {\n",
       "        vertical-align: top;\n",
       "    }\n",
       "\n",
       "    .dataframe thead th {\n",
       "        text-align: right;\n",
       "    }\n",
       "</style>\n",
       "<table border=\"1\" class=\"dataframe\">\n",
       "  <thead>\n",
       "    <tr style=\"text-align: right;\">\n",
       "      <th></th>\n",
       "      <th>mp_month</th>\n",
       "      <th>mp_year</th>\n",
       "      <th>mp_price</th>\n",
       "    </tr>\n",
       "  </thead>\n",
       "  <tbody>\n",
       "    <tr>\n",
       "      <th>count</th>\n",
       "      <td>2,050,638.00</td>\n",
       "      <td>2,050,638.00</td>\n",
       "      <td>2,050,638.00</td>\n",
       "    </tr>\n",
       "    <tr>\n",
       "      <th>mean</th>\n",
       "      <td>6.36</td>\n",
       "      <td>2,016.13</td>\n",
       "      <td>6,413.98</td>\n",
       "    </tr>\n",
       "    <tr>\n",
       "      <th>std</th>\n",
       "      <td>3.40</td>\n",
       "      <td>4.46</td>\n",
       "      <td>106,977.23</td>\n",
       "    </tr>\n",
       "    <tr>\n",
       "      <th>min</th>\n",
       "      <td>1.00</td>\n",
       "      <td>1,990.00</td>\n",
       "      <td>0.00</td>\n",
       "    </tr>\n",
       "    <tr>\n",
       "      <th>25%</th>\n",
       "      <td>3.00</td>\n",
       "      <td>2,014.00</td>\n",
       "      <td>45.00</td>\n",
       "    </tr>\n",
       "    <tr>\n",
       "      <th>50%</th>\n",
       "      <td>6.00</td>\n",
       "      <td>2,017.00</td>\n",
       "      <td>246.56</td>\n",
       "    </tr>\n",
       "    <tr>\n",
       "      <th>75%</th>\n",
       "      <td>9.00</td>\n",
       "      <td>2,020.00</td>\n",
       "      <td>1,200.00</td>\n",
       "    </tr>\n",
       "    <tr>\n",
       "      <th>max</th>\n",
       "      <td>12.00</td>\n",
       "      <td>2,021.00</td>\n",
       "      <td>21,777,780.00</td>\n",
       "    </tr>\n",
       "  </tbody>\n",
       "</table>\n",
       "</div>"
      ],
      "text/plain": [
       "                  mp_month              mp_year             mp_price\n",
       "count         2,050,638.00         2,050,638.00         2,050,638.00\n",
       "mean                  6.36             2,016.13             6,413.98\n",
       "std                   3.40                 4.46           106,977.23\n",
       "min                   1.00             1,990.00                 0.00\n",
       "25%                   3.00             2,014.00                45.00\n",
       "50%                   6.00             2,017.00               246.56\n",
       "75%                   9.00             2,020.00             1,200.00\n",
       "max                  12.00             2,021.00        21,777,780.00"
      ]
     },
     "metadata": {},
     "output_type": "display_data"
    }
   ],
   "source": [
    "# basic descriptive statistics\n",
    "\n",
    "display(df_small.describe())"
   ]
  },
  {
   "cell_type": "code",
   "execution_count": 17,
   "id": "7e375cb3",
   "metadata": {},
   "outputs": [
    {
     "data": {
      "text/plain": [
       "adm0_name                    Colombia\n",
       "adm1_name                   Antioquia\n",
       "mkt_name                     Medellin\n",
       "cm_name      Rice (white) - Wholesale\n",
       "cur_name                          COP\n",
       "pt_name                     Wholesale\n",
       "um_name                            MT\n",
       "mp_month                            9\n",
       "mp_year                          2016\n",
       "mp_price                21,777,780.00\n",
       "Name: 419865, dtype: object"
      ]
     },
     "execution_count": 17,
     "metadata": {},
     "output_type": "execute_result"
    }
   ],
   "source": [
    "# high value is in columbian peso (COP) and in megatons (MT), which is 1 million tons, which is 1 billion kilograms\n",
    "# that equals to 0.021 COP per kilogram, which is 0,0000055 USD per kilogram\n",
    "\n",
    "df_small.iloc[df_small['mp_price'].idxmax()]"
   ]
  },
  {
   "cell_type": "code",
   "execution_count": 18,
   "id": "1c840947",
   "metadata": {},
   "outputs": [],
   "source": [
    "# replace missing values with NaN\n",
    "\n",
    "df_small[[\"adm1_name\"]] = df_small[[\"adm1_name\"]].replace(\"\", nan)"
   ]
  },
  {
   "cell_type": "code",
   "execution_count": 19,
   "id": "999425a5",
   "metadata": {},
   "outputs": [],
   "source": [
    "df1 = df_small[df_small.isna().any(axis=1)]"
   ]
  },
  {
   "cell_type": "code",
   "execution_count": 20,
   "id": "0cc6139b",
   "metadata": {},
   "outputs": [
    {
     "name": "stdout",
     "output_type": "stream",
     "text": [
      "         adm0_name adm1_name          mkt_name  \\\n",
      "19482      Armenia       NaN  National Average   \n",
      "19483      Armenia       NaN  National Average   \n",
      "19484      Armenia       NaN  National Average   \n",
      "19485      Armenia       NaN  National Average   \n",
      "19486      Armenia       NaN  National Average   \n",
      "...            ...       ...               ...   \n",
      "1959802  Venezuela       NaN  National Average   \n",
      "1959803  Venezuela       NaN  National Average   \n",
      "1959804  Venezuela       NaN  National Average   \n",
      "1959805  Venezuela       NaN  National Average   \n",
      "1959806  Venezuela       NaN  National Average   \n",
      "\n",
      "                                     cm_name cur_name pt_name  um_name  \\\n",
      "19482                 Fuel (diesel) - Retail      AMD  Retail        L   \n",
      "19483                 Fuel (diesel) - Retail      AMD  Retail        L   \n",
      "19484                 Fuel (diesel) - Retail      AMD  Retail        L   \n",
      "19485                 Fuel (diesel) - Retail      AMD  Retail        L   \n",
      "19486                 Fuel (diesel) - Retail      AMD  Retail        L   \n",
      "...                                      ...      ...     ...      ...   \n",
      "1959802  Exchange rate (unofficial) - Retail      VEF  Retail  USD/LCU   \n",
      "1959803  Exchange rate (unofficial) - Retail      VEF  Retail  USD/LCU   \n",
      "1959804  Exchange rate (unofficial) - Retail      VEF  Retail  USD/LCU   \n",
      "1959805  Exchange rate (unofficial) - Retail      VEF  Retail  USD/LCU   \n",
      "1959806  Exchange rate (unofficial) - Retail      VEF  Retail  USD/LCU   \n",
      "\n",
      "         mp_month  mp_year             mp_price  \n",
      "19482           1     1996               100.00  \n",
      "19483           2     1996               100.00  \n",
      "19484           3     1996               110.00  \n",
      "19485           4     1996               100.00  \n",
      "19486           5     1996               110.00  \n",
      "...           ...      ...                  ...  \n",
      "1959802         3     2019             3,571.32  \n",
      "1959803         4     2019             4,660.78  \n",
      "1959804         5     2019             5,917.69  \n",
      "1959805         6     2019             6,909.20  \n",
      "1959806         7     2019             8,627.91  \n",
      "\n",
      "[611016 rows x 10 columns]\n"
     ]
    }
   ],
   "source": [
    "# check, flagging with NaN worked\n",
    "\n",
    "print(df1)"
   ]
  },
  {
   "cell_type": "code",
   "execution_count": 21,
   "id": "b8369e27",
   "metadata": {},
   "outputs": [
    {
     "data": {
      "text/html": [
       "<div>\n",
       "<style scoped>\n",
       "    .dataframe tbody tr th:only-of-type {\n",
       "        vertical-align: middle;\n",
       "    }\n",
       "\n",
       "    .dataframe tbody tr th {\n",
       "        vertical-align: top;\n",
       "    }\n",
       "\n",
       "    .dataframe thead th {\n",
       "        text-align: right;\n",
       "    }\n",
       "</style>\n",
       "<table border=\"1\" class=\"dataframe\">\n",
       "  <thead>\n",
       "    <tr style=\"text-align: right;\">\n",
       "      <th></th>\n",
       "      <th>mp_month</th>\n",
       "      <th>mp_year</th>\n",
       "      <th>mp_price</th>\n",
       "    </tr>\n",
       "  </thead>\n",
       "  <tbody>\n",
       "    <tr>\n",
       "      <th>mp_month</th>\n",
       "      <td>1.00</td>\n",
       "      <td>-0.08</td>\n",
       "      <td>-0.00</td>\n",
       "    </tr>\n",
       "    <tr>\n",
       "      <th>mp_year</th>\n",
       "      <td>-0.08</td>\n",
       "      <td>1.00</td>\n",
       "      <td>0.00</td>\n",
       "    </tr>\n",
       "    <tr>\n",
       "      <th>mp_price</th>\n",
       "      <td>-0.00</td>\n",
       "      <td>0.00</td>\n",
       "      <td>1.00</td>\n",
       "    </tr>\n",
       "  </tbody>\n",
       "</table>\n",
       "</div>"
      ],
      "text/plain": [
       "                     mp_month              mp_year             mp_price\n",
       "mp_month                 1.00                -0.08                -0.00\n",
       "mp_year                 -0.08                 1.00                 0.00\n",
       "mp_price                -0.00                 0.00                 1.00"
      ]
     },
     "execution_count": 21,
     "metadata": {},
     "output_type": "execute_result"
    }
   ],
   "source": [
    "# no correlation between the numeric variables\n",
    "\n",
    "df_small.corr()"
   ]
  },
  {
   "cell_type": "markdown",
   "id": "4046fbdc",
   "metadata": {},
   "source": [
    "# Exporting dataframe df_small"
   ]
  },
  {
   "cell_type": "code",
   "execution_count": 22,
   "id": "06a31e30",
   "metadata": {},
   "outputs": [],
   "source": [
    "df_small.to_pickle(os.path.join(path, \"02 Data\",\"Prepared Data\", \"cleaned.pkl\"))"
   ]
  },
  {
   "cell_type": "code",
   "execution_count": 23,
   "id": "1e203df9",
   "metadata": {},
   "outputs": [],
   "source": [
    "df_small.to_csv(os.path.join(path, \"02 Data\",\"Prepared Data\", \"cleaned.csv\"))"
   ]
  },
  {
   "cell_type": "code",
   "execution_count": null,
   "id": "7f03085d",
   "metadata": {},
   "outputs": [],
   "source": []
  }
 ],
 "metadata": {
  "kernelspec": {
   "display_name": "Python 3 (ipykernel)",
   "language": "python",
   "name": "python3"
  },
  "language_info": {
   "codemirror_mode": {
    "name": "ipython",
    "version": 3
   },
   "file_extension": ".py",
   "mimetype": "text/x-python",
   "name": "python",
   "nbconvert_exporter": "python",
   "pygments_lexer": "ipython3",
   "version": "3.8.11"
  }
 },
 "nbformat": 4,
 "nbformat_minor": 5
}
