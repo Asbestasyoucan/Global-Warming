{
 "cells": [
  {
   "cell_type": "markdown",
   "id": "d8aa3cc4",
   "metadata": {},
   "source": [
    "# 1. Importing libraries and data"
   ]
  },
  {
   "cell_type": "code",
   "execution_count": 1,
   "id": "39103806",
   "metadata": {},
   "outputs": [],
   "source": [
    "import pandas as pd\n",
    "import numpy as np\n",
    "import seaborn as sns\n",
    "import matplotlib\n",
    "import matplotlib.pyplot as plt\n",
    "import os\n",
    "import sklearn\n",
    "from sklearn.model_selection import train_test_split \n",
    "from sklearn.linear_model import LinearRegression\n",
    "from sklearn.metrics import mean_squared_error, r2_score"
   ]
  },
  {
   "cell_type": "code",
   "execution_count": 2,
   "id": "e10cbed7",
   "metadata": {},
   "outputs": [],
   "source": [
    "# This option ensures that the graphs created are displayed within the notebook without the need to \"call\" them specifically\n",
    "\n",
    "%matplotlib inline"
   ]
  },
  {
   "cell_type": "code",
   "execution_count": 3,
   "id": "9efad617",
   "metadata": {},
   "outputs": [],
   "source": [
    "path = 'C:\\\\Users\\\\Marce\\\\careerfoundry\\\\World Food'"
   ]
  },
  {
   "cell_type": "code",
   "execution_count": 4,
   "id": "c8522f8e",
   "metadata": {},
   "outputs": [],
   "source": [
    "df = pd.read_csv(os.path.join(path, '02 Data', 'Prepared Data', 'currencyrdy.csv'))"
   ]
  },
  {
   "cell_type": "code",
   "execution_count": 5,
   "id": "f62a09d1",
   "metadata": {},
   "outputs": [
    {
     "data": {
      "text/plain": [
       "Index(['Country', 'Product/Category', 'Month', 'Year', 'PriceUSD'], dtype='object')"
      ]
     },
     "execution_count": 5,
     "metadata": {},
     "output_type": "execute_result"
    }
   ],
   "source": [
    "df.columns"
   ]
  },
  {
   "cell_type": "code",
   "execution_count": 6,
   "id": "7e0bb6db",
   "metadata": {},
   "outputs": [
    {
     "data": {
      "text/html": [
       "<div>\n",
       "<style scoped>\n",
       "    .dataframe tbody tr th:only-of-type {\n",
       "        vertical-align: middle;\n",
       "    }\n",
       "\n",
       "    .dataframe tbody tr th {\n",
       "        vertical-align: top;\n",
       "    }\n",
       "\n",
       "    .dataframe thead th {\n",
       "        text-align: right;\n",
       "    }\n",
       "</style>\n",
       "<table border=\"1\" class=\"dataframe\">\n",
       "  <thead>\n",
       "    <tr style=\"text-align: right;\">\n",
       "      <th></th>\n",
       "      <th>Country</th>\n",
       "      <th>Product/Category</th>\n",
       "      <th>Month</th>\n",
       "      <th>Year</th>\n",
       "      <th>PriceUSD</th>\n",
       "    </tr>\n",
       "  </thead>\n",
       "  <tbody>\n",
       "    <tr>\n",
       "      <th>0</th>\n",
       "      <td>Afghanistan</td>\n",
       "      <td>Bread - Retail</td>\n",
       "      <td>Jan</td>\n",
       "      <td>2000</td>\n",
       "      <td>0.1777</td>\n",
       "    </tr>\n",
       "    <tr>\n",
       "      <th>1</th>\n",
       "      <td>Afghanistan</td>\n",
       "      <td>Bread - Retail</td>\n",
       "      <td>Jan</td>\n",
       "      <td>2001</td>\n",
       "      <td>0.2078</td>\n",
       "    </tr>\n",
       "    <tr>\n",
       "      <th>2</th>\n",
       "      <td>Afghanistan</td>\n",
       "      <td>Bread - Retail</td>\n",
       "      <td>Jan</td>\n",
       "      <td>2002</td>\n",
       "      <td>0.1060</td>\n",
       "    </tr>\n",
       "    <tr>\n",
       "      <th>3</th>\n",
       "      <td>Afghanistan</td>\n",
       "      <td>Bread - Retail</td>\n",
       "      <td>Jan</td>\n",
       "      <td>2003</td>\n",
       "      <td>0.1515</td>\n",
       "    </tr>\n",
       "    <tr>\n",
       "      <th>4</th>\n",
       "      <td>Afghanistan</td>\n",
       "      <td>Bread - Retail</td>\n",
       "      <td>Jan</td>\n",
       "      <td>2004</td>\n",
       "      <td>0.1751</td>\n",
       "    </tr>\n",
       "  </tbody>\n",
       "</table>\n",
       "</div>"
      ],
      "text/plain": [
       "       Country Product/Category Month  Year  PriceUSD\n",
       "0  Afghanistan   Bread - Retail   Jan  2000    0.1777\n",
       "1  Afghanistan   Bread - Retail   Jan  2001    0.2078\n",
       "2  Afghanistan   Bread - Retail   Jan  2002    0.1060\n",
       "3  Afghanistan   Bread - Retail   Jan  2003    0.1515\n",
       "4  Afghanistan   Bread - Retail   Jan  2004    0.1751"
      ]
     },
     "execution_count": 6,
     "metadata": {},
     "output_type": "execute_result"
    }
   ],
   "source": [
    "df.head(5)"
   ]
  },
  {
   "cell_type": "code",
   "execution_count": 7,
   "id": "26845a45",
   "metadata": {},
   "outputs": [
    {
     "data": {
      "text/plain": [
       "(107076, 5)"
      ]
     },
     "execution_count": 7,
     "metadata": {},
     "output_type": "execute_result"
    }
   ],
   "source": [
    "df.shape"
   ]
  },
  {
   "cell_type": "code",
   "execution_count": 8,
   "id": "ec638a6d",
   "metadata": {},
   "outputs": [
    {
     "data": {
      "text/plain": [
       "Country                0\n",
       "Product/Category       0\n",
       "Month                  0\n",
       "Year                   0\n",
       "PriceUSD            5316\n",
       "dtype: int64"
      ]
     },
     "execution_count": 8,
     "metadata": {},
     "output_type": "execute_result"
    }
   ],
   "source": [
    "df.isnull().sum()"
   ]
  },
  {
   "cell_type": "code",
   "execution_count": 9,
   "id": "ec80aa44",
   "metadata": {},
   "outputs": [],
   "source": [
    "df['PriceUSD'].fillna(df['PriceUSD'].median(),inplace=True)"
   ]
  },
  {
   "cell_type": "code",
   "execution_count": 10,
   "id": "d5f44ce9",
   "metadata": {},
   "outputs": [
    {
     "data": {
      "text/plain": [
       "Country             0\n",
       "Product/Category    0\n",
       "Month               0\n",
       "Year                0\n",
       "PriceUSD            0\n",
       "dtype: int64"
      ]
     },
     "execution_count": 10,
     "metadata": {},
     "output_type": "execute_result"
    }
   ],
   "source": [
    "df.isnull().sum()"
   ]
  },
  {
   "cell_type": "code",
   "execution_count": 11,
   "id": "e1de67be",
   "metadata": {},
   "outputs": [
    {
     "data": {
      "text/plain": [
       "(107076, 5)"
      ]
     },
     "execution_count": 11,
     "metadata": {},
     "output_type": "execute_result"
    }
   ],
   "source": [
    "df.shape"
   ]
  },
  {
   "cell_type": "code",
   "execution_count": 12,
   "id": "838ae31d",
   "metadata": {},
   "outputs": [
    {
     "data": {
      "text/plain": [
       "2113.5317"
      ]
     },
     "execution_count": 12,
     "metadata": {},
     "output_type": "execute_result"
    }
   ],
   "source": [
    "df[\"PriceUSD\"].max()"
   ]
  },
  {
   "cell_type": "code",
   "execution_count": 13,
   "id": "e41ff2d6",
   "metadata": {},
   "outputs": [
    {
     "data": {
      "text/html": [
       "<div>\n",
       "<style scoped>\n",
       "    .dataframe tbody tr th:only-of-type {\n",
       "        vertical-align: middle;\n",
       "    }\n",
       "\n",
       "    .dataframe tbody tr th {\n",
       "        vertical-align: top;\n",
       "    }\n",
       "\n",
       "    .dataframe thead th {\n",
       "        text-align: right;\n",
       "    }\n",
       "</style>\n",
       "<table border=\"1\" class=\"dataframe\">\n",
       "  <thead>\n",
       "    <tr style=\"text-align: right;\">\n",
       "      <th></th>\n",
       "      <th>Year</th>\n",
       "      <th>PriceUSD</th>\n",
       "    </tr>\n",
       "  </thead>\n",
       "  <tbody>\n",
       "    <tr>\n",
       "      <th>count</th>\n",
       "      <td>107076.000000</td>\n",
       "      <td>107076.000000</td>\n",
       "    </tr>\n",
       "    <tr>\n",
       "      <th>mean</th>\n",
       "      <td>2014.575432</td>\n",
       "      <td>7.065974</td>\n",
       "    </tr>\n",
       "    <tr>\n",
       "      <th>std</th>\n",
       "      <td>4.773755</td>\n",
       "      <td>33.536695</td>\n",
       "    </tr>\n",
       "    <tr>\n",
       "      <th>min</th>\n",
       "      <td>1992.000000</td>\n",
       "      <td>0.000000</td>\n",
       "    </tr>\n",
       "    <tr>\n",
       "      <th>25%</th>\n",
       "      <td>2011.000000</td>\n",
       "      <td>0.458175</td>\n",
       "    </tr>\n",
       "    <tr>\n",
       "      <th>50%</th>\n",
       "      <td>2015.000000</td>\n",
       "      <td>0.891700</td>\n",
       "    </tr>\n",
       "    <tr>\n",
       "      <th>75%</th>\n",
       "      <td>2019.000000</td>\n",
       "      <td>2.534950</td>\n",
       "    </tr>\n",
       "    <tr>\n",
       "      <th>max</th>\n",
       "      <td>2021.000000</td>\n",
       "      <td>2113.531700</td>\n",
       "    </tr>\n",
       "  </tbody>\n",
       "</table>\n",
       "</div>"
      ],
      "text/plain": [
       "                Year       PriceUSD\n",
       "count  107076.000000  107076.000000\n",
       "mean     2014.575432       7.065974\n",
       "std         4.773755      33.536695\n",
       "min      1992.000000       0.000000\n",
       "25%      2011.000000       0.458175\n",
       "50%      2015.000000       0.891700\n",
       "75%      2019.000000       2.534950\n",
       "max      2021.000000    2113.531700"
      ]
     },
     "execution_count": 13,
     "metadata": {},
     "output_type": "execute_result"
    }
   ],
   "source": [
    "df.describe()"
   ]
  },
  {
   "cell_type": "code",
   "execution_count": 14,
   "id": "dea30d7d",
   "metadata": {},
   "outputs": [],
   "source": [
    "dups = df.duplicated()"
   ]
  },
  {
   "cell_type": "code",
   "execution_count": 15,
   "id": "695f89b3",
   "metadata": {},
   "outputs": [
    {
     "data": {
      "text/plain": [
       "(107076,)"
      ]
     },
     "execution_count": 15,
     "metadata": {},
     "output_type": "execute_result"
    }
   ],
   "source": [
    "# no dups\n",
    "\n",
    "dups.shape"
   ]
  },
  {
   "cell_type": "code",
   "execution_count": 16,
   "id": "dc840716",
   "metadata": {},
   "outputs": [
    {
     "data": {
      "text/plain": [
       "Wheat flour - Retail                  3272\n",
       "Sugar - Retail                        2418\n",
       "Rice - Retail                         1933\n",
       "Potatoes - Retail                     1805\n",
       "Maize - Retail                        1731\n",
       "                                      ... \n",
       "Beans (haricot, white) - Wholesale       1\n",
       "Beans (haricot, red) - Wholesale         1\n",
       "Transport (public, bus) - Retail         1\n",
       "Transport (public, moto) - Retail        1\n",
       "Kocho - Retail                           1\n",
       "Name: Product/Category, Length: 608, dtype: int64"
      ]
     },
     "execution_count": 16,
     "metadata": {},
     "output_type": "execute_result"
    }
   ],
   "source": [
    "df['Product/Category'].value_counts()"
   ]
  },
  {
   "cell_type": "code",
   "execution_count": 17,
   "id": "39383ec4",
   "metadata": {},
   "outputs": [],
   "source": [
    "df2 = df[df['Product/Category'].isin(['Wheat flour - Retail','Sugar - Retail','Rice - Retail'])]"
   ]
  },
  {
   "cell_type": "code",
   "execution_count": 18,
   "id": "fadf96dc",
   "metadata": {},
   "outputs": [
    {
     "data": {
      "text/plain": [
       "Country             0\n",
       "Product/Category    0\n",
       "Month               0\n",
       "Year                0\n",
       "PriceUSD            0\n",
       "dtype: int64"
      ]
     },
     "execution_count": 18,
     "metadata": {},
     "output_type": "execute_result"
    }
   ],
   "source": [
    "df2.isnull().sum()"
   ]
  },
  {
   "cell_type": "code",
   "execution_count": 19,
   "id": "5f9e80c5",
   "metadata": {},
   "outputs": [
    {
     "data": {
      "text/plain": [
       "(7623, 5)"
      ]
     },
     "execution_count": 19,
     "metadata": {},
     "output_type": "execute_result"
    }
   ],
   "source": [
    "df2.shape"
   ]
  },
  {
   "cell_type": "code",
   "execution_count": 20,
   "id": "63972522",
   "metadata": {},
   "outputs": [
    {
     "data": {
      "text/html": [
       "<div>\n",
       "<style scoped>\n",
       "    .dataframe tbody tr th:only-of-type {\n",
       "        vertical-align: middle;\n",
       "    }\n",
       "\n",
       "    .dataframe tbody tr th {\n",
       "        vertical-align: top;\n",
       "    }\n",
       "\n",
       "    .dataframe thead th {\n",
       "        text-align: right;\n",
       "    }\n",
       "</style>\n",
       "<table border=\"1\" class=\"dataframe\">\n",
       "  <thead>\n",
       "    <tr style=\"text-align: right;\">\n",
       "      <th></th>\n",
       "      <th>Country</th>\n",
       "      <th>Product/Category</th>\n",
       "      <th>Month</th>\n",
       "      <th>Year</th>\n",
       "      <th>PriceUSD</th>\n",
       "    </tr>\n",
       "  </thead>\n",
       "  <tbody>\n",
       "    <tr>\n",
       "      <th>718</th>\n",
       "      <td>Afghanistan</td>\n",
       "      <td>Sugar - Retail</td>\n",
       "      <td>Jan</td>\n",
       "      <td>2021</td>\n",
       "      <td>0.5885</td>\n",
       "    </tr>\n",
       "    <tr>\n",
       "      <th>719</th>\n",
       "      <td>Afghanistan</td>\n",
       "      <td>Sugar - Retail</td>\n",
       "      <td>Feb</td>\n",
       "      <td>2021</td>\n",
       "      <td>0.5871</td>\n",
       "    </tr>\n",
       "    <tr>\n",
       "      <th>720</th>\n",
       "      <td>Afghanistan</td>\n",
       "      <td>Sugar - Retail</td>\n",
       "      <td>Mar</td>\n",
       "      <td>2021</td>\n",
       "      <td>0.5834</td>\n",
       "    </tr>\n",
       "    <tr>\n",
       "      <th>721</th>\n",
       "      <td>Afghanistan</td>\n",
       "      <td>Sugar - Retail</td>\n",
       "      <td>Apr</td>\n",
       "      <td>2021</td>\n",
       "      <td>0.5852</td>\n",
       "    </tr>\n",
       "    <tr>\n",
       "      <th>722</th>\n",
       "      <td>Afghanistan</td>\n",
       "      <td>Sugar - Retail</td>\n",
       "      <td>May</td>\n",
       "      <td>2020</td>\n",
       "      <td>0.5691</td>\n",
       "    </tr>\n",
       "    <tr>\n",
       "      <th>723</th>\n",
       "      <td>Afghanistan</td>\n",
       "      <td>Sugar - Retail</td>\n",
       "      <td>May</td>\n",
       "      <td>2021</td>\n",
       "      <td>0.5899</td>\n",
       "    </tr>\n",
       "    <tr>\n",
       "      <th>724</th>\n",
       "      <td>Afghanistan</td>\n",
       "      <td>Sugar - Retail</td>\n",
       "      <td>Jun</td>\n",
       "      <td>2020</td>\n",
       "      <td>0.5852</td>\n",
       "    </tr>\n",
       "    <tr>\n",
       "      <th>725</th>\n",
       "      <td>Afghanistan</td>\n",
       "      <td>Sugar - Retail</td>\n",
       "      <td>Jun</td>\n",
       "      <td>2021</td>\n",
       "      <td>0.5890</td>\n",
       "    </tr>\n",
       "    <tr>\n",
       "      <th>726</th>\n",
       "      <td>Afghanistan</td>\n",
       "      <td>Sugar - Retail</td>\n",
       "      <td>Jul</td>\n",
       "      <td>2020</td>\n",
       "      <td>0.5900</td>\n",
       "    </tr>\n",
       "    <tr>\n",
       "      <th>727</th>\n",
       "      <td>Afghanistan</td>\n",
       "      <td>Sugar - Retail</td>\n",
       "      <td>Jul</td>\n",
       "      <td>2021</td>\n",
       "      <td>0.6060</td>\n",
       "    </tr>\n",
       "  </tbody>\n",
       "</table>\n",
       "</div>"
      ],
      "text/plain": [
       "         Country Product/Category Month  Year  PriceUSD\n",
       "718  Afghanistan   Sugar - Retail   Jan  2021    0.5885\n",
       "719  Afghanistan   Sugar - Retail   Feb  2021    0.5871\n",
       "720  Afghanistan   Sugar - Retail   Mar  2021    0.5834\n",
       "721  Afghanistan   Sugar - Retail   Apr  2021    0.5852\n",
       "722  Afghanistan   Sugar - Retail   May  2020    0.5691\n",
       "723  Afghanistan   Sugar - Retail   May  2021    0.5899\n",
       "724  Afghanistan   Sugar - Retail   Jun  2020    0.5852\n",
       "725  Afghanistan   Sugar - Retail   Jun  2021    0.5890\n",
       "726  Afghanistan   Sugar - Retail   Jul  2020    0.5900\n",
       "727  Afghanistan   Sugar - Retail   Jul  2021    0.6060"
      ]
     },
     "execution_count": 20,
     "metadata": {},
     "output_type": "execute_result"
    }
   ],
   "source": [
    "df2.head(10)"
   ]
  },
  {
   "cell_type": "code",
   "execution_count": 21,
   "id": "681c50ab",
   "metadata": {},
   "outputs": [
    {
     "data": {
      "image/png": "[encoded data removed]",
      "text/plain": [
       "<Figure size 432x288 with 1 Axes>"
      ]
     },
     "metadata": {
      "needs_background": "light"
     },
     "output_type": "display_data"
    }
   ],
   "source": [
    "df2.plot (x=\"Month\", y=\"PriceUSD\", style=\"o\")\n",
    "plt.title(\"Prices per month\")\n",
    "plt.xlabel(\"Month\")\n",
    "plt.ylabel(\"Prices\")\n",
    "plt.show()"
   ]
  },
  {
   "cell_type": "code",
   "execution_count": 22,
   "id": "ba480de6",
   "metadata": {},
   "outputs": [
    {
     "data": {
      "image/png": "[encoded data removed]",
      "text/plain": [
       "<Figure size 432x288 with 1 Axes>"
      ]
     },
     "metadata": {
      "needs_background": "light"
     },
     "output_type": "display_data"
    }
   ],
   "source": [
    "sns.lineplot(x=df2['Month'],y=df2['PriceUSD'], ci=None)\n",
    "plt.savefig('sugfloric.png',dpi=200)\n",
    "plt.show()"
   ]
  },
  {
   "cell_type": "code",
   "execution_count": 23,
   "id": "a0340aa0",
   "metadata": {},
   "outputs": [
    {
     "data": {
      "image/png": "[encoded data removed]",
      "text/plain": [
       "<Figure size 432x288 with 1 Axes>"
      ]
     },
     "metadata": {
      "needs_background": "light"
     },
     "output_type": "display_data"
    }
   ],
   "source": [
    "sns.lineplot(x=df2['Year'],y=df2['PriceUSD'], ci=None)\n",
    "plt.show()"
   ]
  },
  {
   "cell_type": "markdown",
   "id": "b02c4cd1",
   "metadata": {},
   "source": [
    "# Hypothesis = Prices change seasonally"
   ]
  },
  {
   "cell_type": "code",
   "execution_count": 24,
   "id": "cbff7fec",
   "metadata": {},
   "outputs": [],
   "source": [
    "d={\n",
    "'Jan':1,\n",
    "'Feb':2,\n",
    "'Mar':3,\n",
    "'Apr':4,\n",
    "'May':5,\n",
    "'Jun':6,\n",
    "'Jul':7,\n",
    "'Aug':8,\n",
    "'Sep':9,\n",
    "'Oct':10,\n",
    "'Nov':11,\n",
    "'Dec':12\n",
    "}\n"
   ]
  },
  {
   "cell_type": "code",
   "execution_count": 25,
   "id": "b0397748",
   "metadata": {},
   "outputs": [
    {
     "name": "stderr",
     "output_type": "stream",
     "text": [
      "C:\\Users\\Marce\\anaconda3\\lib\\site-packages\\pandas\\core\\generic.py:5516: SettingWithCopyWarning: \n",
      "A value is trying to be set on a copy of a slice from a DataFrame.\n",
      "Try using .loc[row_indexer,col_indexer] = value instead\n",
      "\n",
      "See the caveats in the documentation: https://pandas.pydata.org/pandas-docs/stable/user_guide/indexing.html#returning-a-view-versus-a-copy\n",
      "  self[name] = value\n"
     ]
    }
   ],
   "source": [
    "df2.Month = df2.Month.map(d)"
   ]
  },
  {
   "cell_type": "code",
   "execution_count": 26,
   "id": "e2ba6699",
   "metadata": {},
   "outputs": [],
   "source": [
    "# Reshape the variables into NumPy arrays and put them into separate objects.\n",
    "\n",
    "X = df2['Month'].values.reshape(-1,1)\n",
    "y = df2['PriceUSD'].values.reshape(-1,1)"
   ]
  },
  {
   "cell_type": "code",
   "execution_count": 27,
   "id": "260c3afe",
   "metadata": {},
   "outputs": [
    {
     "data": {
      "text/plain": [
       "array([[ 1],\n",
       "       [ 2],\n",
       "       [ 3],\n",
       "       ...,\n",
       "       [10],\n",
       "       [11],\n",
       "       [12]], dtype=int64)"
      ]
     },
     "execution_count": 27,
     "metadata": {},
     "output_type": "execute_result"
    }
   ],
   "source": [
    "X"
   ]
  },
  {
   "cell_type": "code",
   "execution_count": 28,
   "id": "4d2eb09e",
   "metadata": {},
   "outputs": [
    {
     "data": {
      "text/plain": [
       "array([[0.5885],\n",
       "       [0.5871],\n",
       "       [0.5834],\n",
       "       ...,\n",
       "       [0.7934],\n",
       "       [0.7817],\n",
       "       [0.7834]])"
      ]
     },
     "execution_count": 28,
     "metadata": {},
     "output_type": "execute_result"
    }
   ],
   "source": [
    "y"
   ]
  },
  {
   "cell_type": "code",
   "execution_count": 29,
   "id": "105e0f66",
   "metadata": {},
   "outputs": [],
   "source": [
    "# Split data into a training set and a test set.\n",
    "\n",
    "X_train, X_test, y_train, y_test = train_test_split(X, y, test_size=0.3, random_state=0)"
   ]
  },
  {
   "cell_type": "code",
   "execution_count": 30,
   "id": "529c8679",
   "metadata": {},
   "outputs": [],
   "source": [
    "# create a regression object\n",
    "\n",
    "regression = LinearRegression()"
   ]
  },
  {
   "cell_type": "code",
   "execution_count": 31,
   "id": "20777fbb",
   "metadata": {},
   "outputs": [
    {
     "data": {
      "text/plain": [
       "LinearRegression()"
      ]
     },
     "execution_count": 31,
     "metadata": {},
     "output_type": "execute_result"
    }
   ],
   "source": [
    "# fit the regression object onto the training set\n",
    "\n",
    "regression.fit(X_train, y_train)"
   ]
  },
  {
   "cell_type": "code",
   "execution_count": 32,
   "id": "86d4719b",
   "metadata": {},
   "outputs": [],
   "source": [
    "# Predict the values of y using X.\n",
    "\n",
    "y_predicted = regression.predict(X_test)"
   ]
  },
  {
   "cell_type": "code",
   "execution_count": 33,
   "id": "c4e0b2c9",
   "metadata": {},
   "outputs": [
    {
     "data": {
      "image/png": "[encoded data removed]",
      "text/plain": [
       "<Figure size 432x288 with 1 Axes>"
      ]
     },
     "metadata": {
      "needs_background": "light"
     },
     "output_type": "display_data"
    }
   ],
   "source": [
    "# Create a plot that shows the regression line from the model on the test set.\n",
    "\n",
    "plot_test = plt\n",
    "plot_test.scatter(X_test, y_test, color=\"gray\", s = 15)\n",
    "plot_test.plot(X_test, y_predicted, color = \"red\", linewidth = 3)\n",
    "plot_test.title(\"Prices per month\")\n",
    "plot_test.xlabel(\"Month\")\n",
    "plot_test.ylabel(\"Prices\")\n",
    "plt.savefig('regression.png')\n",
    "plot_test.show()"
   ]
  },
  {
   "cell_type": "markdown",
   "id": "e846588f",
   "metadata": {},
   "source": [
    "## the line doesn't fit the data"
   ]
  },
  {
   "cell_type": "code",
   "execution_count": 34,
   "id": "43519d7c",
   "metadata": {},
   "outputs": [],
   "source": [
    "# create objects with model summary statistics\n",
    "\n",
    "rmse = mean_squared_error(y_test, y_predicted) # This is the mean squared error\n",
    "r2 = r2_score(y_test, y_predicted) # This is the R2 score. "
   ]
  },
  {
   "cell_type": "code",
   "execution_count": 35,
   "id": "e56adb48",
   "metadata": {},
   "outputs": [
    {
     "name": "stdout",
     "output_type": "stream",
     "text": [
      "Slope: [[-0.05589564]]\n",
      "Mean squared error:  228.1664393854706\n",
      "R2 score:  -0.0029665941993326506\n"
     ]
    }
   ],
   "source": [
    "# print the model summary statistics\n",
    "\n",
    "print('Slope:' ,regression.coef_)\n",
    "print('Mean squared error: ', rmse)\n",
    "print('R2 score: ', r2)"
   ]
  },
  {
   "cell_type": "code",
   "execution_count": 36,
   "id": "586af733",
   "metadata": {},
   "outputs": [
    {
     "data": {
      "text/plain": [
       "array([[1.70551788],\n",
       "       [1.37014402],\n",
       "       [1.59372659],\n",
       "       ...,\n",
       "       [1.87320482],\n",
       "       [1.59372659],\n",
       "       [1.64962224]])"
      ]
     },
     "execution_count": 36,
     "metadata": {},
     "output_type": "execute_result"
    }
   ],
   "source": [
    "y_predicted"
   ]
  },
  {
   "cell_type": "code",
   "execution_count": 37,
   "id": "16a92098",
   "metadata": {},
   "outputs": [
    {
     "data": {
      "text/html": [
       "<div>\n",
       "<style scoped>\n",
       "    .dataframe tbody tr th:only-of-type {\n",
       "        vertical-align: middle;\n",
       "    }\n",
       "\n",
       "    .dataframe tbody tr th {\n",
       "        vertical-align: top;\n",
       "    }\n",
       "\n",
       "    .dataframe thead th {\n",
       "        text-align: right;\n",
       "    }\n",
       "</style>\n",
       "<table border=\"1\" class=\"dataframe\">\n",
       "  <thead>\n",
       "    <tr style=\"text-align: right;\">\n",
       "      <th></th>\n",
       "      <th>Actual</th>\n",
       "      <th>Predicted</th>\n",
       "    </tr>\n",
       "  </thead>\n",
       "  <tbody>\n",
       "    <tr>\n",
       "      <th>0</th>\n",
       "      <td>0.1750</td>\n",
       "      <td>1.705518</td>\n",
       "    </tr>\n",
       "    <tr>\n",
       "      <th>1</th>\n",
       "      <td>0.7365</td>\n",
       "      <td>1.370144</td>\n",
       "    </tr>\n",
       "    <tr>\n",
       "      <th>2</th>\n",
       "      <td>2.4814</td>\n",
       "      <td>1.593727</td>\n",
       "    </tr>\n",
       "    <tr>\n",
       "      <th>3</th>\n",
       "      <td>0.7078</td>\n",
       "      <td>1.873205</td>\n",
       "    </tr>\n",
       "    <tr>\n",
       "      <th>4</th>\n",
       "      <td>0.6933</td>\n",
       "      <td>1.537831</td>\n",
       "    </tr>\n",
       "    <tr>\n",
       "      <th>5</th>\n",
       "      <td>0.5112</td>\n",
       "      <td>1.426040</td>\n",
       "    </tr>\n",
       "    <tr>\n",
       "      <th>6</th>\n",
       "      <td>0.4797</td>\n",
       "      <td>1.929100</td>\n",
       "    </tr>\n",
       "    <tr>\n",
       "      <th>7</th>\n",
       "      <td>0.4274</td>\n",
       "      <td>1.481935</td>\n",
       "    </tr>\n",
       "    <tr>\n",
       "      <th>8</th>\n",
       "      <td>0.8562</td>\n",
       "      <td>1.984996</td>\n",
       "    </tr>\n",
       "    <tr>\n",
       "      <th>9</th>\n",
       "      <td>0.1823</td>\n",
       "      <td>1.705518</td>\n",
       "    </tr>\n",
       "    <tr>\n",
       "      <th>10</th>\n",
       "      <td>0.2716</td>\n",
       "      <td>1.593727</td>\n",
       "    </tr>\n",
       "    <tr>\n",
       "      <th>11</th>\n",
       "      <td>0.8917</td>\n",
       "      <td>1.593727</td>\n",
       "    </tr>\n",
       "    <tr>\n",
       "      <th>12</th>\n",
       "      <td>0.4532</td>\n",
       "      <td>1.649622</td>\n",
       "    </tr>\n",
       "    <tr>\n",
       "      <th>13</th>\n",
       "      <td>21.8131</td>\n",
       "      <td>1.984996</td>\n",
       "    </tr>\n",
       "    <tr>\n",
       "      <th>14</th>\n",
       "      <td>0.1836</td>\n",
       "      <td>1.481935</td>\n",
       "    </tr>\n",
       "    <tr>\n",
       "      <th>15</th>\n",
       "      <td>0.4692</td>\n",
       "      <td>1.649622</td>\n",
       "    </tr>\n",
       "    <tr>\n",
       "      <th>16</th>\n",
       "      <td>0.7988</td>\n",
       "      <td>1.537831</td>\n",
       "    </tr>\n",
       "    <tr>\n",
       "      <th>17</th>\n",
       "      <td>0.9086</td>\n",
       "      <td>1.705518</td>\n",
       "    </tr>\n",
       "    <tr>\n",
       "      <th>18</th>\n",
       "      <td>0.2531</td>\n",
       "      <td>1.537831</td>\n",
       "    </tr>\n",
       "    <tr>\n",
       "      <th>19</th>\n",
       "      <td>0.7765</td>\n",
       "      <td>1.873205</td>\n",
       "    </tr>\n",
       "    <tr>\n",
       "      <th>20</th>\n",
       "      <td>0.6203</td>\n",
       "      <td>1.817309</td>\n",
       "    </tr>\n",
       "    <tr>\n",
       "      <th>21</th>\n",
       "      <td>0.2748</td>\n",
       "      <td>1.817309</td>\n",
       "    </tr>\n",
       "    <tr>\n",
       "      <th>22</th>\n",
       "      <td>0.7617</td>\n",
       "      <td>1.593727</td>\n",
       "    </tr>\n",
       "    <tr>\n",
       "      <th>23</th>\n",
       "      <td>7.4541</td>\n",
       "      <td>1.649622</td>\n",
       "    </tr>\n",
       "    <tr>\n",
       "      <th>24</th>\n",
       "      <td>0.1715</td>\n",
       "      <td>1.761414</td>\n",
       "    </tr>\n",
       "    <tr>\n",
       "      <th>25</th>\n",
       "      <td>1.1029</td>\n",
       "      <td>1.929100</td>\n",
       "    </tr>\n",
       "    <tr>\n",
       "      <th>26</th>\n",
       "      <td>1.7862</td>\n",
       "      <td>1.537831</td>\n",
       "    </tr>\n",
       "    <tr>\n",
       "      <th>27</th>\n",
       "      <td>0.8737</td>\n",
       "      <td>1.984996</td>\n",
       "    </tr>\n",
       "    <tr>\n",
       "      <th>28</th>\n",
       "      <td>0.8986</td>\n",
       "      <td>1.705518</td>\n",
       "    </tr>\n",
       "    <tr>\n",
       "      <th>29</th>\n",
       "      <td>0.4238</td>\n",
       "      <td>1.873205</td>\n",
       "    </tr>\n",
       "  </tbody>\n",
       "</table>\n",
       "</div>"
      ],
      "text/plain": [
       "     Actual  Predicted\n",
       "0    0.1750   1.705518\n",
       "1    0.7365   1.370144\n",
       "2    2.4814   1.593727\n",
       "3    0.7078   1.873205\n",
       "4    0.6933   1.537831\n",
       "5    0.5112   1.426040\n",
       "6    0.4797   1.929100\n",
       "7    0.4274   1.481935\n",
       "8    0.8562   1.984996\n",
       "9    0.1823   1.705518\n",
       "10   0.2716   1.593727\n",
       "11   0.8917   1.593727\n",
       "12   0.4532   1.649622\n",
       "13  21.8131   1.984996\n",
       "14   0.1836   1.481935\n",
       "15   0.4692   1.649622\n",
       "16   0.7988   1.537831\n",
       "17   0.9086   1.705518\n",
       "18   0.2531   1.537831\n",
       "19   0.7765   1.873205\n",
       "20   0.6203   1.817309\n",
       "21   0.2748   1.817309\n",
       "22   0.7617   1.593727\n",
       "23   7.4541   1.649622\n",
       "24   0.1715   1.761414\n",
       "25   1.1029   1.929100\n",
       "26   1.7862   1.537831\n",
       "27   0.8737   1.984996\n",
       "28   0.8986   1.705518\n",
       "29   0.4238   1.873205"
      ]
     },
     "execution_count": 37,
     "metadata": {},
     "output_type": "execute_result"
    }
   ],
   "source": [
    "# Create a dataframe comparing the actual and predicted values of y.\n",
    "\n",
    "data = pd.DataFrame({'Actual': y_test.flatten(), 'Predicted': y_predicted.flatten()})\n",
    "data.head(30)"
   ]
  },
  {
   "cell_type": "code",
   "execution_count": null,
   "id": "010e14eb",
   "metadata": {},
   "outputs": [],
   "source": []
  }
 ],
 "metadata": {
  "kernelspec": {
   "display_name": "Python 3 (ipykernel)",
   "language": "python",
   "name": "python3"
  },
  "language_info": {
   "codemirror_mode": {
    "name": "ipython",
    "version": 3
   },
   "file_extension": ".py",
   "mimetype": "text/x-python",
   "name": "python",
   "nbconvert_exporter": "python",
   "pygments_lexer": "ipython3",
   "version": "3.8.11"
  }
 },
 "nbformat": 4,
 "nbformat_minor": 5
}
