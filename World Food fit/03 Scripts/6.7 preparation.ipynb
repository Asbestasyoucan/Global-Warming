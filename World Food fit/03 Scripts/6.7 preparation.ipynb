{
 "cells": [
  {
   "cell_type": "markdown",
   "id": "38d84d0a",
   "metadata": {},
   "source": [
    "### Importing libraries and data and renaming columns"
   ]
  },
  {
   "cell_type": "code",
   "execution_count": 1,
   "id": "89748f7e",
   "metadata": {},
   "outputs": [],
   "source": [
    "import pandas as pd\n",
    "import numpy as np\n",
    "import seaborn as sns\n",
    "import matplotlib\n",
    "import matplotlib.pyplot as plt\n",
    "import os\n",
    "import statsmodels.api as sm\n",
    "import warnings\n",
    "import calendar"
   ]
  },
  {
   "cell_type": "code",
   "execution_count": 2,
   "id": "8b198fb3",
   "metadata": {},
   "outputs": [],
   "source": [
    "path = 'C:\\\\Users\\\\Marce\\\\careerfoundry\\\\food'"
   ]
  },
  {
   "cell_type": "code",
   "execution_count": 3,
   "id": "f01e79c1",
   "metadata": {},
   "outputs": [],
   "source": [
    "data = pd.read_csv(os.path.join(path, '02 Data', 'Prepared Data', 'new.csv'))"
   ]
  },
  {
   "cell_type": "code",
   "execution_count": 4,
   "id": "0e804a91",
   "metadata": {},
   "outputs": [],
   "source": [
    "warnings.filterwarnings(\"ignore\")\n",
    "\n",
    "plt.style.use('fivethirtyeight')"
   ]
  },
  {
   "cell_type": "code",
   "execution_count": 5,
   "id": "6c4b5d19",
   "metadata": {},
   "outputs": [],
   "source": [
    "pd.set_option('display.float_format', lambda x: '%.3f' % x)"
   ]
  },
  {
   "cell_type": "code",
   "execution_count": 6,
   "id": "88709fb2",
   "metadata": {},
   "outputs": [],
   "source": [
    "pd.set_option('precision', 0)"
   ]
  },
  {
   "cell_type": "code",
   "execution_count": 7,
   "id": "5eed4d89",
   "metadata": {},
   "outputs": [],
   "source": [
    "pd.set_option('display.max_rows', None)"
   ]
  },
  {
   "cell_type": "code",
   "execution_count": 8,
   "id": "cf6e96ae",
   "metadata": {},
   "outputs": [
    {
     "data": {
      "text/html": [
       "<div>\n",
       "<style scoped>\n",
       "    .dataframe tbody tr th:only-of-type {\n",
       "        vertical-align: middle;\n",
       "    }\n",
       "\n",
       "    .dataframe tbody tr th {\n",
       "        vertical-align: top;\n",
       "    }\n",
       "\n",
       "    .dataframe thead th {\n",
       "        text-align: right;\n",
       "    }\n",
       "</style>\n",
       "<table border=\"1\" class=\"dataframe\">\n",
       "  <thead>\n",
       "    <tr style=\"text-align: right;\">\n",
       "      <th></th>\n",
       "      <th>Country</th>\n",
       "      <th>Product/Category</th>\n",
       "      <th>Currency</th>\n",
       "      <th>Month</th>\n",
       "      <th>Year</th>\n",
       "      <th>Price</th>\n",
       "    </tr>\n",
       "  </thead>\n",
       "  <tbody>\n",
       "    <tr>\n",
       "      <th>0</th>\n",
       "      <td>Afghanistan</td>\n",
       "      <td>Bread - Retail</td>\n",
       "      <td>AFN</td>\n",
       "      <td>1</td>\n",
       "      <td>2014</td>\n",
       "      <td>50.000</td>\n",
       "    </tr>\n",
       "    <tr>\n",
       "      <th>1</th>\n",
       "      <td>Afghanistan</td>\n",
       "      <td>Bread - Retail</td>\n",
       "      <td>AFN</td>\n",
       "      <td>2</td>\n",
       "      <td>2014</td>\n",
       "      <td>50.000</td>\n",
       "    </tr>\n",
       "    <tr>\n",
       "      <th>2</th>\n",
       "      <td>Afghanistan</td>\n",
       "      <td>Bread - Retail</td>\n",
       "      <td>AFN</td>\n",
       "      <td>3</td>\n",
       "      <td>2014</td>\n",
       "      <td>50.000</td>\n",
       "    </tr>\n",
       "    <tr>\n",
       "      <th>3</th>\n",
       "      <td>Afghanistan</td>\n",
       "      <td>Bread - Retail</td>\n",
       "      <td>AFN</td>\n",
       "      <td>4</td>\n",
       "      <td>2014</td>\n",
       "      <td>50.000</td>\n",
       "    </tr>\n",
       "    <tr>\n",
       "      <th>4</th>\n",
       "      <td>Afghanistan</td>\n",
       "      <td>Bread - Retail</td>\n",
       "      <td>AFN</td>\n",
       "      <td>5</td>\n",
       "      <td>2014</td>\n",
       "      <td>50.000</td>\n",
       "    </tr>\n",
       "  </tbody>\n",
       "</table>\n",
       "</div>"
      ],
      "text/plain": [
       "       Country Product/Category Currency  Month  Year  Price\n",
       "0  Afghanistan   Bread - Retail      AFN      1  2014 50.000\n",
       "1  Afghanistan   Bread - Retail      AFN      2  2014 50.000\n",
       "2  Afghanistan   Bread - Retail      AFN      3  2014 50.000\n",
       "3  Afghanistan   Bread - Retail      AFN      4  2014 50.000\n",
       "4  Afghanistan   Bread - Retail      AFN      5  2014 50.000"
      ]
     },
     "execution_count": 8,
     "metadata": {},
     "output_type": "execute_result"
    }
   ],
   "source": [
    "data.head(5)"
   ]
  },
  {
   "cell_type": "code",
   "execution_count": 9,
   "id": "a36315d1",
   "metadata": {},
   "outputs": [
    {
     "data": {
      "text/plain": [
       "(1048575, 6)"
      ]
     },
     "execution_count": 9,
     "metadata": {},
     "output_type": "execute_result"
    }
   ],
   "source": [
    "data.shape"
   ]
  },
  {
   "cell_type": "code",
   "execution_count": 10,
   "id": "a4c14ee6",
   "metadata": {},
   "outputs": [
    {
     "data": {
      "text/plain": [
       "Country             0\n",
       "Product/Category    0\n",
       "Currency            0\n",
       "Month               0\n",
       "Year                0\n",
       "Price               0\n",
       "dtype: int64"
      ]
     },
     "execution_count": 10,
     "metadata": {},
     "output_type": "execute_result"
    }
   ],
   "source": [
    "data.isnull().sum()"
   ]
  },
  {
   "cell_type": "code",
   "execution_count": 11,
   "id": "d474ffd8",
   "metadata": {},
   "outputs": [],
   "source": [
    "df2 = data.groupby(['Country','Product/Category','Currency','Month','Year'],as_index=False).mean(\"Prices\")"
   ]
  },
  {
   "cell_type": "code",
   "execution_count": 12,
   "id": "1246bd2d",
   "metadata": {},
   "outputs": [],
   "source": [
    "df2['Month'] = df2['Month'].apply(lambda x: calendar.month_abbr[x])"
   ]
  },
  {
   "cell_type": "code",
   "execution_count": 13,
   "id": "a0d03f32",
   "metadata": {
    "scrolled": true
   },
   "outputs": [
    {
     "data": {
      "text/html": [
       "<div>\n",
       "<style scoped>\n",
       "    .dataframe tbody tr th:only-of-type {\n",
       "        vertical-align: middle;\n",
       "    }\n",
       "\n",
       "    .dataframe tbody tr th {\n",
       "        vertical-align: top;\n",
       "    }\n",
       "\n",
       "    .dataframe thead th {\n",
       "        text-align: right;\n",
       "    }\n",
       "</style>\n",
       "<table border=\"1\" class=\"dataframe\">\n",
       "  <thead>\n",
       "    <tr style=\"text-align: right;\">\n",
       "      <th></th>\n",
       "      <th>Country</th>\n",
       "      <th>Product/Category</th>\n",
       "      <th>Currency</th>\n",
       "      <th>Month</th>\n",
       "      <th>Year</th>\n",
       "      <th>Price</th>\n",
       "    </tr>\n",
       "  </thead>\n",
       "  <tbody>\n",
       "    <tr>\n",
       "      <th>0</th>\n",
       "      <td>Afghanistan</td>\n",
       "      <td>Bread - Retail</td>\n",
       "      <td>AFN</td>\n",
       "      <td>Jan</td>\n",
       "      <td>2000</td>\n",
       "      <td>15.250</td>\n",
       "    </tr>\n",
       "    <tr>\n",
       "      <th>1</th>\n",
       "      <td>Afghanistan</td>\n",
       "      <td>Bread - Retail</td>\n",
       "      <td>AFN</td>\n",
       "      <td>Jan</td>\n",
       "      <td>2001</td>\n",
       "      <td>17.830</td>\n",
       "    </tr>\n",
       "    <tr>\n",
       "      <th>2</th>\n",
       "      <td>Afghanistan</td>\n",
       "      <td>Bread - Retail</td>\n",
       "      <td>AFN</td>\n",
       "      <td>Jan</td>\n",
       "      <td>2002</td>\n",
       "      <td>9.093</td>\n",
       "    </tr>\n",
       "    <tr>\n",
       "      <th>3</th>\n",
       "      <td>Afghanistan</td>\n",
       "      <td>Bread - Retail</td>\n",
       "      <td>AFN</td>\n",
       "      <td>Jan</td>\n",
       "      <td>2003</td>\n",
       "      <td>13.000</td>\n",
       "    </tr>\n",
       "    <tr>\n",
       "      <th>4</th>\n",
       "      <td>Afghanistan</td>\n",
       "      <td>Bread - Retail</td>\n",
       "      <td>AFN</td>\n",
       "      <td>Jan</td>\n",
       "      <td>2004</td>\n",
       "      <td>15.025</td>\n",
       "    </tr>\n",
       "    <tr>\n",
       "      <th>5</th>\n",
       "      <td>Afghanistan</td>\n",
       "      <td>Bread - Retail</td>\n",
       "      <td>AFN</td>\n",
       "      <td>Jan</td>\n",
       "      <td>2005</td>\n",
       "      <td>18.525</td>\n",
       "    </tr>\n",
       "    <tr>\n",
       "      <th>6</th>\n",
       "      <td>Afghanistan</td>\n",
       "      <td>Bread - Retail</td>\n",
       "      <td>AFN</td>\n",
       "      <td>Jan</td>\n",
       "      <td>2006</td>\n",
       "      <td>19.025</td>\n",
       "    </tr>\n",
       "    <tr>\n",
       "      <th>7</th>\n",
       "      <td>Afghanistan</td>\n",
       "      <td>Bread - Retail</td>\n",
       "      <td>AFN</td>\n",
       "      <td>Jan</td>\n",
       "      <td>2007</td>\n",
       "      <td>22.350</td>\n",
       "    </tr>\n",
       "    <tr>\n",
       "      <th>8</th>\n",
       "      <td>Afghanistan</td>\n",
       "      <td>Bread - Retail</td>\n",
       "      <td>AFN</td>\n",
       "      <td>Jan</td>\n",
       "      <td>2008</td>\n",
       "      <td>33.625</td>\n",
       "    </tr>\n",
       "    <tr>\n",
       "      <th>9</th>\n",
       "      <td>Afghanistan</td>\n",
       "      <td>Bread - Retail</td>\n",
       "      <td>AFN</td>\n",
       "      <td>Jan</td>\n",
       "      <td>2009</td>\n",
       "      <td>47.000</td>\n",
       "    </tr>\n",
       "  </tbody>\n",
       "</table>\n",
       "</div>"
      ],
      "text/plain": [
       "       Country Product/Category Currency Month  Year  Price\n",
       "0  Afghanistan   Bread - Retail      AFN   Jan  2000 15.250\n",
       "1  Afghanistan   Bread - Retail      AFN   Jan  2001 17.830\n",
       "2  Afghanistan   Bread - Retail      AFN   Jan  2002  9.093\n",
       "3  Afghanistan   Bread - Retail      AFN   Jan  2003 13.000\n",
       "4  Afghanistan   Bread - Retail      AFN   Jan  2004 15.025\n",
       "5  Afghanistan   Bread - Retail      AFN   Jan  2005 18.525\n",
       "6  Afghanistan   Bread - Retail      AFN   Jan  2006 19.025\n",
       "7  Afghanistan   Bread - Retail      AFN   Jan  2007 22.350\n",
       "8  Afghanistan   Bread - Retail      AFN   Jan  2008 33.625\n",
       "9  Afghanistan   Bread - Retail      AFN   Jan  2009 47.000"
      ]
     },
     "execution_count": 13,
     "metadata": {},
     "output_type": "execute_result"
    }
   ],
   "source": [
    "df2.head(10)"
   ]
  },
  {
   "cell_type": "code",
   "execution_count": 14,
   "id": "f2006b88",
   "metadata": {},
   "outputs": [],
   "source": [
    "df2.to_csv(os.path.join(path,\"02 Data\", 'Prepared Data', 'tableau.csv'))"
   ]
  },
  {
   "cell_type": "code",
   "execution_count": null,
   "id": "00b18562",
   "metadata": {},
   "outputs": [],
   "source": []
  },
  {
   "cell_type": "code",
   "execution_count": null,
   "id": "79df3eb0",
   "metadata": {},
   "outputs": [],
   "source": []
  },
  {
   "cell_type": "code",
   "execution_count": null,
   "id": "a653fccc",
   "metadata": {},
   "outputs": [],
   "source": []
  }
 ],
 "metadata": {
  "kernelspec": {
   "display_name": "Python 3 (ipykernel)",
   "language": "python",
   "name": "python3"
  },
  "language_info": {
   "codemirror_mode": {
    "name": "ipython",
    "version": 3
   },
   "file_extension": ".py",
   "mimetype": "text/x-python",
   "name": "python",
   "nbconvert_exporter": "python",
   "pygments_lexer": "ipython3",
   "version": "3.8.11"
  }
 },
 "nbformat": 4,
 "nbformat_minor": 5
}
