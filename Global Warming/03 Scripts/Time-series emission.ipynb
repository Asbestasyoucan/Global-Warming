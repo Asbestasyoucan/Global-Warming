{
 "cells": [
  {
   "cell_type": "markdown",
   "id": "38d84d0a",
   "metadata": {},
   "source": [
    "### Importing libraries and data and renaming columns"
   ]
  },
  {
   "cell_type": "code",
   "execution_count": 1,
   "id": "89748f7e",
   "metadata": {},
   "outputs": [],
   "source": [
    "import pandas as pd\n",
    "import numpy as np\n",
    "import seaborn as sns\n",
    "import matplotlib\n",
    "import matplotlib.pyplot as plt\n",
    "import os\n",
    "import statsmodels.api as sm\n",
    "import warnings"
   ]
  },
  {
   "cell_type": "code",
   "execution_count": 2,
   "id": "8b198fb3",
   "metadata": {},
   "outputs": [],
   "source": [
    "path = 'C:\\\\Users\\\\Marce\\\\careerfoundry\\\\World Food fit'"
   ]
  },
  {
   "cell_type": "code",
   "execution_count": 3,
   "id": "f01e79c1",
   "metadata": {},
   "outputs": [],
   "source": [
    "data = pd.read_csv(os.path.join(path, '02 Data', 'Original Data', 'emissions.csv'))"
   ]
  },
  {
   "cell_type": "code",
   "execution_count": 4,
   "id": "0e804a91",
   "metadata": {},
   "outputs": [],
   "source": [
    "warnings.filterwarnings(\"ignore\")\n",
    "\n",
    "plt.style.use('fivethirtyeight')"
   ]
  },
  {
   "cell_type": "code",
   "execution_count": 5,
   "id": "6c4b5d19",
   "metadata": {},
   "outputs": [],
   "source": [
    "pd.set_option('display.float_format', lambda x: '%.3f' % x)"
   ]
  },
  {
   "cell_type": "code",
   "execution_count": 6,
   "id": "88709fb2",
   "metadata": {},
   "outputs": [],
   "source": [
    "pd.set_option('precision', 0)"
   ]
  },
  {
   "cell_type": "code",
   "execution_count": 7,
   "id": "cf6e96ae",
   "metadata": {},
   "outputs": [
    {
     "data": {
      "text/html": [
       "<div>\n",
       "<style scoped>\n",
       "    .dataframe tbody tr th:only-of-type {\n",
       "        vertical-align: middle;\n",
       "    }\n",
       "\n",
       "    .dataframe tbody tr th {\n",
       "        vertical-align: top;\n",
       "    }\n",
       "\n",
       "    .dataframe thead th {\n",
       "        text-align: right;\n",
       "    }\n",
       "</style>\n",
       "<table border=\"1\" class=\"dataframe\">\n",
       "  <thead>\n",
       "    <tr style=\"text-align: right;\">\n",
       "      <th></th>\n",
       "      <th>Domain Code</th>\n",
       "      <th>Domain</th>\n",
       "      <th>Area Code (FAO)</th>\n",
       "      <th>Area</th>\n",
       "      <th>Element Code</th>\n",
       "      <th>Element</th>\n",
       "      <th>Item Code</th>\n",
       "      <th>Item</th>\n",
       "      <th>Year Code</th>\n",
       "      <th>Year</th>\n",
       "      <th>Source Code</th>\n",
       "      <th>Source</th>\n",
       "      <th>Unit</th>\n",
       "      <th>Value</th>\n",
       "      <th>Flag</th>\n",
       "      <th>Flag Description</th>\n",
       "      <th>Note</th>\n",
       "    </tr>\n",
       "  </thead>\n",
       "  <tbody>\n",
       "    <tr>\n",
       "      <th>0</th>\n",
       "      <td>GT</td>\n",
       "      <td>Emissions Totals</td>\n",
       "      <td>2</td>\n",
       "      <td>Afghanistan</td>\n",
       "      <td>7225</td>\n",
       "      <td>Emissions (CH4)</td>\n",
       "      <td>1711</td>\n",
       "      <td>IPCC Agriculture</td>\n",
       "      <td>2000</td>\n",
       "      <td>2000</td>\n",
       "      <td>3050</td>\n",
       "      <td>FAO TIER 1</td>\n",
       "      <td>kilotonnes</td>\n",
       "      <td>308.486</td>\n",
       "      <td>Fc</td>\n",
       "      <td>Calculated data</td>\n",
       "      <td>NaN</td>\n",
       "    </tr>\n",
       "    <tr>\n",
       "      <th>1</th>\n",
       "      <td>GT</td>\n",
       "      <td>Emissions Totals</td>\n",
       "      <td>2</td>\n",
       "      <td>Afghanistan</td>\n",
       "      <td>7234</td>\n",
       "      <td>Direct emissions (N2O)</td>\n",
       "      <td>1711</td>\n",
       "      <td>IPCC Agriculture</td>\n",
       "      <td>2000</td>\n",
       "      <td>2000</td>\n",
       "      <td>3050</td>\n",
       "      <td>FAO TIER 1</td>\n",
       "      <td>kilotonnes</td>\n",
       "      <td>7.726</td>\n",
       "      <td>Fc</td>\n",
       "      <td>Calculated data</td>\n",
       "      <td>NaN</td>\n",
       "    </tr>\n",
       "    <tr>\n",
       "      <th>2</th>\n",
       "      <td>GT</td>\n",
       "      <td>Emissions Totals</td>\n",
       "      <td>2</td>\n",
       "      <td>Afghanistan</td>\n",
       "      <td>7236</td>\n",
       "      <td>Indirect emissions (N2O)</td>\n",
       "      <td>1711</td>\n",
       "      <td>IPCC Agriculture</td>\n",
       "      <td>2000</td>\n",
       "      <td>2000</td>\n",
       "      <td>3050</td>\n",
       "      <td>FAO TIER 1</td>\n",
       "      <td>kilotonnes</td>\n",
       "      <td>2.791</td>\n",
       "      <td>Fc</td>\n",
       "      <td>Calculated data</td>\n",
       "      <td>NaN</td>\n",
       "    </tr>\n",
       "    <tr>\n",
       "      <th>3</th>\n",
       "      <td>GT</td>\n",
       "      <td>Emissions Totals</td>\n",
       "      <td>2</td>\n",
       "      <td>Afghanistan</td>\n",
       "      <td>7230</td>\n",
       "      <td>Emissions (N2O)</td>\n",
       "      <td>1711</td>\n",
       "      <td>IPCC Agriculture</td>\n",
       "      <td>2000</td>\n",
       "      <td>2000</td>\n",
       "      <td>3050</td>\n",
       "      <td>FAO TIER 1</td>\n",
       "      <td>kilotonnes</td>\n",
       "      <td>10.986</td>\n",
       "      <td>Fc</td>\n",
       "      <td>Calculated data</td>\n",
       "      <td>NaN</td>\n",
       "    </tr>\n",
       "    <tr>\n",
       "      <th>4</th>\n",
       "      <td>GT</td>\n",
       "      <td>Emissions Totals</td>\n",
       "      <td>2</td>\n",
       "      <td>Afghanistan</td>\n",
       "      <td>724413</td>\n",
       "      <td>Emissions (CO2eq) from CH4 (AR5)</td>\n",
       "      <td>1711</td>\n",
       "      <td>IPCC Agriculture</td>\n",
       "      <td>2000</td>\n",
       "      <td>2000</td>\n",
       "      <td>3050</td>\n",
       "      <td>FAO TIER 1</td>\n",
       "      <td>kilotonnes</td>\n",
       "      <td>8637.597</td>\n",
       "      <td>Fc</td>\n",
       "      <td>Calculated data</td>\n",
       "      <td>NaN</td>\n",
       "    </tr>\n",
       "  </tbody>\n",
       "</table>\n",
       "</div>"
      ],
      "text/plain": [
       "  Domain Code            Domain  Area Code (FAO)         Area  Element Code  \\\n",
       "0          GT  Emissions Totals                2  Afghanistan          7225   \n",
       "1          GT  Emissions Totals                2  Afghanistan          7234   \n",
       "2          GT  Emissions Totals                2  Afghanistan          7236   \n",
       "3          GT  Emissions Totals                2  Afghanistan          7230   \n",
       "4          GT  Emissions Totals                2  Afghanistan        724413   \n",
       "\n",
       "                            Element  Item Code              Item  Year Code  \\\n",
       "0                   Emissions (CH4)       1711  IPCC Agriculture       2000   \n",
       "1            Direct emissions (N2O)       1711  IPCC Agriculture       2000   \n",
       "2          Indirect emissions (N2O)       1711  IPCC Agriculture       2000   \n",
       "3                   Emissions (N2O)       1711  IPCC Agriculture       2000   \n",
       "4  Emissions (CO2eq) from CH4 (AR5)       1711  IPCC Agriculture       2000   \n",
       "\n",
       "   Year  Source Code      Source        Unit    Value Flag Flag Description  \\\n",
       "0  2000         3050  FAO TIER 1  kilotonnes  308.486   Fc  Calculated data   \n",
       "1  2000         3050  FAO TIER 1  kilotonnes    7.726   Fc  Calculated data   \n",
       "2  2000         3050  FAO TIER 1  kilotonnes    2.791   Fc  Calculated data   \n",
       "3  2000         3050  FAO TIER 1  kilotonnes   10.986   Fc  Calculated data   \n",
       "4  2000         3050  FAO TIER 1  kilotonnes 8637.597   Fc  Calculated data   \n",
       "\n",
       "   Note  \n",
       "0   NaN  \n",
       "1   NaN  \n",
       "2   NaN  \n",
       "3   NaN  \n",
       "4   NaN  "
      ]
     },
     "execution_count": 7,
     "metadata": {},
     "output_type": "execute_result"
    }
   ],
   "source": [
    "data.head(5)"
   ]
  },
  {
   "cell_type": "code",
   "execution_count": 8,
   "id": "a36315d1",
   "metadata": {},
   "outputs": [
    {
     "data": {
      "text/plain": [
       "(184730, 17)"
      ]
     },
     "execution_count": 8,
     "metadata": {},
     "output_type": "execute_result"
    }
   ],
   "source": [
    "data.shape"
   ]
  },
  {
   "cell_type": "code",
   "execution_count": 9,
   "id": "276c654b",
   "metadata": {},
   "outputs": [
    {
     "data": {
      "text/plain": [
       "Index(['Domain Code', 'Domain', 'Area Code (FAO)', 'Area', 'Element Code',\n",
       "       'Element', 'Item Code', 'Item', 'Year Code', 'Year', 'Source Code',\n",
       "       'Source', 'Unit', 'Value', 'Flag', 'Flag Description', 'Note'],\n",
       "      dtype='object')"
      ]
     },
     "execution_count": 9,
     "metadata": {},
     "output_type": "execute_result"
    }
   ],
   "source": [
    "data.columns"
   ]
  },
  {
   "cell_type": "code",
   "execution_count": 10,
   "id": "a4c14ee6",
   "metadata": {},
   "outputs": [
    {
     "data": {
      "text/plain": [
       "Domain Code              0\n",
       "Domain                   0\n",
       "Area Code (FAO)          0\n",
       "Area                     0\n",
       "Element Code             0\n",
       "Element                  0\n",
       "Item Code                0\n",
       "Item                     0\n",
       "Year Code                0\n",
       "Year                     0\n",
       "Source Code              0\n",
       "Source                   0\n",
       "Unit                     0\n",
       "Value                    0\n",
       "Flag                     0\n",
       "Flag Description         0\n",
       "Note                184730\n",
       "dtype: int64"
      ]
     },
     "execution_count": 10,
     "metadata": {},
     "output_type": "execute_result"
    }
   ],
   "source": [
    "data.isnull().sum()"
   ]
  },
  {
   "cell_type": "code",
   "execution_count": 11,
   "id": "c153436d",
   "metadata": {},
   "outputs": [
    {
     "data": {
      "text/plain": [
       "count    184730.000\n",
       "mean       8485.833\n",
       "std       59851.643\n",
       "min     -730942.230\n",
       "25%           0.433\n",
       "50%          18.381\n",
       "75%        1301.545\n",
       "max     2160116.534\n",
       "Name: Value, dtype: float64"
      ]
     },
     "execution_count": 11,
     "metadata": {},
     "output_type": "execute_result"
    }
   ],
   "source": [
    "data['Value'].describe()"
   ]
  },
  {
   "cell_type": "code",
   "execution_count": 12,
   "id": "81650b0f",
   "metadata": {},
   "outputs": [
    {
     "data": {
      "text/plain": [
       "(184730, 17)"
      ]
     },
     "execution_count": 12,
     "metadata": {},
     "output_type": "execute_result"
    }
   ],
   "source": [
    "data.shape"
   ]
  },
  {
   "cell_type": "code",
   "execution_count": 13,
   "id": "ff285c72",
   "metadata": {},
   "outputs": [],
   "source": [
    "# drop unnecessary columns, two ways to do so\n",
    "\n",
    "data.drop(columns=['Domain Code', 'Domain', 'Area Code (FAO)', 'Element Code',\n",
    "       'Element', 'Item Code', 'Item', 'Year Code', 'Source Code',\n",
    "       'Source', 'Unit', 'Flag', 'Flag Description', 'Note'],inplace=True)\n",
    "\n",
    "#data.drop(['Unnamed: 0','_merge'],axis=1,inplace=True)"
   ]
  },
  {
   "cell_type": "code",
   "execution_count": 14,
   "id": "4d22cc3c",
   "metadata": {},
   "outputs": [
    {
     "data": {
      "text/plain": [
       "Area     0\n",
       "Year     0\n",
       "Value    0\n",
       "dtype: int64"
      ]
     },
     "execution_count": 14,
     "metadata": {},
     "output_type": "execute_result"
    }
   ],
   "source": [
    "data.isnull().sum()"
   ]
  },
  {
   "cell_type": "code",
   "execution_count": 15,
   "id": "1b0e4708",
   "metadata": {},
   "outputs": [
    {
     "data": {
      "text/plain": [
       "Index(['Area', 'Year', 'Value'], dtype='object')"
      ]
     },
     "execution_count": 15,
     "metadata": {},
     "output_type": "execute_result"
    }
   ],
   "source": [
    "data.columns"
   ]
  },
  {
   "cell_type": "code",
   "execution_count": 16,
   "id": "feb2d6de",
   "metadata": {},
   "outputs": [],
   "source": [
    "data2 = data.groupby(['Year']).median()"
   ]
  },
  {
   "cell_type": "code",
   "execution_count": 17,
   "id": "4745569b",
   "metadata": {},
   "outputs": [
    {
     "data": {
      "text/html": [
       "<div>\n",
       "<style scoped>\n",
       "    .dataframe tbody tr th:only-of-type {\n",
       "        vertical-align: middle;\n",
       "    }\n",
       "\n",
       "    .dataframe tbody tr th {\n",
       "        vertical-align: top;\n",
       "    }\n",
       "\n",
       "    .dataframe thead th {\n",
       "        text-align: right;\n",
       "    }\n",
       "</style>\n",
       "<table border=\"1\" class=\"dataframe\">\n",
       "  <thead>\n",
       "    <tr style=\"text-align: right;\">\n",
       "      <th></th>\n",
       "      <th>Value</th>\n",
       "    </tr>\n",
       "    <tr>\n",
       "      <th>Year</th>\n",
       "      <th></th>\n",
       "    </tr>\n",
       "  </thead>\n",
       "  <tbody>\n",
       "    <tr>\n",
       "      <th>2000</th>\n",
       "      <td>16.995</td>\n",
       "    </tr>\n",
       "    <tr>\n",
       "      <th>2001</th>\n",
       "      <td>16.406</td>\n",
       "    </tr>\n",
       "    <tr>\n",
       "      <th>2002</th>\n",
       "      <td>17.006</td>\n",
       "    </tr>\n",
       "    <tr>\n",
       "      <th>2003</th>\n",
       "      <td>17.386</td>\n",
       "    </tr>\n",
       "    <tr>\n",
       "      <th>2004</th>\n",
       "      <td>17.228</td>\n",
       "    </tr>\n",
       "  </tbody>\n",
       "</table>\n",
       "</div>"
      ],
      "text/plain": [
       "      Value\n",
       "Year       \n",
       "2000 16.995\n",
       "2001 16.406\n",
       "2002 17.006\n",
       "2003 17.386\n",
       "2004 17.228"
      ]
     },
     "execution_count": 17,
     "metadata": {},
     "output_type": "execute_result"
    }
   ],
   "source": [
    "data2.head()"
   ]
  },
  {
   "cell_type": "code",
   "execution_count": 18,
   "id": "83b32c82",
   "metadata": {},
   "outputs": [
    {
     "data": {
      "text/html": [
       "<div>\n",
       "<style scoped>\n",
       "    .dataframe tbody tr th:only-of-type {\n",
       "        vertical-align: middle;\n",
       "    }\n",
       "\n",
       "    .dataframe tbody tr th {\n",
       "        vertical-align: top;\n",
       "    }\n",
       "\n",
       "    .dataframe thead th {\n",
       "        text-align: right;\n",
       "    }\n",
       "</style>\n",
       "<table border=\"1\" class=\"dataframe\">\n",
       "  <thead>\n",
       "    <tr style=\"text-align: right;\">\n",
       "      <th></th>\n",
       "      <th>Value</th>\n",
       "    </tr>\n",
       "    <tr>\n",
       "      <th>datetime</th>\n",
       "      <th></th>\n",
       "    </tr>\n",
       "  </thead>\n",
       "  <tbody>\n",
       "    <tr>\n",
       "      <th>2000</th>\n",
       "      <td>16.995</td>\n",
       "    </tr>\n",
       "    <tr>\n",
       "      <th>2001</th>\n",
       "      <td>16.406</td>\n",
       "    </tr>\n",
       "    <tr>\n",
       "      <th>2002</th>\n",
       "      <td>17.006</td>\n",
       "    </tr>\n",
       "    <tr>\n",
       "      <th>2003</th>\n",
       "      <td>17.386</td>\n",
       "    </tr>\n",
       "    <tr>\n",
       "      <th>2004</th>\n",
       "      <td>17.228</td>\n",
       "    </tr>\n",
       "    <tr>\n",
       "      <th>2005</th>\n",
       "      <td>17.854</td>\n",
       "    </tr>\n",
       "    <tr>\n",
       "      <th>2006</th>\n",
       "      <td>17.720</td>\n",
       "    </tr>\n",
       "    <tr>\n",
       "      <th>2007</th>\n",
       "      <td>18.313</td>\n",
       "    </tr>\n",
       "    <tr>\n",
       "      <th>2008</th>\n",
       "      <td>18.112</td>\n",
       "    </tr>\n",
       "    <tr>\n",
       "      <th>2009</th>\n",
       "      <td>17.882</td>\n",
       "    </tr>\n",
       "  </tbody>\n",
       "</table>\n",
       "</div>"
      ],
      "text/plain": [
       "          Value\n",
       "datetime       \n",
       "2000     16.995\n",
       "2001     16.406\n",
       "2002     17.006\n",
       "2003     17.386\n",
       "2004     17.228\n",
       "2005     17.854\n",
       "2006     17.720\n",
       "2007     18.313\n",
       "2008     18.112\n",
       "2009     17.882"
      ]
     },
     "execution_count": 18,
     "metadata": {},
     "output_type": "execute_result"
    }
   ],
   "source": [
    "#  we set datetime index here\n",
    "\n",
    "data2 = data2.reset_index()\n",
    "data2['datetime'] = pd.to_datetime(data2['Year'], format='%Y').dt.strftime('%Y')\n",
    "data2 = data2.set_index('datetime') # Set the datetime as the index of the dataframe.\n",
    "data2.drop(['Year'], axis=1, inplace=True) # Drop columns\n",
    "data2.head(10)"
   ]
  },
  {
   "cell_type": "code",
   "execution_count": 19,
   "id": "3bac6fb9",
   "metadata": {},
   "outputs": [
    {
     "data": {
      "text/plain": [
       "[<matplotlib.lines.Line2D at 0x26a99404130>]"
      ]
     },
     "execution_count": 19,
     "metadata": {},
     "output_type": "execute_result"
    },
    {
     "data": {
      "image/png": "[encoded data removed]",
      "text/plain": [
       "<Figure size 2500x500 with 1 Axes>"
      ]
     },
     "metadata": {},
     "output_type": "display_data"
    }
   ],
   "source": [
    "# Plot the new data set\n",
    "\n",
    "plt.figure(figsize=(25,5), dpi=100)\n",
    "plt.plot(data2)"
   ]
  },
  {
   "cell_type": "code",
   "execution_count": 20,
   "id": "e4ab251d",
   "metadata": {},
   "outputs": [],
   "source": [
    "# Decompose the time series using an additive model\n",
    "\n",
    "#decomposition = sm.tsa.seasonal_decompose(df3, model='additive')\n",
    "decomp = sm.tsa.seasonal_decompose(data2, freq=6)"
   ]
  },
  {
   "cell_type": "code",
   "execution_count": 21,
   "id": "2b2ffbd9",
   "metadata": {},
   "outputs": [],
   "source": [
    "from pylab import rcParams # This will define a fixed size for all special charts.\n",
    "\n",
    "rcParams['figure.figsize'] = 18, 7"
   ]
  },
  {
   "cell_type": "code",
   "execution_count": 22,
   "id": "7cef2111",
   "metadata": {},
   "outputs": [
    {
     "data": {
      "image/png": "[encoded data removed]",
      "text/plain": [
       "<Figure size 1296x504 with 4 Axes>"
      ]
     },
     "metadata": {},
     "output_type": "display_data"
    }
   ],
   "source": [
    "# Plot the separate components\n",
    "\n",
    "decomp.plot()\n",
    "plt.show()"
   ]
  },
  {
   "cell_type": "markdown",
   "id": "ded7c8a9",
   "metadata": {},
   "source": [
    "### noise pretty small, consistent seasonal change, trend clearly visible"
   ]
  },
  {
   "cell_type": "code",
   "execution_count": 23,
   "id": "379dd40a",
   "metadata": {},
   "outputs": [
    {
     "name": "stdout",
     "output_type": "stream",
     "text": [
      "Dickey-Fuller Stationarity test:\n",
      "Test Statistic                -0.045\n",
      "p-value                        0.955\n",
      "Number of Lags Used            8.000\n",
      "Number of Observations Used   11.000\n",
      "Critical Value (1%)           -4.223\n",
      "Critical Value (5%)           -3.189\n",
      "Critical Value (10%)          -2.730\n",
      "dtype: float64\n"
     ]
    }
   ],
   "source": [
    "# The adfuller() function will import from the model from statsmodels for the test; however, running it will only return \n",
    "# an array of numbers. This is why you need to also define a function that prints the correct output from that array.\n",
    "\n",
    "from statsmodels.tsa.stattools import adfuller # Import the adfuller() function\n",
    "\n",
    "def dickey_fuller(timeseries): # Define the function\n",
    "    # Perform the Dickey-Fuller test:\n",
    "    print ('Dickey-Fuller Stationarity test:')\n",
    "    test = adfuller(timeseries, autolag='AIC')\n",
    "    result = pd.Series(test[0:4], index=['Test Statistic','p-value','Number of Lags Used','Number of Observations Used'])\n",
    "    for key,value in test[4].items():\n",
    "       result['Critical Value (%s)'%key] = value\n",
    "    print (result)\n",
    "\n",
    "# Apply the test using the function on the time series\n",
    "dickey_fuller(data2['Value'])"
   ]
  },
  {
   "cell_type": "markdown",
   "id": "c44fd681",
   "metadata": {},
   "source": [
    "### Test statistic is NOT smaller than %critical value =  null hypothesis not rejected\n",
    "### H0 null hypothesis = Emissions don't rise over the years"
   ]
  },
  {
   "cell_type": "code",
   "execution_count": 24,
   "id": "e95c272b",
   "metadata": {},
   "outputs": [
    {
     "data": {
      "image/png": "[encoded data removed]",
      "text/plain": [
       "<Figure size 1296x504 with 1 Axes>"
      ]
     },
     "metadata": {},
     "output_type": "display_data"
    }
   ],
   "source": [
    "from statsmodels.graphics.tsaplots import plot_acf, plot_pacf # Here, you import the autocorrelation and partial correlation plots\n",
    "\n",
    "plot_acf(data2)\n",
    "plt.show()"
   ]
  },
  {
   "cell_type": "code",
   "execution_count": 25,
   "id": "f0b90bb7",
   "metadata": {},
   "outputs": [],
   "source": [
    "data_diff = data2 - data2.shift(1)"
   ]
  },
  {
   "cell_type": "code",
   "execution_count": 26,
   "id": "46effe1f",
   "metadata": {},
   "outputs": [],
   "source": [
    "data_diff.dropna(inplace=True)"
   ]
  },
  {
   "cell_type": "code",
   "execution_count": 27,
   "id": "4493fd85",
   "metadata": {},
   "outputs": [
    {
     "data": {
      "text/plain": [
       "Value    0\n",
       "dtype: int64"
      ]
     },
     "execution_count": 27,
     "metadata": {},
     "output_type": "execute_result"
    }
   ],
   "source": [
    "data_diff.isnull().sum()"
   ]
  },
  {
   "cell_type": "code",
   "execution_count": 28,
   "id": "d640a70f",
   "metadata": {},
   "outputs": [
    {
     "name": "stdout",
     "output_type": "stream",
     "text": [
      "Dickey-Fuller Stationarity test:\n",
      "Test Statistic                -1.066\n",
      "p-value                        0.728\n",
      "Number of Lags Used            7.000\n",
      "Number of Observations Used   11.000\n",
      "Critical Value (1%)           -4.223\n",
      "Critical Value (5%)           -3.189\n",
      "Critical Value (10%)          -2.730\n",
      "dtype: float64\n"
     ]
    }
   ],
   "source": [
    "from statsmodels.tsa.stattools import adfuller # Import the adfuller() function\n",
    "\n",
    "def dickey_fuller(timeseries): # Define the function\n",
    "    # Perform the Dickey-Fuller test:\n",
    "    print ('Dickey-Fuller Stationarity test:')\n",
    "    test = adfuller(timeseries, autolag='AIC')\n",
    "    result = pd.Series(test[0:4], index=['Test Statistic','p-value','Number of Lags Used','Number of Observations Used'])\n",
    "    for key,value in test[4].items():\n",
    "       result['Critical Value (%s)'%key] = value\n",
    "    print (result)\n",
    "\n",
    "# Apply the test using the function on the time series\n",
    "dickey_fuller(data_diff['Value'])"
   ]
  },
  {
   "cell_type": "code",
   "execution_count": 29,
   "id": "0e1e2a51",
   "metadata": {},
   "outputs": [],
   "source": [
    "data_diff2 = data_diff - data_diff.shift(1)"
   ]
  },
  {
   "cell_type": "code",
   "execution_count": 30,
   "id": "bff91235",
   "metadata": {},
   "outputs": [],
   "source": [
    "data_diff2.dropna(inplace=True)"
   ]
  },
  {
   "cell_type": "code",
   "execution_count": 31,
   "id": "e6c9c7fb",
   "metadata": {},
   "outputs": [
    {
     "name": "stdout",
     "output_type": "stream",
     "text": [
      "Dickey-Fuller Stationarity test:\n",
      "Test Statistic                 0.632\n",
      "p-value                        0.988\n",
      "Number of Lags Used            7.000\n",
      "Number of Observations Used   10.000\n",
      "Critical Value (1%)           -4.332\n",
      "Critical Value (5%)           -3.233\n",
      "Critical Value (10%)          -2.749\n",
      "dtype: float64\n"
     ]
    }
   ],
   "source": [
    "from statsmodels.tsa.stattools import adfuller # Import the adfuller() function\n",
    "\n",
    "def dickey_fuller(timeseries): # Define the function\n",
    "    # Perform the Dickey-Fuller test:\n",
    "    print ('Dickey-Fuller Stationarity test:')\n",
    "    test = adfuller(timeseries, autolag='AIC')\n",
    "    result = pd.Series(test[0:4], index=['Test Statistic','p-value','Number of Lags Used','Number of Observations Used'])\n",
    "    for key,value in test[4].items():\n",
    "       result['Critical Value (%s)'%key] = value\n",
    "    print (result)\n",
    "\n",
    "# Apply the test using the function on the time series\n",
    "dickey_fuller(data_diff2['Value'])"
   ]
  },
  {
   "cell_type": "markdown",
   "id": "e8044471",
   "metadata": {},
   "source": [
    "# test statistic is still insignificant after two rounds of differencing. Other steps need to be taken"
   ]
  },
  {
   "cell_type": "code",
   "execution_count": 32,
   "id": "a7bcd96f",
   "metadata": {},
   "outputs": [],
   "source": [
    "data_log = np.log(data_diff['Value'])"
   ]
  },
  {
   "cell_type": "code",
   "execution_count": 33,
   "id": "802683bd",
   "metadata": {},
   "outputs": [],
   "source": [
    "data_log.dropna(inplace=True)"
   ]
  },
  {
   "cell_type": "code",
   "execution_count": 34,
   "id": "f0745729",
   "metadata": {},
   "outputs": [],
   "source": [
    "data_log2 = data_log - data_log.shift(1)"
   ]
  },
  {
   "cell_type": "code",
   "execution_count": 35,
   "id": "8fefc5c8",
   "metadata": {},
   "outputs": [],
   "source": [
    "data_log2.dropna(inplace=True)"
   ]
  },
  {
   "cell_type": "code",
   "execution_count": 36,
   "id": "7c8109ce",
   "metadata": {
    "scrolled": true
   },
   "outputs": [
    {
     "name": "stdout",
     "output_type": "stream",
     "text": [
      "Dickey-Fuller Stationarity test:\n",
      "Test Statistic                -35.562\n",
      "p-value                         0.000\n",
      "Number of Lags Used             3.000\n",
      "Number of Observations Used     6.000\n",
      "Critical Value (1%)            -5.354\n",
      "Critical Value (5%)            -3.646\n",
      "Critical Value (10%)           -2.901\n",
      "dtype: float64\n"
     ]
    }
   ],
   "source": [
    "from statsmodels.tsa.stattools import adfuller # Import the adfuller() function\n",
    "\n",
    "def dickey_fuller(timeseries): # Define the function\n",
    "    # Perform the Dickey-Fuller test:\n",
    "    print ('Dickey-Fuller Stationarity test:')\n",
    "    test = adfuller(timeseries, autolag='AIC')\n",
    "    result = pd.Series(test[0:4], index=['Test Statistic','p-value','Number of Lags Used','Number of Observations Used'])\n",
    "    for key,value in test[4].items():\n",
    "       result['Critical Value (%s)'%key] = value\n",
    "    print (result)\n",
    "\n",
    "# Apply the test using the function on the time series\n",
    "dickey_fuller(data_log2)"
   ]
  },
  {
   "cell_type": "markdown",
   "id": "ac1eabd9",
   "metadata": {},
   "source": [
    "# after taking the log of the first difference and another round of differencing we have a very small test statistic with which we can reject the null hypothesis\n",
    "# null hypothesis: Emissions don't rise over the years"
   ]
  }
 ],
 "metadata": {
  "kernelspec": {
   "display_name": "Python 3 (ipykernel)",
   "language": "python",
   "name": "python3"
  },
  "language_info": {
   "codemirror_mode": {
    "name": "ipython",
    "version": 3
   },
   "file_extension": ".py",
   "mimetype": "text/x-python",
   "name": "python",
   "nbconvert_exporter": "python",
   "pygments_lexer": "ipython3",
   "version": "3.8.11"
  }
 },
 "nbformat": 4,
 "nbformat_minor": 5
}
