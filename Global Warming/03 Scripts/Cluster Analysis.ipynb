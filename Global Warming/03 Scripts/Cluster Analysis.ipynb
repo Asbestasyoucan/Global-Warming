{
 "cells": [
  {
   "cell_type": "markdown",
   "id": "38d84d0a",
   "metadata": {},
   "source": [
    "### Importing libraries and data and renaming columns"
   ]
  },
  {
   "cell_type": "code",
   "execution_count": 1,
   "id": "89748f7e",
   "metadata": {},
   "outputs": [],
   "source": [
    "import pandas as pd\n",
    "import numpy as np\n",
    "import seaborn as sns\n",
    "import matplotlib\n",
    "import matplotlib.pyplot as plt\n",
    "import os\n",
    "import sklearn\n",
    "from sklearn.cluster import KMeans # Here is where you import the k-means algorithm from scikit-learn.\n",
    "import pylab as pl # PyLab is a convenience module that bulk imports matplotlib.\n",
    "from sklearn import preprocessing\n",
    "from pylab import *\n",
    "from matplotlib.ticker import ScalarFormatter\n",
    "from matplotlib.ticker import MultipleLocator, FormatStrFormatter"
   ]
  },
  {
   "cell_type": "code",
   "execution_count": 2,
   "id": "80b666fd",
   "metadata": {},
   "outputs": [],
   "source": [
    "%matplotlib inline"
   ]
  },
  {
   "cell_type": "code",
   "execution_count": 3,
   "id": "777da9b3",
   "metadata": {},
   "outputs": [],
   "source": [
    "path = 'C:\\\\Users\\\\Marce\\\\careerfoundry\\\\World Food fit'"
   ]
  },
  {
   "cell_type": "code",
   "execution_count": 4,
   "id": "31b510b6",
   "metadata": {},
   "outputs": [],
   "source": [
    "df = pd.read_csv(os.path.join(path, '02 Data', 'Prepared Data', 'merged.csv'))"
   ]
  },
  {
   "cell_type": "code",
   "execution_count": 5,
   "id": "793f9522",
   "metadata": {},
   "outputs": [],
   "source": [
    "pd.set_option('display.float_format', lambda x: '%.3f' % x) # only 3 numbers for decimal"
   ]
  },
  {
   "cell_type": "code",
   "execution_count": 6,
   "id": "4b4f0a14",
   "metadata": {},
   "outputs": [],
   "source": [
    "# matplotlib.rcParams['axes.formatter.useoffset'] = False"
   ]
  },
  {
   "cell_type": "code",
   "execution_count": 7,
   "id": "daa613d3",
   "metadata": {},
   "outputs": [
    {
     "data": {
      "text/plain": [
       "(6213092, 11)"
      ]
     },
     "execution_count": 7,
     "metadata": {},
     "output_type": "execute_result"
    }
   ],
   "source": [
    "df.shape"
   ]
  },
  {
   "cell_type": "code",
   "execution_count": 8,
   "id": "8ac26f0a",
   "metadata": {},
   "outputs": [
    {
     "data": {
      "text/html": [
       "<div>\n",
       "<style scoped>\n",
       "    .dataframe tbody tr th:only-of-type {\n",
       "        vertical-align: middle;\n",
       "    }\n",
       "\n",
       "    .dataframe tbody tr th {\n",
       "        vertical-align: top;\n",
       "    }\n",
       "\n",
       "    .dataframe thead th {\n",
       "        text-align: right;\n",
       "    }\n",
       "</style>\n",
       "<table border=\"1\" class=\"dataframe\">\n",
       "  <thead>\n",
       "    <tr style=\"text-align: right;\">\n",
       "      <th></th>\n",
       "      <th>Unnamed: 0</th>\n",
       "      <th>Area</th>\n",
       "      <th>Element_x</th>\n",
       "      <th>Year</th>\n",
       "      <th>Unit_x</th>\n",
       "      <th>Value_x</th>\n",
       "      <th>Element_y</th>\n",
       "      <th>Months</th>\n",
       "      <th>Unit_y</th>\n",
       "      <th>Value_y</th>\n",
       "      <th>_merge</th>\n",
       "    </tr>\n",
       "  </thead>\n",
       "  <tbody>\n",
       "    <tr>\n",
       "      <th>0</th>\n",
       "      <td>0</td>\n",
       "      <td>Afghanistan</td>\n",
       "      <td>Emissions (CH4)</td>\n",
       "      <td>2000</td>\n",
       "      <td>kilotonnes</td>\n",
       "      <td>308.486</td>\n",
       "      <td>Temperature change</td>\n",
       "      <td>January</td>\n",
       "      <td>?C</td>\n",
       "      <td>1.596</td>\n",
       "      <td>both</td>\n",
       "    </tr>\n",
       "    <tr>\n",
       "      <th>1</th>\n",
       "      <td>1</td>\n",
       "      <td>Afghanistan</td>\n",
       "      <td>Emissions (CH4)</td>\n",
       "      <td>2000</td>\n",
       "      <td>kilotonnes</td>\n",
       "      <td>308.486</td>\n",
       "      <td>Standard Deviation</td>\n",
       "      <td>January</td>\n",
       "      <td>?C</td>\n",
       "      <td>1.947</td>\n",
       "      <td>both</td>\n",
       "    </tr>\n",
       "    <tr>\n",
       "      <th>2</th>\n",
       "      <td>2</td>\n",
       "      <td>Afghanistan</td>\n",
       "      <td>Emissions (CH4)</td>\n",
       "      <td>2000</td>\n",
       "      <td>kilotonnes</td>\n",
       "      <td>308.486</td>\n",
       "      <td>Temperature change</td>\n",
       "      <td>February</td>\n",
       "      <td>?C</td>\n",
       "      <td>-0.881</td>\n",
       "      <td>both</td>\n",
       "    </tr>\n",
       "    <tr>\n",
       "      <th>3</th>\n",
       "      <td>3</td>\n",
       "      <td>Afghanistan</td>\n",
       "      <td>Emissions (CH4)</td>\n",
       "      <td>2000</td>\n",
       "      <td>kilotonnes</td>\n",
       "      <td>308.486</td>\n",
       "      <td>Standard Deviation</td>\n",
       "      <td>February</td>\n",
       "      <td>?C</td>\n",
       "      <td>2.590</td>\n",
       "      <td>both</td>\n",
       "    </tr>\n",
       "    <tr>\n",
       "      <th>4</th>\n",
       "      <td>4</td>\n",
       "      <td>Afghanistan</td>\n",
       "      <td>Emissions (CH4)</td>\n",
       "      <td>2000</td>\n",
       "      <td>kilotonnes</td>\n",
       "      <td>308.486</td>\n",
       "      <td>Temperature change</td>\n",
       "      <td>March</td>\n",
       "      <td>?C</td>\n",
       "      <td>-0.237</td>\n",
       "      <td>both</td>\n",
       "    </tr>\n",
       "  </tbody>\n",
       "</table>\n",
       "</div>"
      ],
      "text/plain": [
       "   Unnamed: 0         Area        Element_x  Year      Unit_x  Value_x  \\\n",
       "0           0  Afghanistan  Emissions (CH4)  2000  kilotonnes  308.486   \n",
       "1           1  Afghanistan  Emissions (CH4)  2000  kilotonnes  308.486   \n",
       "2           2  Afghanistan  Emissions (CH4)  2000  kilotonnes  308.486   \n",
       "3           3  Afghanistan  Emissions (CH4)  2000  kilotonnes  308.486   \n",
       "4           4  Afghanistan  Emissions (CH4)  2000  kilotonnes  308.486   \n",
       "\n",
       "            Element_y    Months Unit_y  Value_y _merge  \n",
       "0  Temperature change   January     ?C    1.596   both  \n",
       "1  Standard Deviation   January     ?C    1.947   both  \n",
       "2  Temperature change  February     ?C   -0.881   both  \n",
       "3  Standard Deviation  February     ?C    2.590   both  \n",
       "4  Temperature change     March     ?C   -0.237   both  "
      ]
     },
     "execution_count": 8,
     "metadata": {},
     "output_type": "execute_result"
    }
   ],
   "source": [
    "df.head()"
   ]
  },
  {
   "cell_type": "code",
   "execution_count": 9,
   "id": "ff176b1e",
   "metadata": {},
   "outputs": [
    {
     "data": {
      "text/plain": [
       "Index(['Unnamed: 0', 'Area', 'Element_x', 'Year', 'Unit_x', 'Value_x',\n",
       "       'Element_y', 'Months', 'Unit_y', 'Value_y', '_merge'],\n",
       "      dtype='object')"
      ]
     },
     "execution_count": 9,
     "metadata": {},
     "output_type": "execute_result"
    }
   ],
   "source": [
    "df.columns"
   ]
  },
  {
   "cell_type": "code",
   "execution_count": 10,
   "id": "b75609a0",
   "metadata": {},
   "outputs": [
    {
     "data": {
      "text/plain": [
       "Emissions (CO2eq) (AR5)             904264\n",
       "Emissions (N2O)                     896784\n",
       "Emissions (CO2eq) from N2O (AR5)    896784\n",
       "Emissions (CH4)                     754222\n",
       "Emissions (CO2eq) from CH4 (AR5)    754222\n",
       "Direct emissions (N2O)              693940\n",
       "Indirect emissions (N2O)            693940\n",
       "Emissions (CO2)                     618936\n",
       "Name: Element_x, dtype: int64"
      ]
     },
     "execution_count": 10,
     "metadata": {},
     "output_type": "execute_result"
    }
   ],
   "source": [
    "df['Element_x'].value_counts()"
   ]
  },
  {
   "cell_type": "code",
   "execution_count": 11,
   "id": "1553908b",
   "metadata": {},
   "outputs": [
    {
     "data": {
      "text/plain": [
       "Unnamed: 0    0\n",
       "Area          0\n",
       "Element_x     0\n",
       "Year          0\n",
       "Unit_x        0\n",
       "Value_x       0\n",
       "Element_y     0\n",
       "Months        0\n",
       "Unit_y        0\n",
       "Value_y       0\n",
       "_merge        0\n",
       "dtype: int64"
      ]
     },
     "execution_count": 11,
     "metadata": {},
     "output_type": "execute_result"
    }
   ],
   "source": [
    "df.isnull().sum()"
   ]
  },
  {
   "cell_type": "code",
   "execution_count": 12,
   "id": "576ff627",
   "metadata": {},
   "outputs": [],
   "source": [
    "df3 = df[df['Element_x'].isin(['Emissions (CO2eq) from N2O (AR5)', 'Emissions (CO2eq) from CH4 (AR5)','Emissions (CO2)']) ]"
   ]
  },
  {
   "cell_type": "code",
   "execution_count": 13,
   "id": "fff1ce5a",
   "metadata": {},
   "outputs": [],
   "source": [
    "df2 = df3[['Element_x','Year','Value_x','Value_y']]"
   ]
  },
  {
   "cell_type": "code",
   "execution_count": 14,
   "id": "f0afbfd1",
   "metadata": {},
   "outputs": [
    {
     "data": {
      "text/plain": [
       "Emissions (CO2eq) from N2O (AR5)    896784\n",
       "Emissions (CO2eq) from CH4 (AR5)    754222\n",
       "Emissions (CO2)                     618936\n",
       "Name: Element_x, dtype: int64"
      ]
     },
     "execution_count": 14,
     "metadata": {},
     "output_type": "execute_result"
    }
   ],
   "source": [
    "df3['Element_x'].value_counts()"
   ]
  },
  {
   "cell_type": "code",
   "execution_count": 15,
   "id": "5efa6edf",
   "metadata": {},
   "outputs": [
    {
     "data": {
      "text/html": [
       "<div>\n",
       "<style scoped>\n",
       "    .dataframe tbody tr th:only-of-type {\n",
       "        vertical-align: middle;\n",
       "    }\n",
       "\n",
       "    .dataframe tbody tr th {\n",
       "        vertical-align: top;\n",
       "    }\n",
       "\n",
       "    .dataframe thead th {\n",
       "        text-align: right;\n",
       "    }\n",
       "</style>\n",
       "<table border=\"1\" class=\"dataframe\">\n",
       "  <thead>\n",
       "    <tr style=\"text-align: right;\">\n",
       "      <th></th>\n",
       "      <th>Element_x</th>\n",
       "      <th>Year</th>\n",
       "      <th>Value_x</th>\n",
       "      <th>Value_y</th>\n",
       "    </tr>\n",
       "  </thead>\n",
       "  <tbody>\n",
       "    <tr>\n",
       "      <th>476</th>\n",
       "      <td>Emissions (CO2)</td>\n",
       "      <td>2000</td>\n",
       "      <td>-2388.803</td>\n",
       "      <td>1.596</td>\n",
       "    </tr>\n",
       "    <tr>\n",
       "      <th>477</th>\n",
       "      <td>Emissions (CO2)</td>\n",
       "      <td>2000</td>\n",
       "      <td>-2388.803</td>\n",
       "      <td>1.947</td>\n",
       "    </tr>\n",
       "    <tr>\n",
       "      <th>478</th>\n",
       "      <td>Emissions (CO2)</td>\n",
       "      <td>2000</td>\n",
       "      <td>-2388.803</td>\n",
       "      <td>-0.881</td>\n",
       "    </tr>\n",
       "    <tr>\n",
       "      <th>479</th>\n",
       "      <td>Emissions (CO2)</td>\n",
       "      <td>2000</td>\n",
       "      <td>-2388.803</td>\n",
       "      <td>2.590</td>\n",
       "    </tr>\n",
       "    <tr>\n",
       "      <th>480</th>\n",
       "      <td>Emissions (CO2)</td>\n",
       "      <td>2000</td>\n",
       "      <td>-2388.803</td>\n",
       "      <td>-0.237</td>\n",
       "    </tr>\n",
       "    <tr>\n",
       "      <th>...</th>\n",
       "      <td>...</td>\n",
       "      <td>...</td>\n",
       "      <td>...</td>\n",
       "      <td>...</td>\n",
       "    </tr>\n",
       "    <tr>\n",
       "      <th>6212985</th>\n",
       "      <td>Emissions (CO2)</td>\n",
       "      <td>2019</td>\n",
       "      <td>399.054</td>\n",
       "      <td>0.519</td>\n",
       "    </tr>\n",
       "    <tr>\n",
       "      <th>6212986</th>\n",
       "      <td>Emissions (CO2)</td>\n",
       "      <td>2019</td>\n",
       "      <td>399.054</td>\n",
       "      <td>1.675</td>\n",
       "    </tr>\n",
       "    <tr>\n",
       "      <th>6212987</th>\n",
       "      <td>Emissions (CO2)</td>\n",
       "      <td>2019</td>\n",
       "      <td>399.054</td>\n",
       "      <td>0.501</td>\n",
       "    </tr>\n",
       "    <tr>\n",
       "      <th>6212988</th>\n",
       "      <td>Emissions (CO2)</td>\n",
       "      <td>2019</td>\n",
       "      <td>399.054</td>\n",
       "      <td>1.359</td>\n",
       "    </tr>\n",
       "    <tr>\n",
       "      <th>6212989</th>\n",
       "      <td>Emissions (CO2)</td>\n",
       "      <td>2019</td>\n",
       "      <td>399.054</td>\n",
       "      <td>0.313</td>\n",
       "    </tr>\n",
       "  </tbody>\n",
       "</table>\n",
       "<p>618936 rows × 4 columns</p>\n",
       "</div>"
      ],
      "text/plain": [
       "               Element_x  Year   Value_x  Value_y\n",
       "476      Emissions (CO2)  2000 -2388.803    1.596\n",
       "477      Emissions (CO2)  2000 -2388.803    1.947\n",
       "478      Emissions (CO2)  2000 -2388.803   -0.881\n",
       "479      Emissions (CO2)  2000 -2388.803    2.590\n",
       "480      Emissions (CO2)  2000 -2388.803   -0.237\n",
       "...                  ...   ...       ...      ...\n",
       "6212985  Emissions (CO2)  2019   399.054    0.519\n",
       "6212986  Emissions (CO2)  2019   399.054    1.675\n",
       "6212987  Emissions (CO2)  2019   399.054    0.501\n",
       "6212988  Emissions (CO2)  2019   399.054    1.359\n",
       "6212989  Emissions (CO2)  2019   399.054    0.313\n",
       "\n",
       "[618936 rows x 4 columns]"
      ]
     },
     "execution_count": 15,
     "metadata": {},
     "output_type": "execute_result"
    }
   ],
   "source": [
    "df2[df2['Element_x']=='Emissions (CO2)']"
   ]
  },
  {
   "cell_type": "code",
   "execution_count": 16,
   "id": "553d31bd",
   "metadata": {},
   "outputs": [
    {
     "data": {
      "text/html": [
       "<div>\n",
       "<style scoped>\n",
       "    .dataframe tbody tr th:only-of-type {\n",
       "        vertical-align: middle;\n",
       "    }\n",
       "\n",
       "    .dataframe tbody tr th {\n",
       "        vertical-align: top;\n",
       "    }\n",
       "\n",
       "    .dataframe thead th {\n",
       "        text-align: right;\n",
       "    }\n",
       "</style>\n",
       "<table border=\"1\" class=\"dataframe\">\n",
       "  <thead>\n",
       "    <tr style=\"text-align: right;\">\n",
       "      <th></th>\n",
       "      <th>Element_x</th>\n",
       "      <th>Year</th>\n",
       "      <th>Value_x</th>\n",
       "      <th>Value_y</th>\n",
       "    </tr>\n",
       "  </thead>\n",
       "  <tbody>\n",
       "    <tr>\n",
       "      <th>136</th>\n",
       "      <td>Emissions (CO2eq) from CH4 (AR5)</td>\n",
       "      <td>2000</td>\n",
       "      <td>8637.597</td>\n",
       "      <td>1.596</td>\n",
       "    </tr>\n",
       "    <tr>\n",
       "      <th>137</th>\n",
       "      <td>Emissions (CO2eq) from CH4 (AR5)</td>\n",
       "      <td>2000</td>\n",
       "      <td>8637.597</td>\n",
       "      <td>1.947</td>\n",
       "    </tr>\n",
       "    <tr>\n",
       "      <th>138</th>\n",
       "      <td>Emissions (CO2eq) from CH4 (AR5)</td>\n",
       "      <td>2000</td>\n",
       "      <td>8637.597</td>\n",
       "      <td>-0.881</td>\n",
       "    </tr>\n",
       "    <tr>\n",
       "      <th>139</th>\n",
       "      <td>Emissions (CO2eq) from CH4 (AR5)</td>\n",
       "      <td>2000</td>\n",
       "      <td>8637.597</td>\n",
       "      <td>2.590</td>\n",
       "    </tr>\n",
       "    <tr>\n",
       "      <th>140</th>\n",
       "      <td>Emissions (CO2eq) from CH4 (AR5)</td>\n",
       "      <td>2000</td>\n",
       "      <td>8637.597</td>\n",
       "      <td>-0.237</td>\n",
       "    </tr>\n",
       "    <tr>\n",
       "      <th>...</th>\n",
       "      <td>...</td>\n",
       "      <td>...</td>\n",
       "      <td>...</td>\n",
       "      <td>...</td>\n",
       "    </tr>\n",
       "    <tr>\n",
       "      <th>6213019</th>\n",
       "      <td>Emissions (CO2eq) from CH4 (AR5)</td>\n",
       "      <td>2019</td>\n",
       "      <td>7321.668</td>\n",
       "      <td>0.519</td>\n",
       "    </tr>\n",
       "    <tr>\n",
       "      <th>6213020</th>\n",
       "      <td>Emissions (CO2eq) from CH4 (AR5)</td>\n",
       "      <td>2019</td>\n",
       "      <td>7321.668</td>\n",
       "      <td>1.675</td>\n",
       "    </tr>\n",
       "    <tr>\n",
       "      <th>6213021</th>\n",
       "      <td>Emissions (CO2eq) from CH4 (AR5)</td>\n",
       "      <td>2019</td>\n",
       "      <td>7321.668</td>\n",
       "      <td>0.501</td>\n",
       "    </tr>\n",
       "    <tr>\n",
       "      <th>6213022</th>\n",
       "      <td>Emissions (CO2eq) from CH4 (AR5)</td>\n",
       "      <td>2019</td>\n",
       "      <td>7321.668</td>\n",
       "      <td>1.359</td>\n",
       "    </tr>\n",
       "    <tr>\n",
       "      <th>6213023</th>\n",
       "      <td>Emissions (CO2eq) from CH4 (AR5)</td>\n",
       "      <td>2019</td>\n",
       "      <td>7321.668</td>\n",
       "      <td>0.313</td>\n",
       "    </tr>\n",
       "  </tbody>\n",
       "</table>\n",
       "<p>754222 rows × 4 columns</p>\n",
       "</div>"
      ],
      "text/plain": [
       "                                Element_x  Year  Value_x  Value_y\n",
       "136      Emissions (CO2eq) from CH4 (AR5)  2000 8637.597    1.596\n",
       "137      Emissions (CO2eq) from CH4 (AR5)  2000 8637.597    1.947\n",
       "138      Emissions (CO2eq) from CH4 (AR5)  2000 8637.597   -0.881\n",
       "139      Emissions (CO2eq) from CH4 (AR5)  2000 8637.597    2.590\n",
       "140      Emissions (CO2eq) from CH4 (AR5)  2000 8637.597   -0.237\n",
       "...                                   ...   ...      ...      ...\n",
       "6213019  Emissions (CO2eq) from CH4 (AR5)  2019 7321.668    0.519\n",
       "6213020  Emissions (CO2eq) from CH4 (AR5)  2019 7321.668    1.675\n",
       "6213021  Emissions (CO2eq) from CH4 (AR5)  2019 7321.668    0.501\n",
       "6213022  Emissions (CO2eq) from CH4 (AR5)  2019 7321.668    1.359\n",
       "6213023  Emissions (CO2eq) from CH4 (AR5)  2019 7321.668    0.313\n",
       "\n",
       "[754222 rows x 4 columns]"
      ]
     },
     "execution_count": 16,
     "metadata": {},
     "output_type": "execute_result"
    }
   ],
   "source": [
    "df2[df2['Element_x']=='Emissions (CO2eq) from CH4 (AR5)']"
   ]
  },
  {
   "cell_type": "code",
   "execution_count": 17,
   "id": "e6ba3a2d",
   "metadata": {},
   "outputs": [
    {
     "data": {
      "text/html": [
       "<div>\n",
       "<style scoped>\n",
       "    .dataframe tbody tr th:only-of-type {\n",
       "        vertical-align: middle;\n",
       "    }\n",
       "\n",
       "    .dataframe tbody tr th {\n",
       "        vertical-align: top;\n",
       "    }\n",
       "\n",
       "    .dataframe thead th {\n",
       "        text-align: right;\n",
       "    }\n",
       "</style>\n",
       "<table border=\"1\" class=\"dataframe\">\n",
       "  <thead>\n",
       "    <tr style=\"text-align: right;\">\n",
       "      <th></th>\n",
       "      <th>Element_x</th>\n",
       "      <th>Year</th>\n",
       "      <th>Value_x</th>\n",
       "      <th>Value_y</th>\n",
       "    </tr>\n",
       "  </thead>\n",
       "  <tbody>\n",
       "    <tr>\n",
       "      <th>170</th>\n",
       "      <td>Emissions (CO2eq) from N2O (AR5)</td>\n",
       "      <td>2000</td>\n",
       "      <td>2911.322</td>\n",
       "      <td>1.596</td>\n",
       "    </tr>\n",
       "    <tr>\n",
       "      <th>171</th>\n",
       "      <td>Emissions (CO2eq) from N2O (AR5)</td>\n",
       "      <td>2000</td>\n",
       "      <td>2911.322</td>\n",
       "      <td>1.947</td>\n",
       "    </tr>\n",
       "    <tr>\n",
       "      <th>172</th>\n",
       "      <td>Emissions (CO2eq) from N2O (AR5)</td>\n",
       "      <td>2000</td>\n",
       "      <td>2911.322</td>\n",
       "      <td>-0.881</td>\n",
       "    </tr>\n",
       "    <tr>\n",
       "      <th>173</th>\n",
       "      <td>Emissions (CO2eq) from N2O (AR5)</td>\n",
       "      <td>2000</td>\n",
       "      <td>2911.322</td>\n",
       "      <td>2.590</td>\n",
       "    </tr>\n",
       "    <tr>\n",
       "      <th>174</th>\n",
       "      <td>Emissions (CO2eq) from N2O (AR5)</td>\n",
       "      <td>2000</td>\n",
       "      <td>2911.322</td>\n",
       "      <td>-0.237</td>\n",
       "    </tr>\n",
       "    <tr>\n",
       "      <th>...</th>\n",
       "      <td>...</td>\n",
       "      <td>...</td>\n",
       "      <td>...</td>\n",
       "      <td>...</td>\n",
       "    </tr>\n",
       "    <tr>\n",
       "      <th>6213053</th>\n",
       "      <td>Emissions (CO2eq) from N2O (AR5)</td>\n",
       "      <td>2019</td>\n",
       "      <td>4216.897</td>\n",
       "      <td>0.519</td>\n",
       "    </tr>\n",
       "    <tr>\n",
       "      <th>6213054</th>\n",
       "      <td>Emissions (CO2eq) from N2O (AR5)</td>\n",
       "      <td>2019</td>\n",
       "      <td>4216.897</td>\n",
       "      <td>1.675</td>\n",
       "    </tr>\n",
       "    <tr>\n",
       "      <th>6213055</th>\n",
       "      <td>Emissions (CO2eq) from N2O (AR5)</td>\n",
       "      <td>2019</td>\n",
       "      <td>4216.897</td>\n",
       "      <td>0.501</td>\n",
       "    </tr>\n",
       "    <tr>\n",
       "      <th>6213056</th>\n",
       "      <td>Emissions (CO2eq) from N2O (AR5)</td>\n",
       "      <td>2019</td>\n",
       "      <td>4216.897</td>\n",
       "      <td>1.359</td>\n",
       "    </tr>\n",
       "    <tr>\n",
       "      <th>6213057</th>\n",
       "      <td>Emissions (CO2eq) from N2O (AR5)</td>\n",
       "      <td>2019</td>\n",
       "      <td>4216.897</td>\n",
       "      <td>0.313</td>\n",
       "    </tr>\n",
       "  </tbody>\n",
       "</table>\n",
       "<p>896784 rows × 4 columns</p>\n",
       "</div>"
      ],
      "text/plain": [
       "                                Element_x  Year  Value_x  Value_y\n",
       "170      Emissions (CO2eq) from N2O (AR5)  2000 2911.322    1.596\n",
       "171      Emissions (CO2eq) from N2O (AR5)  2000 2911.322    1.947\n",
       "172      Emissions (CO2eq) from N2O (AR5)  2000 2911.322   -0.881\n",
       "173      Emissions (CO2eq) from N2O (AR5)  2000 2911.322    2.590\n",
       "174      Emissions (CO2eq) from N2O (AR5)  2000 2911.322   -0.237\n",
       "...                                   ...   ...      ...      ...\n",
       "6213053  Emissions (CO2eq) from N2O (AR5)  2019 4216.897    0.519\n",
       "6213054  Emissions (CO2eq) from N2O (AR5)  2019 4216.897    1.675\n",
       "6213055  Emissions (CO2eq) from N2O (AR5)  2019 4216.897    0.501\n",
       "6213056  Emissions (CO2eq) from N2O (AR5)  2019 4216.897    1.359\n",
       "6213057  Emissions (CO2eq) from N2O (AR5)  2019 4216.897    0.313\n",
       "\n",
       "[896784 rows x 4 columns]"
      ]
     },
     "execution_count": 17,
     "metadata": {},
     "output_type": "execute_result"
    }
   ],
   "source": [
    "df2[df2['Element_x']=='Emissions (CO2eq) from N2O (AR5)']"
   ]
  },
  {
   "cell_type": "code",
   "execution_count": 18,
   "id": "91bc224f",
   "metadata": {},
   "outputs": [
    {
     "name": "stderr",
     "output_type": "stream",
     "text": [
      "C:\\Users\\Marce\\anaconda3\\lib\\site-packages\\pandas\\core\\frame.py:4901: SettingWithCopyWarning: \n",
      "A value is trying to be set on a copy of a slice from a DataFrame\n",
      "\n",
      "See the caveats in the documentation: https://pandas.pydata.org/pandas-docs/stable/user_guide/indexing.html#returning-a-view-versus-a-copy\n",
      "  return super().drop(\n"
     ]
    }
   ],
   "source": [
    "df2.drop(columns=['Element_x'],inplace=True)"
   ]
  },
  {
   "cell_type": "code",
   "execution_count": 19,
   "id": "f8be7c1e",
   "metadata": {},
   "outputs": [
    {
     "name": "stderr",
     "output_type": "stream",
     "text": [
      "C:\\Users\\Marce\\AppData\\Local\\Temp/ipykernel_11980/4252993604.py:1: SettingWithCopyWarning: \n",
      "A value is trying to be set on a copy of a slice from a DataFrame.\n",
      "Try using .loc[row_indexer,col_indexer] = value instead\n",
      "\n",
      "See the caveats in the documentation: https://pandas.pydata.org/pandas-docs/stable/user_guide/indexing.html#returning-a-view-versus-a-copy\n",
      "  df2['Year'] = df2['Year'].astype(str)\n"
     ]
    }
   ],
   "source": [
    "df2['Year'] = df2['Year'].astype(str)"
   ]
  },
  {
   "cell_type": "code",
   "execution_count": 20,
   "id": "b7c1e860",
   "metadata": {},
   "outputs": [
    {
     "name": "stderr",
     "output_type": "stream",
     "text": [
      "C:\\Users\\Marce\\AppData\\Local\\Temp/ipykernel_11980/3099714571.py:1: SettingWithCopyWarning: \n",
      "A value is trying to be set on a copy of a slice from a DataFrame.\n",
      "Try using .loc[row_indexer,col_indexer] = value instead\n",
      "\n",
      "See the caveats in the documentation: https://pandas.pydata.org/pandas-docs/stable/user_guide/indexing.html#returning-a-view-versus-a-copy\n",
      "  df2['Value_x'] = df2['Value_x'].astype(np.int64)\n"
     ]
    }
   ],
   "source": [
    "df2['Value_x'] = df2['Value_x'].astype(np.int64)"
   ]
  },
  {
   "cell_type": "code",
   "execution_count": 21,
   "id": "59c71817",
   "metadata": {},
   "outputs": [
    {
     "data": {
      "text/plain": [
       "Year        object\n",
       "Value_x      int64\n",
       "Value_y    float64\n",
       "dtype: object"
      ]
     },
     "execution_count": 21,
     "metadata": {},
     "output_type": "execute_result"
    }
   ],
   "source": [
    "df2.dtypes"
   ]
  },
  {
   "cell_type": "code",
   "execution_count": 22,
   "id": "6add2d84",
   "metadata": {},
   "outputs": [
    {
     "data": {
      "text/plain": [
       "(2269942, 3)"
      ]
     },
     "execution_count": 22,
     "metadata": {},
     "output_type": "execute_result"
    }
   ],
   "source": [
    "df2.shape"
   ]
  },
  {
   "cell_type": "markdown",
   "id": "9886b1ef",
   "metadata": {},
   "source": [
    "### 2. The elbow technique"
   ]
  },
  {
   "cell_type": "code",
   "execution_count": 23,
   "id": "637901b2",
   "metadata": {},
   "outputs": [],
   "source": [
    "# define range of potential clusters\n",
    "num_cl = range(1, 5)\n",
    "\n",
    "# define k-means clusters in the range from above\n",
    "kmeans = [KMeans(n_clusters=i) for i in num_cl]"
   ]
  },
  {
   "cell_type": "code",
   "execution_count": 24,
   "id": "173a16e0",
   "metadata": {},
   "outputs": [
    {
     "data": {
      "text/plain": [
       "[-8917355864199943.0,\n",
       " -3950799054173122.0,\n",
       " -2658820608296224.0,\n",
       " -1617476250093557.2]"
      ]
     },
     "execution_count": 24,
     "metadata": {},
     "output_type": "execute_result"
    }
   ],
   "source": [
    "# create a score that represents a rate of variation for the given cluster option\n",
    "score = [kmeans[i].fit(df2).score(df2) for i in range(len(kmeans))] # defines k-means clusters for range set above\n",
    "\n",
    "score"
   ]
  },
  {
   "cell_type": "code",
   "execution_count": 25,
   "id": "b6d95210",
   "metadata": {},
   "outputs": [
    {
     "data": {
      "image/png": "[encoded data removed]",
      "text/plain": [
       "<Figure size 432x288 with 1 Axes>"
      ]
     },
     "metadata": {
      "needs_background": "light"
     },
     "output_type": "display_data"
    }
   ],
   "source": [
    "# Plot the elbow curve using PyLab\n",
    "\n",
    "pl.plot(num_cl,score)\n",
    "pl.xlabel('number of clusters')\n",
    "pl.ylabel('score')\n",
    "pl.title('elbow curve')\n",
    "pl.plot(num_cl,score)\n",
    "pl.show()"
   ]
  },
  {
   "cell_type": "markdown",
   "id": "94a06a3d",
   "metadata": {},
   "source": [
    "# breakpoint is 3"
   ]
  },
  {
   "cell_type": "markdown",
   "id": "6197533f",
   "metadata": {},
   "source": [
    "### 3. k-means clustering"
   ]
  },
  {
   "cell_type": "code",
   "execution_count": 26,
   "id": "39371169",
   "metadata": {},
   "outputs": [],
   "source": [
    "# Create the k-means object.\n",
    "\n",
    "kmeans = KMeans(n_clusters = 3, n_jobs = -1) # n_jobs -> use all processor cores/split the task"
   ]
  },
  {
   "cell_type": "code",
   "execution_count": 27,
   "id": "c7b88a0e",
   "metadata": {},
   "outputs": [
    {
     "name": "stderr",
     "output_type": "stream",
     "text": [
      "C:\\Users\\Marce\\anaconda3\\lib\\site-packages\\sklearn\\cluster\\_kmeans.py:792: FutureWarning: 'n_jobs' was deprecated in version 0.23 and will be removed in 1.0 (renaming of 0.25).\n",
      "  warnings.warn(\"'n_jobs' was deprecated in version 0.23 and will be\"\n"
     ]
    },
    {
     "data": {
      "text/plain": [
       "KMeans(n_clusters=3, n_jobs=-1)"
      ]
     },
     "execution_count": 27,
     "metadata": {},
     "output_type": "execute_result"
    }
   ],
   "source": [
    "kmeans.fit(df2)"
   ]
  },
  {
   "cell_type": "code",
   "execution_count": 28,
   "id": "c2322a27",
   "metadata": {},
   "outputs": [
    {
     "name": "stderr",
     "output_type": "stream",
     "text": [
      "C:\\Users\\Marce\\anaconda3\\lib\\site-packages\\sklearn\\cluster\\_kmeans.py:792: FutureWarning: 'n_jobs' was deprecated in version 0.23 and will be removed in 1.0 (renaming of 0.25).\n",
      "  warnings.warn(\"'n_jobs' was deprecated in version 0.23 and will be\"\n",
      "C:\\Users\\Marce\\AppData\\Local\\Temp/ipykernel_11980/3385428573.py:1: SettingWithCopyWarning: \n",
      "A value is trying to be set on a copy of a slice from a DataFrame.\n",
      "Try using .loc[row_indexer,col_indexer] = value instead\n",
      "\n",
      "See the caveats in the documentation: https://pandas.pydata.org/pandas-docs/stable/user_guide/indexing.html#returning-a-view-versus-a-copy\n",
      "  df2['clusters'] = kmeans.fit_predict(df2)\n"
     ]
    }
   ],
   "source": [
    "df2['clusters'] = kmeans.fit_predict(df2)"
   ]
  },
  {
   "cell_type": "code",
   "execution_count": 29,
   "id": "2acc950e",
   "metadata": {},
   "outputs": [
    {
     "data": {
      "text/html": [
       "<div>\n",
       "<style scoped>\n",
       "    .dataframe tbody tr th:only-of-type {\n",
       "        vertical-align: middle;\n",
       "    }\n",
       "\n",
       "    .dataframe tbody tr th {\n",
       "        vertical-align: top;\n",
       "    }\n",
       "\n",
       "    .dataframe thead th {\n",
       "        text-align: right;\n",
       "    }\n",
       "</style>\n",
       "<table border=\"1\" class=\"dataframe\">\n",
       "  <thead>\n",
       "    <tr style=\"text-align: right;\">\n",
       "      <th></th>\n",
       "      <th>Year</th>\n",
       "      <th>Value_x</th>\n",
       "      <th>Value_y</th>\n",
       "      <th>clusters</th>\n",
       "    </tr>\n",
       "  </thead>\n",
       "  <tbody>\n",
       "    <tr>\n",
       "      <th>136</th>\n",
       "      <td>2000</td>\n",
       "      <td>8637</td>\n",
       "      <td>1.596</td>\n",
       "      <td>0</td>\n",
       "    </tr>\n",
       "    <tr>\n",
       "      <th>137</th>\n",
       "      <td>2000</td>\n",
       "      <td>8637</td>\n",
       "      <td>1.947</td>\n",
       "      <td>0</td>\n",
       "    </tr>\n",
       "    <tr>\n",
       "      <th>138</th>\n",
       "      <td>2000</td>\n",
       "      <td>8637</td>\n",
       "      <td>-0.881</td>\n",
       "      <td>0</td>\n",
       "    </tr>\n",
       "    <tr>\n",
       "      <th>139</th>\n",
       "      <td>2000</td>\n",
       "      <td>8637</td>\n",
       "      <td>2.590</td>\n",
       "      <td>0</td>\n",
       "    </tr>\n",
       "    <tr>\n",
       "      <th>140</th>\n",
       "      <td>2000</td>\n",
       "      <td>8637</td>\n",
       "      <td>-0.237</td>\n",
       "      <td>0</td>\n",
       "    </tr>\n",
       "  </tbody>\n",
       "</table>\n",
       "</div>"
      ],
      "text/plain": [
       "     Year  Value_x  Value_y  clusters\n",
       "136  2000     8637    1.596         0\n",
       "137  2000     8637    1.947         0\n",
       "138  2000     8637   -0.881         0\n",
       "139  2000     8637    2.590         0\n",
       "140  2000     8637   -0.237         0"
      ]
     },
     "execution_count": 29,
     "metadata": {},
     "output_type": "execute_result"
    }
   ],
   "source": [
    "df2.head(5)"
   ]
  },
  {
   "cell_type": "code",
   "execution_count": 30,
   "id": "22958ada",
   "metadata": {},
   "outputs": [
    {
     "data": {
      "text/plain": [
       "0    2233868\n",
       "1      30634\n",
       "2       5440\n",
       "Name: clusters, dtype: int64"
      ]
     },
     "execution_count": 30,
     "metadata": {},
     "output_type": "execute_result"
    }
   ],
   "source": [
    "df2[\"clusters\"].value_counts()"
   ]
  },
  {
   "cell_type": "code",
   "execution_count": 31,
   "id": "70abc12f",
   "metadata": {},
   "outputs": [
    {
     "data": {
      "text/html": [
       "<div>\n",
       "<style scoped>\n",
       "    .dataframe tbody tr th:only-of-type {\n",
       "        vertical-align: middle;\n",
       "    }\n",
       "\n",
       "    .dataframe tbody tr th {\n",
       "        vertical-align: top;\n",
       "    }\n",
       "\n",
       "    .dataframe thead th {\n",
       "        text-align: right;\n",
       "    }\n",
       "</style>\n",
       "<table border=\"1\" class=\"dataframe\">\n",
       "  <thead>\n",
       "    <tr style=\"text-align: right;\">\n",
       "      <th></th>\n",
       "      <th>Value_x</th>\n",
       "      <th>Value_y</th>\n",
       "      <th>clusters</th>\n",
       "    </tr>\n",
       "  </thead>\n",
       "  <tbody>\n",
       "    <tr>\n",
       "      <th>count</th>\n",
       "      <td>2269942.000</td>\n",
       "      <td>2269942.000</td>\n",
       "      <td>2269942.000</td>\n",
       "    </tr>\n",
       "    <tr>\n",
       "      <th>mean</th>\n",
       "      <td>11632.451</td>\n",
       "      <td>0.834</td>\n",
       "      <td>0.018</td>\n",
       "    </tr>\n",
       "    <tr>\n",
       "      <th>std</th>\n",
       "      <td>62677.370</td>\n",
       "      <td>0.784</td>\n",
       "      <td>0.151</td>\n",
       "    </tr>\n",
       "    <tr>\n",
       "      <th>min</th>\n",
       "      <td>-730942.000</td>\n",
       "      <td>-9.303</td>\n",
       "      <td>0.000</td>\n",
       "    </tr>\n",
       "    <tr>\n",
       "      <th>25%</th>\n",
       "      <td>5.000</td>\n",
       "      <td>0.414</td>\n",
       "      <td>0.000</td>\n",
       "    </tr>\n",
       "    <tr>\n",
       "      <th>50%</th>\n",
       "      <td>718.000</td>\n",
       "      <td>0.687</td>\n",
       "      <td>0.000</td>\n",
       "    </tr>\n",
       "    <tr>\n",
       "      <th>75%</th>\n",
       "      <td>6126.000</td>\n",
       "      <td>1.110</td>\n",
       "      <td>0.000</td>\n",
       "    </tr>\n",
       "    <tr>\n",
       "      <th>max</th>\n",
       "      <td>1627228.000</td>\n",
       "      <td>11.759</td>\n",
       "      <td>2.000</td>\n",
       "    </tr>\n",
       "  </tbody>\n",
       "</table>\n",
       "</div>"
      ],
      "text/plain": [
       "          Value_x     Value_y    clusters\n",
       "count 2269942.000 2269942.000 2269942.000\n",
       "mean    11632.451       0.834       0.018\n",
       "std     62677.370       0.784       0.151\n",
       "min   -730942.000      -9.303       0.000\n",
       "25%         5.000       0.414       0.000\n",
       "50%       718.000       0.687       0.000\n",
       "75%      6126.000       1.110       0.000\n",
       "max   1627228.000      11.759       2.000"
      ]
     },
     "execution_count": 31,
     "metadata": {},
     "output_type": "execute_result"
    }
   ],
   "source": [
    "df2.describe()"
   ]
  },
  {
   "cell_type": "code",
   "execution_count": 32,
   "id": "fd9d1626",
   "metadata": {},
   "outputs": [
    {
     "data": {
      "text/plain": [
       "Year       2010.000\n",
       "Value_x     718.000\n",
       "Value_y       0.687\n",
       "clusters      0.000\n",
       "dtype: float64"
      ]
     },
     "execution_count": 32,
     "metadata": {},
     "output_type": "execute_result"
    }
   ],
   "source": [
    "df2.median()"
   ]
  },
  {
   "cell_type": "code",
   "execution_count": 33,
   "id": "8c8a1847",
   "metadata": {},
   "outputs": [
    {
     "data": {
      "image/png": "[encoded data removed]",
      "text/plain": [
       "<Figure size 864x576 with 1 Axes>"
      ]
     },
     "metadata": {
      "needs_background": "light"
     },
     "output_type": "display_data"
    }
   ],
   "source": [
    "# Plot the clusters\n",
    "\n",
    "plt.figure(figsize=(12,8))\n",
    "ax = sns.scatterplot(x=df2['Year'], y=df2['Value_x'],hue=kmeans.labels_,s=100)\n",
    "\n",
    "# `hue` takes the value of the attribute `kmeans.labels_`, which is the result of running the k-means algorithm.\n",
    "# `s` represents the size of the points you want to see in the plot.\n",
    "\n",
    "ax.grid(False) # This removes the grid from the background.\n",
    "plt.ticklabel_format(axis=\"y\", style='plain') # plz no scientific notation\n",
    "plt.xlabel('Year') # Label x-axis.\n",
    "plt.ylabel('emissions') # Label y-axis.\n",
    "plt.savefig('cluster emissionyear.png') # save as png\n",
    "plt.show()"
   ]
  },
  {
   "cell_type": "code",
   "execution_count": 34,
   "id": "fdcb1544",
   "metadata": {},
   "outputs": [
    {
     "data": {
      "image/png": "[encoded data removed]",
      "text/plain": [
       "<Figure size 864x576 with 1 Axes>"
      ]
     },
     "metadata": {
      "needs_background": "light"
     },
     "output_type": "display_data"
    }
   ],
   "source": [
    "# Plot the clusters\n",
    "\n",
    "plt.figure(figsize=(12,8))\n",
    "ax = sns.scatterplot(x=df2['Value_x'], y=df2['Value_y'],hue=kmeans.labels_, s=100)\n",
    "\n",
    "# `hue` takes the value of the attribute `kmeans.labels_`, which is the result of running the k-means algorithm.\n",
    "# `s` represents the size of the points you want to see in the plot.\n",
    "\n",
    "ax.grid(False) # This removes the grid from the background.\n",
    "plt.ticklabel_format(axis=\"x\", style='plain') # plz no scientific notation\n",
    "plt.xlabel('emissions') # Label x-axis.\n",
    "plt.ylabel('temperatures') # Label y-axis.\n",
    "plt.savefig('cluster emissiontemp.png') # save as png\n",
    "plt.show()"
   ]
  },
  {
   "cell_type": "code",
   "execution_count": 35,
   "id": "c44e303d",
   "metadata": {
    "scrolled": true
   },
   "outputs": [
    {
     "name": "stderr",
     "output_type": "stream",
     "text": [
      "C:\\Users\\Marce\\anaconda3\\lib\\site-packages\\pandas\\core\\indexing.py:1817: SettingWithCopyWarning: \n",
      "A value is trying to be set on a copy of a slice from a DataFrame.\n",
      "Try using .loc[row_indexer,col_indexer] = value instead\n",
      "\n",
      "See the caveats in the documentation: https://pandas.pydata.org/pandas-docs/stable/user_guide/indexing.html#returning-a-view-versus-a-copy\n",
      "  self._setitem_single_column(loc, value, pi)\n"
     ]
    }
   ],
   "source": [
    "df2.loc[df2['clusters'] == 0, 'clusters'] = 'red'\n",
    "df2.loc[df2['clusters'] == 1, 'clusters'] = 'blue'\n",
    "df2.loc[df2['clusters'] == 2, 'clusters'] = 'green'"
   ]
  },
  {
   "cell_type": "code",
   "execution_count": 36,
   "id": "13580a08",
   "metadata": {},
   "outputs": [
    {
     "data": {
      "text/html": [
       "<div>\n",
       "<style scoped>\n",
       "    .dataframe tbody tr th:only-of-type {\n",
       "        vertical-align: middle;\n",
       "    }\n",
       "\n",
       "    .dataframe tbody tr th {\n",
       "        vertical-align: top;\n",
       "    }\n",
       "\n",
       "    .dataframe thead th {\n",
       "        text-align: right;\n",
       "    }\n",
       "</style>\n",
       "<table border=\"1\" class=\"dataframe\">\n",
       "  <thead>\n",
       "    <tr style=\"text-align: right;\">\n",
       "      <th></th>\n",
       "      <th>Year</th>\n",
       "      <th>Value_x</th>\n",
       "      <th>Value_y</th>\n",
       "      <th>clusters</th>\n",
       "    </tr>\n",
       "  </thead>\n",
       "  <tbody>\n",
       "    <tr>\n",
       "      <th>136</th>\n",
       "      <td>2000</td>\n",
       "      <td>8637</td>\n",
       "      <td>1.596</td>\n",
       "      <td>red</td>\n",
       "    </tr>\n",
       "    <tr>\n",
       "      <th>137</th>\n",
       "      <td>2000</td>\n",
       "      <td>8637</td>\n",
       "      <td>1.947</td>\n",
       "      <td>red</td>\n",
       "    </tr>\n",
       "    <tr>\n",
       "      <th>138</th>\n",
       "      <td>2000</td>\n",
       "      <td>8637</td>\n",
       "      <td>-0.881</td>\n",
       "      <td>red</td>\n",
       "    </tr>\n",
       "    <tr>\n",
       "      <th>139</th>\n",
       "      <td>2000</td>\n",
       "      <td>8637</td>\n",
       "      <td>2.590</td>\n",
       "      <td>red</td>\n",
       "    </tr>\n",
       "    <tr>\n",
       "      <th>140</th>\n",
       "      <td>2000</td>\n",
       "      <td>8637</td>\n",
       "      <td>-0.237</td>\n",
       "      <td>red</td>\n",
       "    </tr>\n",
       "  </tbody>\n",
       "</table>\n",
       "</div>"
      ],
      "text/plain": [
       "     Year  Value_x  Value_y clusters\n",
       "136  2000     8637    1.596      red\n",
       "137  2000     8637    1.947      red\n",
       "138  2000     8637   -0.881      red\n",
       "139  2000     8637    2.590      red\n",
       "140  2000     8637   -0.237      red"
      ]
     },
     "execution_count": 36,
     "metadata": {},
     "output_type": "execute_result"
    }
   ],
   "source": [
    "df2.head(5)"
   ]
  },
  {
   "cell_type": "code",
   "execution_count": 37,
   "id": "19d529b6",
   "metadata": {},
   "outputs": [
    {
     "data": {
      "text/html": [
       "<div>\n",
       "<style scoped>\n",
       "    .dataframe tbody tr th:only-of-type {\n",
       "        vertical-align: middle;\n",
       "    }\n",
       "\n",
       "    .dataframe tbody tr th {\n",
       "        vertical-align: top;\n",
       "    }\n",
       "\n",
       "    .dataframe thead tr th {\n",
       "        text-align: left;\n",
       "    }\n",
       "\n",
       "    .dataframe thead tr:last-of-type th {\n",
       "        text-align: right;\n",
       "    }\n",
       "</style>\n",
       "<table border=\"1\" class=\"dataframe\">\n",
       "  <thead>\n",
       "    <tr>\n",
       "      <th></th>\n",
       "      <th colspan=\"2\" halign=\"left\">Value_x</th>\n",
       "      <th colspan=\"2\" halign=\"left\">Value_y</th>\n",
       "    </tr>\n",
       "    <tr>\n",
       "      <th></th>\n",
       "      <th>mean</th>\n",
       "      <th>median</th>\n",
       "      <th>mean</th>\n",
       "      <th>median</th>\n",
       "    </tr>\n",
       "    <tr>\n",
       "      <th>clusters</th>\n",
       "      <th></th>\n",
       "      <th></th>\n",
       "      <th></th>\n",
       "      <th></th>\n",
       "    </tr>\n",
       "  </thead>\n",
       "  <tbody>\n",
       "    <tr>\n",
       "      <th>blue</th>\n",
       "      <td>411554.534</td>\n",
       "      <td>363254.000</td>\n",
       "      <td>0.763</td>\n",
       "      <td>0.611</td>\n",
       "    </tr>\n",
       "    <tr>\n",
       "      <th>green</th>\n",
       "      <td>-480581.875</td>\n",
       "      <td>-349108.000</td>\n",
       "      <td>0.978</td>\n",
       "      <td>0.746</td>\n",
       "    </tr>\n",
       "    <tr>\n",
       "      <th>red</th>\n",
       "      <td>7346.805</td>\n",
       "      <td>676.000</td>\n",
       "      <td>0.835</td>\n",
       "      <td>0.687</td>\n",
       "    </tr>\n",
       "  </tbody>\n",
       "</table>\n",
       "</div>"
      ],
      "text/plain": [
       "             Value_x             Value_y       \n",
       "                mean      median    mean median\n",
       "clusters                                       \n",
       "blue      411554.534  363254.000   0.763  0.611\n",
       "green    -480581.875 -349108.000   0.978  0.746\n",
       "red         7346.805     676.000   0.835  0.687"
      ]
     },
     "execution_count": 37,
     "metadata": {},
     "output_type": "execute_result"
    }
   ],
   "source": [
    "df2.groupby('clusters').agg({'Value_x':['mean', 'median'],\n",
    "                         'Value_y':['mean', 'median']})"
   ]
  }
 ],
 "metadata": {
  "kernelspec": {
   "display_name": "Python 3 (ipykernel)",
   "language": "python",
   "name": "python3"
  },
  "language_info": {
   "codemirror_mode": {
    "name": "ipython",
    "version": 3
   },
   "file_extension": ".py",
   "mimetype": "text/x-python",
   "name": "python",
   "nbconvert_exporter": "python",
   "pygments_lexer": "ipython3",
   "version": "3.8.11"
  }
 },
 "nbformat": 4,
 "nbformat_minor": 5
}
