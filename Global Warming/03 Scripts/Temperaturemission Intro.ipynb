{
 "cells": [
  {
   "cell_type": "code",
   "execution_count": 1,
   "id": "5a9f1601",
   "metadata": {},
   "outputs": [],
   "source": [
    "import pandas as pd\n",
    "import numpy as np\n",
    "import seaborn as sns\n",
    "import matplotlib\n",
    "import matplotlib.pyplot as plt\n",
    "import os\n",
    "import statsmodels.api as sm\n",
    "import warnings"
   ]
  },
  {
   "cell_type": "code",
   "execution_count": 2,
   "id": "cd7804eb",
   "metadata": {},
   "outputs": [],
   "source": [
    "path = 'C:\\\\Users\\\\Marce\\\\careerfoundry\\\\World Food fit'"
   ]
  },
  {
   "cell_type": "code",
   "execution_count": 3,
   "id": "44f9343b",
   "metadata": {},
   "outputs": [],
   "source": [
    "data = pd.read_csv(os.path.join(path, '02 Data', 'Original Data', 'emissions.csv'))"
   ]
  },
  {
   "cell_type": "code",
   "execution_count": 4,
   "id": "4cf18555",
   "metadata": {},
   "outputs": [],
   "source": [
    "data2 = pd.read_csv(os.path.join(path, '02 Data', 'Original Data', 'temperatures.csv'))"
   ]
  },
  {
   "cell_type": "code",
   "execution_count": 5,
   "id": "abffe910",
   "metadata": {},
   "outputs": [
    {
     "data": {
      "text/html": [
       "<div>\n",
       "<style scoped>\n",
       "    .dataframe tbody tr th:only-of-type {\n",
       "        vertical-align: middle;\n",
       "    }\n",
       "\n",
       "    .dataframe tbody tr th {\n",
       "        vertical-align: top;\n",
       "    }\n",
       "\n",
       "    .dataframe thead th {\n",
       "        text-align: right;\n",
       "    }\n",
       "</style>\n",
       "<table border=\"1\" class=\"dataframe\">\n",
       "  <thead>\n",
       "    <tr style=\"text-align: right;\">\n",
       "      <th></th>\n",
       "      <th>Domain Code</th>\n",
       "      <th>Domain</th>\n",
       "      <th>Area Code (FAO)</th>\n",
       "      <th>Area</th>\n",
       "      <th>Element Code</th>\n",
       "      <th>Element</th>\n",
       "      <th>Item Code</th>\n",
       "      <th>Item</th>\n",
       "      <th>Year Code</th>\n",
       "      <th>Year</th>\n",
       "      <th>Source Code</th>\n",
       "      <th>Source</th>\n",
       "      <th>Unit</th>\n",
       "      <th>Value</th>\n",
       "      <th>Flag</th>\n",
       "      <th>Flag Description</th>\n",
       "      <th>Note</th>\n",
       "    </tr>\n",
       "  </thead>\n",
       "  <tbody>\n",
       "    <tr>\n",
       "      <th>0</th>\n",
       "      <td>GT</td>\n",
       "      <td>Emissions Totals</td>\n",
       "      <td>2</td>\n",
       "      <td>Afghanistan</td>\n",
       "      <td>7225</td>\n",
       "      <td>Emissions (CH4)</td>\n",
       "      <td>1711</td>\n",
       "      <td>IPCC Agriculture</td>\n",
       "      <td>2000</td>\n",
       "      <td>2000</td>\n",
       "      <td>3050</td>\n",
       "      <td>FAO TIER 1</td>\n",
       "      <td>kilotonnes</td>\n",
       "      <td>308.4856</td>\n",
       "      <td>Fc</td>\n",
       "      <td>Calculated data</td>\n",
       "      <td>NaN</td>\n",
       "    </tr>\n",
       "    <tr>\n",
       "      <th>1</th>\n",
       "      <td>GT</td>\n",
       "      <td>Emissions Totals</td>\n",
       "      <td>2</td>\n",
       "      <td>Afghanistan</td>\n",
       "      <td>7234</td>\n",
       "      <td>Direct emissions (N2O)</td>\n",
       "      <td>1711</td>\n",
       "      <td>IPCC Agriculture</td>\n",
       "      <td>2000</td>\n",
       "      <td>2000</td>\n",
       "      <td>3050</td>\n",
       "      <td>FAO TIER 1</td>\n",
       "      <td>kilotonnes</td>\n",
       "      <td>7.7258</td>\n",
       "      <td>Fc</td>\n",
       "      <td>Calculated data</td>\n",
       "      <td>NaN</td>\n",
       "    </tr>\n",
       "    <tr>\n",
       "      <th>2</th>\n",
       "      <td>GT</td>\n",
       "      <td>Emissions Totals</td>\n",
       "      <td>2</td>\n",
       "      <td>Afghanistan</td>\n",
       "      <td>7236</td>\n",
       "      <td>Indirect emissions (N2O)</td>\n",
       "      <td>1711</td>\n",
       "      <td>IPCC Agriculture</td>\n",
       "      <td>2000</td>\n",
       "      <td>2000</td>\n",
       "      <td>3050</td>\n",
       "      <td>FAO TIER 1</td>\n",
       "      <td>kilotonnes</td>\n",
       "      <td>2.7905</td>\n",
       "      <td>Fc</td>\n",
       "      <td>Calculated data</td>\n",
       "      <td>NaN</td>\n",
       "    </tr>\n",
       "    <tr>\n",
       "      <th>3</th>\n",
       "      <td>GT</td>\n",
       "      <td>Emissions Totals</td>\n",
       "      <td>2</td>\n",
       "      <td>Afghanistan</td>\n",
       "      <td>7230</td>\n",
       "      <td>Emissions (N2O)</td>\n",
       "      <td>1711</td>\n",
       "      <td>IPCC Agriculture</td>\n",
       "      <td>2000</td>\n",
       "      <td>2000</td>\n",
       "      <td>3050</td>\n",
       "      <td>FAO TIER 1</td>\n",
       "      <td>kilotonnes</td>\n",
       "      <td>10.9861</td>\n",
       "      <td>Fc</td>\n",
       "      <td>Calculated data</td>\n",
       "      <td>NaN</td>\n",
       "    </tr>\n",
       "    <tr>\n",
       "      <th>4</th>\n",
       "      <td>GT</td>\n",
       "      <td>Emissions Totals</td>\n",
       "      <td>2</td>\n",
       "      <td>Afghanistan</td>\n",
       "      <td>724413</td>\n",
       "      <td>Emissions (CO2eq) from CH4 (AR5)</td>\n",
       "      <td>1711</td>\n",
       "      <td>IPCC Agriculture</td>\n",
       "      <td>2000</td>\n",
       "      <td>2000</td>\n",
       "      <td>3050</td>\n",
       "      <td>FAO TIER 1</td>\n",
       "      <td>kilotonnes</td>\n",
       "      <td>8637.5967</td>\n",
       "      <td>Fc</td>\n",
       "      <td>Calculated data</td>\n",
       "      <td>NaN</td>\n",
       "    </tr>\n",
       "  </tbody>\n",
       "</table>\n",
       "</div>"
      ],
      "text/plain": [
       "  Domain Code            Domain  Area Code (FAO)         Area  Element Code  \\\n",
       "0          GT  Emissions Totals                2  Afghanistan          7225   \n",
       "1          GT  Emissions Totals                2  Afghanistan          7234   \n",
       "2          GT  Emissions Totals                2  Afghanistan          7236   \n",
       "3          GT  Emissions Totals                2  Afghanistan          7230   \n",
       "4          GT  Emissions Totals                2  Afghanistan        724413   \n",
       "\n",
       "                            Element  Item Code              Item  Year Code  \\\n",
       "0                   Emissions (CH4)       1711  IPCC Agriculture       2000   \n",
       "1            Direct emissions (N2O)       1711  IPCC Agriculture       2000   \n",
       "2          Indirect emissions (N2O)       1711  IPCC Agriculture       2000   \n",
       "3                   Emissions (N2O)       1711  IPCC Agriculture       2000   \n",
       "4  Emissions (CO2eq) from CH4 (AR5)       1711  IPCC Agriculture       2000   \n",
       "\n",
       "   Year  Source Code      Source        Unit      Value Flag Flag Description  \\\n",
       "0  2000         3050  FAO TIER 1  kilotonnes   308.4856   Fc  Calculated data   \n",
       "1  2000         3050  FAO TIER 1  kilotonnes     7.7258   Fc  Calculated data   \n",
       "2  2000         3050  FAO TIER 1  kilotonnes     2.7905   Fc  Calculated data   \n",
       "3  2000         3050  FAO TIER 1  kilotonnes    10.9861   Fc  Calculated data   \n",
       "4  2000         3050  FAO TIER 1  kilotonnes  8637.5967   Fc  Calculated data   \n",
       "\n",
       "   Note  \n",
       "0   NaN  \n",
       "1   NaN  \n",
       "2   NaN  \n",
       "3   NaN  \n",
       "4   NaN  "
      ]
     },
     "execution_count": 5,
     "metadata": {},
     "output_type": "execute_result"
    }
   ],
   "source": [
    "data.head()"
   ]
  },
  {
   "cell_type": "code",
   "execution_count": 6,
   "id": "145db34c",
   "metadata": {},
   "outputs": [
    {
     "data": {
      "text/plain": [
       "(184730, 17)"
      ]
     },
     "execution_count": 6,
     "metadata": {},
     "output_type": "execute_result"
    }
   ],
   "source": [
    "data.shape"
   ]
  },
  {
   "cell_type": "code",
   "execution_count": 7,
   "id": "3367fbc0",
   "metadata": {},
   "outputs": [
    {
     "data": {
      "text/html": [
       "<div>\n",
       "<style scoped>\n",
       "    .dataframe tbody tr th:only-of-type {\n",
       "        vertical-align: middle;\n",
       "    }\n",
       "\n",
       "    .dataframe tbody tr th {\n",
       "        vertical-align: top;\n",
       "    }\n",
       "\n",
       "    .dataframe thead th {\n",
       "        text-align: right;\n",
       "    }\n",
       "</style>\n",
       "<table border=\"1\" class=\"dataframe\">\n",
       "  <thead>\n",
       "    <tr style=\"text-align: right;\">\n",
       "      <th></th>\n",
       "      <th>Domain Code</th>\n",
       "      <th>Domain</th>\n",
       "      <th>Area Code (FAO)</th>\n",
       "      <th>Area</th>\n",
       "      <th>Element Code</th>\n",
       "      <th>Element</th>\n",
       "      <th>Months Code</th>\n",
       "      <th>Months</th>\n",
       "      <th>Year Code</th>\n",
       "      <th>Year</th>\n",
       "      <th>Unit</th>\n",
       "      <th>Value</th>\n",
       "      <th>Flag</th>\n",
       "      <th>Flag Description</th>\n",
       "    </tr>\n",
       "  </thead>\n",
       "  <tbody>\n",
       "    <tr>\n",
       "      <th>0</th>\n",
       "      <td>ET</td>\n",
       "      <td>Temperature change</td>\n",
       "      <td>2</td>\n",
       "      <td>Afghanistan</td>\n",
       "      <td>7271</td>\n",
       "      <td>Temperature change</td>\n",
       "      <td>7001</td>\n",
       "      <td>January</td>\n",
       "      <td>2000</td>\n",
       "      <td>2000</td>\n",
       "      <td>?C</td>\n",
       "      <td>1.596</td>\n",
       "      <td>Fc</td>\n",
       "      <td>Calculated data</td>\n",
       "    </tr>\n",
       "    <tr>\n",
       "      <th>1</th>\n",
       "      <td>ET</td>\n",
       "      <td>Temperature change</td>\n",
       "      <td>2</td>\n",
       "      <td>Afghanistan</td>\n",
       "      <td>7271</td>\n",
       "      <td>Temperature change</td>\n",
       "      <td>7001</td>\n",
       "      <td>January</td>\n",
       "      <td>2001</td>\n",
       "      <td>2001</td>\n",
       "      <td>?C</td>\n",
       "      <td>-0.569</td>\n",
       "      <td>Fc</td>\n",
       "      <td>Calculated data</td>\n",
       "    </tr>\n",
       "    <tr>\n",
       "      <th>2</th>\n",
       "      <td>ET</td>\n",
       "      <td>Temperature change</td>\n",
       "      <td>2</td>\n",
       "      <td>Afghanistan</td>\n",
       "      <td>7271</td>\n",
       "      <td>Temperature change</td>\n",
       "      <td>7001</td>\n",
       "      <td>January</td>\n",
       "      <td>2002</td>\n",
       "      <td>2002</td>\n",
       "      <td>?C</td>\n",
       "      <td>1.640</td>\n",
       "      <td>Fc</td>\n",
       "      <td>Calculated data</td>\n",
       "    </tr>\n",
       "    <tr>\n",
       "      <th>3</th>\n",
       "      <td>ET</td>\n",
       "      <td>Temperature change</td>\n",
       "      <td>2</td>\n",
       "      <td>Afghanistan</td>\n",
       "      <td>7271</td>\n",
       "      <td>Temperature change</td>\n",
       "      <td>7001</td>\n",
       "      <td>January</td>\n",
       "      <td>2003</td>\n",
       "      <td>2003</td>\n",
       "      <td>?C</td>\n",
       "      <td>2.536</td>\n",
       "      <td>Fc</td>\n",
       "      <td>Calculated data</td>\n",
       "    </tr>\n",
       "    <tr>\n",
       "      <th>4</th>\n",
       "      <td>ET</td>\n",
       "      <td>Temperature change</td>\n",
       "      <td>2</td>\n",
       "      <td>Afghanistan</td>\n",
       "      <td>7271</td>\n",
       "      <td>Temperature change</td>\n",
       "      <td>7001</td>\n",
       "      <td>January</td>\n",
       "      <td>2004</td>\n",
       "      <td>2004</td>\n",
       "      <td>?C</td>\n",
       "      <td>2.744</td>\n",
       "      <td>Fc</td>\n",
       "      <td>Calculated data</td>\n",
       "    </tr>\n",
       "  </tbody>\n",
       "</table>\n",
       "</div>"
      ],
      "text/plain": [
       "  Domain Code              Domain  Area Code (FAO)         Area  Element Code  \\\n",
       "0          ET  Temperature change                2  Afghanistan          7271   \n",
       "1          ET  Temperature change                2  Afghanistan          7271   \n",
       "2          ET  Temperature change                2  Afghanistan          7271   \n",
       "3          ET  Temperature change                2  Afghanistan          7271   \n",
       "4          ET  Temperature change                2  Afghanistan          7271   \n",
       "\n",
       "              Element  Months Code   Months  Year Code  Year Unit  Value Flag  \\\n",
       "0  Temperature change         7001  January       2000  2000   ?C  1.596   Fc   \n",
       "1  Temperature change         7001  January       2001  2001   ?C -0.569   Fc   \n",
       "2  Temperature change         7001  January       2002  2002   ?C  1.640   Fc   \n",
       "3  Temperature change         7001  January       2003  2003   ?C  2.536   Fc   \n",
       "4  Temperature change         7001  January       2004  2004   ?C  2.744   Fc   \n",
       "\n",
       "  Flag Description  \n",
       "0  Calculated data  \n",
       "1  Calculated data  \n",
       "2  Calculated data  \n",
       "3  Calculated data  \n",
       "4  Calculated data  "
      ]
     },
     "execution_count": 7,
     "metadata": {},
     "output_type": "execute_result"
    }
   ],
   "source": [
    "data2.head()"
   ]
  },
  {
   "cell_type": "code",
   "execution_count": 8,
   "id": "944a553a",
   "metadata": {},
   "outputs": [
    {
     "data": {
      "text/plain": [
       "(170102, 14)"
      ]
     },
     "execution_count": 8,
     "metadata": {},
     "output_type": "execute_result"
    }
   ],
   "source": [
    "data2.shape"
   ]
  },
  {
   "cell_type": "code",
   "execution_count": 9,
   "id": "6cf9d850",
   "metadata": {},
   "outputs": [],
   "source": [
    "df = data[['Area','Element','Year','Unit', 'Value']]"
   ]
  },
  {
   "cell_type": "code",
   "execution_count": 10,
   "id": "dbe596b2",
   "metadata": {},
   "outputs": [],
   "source": [
    "df2 = data2[['Area','Element','Months','Year','Unit','Value']]"
   ]
  },
  {
   "cell_type": "code",
   "execution_count": 11,
   "id": "f5212925",
   "metadata": {},
   "outputs": [],
   "source": [
    "merged = pd.merge(df, df2, on = ['Area','Year'],indicator=True)"
   ]
  },
  {
   "cell_type": "code",
   "execution_count": 12,
   "id": "98ffae3e",
   "metadata": {},
   "outputs": [
    {
     "data": {
      "text/plain": [
       "Index(['Area', 'Element_x', 'Year', 'Unit_x', 'Value_x', 'Element_y', 'Months',\n",
       "       'Unit_y', 'Value_y', '_merge'],\n",
       "      dtype='object')"
      ]
     },
     "execution_count": 12,
     "metadata": {},
     "output_type": "execute_result"
    }
   ],
   "source": [
    "merged.columns"
   ]
  },
  {
   "cell_type": "code",
   "execution_count": 13,
   "id": "29dc985c",
   "metadata": {},
   "outputs": [
    {
     "data": {
      "text/html": [
       "<div>\n",
       "<style scoped>\n",
       "    .dataframe tbody tr th:only-of-type {\n",
       "        vertical-align: middle;\n",
       "    }\n",
       "\n",
       "    .dataframe tbody tr th {\n",
       "        vertical-align: top;\n",
       "    }\n",
       "\n",
       "    .dataframe thead th {\n",
       "        text-align: right;\n",
       "    }\n",
       "</style>\n",
       "<table border=\"1\" class=\"dataframe\">\n",
       "  <thead>\n",
       "    <tr style=\"text-align: right;\">\n",
       "      <th></th>\n",
       "      <th>Area</th>\n",
       "      <th>Element_x</th>\n",
       "      <th>Year</th>\n",
       "      <th>Unit_x</th>\n",
       "      <th>Value_x</th>\n",
       "      <th>Element_y</th>\n",
       "      <th>Months</th>\n",
       "      <th>Unit_y</th>\n",
       "      <th>Value_y</th>\n",
       "      <th>_merge</th>\n",
       "    </tr>\n",
       "  </thead>\n",
       "  <tbody>\n",
       "    <tr>\n",
       "      <th>0</th>\n",
       "      <td>Afghanistan</td>\n",
       "      <td>Emissions (CH4)</td>\n",
       "      <td>2000</td>\n",
       "      <td>kilotonnes</td>\n",
       "      <td>308.4856</td>\n",
       "      <td>Temperature change</td>\n",
       "      <td>January</td>\n",
       "      <td>?C</td>\n",
       "      <td>1.596</td>\n",
       "      <td>both</td>\n",
       "    </tr>\n",
       "    <tr>\n",
       "      <th>1</th>\n",
       "      <td>Afghanistan</td>\n",
       "      <td>Emissions (CH4)</td>\n",
       "      <td>2000</td>\n",
       "      <td>kilotonnes</td>\n",
       "      <td>308.4856</td>\n",
       "      <td>Standard Deviation</td>\n",
       "      <td>January</td>\n",
       "      <td>?C</td>\n",
       "      <td>1.947</td>\n",
       "      <td>both</td>\n",
       "    </tr>\n",
       "    <tr>\n",
       "      <th>2</th>\n",
       "      <td>Afghanistan</td>\n",
       "      <td>Emissions (CH4)</td>\n",
       "      <td>2000</td>\n",
       "      <td>kilotonnes</td>\n",
       "      <td>308.4856</td>\n",
       "      <td>Temperature change</td>\n",
       "      <td>February</td>\n",
       "      <td>?C</td>\n",
       "      <td>-0.881</td>\n",
       "      <td>both</td>\n",
       "    </tr>\n",
       "    <tr>\n",
       "      <th>3</th>\n",
       "      <td>Afghanistan</td>\n",
       "      <td>Emissions (CH4)</td>\n",
       "      <td>2000</td>\n",
       "      <td>kilotonnes</td>\n",
       "      <td>308.4856</td>\n",
       "      <td>Standard Deviation</td>\n",
       "      <td>February</td>\n",
       "      <td>?C</td>\n",
       "      <td>2.590</td>\n",
       "      <td>both</td>\n",
       "    </tr>\n",
       "    <tr>\n",
       "      <th>4</th>\n",
       "      <td>Afghanistan</td>\n",
       "      <td>Emissions (CH4)</td>\n",
       "      <td>2000</td>\n",
       "      <td>kilotonnes</td>\n",
       "      <td>308.4856</td>\n",
       "      <td>Temperature change</td>\n",
       "      <td>March</td>\n",
       "      <td>?C</td>\n",
       "      <td>-0.237</td>\n",
       "      <td>both</td>\n",
       "    </tr>\n",
       "  </tbody>\n",
       "</table>\n",
       "</div>"
      ],
      "text/plain": [
       "          Area        Element_x  Year      Unit_x   Value_x  \\\n",
       "0  Afghanistan  Emissions (CH4)  2000  kilotonnes  308.4856   \n",
       "1  Afghanistan  Emissions (CH4)  2000  kilotonnes  308.4856   \n",
       "2  Afghanistan  Emissions (CH4)  2000  kilotonnes  308.4856   \n",
       "3  Afghanistan  Emissions (CH4)  2000  kilotonnes  308.4856   \n",
       "4  Afghanistan  Emissions (CH4)  2000  kilotonnes  308.4856   \n",
       "\n",
       "            Element_y    Months Unit_y  Value_y _merge  \n",
       "0  Temperature change   January     ?C    1.596   both  \n",
       "1  Standard Deviation   January     ?C    1.947   both  \n",
       "2  Temperature change  February     ?C   -0.881   both  \n",
       "3  Standard Deviation  February     ?C    2.590   both  \n",
       "4  Temperature change     March     ?C   -0.237   both  "
      ]
     },
     "execution_count": 13,
     "metadata": {},
     "output_type": "execute_result"
    }
   ],
   "source": [
    "merged.head()"
   ]
  },
  {
   "cell_type": "code",
   "execution_count": 14,
   "id": "fcd525ae",
   "metadata": {},
   "outputs": [
    {
     "data": {
      "text/plain": [
       "both          6213092\n",
       "left_only           0\n",
       "right_only          0\n",
       "Name: _merge, dtype: int64"
      ]
     },
     "execution_count": 14,
     "metadata": {},
     "output_type": "execute_result"
    }
   ],
   "source": [
    "merged['_merge'].value_counts()"
   ]
  },
  {
   "cell_type": "code",
   "execution_count": 16,
   "id": "6d568361",
   "metadata": {},
   "outputs": [
    {
     "data": {
      "text/plain": [
       "Area              0\n",
       "Element_x         0\n",
       "Year              0\n",
       "Unit_x            0\n",
       "Value_x           0\n",
       "Element_y         0\n",
       "Months            0\n",
       "Unit_y            0\n",
       "Value_y      687052\n",
       "_merge            0\n",
       "dtype: int64"
      ]
     },
     "execution_count": 16,
     "metadata": {},
     "output_type": "execute_result"
    }
   ],
   "source": [
    "merged.isnull().sum()"
   ]
  },
  {
   "cell_type": "code",
   "execution_count": 17,
   "id": "32136568",
   "metadata": {},
   "outputs": [
    {
     "data": {
      "text/plain": [
       "(6213092, 10)"
      ]
     },
     "execution_count": 17,
     "metadata": {},
     "output_type": "execute_result"
    }
   ],
   "source": [
    "merged.shape"
   ]
  },
  {
   "cell_type": "code",
   "execution_count": 18,
   "id": "0fb5342c",
   "metadata": {},
   "outputs": [],
   "source": [
    "merged['Value_y'].fillna(merged['Value_y'].median(),inplace=True)"
   ]
  },
  {
   "cell_type": "code",
   "execution_count": 19,
   "id": "557190e3",
   "metadata": {},
   "outputs": [
    {
     "data": {
      "text/plain": [
       "Area         0\n",
       "Element_x    0\n",
       "Year         0\n",
       "Unit_x       0\n",
       "Value_x      0\n",
       "Element_y    0\n",
       "Months       0\n",
       "Unit_y       0\n",
       "Value_y      0\n",
       "_merge       0\n",
       "dtype: int64"
      ]
     },
     "execution_count": 19,
     "metadata": {},
     "output_type": "execute_result"
    }
   ],
   "source": [
    "merged.isnull().sum()"
   ]
  },
  {
   "cell_type": "code",
   "execution_count": 20,
   "id": "3fdfc870",
   "metadata": {},
   "outputs": [],
   "source": [
    "# export merged dataframe for later use\n",
    "\n",
    "merged.to_csv(os.path.join(path, \"02 Data\", \"Prepared Data\", \"merged.csv\"))"
   ]
  },
  {
   "cell_type": "code",
   "execution_count": null,
   "id": "256d60aa",
   "metadata": {},
   "outputs": [],
   "source": []
  },
  {
   "cell_type": "code",
   "execution_count": null,
   "id": "5711636a",
   "metadata": {},
   "outputs": [],
   "source": []
  },
  {
   "cell_type": "code",
   "execution_count": null,
   "id": "7070262f",
   "metadata": {},
   "outputs": [],
   "source": []
  }
 ],
 "metadata": {
  "kernelspec": {
   "display_name": "Python 3 (ipykernel)",
   "language": "python",
   "name": "python3"
  },
  "language_info": {
   "codemirror_mode": {
    "name": "ipython",
    "version": 3
   },
   "file_extension": ".py",
   "mimetype": "text/x-python",
   "name": "python",
   "nbconvert_exporter": "python",
   "pygments_lexer": "ipython3",
   "version": "3.8.11"
  }
 },
 "nbformat": 4,
 "nbformat_minor": 5
}
