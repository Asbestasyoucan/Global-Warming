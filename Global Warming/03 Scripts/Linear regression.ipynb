{
 "cells": [
  {
   "cell_type": "markdown",
   "id": "d8aa3cc4",
   "metadata": {},
   "source": [
    "# 1. Importing libraries and data"
   ]
  },
  {
   "cell_type": "code",
   "execution_count": 1,
   "id": "39103806",
   "metadata": {},
   "outputs": [],
   "source": [
    "import pandas as pd\n",
    "import numpy as np\n",
    "import seaborn as sns\n",
    "import matplotlib\n",
    "import matplotlib.pyplot as plt\n",
    "import os\n",
    "import sklearn\n",
    "from sklearn.model_selection import train_test_split \n",
    "from sklearn.linear_model import LinearRegression\n",
    "from sklearn.metrics import mean_squared_error, r2_score\n",
    "import statsmodels.api as sm\n"
   ]
  },
  {
   "cell_type": "code",
   "execution_count": 2,
   "id": "e10cbed7",
   "metadata": {},
   "outputs": [],
   "source": [
    "# This option ensures that the graphs created are displayed within the notebook without the need to \"call\" them specifically\n",
    "\n",
    "%matplotlib inline"
   ]
  },
  {
   "cell_type": "code",
   "execution_count": 3,
   "id": "9efad617",
   "metadata": {},
   "outputs": [],
   "source": [
    "path = 'C:\\\\Users\\\\Marce\\\\careerfoundry\\\\World Food Fit'"
   ]
  },
  {
   "cell_type": "code",
   "execution_count": 4,
   "id": "c8522f8e",
   "metadata": {},
   "outputs": [],
   "source": [
    "df = pd.read_csv(os.path.join(path, '02 Data', 'Prepared Data', 'merged.csv'))"
   ]
  },
  {
   "cell_type": "code",
   "execution_count": 5,
   "id": "f62a09d1",
   "metadata": {},
   "outputs": [
    {
     "data": {
      "text/plain": [
       "Index(['Unnamed: 0', 'Area', 'Element_x', 'Year', 'Unit_x', 'Value_x',\n",
       "       'Element_y', 'Months', 'Unit_y', 'Value_y', '_merge'],\n",
       "      dtype='object')"
      ]
     },
     "execution_count": 5,
     "metadata": {},
     "output_type": "execute_result"
    }
   ],
   "source": [
    "df.columns"
   ]
  },
  {
   "cell_type": "code",
   "execution_count": 6,
   "id": "26845a45",
   "metadata": {},
   "outputs": [
    {
     "data": {
      "text/plain": [
       "(6213092, 11)"
      ]
     },
     "execution_count": 6,
     "metadata": {},
     "output_type": "execute_result"
    }
   ],
   "source": [
    "df.shape"
   ]
  },
  {
   "cell_type": "code",
   "execution_count": 7,
   "id": "ec638a6d",
   "metadata": {},
   "outputs": [
    {
     "data": {
      "text/plain": [
       "Unnamed: 0    0\n",
       "Area          0\n",
       "Element_x     0\n",
       "Year          0\n",
       "Unit_x        0\n",
       "Value_x       0\n",
       "Element_y     0\n",
       "Months        0\n",
       "Unit_y        0\n",
       "Value_y       0\n",
       "_merge        0\n",
       "dtype: int64"
      ]
     },
     "execution_count": 7,
     "metadata": {},
     "output_type": "execute_result"
    }
   ],
   "source": [
    "df.isnull().sum()"
   ]
  },
  {
   "cell_type": "code",
   "execution_count": 8,
   "id": "6528b288",
   "metadata": {},
   "outputs": [
    {
     "data": {
      "text/html": [
       "<div>\n",
       "<style scoped>\n",
       "    .dataframe tbody tr th:only-of-type {\n",
       "        vertical-align: middle;\n",
       "    }\n",
       "\n",
       "    .dataframe tbody tr th {\n",
       "        vertical-align: top;\n",
       "    }\n",
       "\n",
       "    .dataframe thead th {\n",
       "        text-align: right;\n",
       "    }\n",
       "</style>\n",
       "<table border=\"1\" class=\"dataframe\">\n",
       "  <thead>\n",
       "    <tr style=\"text-align: right;\">\n",
       "      <th></th>\n",
       "      <th>Unnamed: 0</th>\n",
       "      <th>Area</th>\n",
       "      <th>Element_x</th>\n",
       "      <th>Year</th>\n",
       "      <th>Unit_x</th>\n",
       "      <th>Value_x</th>\n",
       "      <th>Element_y</th>\n",
       "      <th>Months</th>\n",
       "      <th>Unit_y</th>\n",
       "      <th>Value_y</th>\n",
       "      <th>_merge</th>\n",
       "    </tr>\n",
       "  </thead>\n",
       "  <tbody>\n",
       "    <tr>\n",
       "      <th>0</th>\n",
       "      <td>0</td>\n",
       "      <td>Afghanistan</td>\n",
       "      <td>Emissions (CH4)</td>\n",
       "      <td>2000</td>\n",
       "      <td>kilotonnes</td>\n",
       "      <td>308.4856</td>\n",
       "      <td>Temperature change</td>\n",
       "      <td>January</td>\n",
       "      <td>?C</td>\n",
       "      <td>1.596</td>\n",
       "      <td>both</td>\n",
       "    </tr>\n",
       "    <tr>\n",
       "      <th>1</th>\n",
       "      <td>1</td>\n",
       "      <td>Afghanistan</td>\n",
       "      <td>Emissions (CH4)</td>\n",
       "      <td>2000</td>\n",
       "      <td>kilotonnes</td>\n",
       "      <td>308.4856</td>\n",
       "      <td>Standard Deviation</td>\n",
       "      <td>January</td>\n",
       "      <td>?C</td>\n",
       "      <td>1.947</td>\n",
       "      <td>both</td>\n",
       "    </tr>\n",
       "    <tr>\n",
       "      <th>2</th>\n",
       "      <td>2</td>\n",
       "      <td>Afghanistan</td>\n",
       "      <td>Emissions (CH4)</td>\n",
       "      <td>2000</td>\n",
       "      <td>kilotonnes</td>\n",
       "      <td>308.4856</td>\n",
       "      <td>Temperature change</td>\n",
       "      <td>February</td>\n",
       "      <td>?C</td>\n",
       "      <td>-0.881</td>\n",
       "      <td>both</td>\n",
       "    </tr>\n",
       "    <tr>\n",
       "      <th>3</th>\n",
       "      <td>3</td>\n",
       "      <td>Afghanistan</td>\n",
       "      <td>Emissions (CH4)</td>\n",
       "      <td>2000</td>\n",
       "      <td>kilotonnes</td>\n",
       "      <td>308.4856</td>\n",
       "      <td>Standard Deviation</td>\n",
       "      <td>February</td>\n",
       "      <td>?C</td>\n",
       "      <td>2.590</td>\n",
       "      <td>both</td>\n",
       "    </tr>\n",
       "    <tr>\n",
       "      <th>4</th>\n",
       "      <td>4</td>\n",
       "      <td>Afghanistan</td>\n",
       "      <td>Emissions (CH4)</td>\n",
       "      <td>2000</td>\n",
       "      <td>kilotonnes</td>\n",
       "      <td>308.4856</td>\n",
       "      <td>Temperature change</td>\n",
       "      <td>March</td>\n",
       "      <td>?C</td>\n",
       "      <td>-0.237</td>\n",
       "      <td>both</td>\n",
       "    </tr>\n",
       "  </tbody>\n",
       "</table>\n",
       "</div>"
      ],
      "text/plain": [
       "   Unnamed: 0         Area        Element_x  Year      Unit_x   Value_x  \\\n",
       "0           0  Afghanistan  Emissions (CH4)  2000  kilotonnes  308.4856   \n",
       "1           1  Afghanistan  Emissions (CH4)  2000  kilotonnes  308.4856   \n",
       "2           2  Afghanistan  Emissions (CH4)  2000  kilotonnes  308.4856   \n",
       "3           3  Afghanistan  Emissions (CH4)  2000  kilotonnes  308.4856   \n",
       "4           4  Afghanistan  Emissions (CH4)  2000  kilotonnes  308.4856   \n",
       "\n",
       "            Element_y    Months Unit_y  Value_y _merge  \n",
       "0  Temperature change   January     ?C    1.596   both  \n",
       "1  Standard Deviation   January     ?C    1.947   both  \n",
       "2  Temperature change  February     ?C   -0.881   both  \n",
       "3  Standard Deviation  February     ?C    2.590   both  \n",
       "4  Temperature change     March     ?C   -0.237   both  "
      ]
     },
     "execution_count": 8,
     "metadata": {},
     "output_type": "execute_result"
    }
   ],
   "source": [
    "df.head()"
   ]
  },
  {
   "cell_type": "code",
   "execution_count": 9,
   "id": "e1de67be",
   "metadata": {},
   "outputs": [
    {
     "data": {
      "text/plain": [
       "(6213092, 11)"
      ]
     },
     "execution_count": 9,
     "metadata": {},
     "output_type": "execute_result"
    }
   ],
   "source": [
    "df.shape"
   ]
  },
  {
   "cell_type": "code",
   "execution_count": 10,
   "id": "dea30d7d",
   "metadata": {},
   "outputs": [],
   "source": [
    "dups = df.duplicated()"
   ]
  },
  {
   "cell_type": "code",
   "execution_count": 11,
   "id": "695f89b3",
   "metadata": {},
   "outputs": [
    {
     "data": {
      "text/plain": [
       "(6213092,)"
      ]
     },
     "execution_count": 11,
     "metadata": {},
     "output_type": "execute_result"
    }
   ],
   "source": [
    "# no dups\n",
    "\n",
    "dups.shape"
   ]
  },
  {
   "cell_type": "code",
   "execution_count": 13,
   "id": "3eceb6ba",
   "metadata": {},
   "outputs": [
    {
     "data": {
      "text/plain": [
       "Emissions (CO2eq) (AR5)             904264\n",
       "Emissions (N2O)                     896784\n",
       "Emissions (CO2eq) from N2O (AR5)    896784\n",
       "Emissions (CH4)                     754222\n",
       "Emissions (CO2eq) from CH4 (AR5)    754222\n",
       "Direct emissions (N2O)              693940\n",
       "Indirect emissions (N2O)            693940\n",
       "Emissions (CO2)                     618936\n",
       "Name: Element_x, dtype: int64"
      ]
     },
     "execution_count": 13,
     "metadata": {},
     "output_type": "execute_result"
    }
   ],
   "source": [
    "df['Element_x'].value_counts()"
   ]
  },
  {
   "cell_type": "code",
   "execution_count": 14,
   "id": "a6280637",
   "metadata": {},
   "outputs": [],
   "source": [
    "df.drop(columns=['Unnamed: 0','_merge'],inplace=True)"
   ]
  },
  {
   "cell_type": "code",
   "execution_count": 15,
   "id": "ed177abe",
   "metadata": {},
   "outputs": [],
   "source": [
    "df2=df.groupby(['Element_x','Year'],as_index=False).mean('Value_x')"
   ]
  },
  {
   "cell_type": "code",
   "execution_count": 16,
   "id": "db1139ff",
   "metadata": {},
   "outputs": [],
   "source": [
    "df2.rename(columns={'Value_x':'emission','Value_y':'temperature'},inplace=True)"
   ]
  },
  {
   "cell_type": "code",
   "execution_count": 17,
   "id": "8d158ca9",
   "metadata": {},
   "outputs": [
    {
     "data": {
      "text/html": [
       "<div>\n",
       "<style scoped>\n",
       "    .dataframe tbody tr th:only-of-type {\n",
       "        vertical-align: middle;\n",
       "    }\n",
       "\n",
       "    .dataframe tbody tr th {\n",
       "        vertical-align: top;\n",
       "    }\n",
       "\n",
       "    .dataframe thead th {\n",
       "        text-align: right;\n",
       "    }\n",
       "</style>\n",
       "<table border=\"1\" class=\"dataframe\">\n",
       "  <thead>\n",
       "    <tr style=\"text-align: right;\">\n",
       "      <th></th>\n",
       "      <th>Element_x</th>\n",
       "      <th>Year</th>\n",
       "      <th>emission</th>\n",
       "      <th>temperature</th>\n",
       "    </tr>\n",
       "  </thead>\n",
       "  <tbody>\n",
       "    <tr>\n",
       "      <th>0</th>\n",
       "      <td>Direct emissions (N2O)</td>\n",
       "      <td>2000</td>\n",
       "      <td>22.480746</td>\n",
       "      <td>0.672463</td>\n",
       "    </tr>\n",
       "    <tr>\n",
       "      <th>1</th>\n",
       "      <td>Direct emissions (N2O)</td>\n",
       "      <td>2001</td>\n",
       "      <td>22.656601</td>\n",
       "      <td>0.742463</td>\n",
       "    </tr>\n",
       "    <tr>\n",
       "      <th>2</th>\n",
       "      <td>Direct emissions (N2O)</td>\n",
       "      <td>2002</td>\n",
       "      <td>23.214713</td>\n",
       "      <td>0.788998</td>\n",
       "    </tr>\n",
       "    <tr>\n",
       "      <th>3</th>\n",
       "      <td>Direct emissions (N2O)</td>\n",
       "      <td>2003</td>\n",
       "      <td>23.539016</td>\n",
       "      <td>0.753128</td>\n",
       "    </tr>\n",
       "    <tr>\n",
       "      <th>4</th>\n",
       "      <td>Direct emissions (N2O)</td>\n",
       "      <td>2004</td>\n",
       "      <td>24.237413</td>\n",
       "      <td>0.725571</td>\n",
       "    </tr>\n",
       "  </tbody>\n",
       "</table>\n",
       "</div>"
      ],
      "text/plain": [
       "                Element_x  Year   emission  temperature\n",
       "0  Direct emissions (N2O)  2000  22.480746     0.672463\n",
       "1  Direct emissions (N2O)  2001  22.656601     0.742463\n",
       "2  Direct emissions (N2O)  2002  23.214713     0.788998\n",
       "3  Direct emissions (N2O)  2003  23.539016     0.753128\n",
       "4  Direct emissions (N2O)  2004  24.237413     0.725571"
      ]
     },
     "execution_count": 17,
     "metadata": {},
     "output_type": "execute_result"
    }
   ],
   "source": [
    "df2.head()"
   ]
  },
  {
   "cell_type": "code",
   "execution_count": 18,
   "id": "c854c83b",
   "metadata": {},
   "outputs": [],
   "source": [
    "# export dataframe for further use\n",
    "\n",
    "df2.to_csv(os.path.join(path,'02 Data','Prepared Data', 'final.csv'))"
   ]
  },
  {
   "cell_type": "code",
   "execution_count": 19,
   "id": "db144ddb",
   "metadata": {},
   "outputs": [
    {
     "data": {
      "text/plain": [
       "2000    8\n",
       "2001    8\n",
       "2018    8\n",
       "2017    8\n",
       "2016    8\n",
       "2015    8\n",
       "2014    8\n",
       "2013    8\n",
       "2012    8\n",
       "2011    8\n",
       "2010    8\n",
       "2009    8\n",
       "2008    8\n",
       "2007    8\n",
       "2006    8\n",
       "2005    8\n",
       "2004    8\n",
       "2003    8\n",
       "2002    8\n",
       "2019    8\n",
       "Name: Year, dtype: int64"
      ]
     },
     "execution_count": 19,
     "metadata": {},
     "output_type": "execute_result"
    }
   ],
   "source": [
    "df2['Year'].value_counts()"
   ]
  },
  {
   "cell_type": "code",
   "execution_count": 20,
   "id": "3984ab47",
   "metadata": {},
   "outputs": [],
   "source": [
    "emCO2=df2.loc[df2['Element_x'] == 'Emissions (CO2)']"
   ]
  },
  {
   "cell_type": "code",
   "execution_count": 21,
   "id": "8c0eafef",
   "metadata": {},
   "outputs": [
    {
     "data": {
      "text/html": [
       "<div>\n",
       "<style scoped>\n",
       "    .dataframe tbody tr th:only-of-type {\n",
       "        vertical-align: middle;\n",
       "    }\n",
       "\n",
       "    .dataframe tbody tr th {\n",
       "        vertical-align: top;\n",
       "    }\n",
       "\n",
       "    .dataframe thead th {\n",
       "        text-align: right;\n",
       "    }\n",
       "</style>\n",
       "<table border=\"1\" class=\"dataframe\">\n",
       "  <thead>\n",
       "    <tr style=\"text-align: right;\">\n",
       "      <th></th>\n",
       "      <th>Element_x</th>\n",
       "      <th>Year</th>\n",
       "      <th>emission</th>\n",
       "      <th>temperature</th>\n",
       "    </tr>\n",
       "  </thead>\n",
       "  <tbody>\n",
       "    <tr>\n",
       "      <th>40</th>\n",
       "      <td>Emissions (CO2)</td>\n",
       "      <td>2000</td>\n",
       "      <td>12238.234018</td>\n",
       "      <td>0.681314</td>\n",
       "    </tr>\n",
       "    <tr>\n",
       "      <th>41</th>\n",
       "      <td>Emissions (CO2)</td>\n",
       "      <td>2001</td>\n",
       "      <td>10949.431180</td>\n",
       "      <td>0.746267</td>\n",
       "    </tr>\n",
       "    <tr>\n",
       "      <th>42</th>\n",
       "      <td>Emissions (CO2)</td>\n",
       "      <td>2002</td>\n",
       "      <td>13018.584071</td>\n",
       "      <td>0.790371</td>\n",
       "    </tr>\n",
       "    <tr>\n",
       "      <th>43</th>\n",
       "      <td>Emissions (CO2)</td>\n",
       "      <td>2003</td>\n",
       "      <td>12238.752860</td>\n",
       "      <td>0.760928</td>\n",
       "    </tr>\n",
       "    <tr>\n",
       "      <th>44</th>\n",
       "      <td>Emissions (CO2)</td>\n",
       "      <td>2004</td>\n",
       "      <td>13105.522569</td>\n",
       "      <td>0.725422</td>\n",
       "    </tr>\n",
       "  </tbody>\n",
       "</table>\n",
       "</div>"
      ],
      "text/plain": [
       "          Element_x  Year      emission  temperature\n",
       "40  Emissions (CO2)  2000  12238.234018     0.681314\n",
       "41  Emissions (CO2)  2001  10949.431180     0.746267\n",
       "42  Emissions (CO2)  2002  13018.584071     0.790371\n",
       "43  Emissions (CO2)  2003  12238.752860     0.760928\n",
       "44  Emissions (CO2)  2004  13105.522569     0.725422"
      ]
     },
     "execution_count": 21,
     "metadata": {},
     "output_type": "execute_result"
    }
   ],
   "source": [
    "emCO2.head()"
   ]
  },
  {
   "cell_type": "code",
   "execution_count": 22,
   "id": "fc2a4a78",
   "metadata": {},
   "outputs": [],
   "source": [
    "indiN2O=df2.loc[df2['Element_x'] == 'Indirect emissions (N2O)']"
   ]
  },
  {
   "cell_type": "code",
   "execution_count": 23,
   "id": "e699973a",
   "metadata": {},
   "outputs": [
    {
     "data": {
      "text/html": [
       "<div>\n",
       "<style scoped>\n",
       "    .dataframe tbody tr th:only-of-type {\n",
       "        vertical-align: middle;\n",
       "    }\n",
       "\n",
       "    .dataframe tbody tr th {\n",
       "        vertical-align: top;\n",
       "    }\n",
       "\n",
       "    .dataframe thead th {\n",
       "        text-align: right;\n",
       "    }\n",
       "</style>\n",
       "<table border=\"1\" class=\"dataframe\">\n",
       "  <thead>\n",
       "    <tr style=\"text-align: right;\">\n",
       "      <th></th>\n",
       "      <th>Element_x</th>\n",
       "      <th>Year</th>\n",
       "      <th>emission</th>\n",
       "      <th>temperature</th>\n",
       "    </tr>\n",
       "  </thead>\n",
       "  <tbody>\n",
       "    <tr>\n",
       "      <th>140</th>\n",
       "      <td>Indirect emissions (N2O)</td>\n",
       "      <td>2000</td>\n",
       "      <td>6.721999</td>\n",
       "      <td>0.672463</td>\n",
       "    </tr>\n",
       "    <tr>\n",
       "      <th>141</th>\n",
       "      <td>Indirect emissions (N2O)</td>\n",
       "      <td>2001</td>\n",
       "      <td>6.766308</td>\n",
       "      <td>0.742463</td>\n",
       "    </tr>\n",
       "    <tr>\n",
       "      <th>142</th>\n",
       "      <td>Indirect emissions (N2O)</td>\n",
       "      <td>2002</td>\n",
       "      <td>6.938200</td>\n",
       "      <td>0.788998</td>\n",
       "    </tr>\n",
       "    <tr>\n",
       "      <th>143</th>\n",
       "      <td>Indirect emissions (N2O)</td>\n",
       "      <td>2003</td>\n",
       "      <td>7.033910</td>\n",
       "      <td>0.753128</td>\n",
       "    </tr>\n",
       "    <tr>\n",
       "      <th>144</th>\n",
       "      <td>Indirect emissions (N2O)</td>\n",
       "      <td>2004</td>\n",
       "      <td>7.236739</td>\n",
       "      <td>0.725571</td>\n",
       "    </tr>\n",
       "  </tbody>\n",
       "</table>\n",
       "</div>"
      ],
      "text/plain": [
       "                    Element_x  Year  emission  temperature\n",
       "140  Indirect emissions (N2O)  2000  6.721999     0.672463\n",
       "141  Indirect emissions (N2O)  2001  6.766308     0.742463\n",
       "142  Indirect emissions (N2O)  2002  6.938200     0.788998\n",
       "143  Indirect emissions (N2O)  2003  7.033910     0.753128\n",
       "144  Indirect emissions (N2O)  2004  7.236739     0.725571"
      ]
     },
     "execution_count": 23,
     "metadata": {},
     "output_type": "execute_result"
    }
   ],
   "source": [
    "indiN2O.head()"
   ]
  },
  {
   "cell_type": "code",
   "execution_count": 24,
   "id": "88343dfd",
   "metadata": {},
   "outputs": [],
   "source": [
    "diN2O=df2.loc[df2['Element_x'] == 'Direct emissions (N2O)']"
   ]
  },
  {
   "cell_type": "code",
   "execution_count": 25,
   "id": "0c5eb11f",
   "metadata": {},
   "outputs": [
    {
     "data": {
      "text/html": [
       "<div>\n",
       "<style scoped>\n",
       "    .dataframe tbody tr th:only-of-type {\n",
       "        vertical-align: middle;\n",
       "    }\n",
       "\n",
       "    .dataframe tbody tr th {\n",
       "        vertical-align: top;\n",
       "    }\n",
       "\n",
       "    .dataframe thead th {\n",
       "        text-align: right;\n",
       "    }\n",
       "</style>\n",
       "<table border=\"1\" class=\"dataframe\">\n",
       "  <thead>\n",
       "    <tr style=\"text-align: right;\">\n",
       "      <th></th>\n",
       "      <th>Element_x</th>\n",
       "      <th>Year</th>\n",
       "      <th>emission</th>\n",
       "      <th>temperature</th>\n",
       "    </tr>\n",
       "  </thead>\n",
       "  <tbody>\n",
       "    <tr>\n",
       "      <th>0</th>\n",
       "      <td>Direct emissions (N2O)</td>\n",
       "      <td>2000</td>\n",
       "      <td>22.480746</td>\n",
       "      <td>0.672463</td>\n",
       "    </tr>\n",
       "    <tr>\n",
       "      <th>1</th>\n",
       "      <td>Direct emissions (N2O)</td>\n",
       "      <td>2001</td>\n",
       "      <td>22.656601</td>\n",
       "      <td>0.742463</td>\n",
       "    </tr>\n",
       "    <tr>\n",
       "      <th>2</th>\n",
       "      <td>Direct emissions (N2O)</td>\n",
       "      <td>2002</td>\n",
       "      <td>23.214713</td>\n",
       "      <td>0.788998</td>\n",
       "    </tr>\n",
       "    <tr>\n",
       "      <th>3</th>\n",
       "      <td>Direct emissions (N2O)</td>\n",
       "      <td>2003</td>\n",
       "      <td>23.539016</td>\n",
       "      <td>0.753128</td>\n",
       "    </tr>\n",
       "    <tr>\n",
       "      <th>4</th>\n",
       "      <td>Direct emissions (N2O)</td>\n",
       "      <td>2004</td>\n",
       "      <td>24.237413</td>\n",
       "      <td>0.725571</td>\n",
       "    </tr>\n",
       "  </tbody>\n",
       "</table>\n",
       "</div>"
      ],
      "text/plain": [
       "                Element_x  Year   emission  temperature\n",
       "0  Direct emissions (N2O)  2000  22.480746     0.672463\n",
       "1  Direct emissions (N2O)  2001  22.656601     0.742463\n",
       "2  Direct emissions (N2O)  2002  23.214713     0.788998\n",
       "3  Direct emissions (N2O)  2003  23.539016     0.753128\n",
       "4  Direct emissions (N2O)  2004  24.237413     0.725571"
      ]
     },
     "execution_count": 25,
     "metadata": {},
     "output_type": "execute_result"
    }
   ],
   "source": [
    "diN2O.head()"
   ]
  },
  {
   "cell_type": "code",
   "execution_count": 26,
   "id": "52343941",
   "metadata": {},
   "outputs": [],
   "source": [
    "CH4=df2.loc[df2['Element_x'] == 'Emissions (CO2eq) from CH4 (AR5)']"
   ]
  },
  {
   "cell_type": "code",
   "execution_count": 27,
   "id": "1434de82",
   "metadata": {},
   "outputs": [
    {
     "data": {
      "text/html": [
       "<div>\n",
       "<style scoped>\n",
       "    .dataframe tbody tr th:only-of-type {\n",
       "        vertical-align: middle;\n",
       "    }\n",
       "\n",
       "    .dataframe tbody tr th {\n",
       "        vertical-align: top;\n",
       "    }\n",
       "\n",
       "    .dataframe thead th {\n",
       "        text-align: right;\n",
       "    }\n",
       "</style>\n",
       "<table border=\"1\" class=\"dataframe\">\n",
       "  <thead>\n",
       "    <tr style=\"text-align: right;\">\n",
       "      <th></th>\n",
       "      <th>Element_x</th>\n",
       "      <th>Year</th>\n",
       "      <th>emission</th>\n",
       "      <th>temperature</th>\n",
       "    </tr>\n",
       "  </thead>\n",
       "  <tbody>\n",
       "    <tr>\n",
       "      <th>80</th>\n",
       "      <td>Emissions (CO2eq) from CH4 (AR5)</td>\n",
       "      <td>2000</td>\n",
       "      <td>15049.882173</td>\n",
       "      <td>0.674438</td>\n",
       "    </tr>\n",
       "    <tr>\n",
       "      <th>81</th>\n",
       "      <td>Emissions (CO2eq) from CH4 (AR5)</td>\n",
       "      <td>2001</td>\n",
       "      <td>15145.011218</td>\n",
       "      <td>0.740187</td>\n",
       "    </tr>\n",
       "    <tr>\n",
       "      <th>82</th>\n",
       "      <td>Emissions (CO2eq) from CH4 (AR5)</td>\n",
       "      <td>2002</td>\n",
       "      <td>15810.818754</td>\n",
       "      <td>0.785797</td>\n",
       "    </tr>\n",
       "    <tr>\n",
       "      <th>83</th>\n",
       "      <td>Emissions (CO2eq) from CH4 (AR5)</td>\n",
       "      <td>2003</td>\n",
       "      <td>15588.252022</td>\n",
       "      <td>0.752533</td>\n",
       "    </tr>\n",
       "    <tr>\n",
       "      <th>84</th>\n",
       "      <td>Emissions (CO2eq) from CH4 (AR5)</td>\n",
       "      <td>2004</td>\n",
       "      <td>16086.840658</td>\n",
       "      <td>0.721552</td>\n",
       "    </tr>\n",
       "  </tbody>\n",
       "</table>\n",
       "</div>"
      ],
      "text/plain": [
       "                           Element_x  Year      emission  temperature\n",
       "80  Emissions (CO2eq) from CH4 (AR5)  2000  15049.882173     0.674438\n",
       "81  Emissions (CO2eq) from CH4 (AR5)  2001  15145.011218     0.740187\n",
       "82  Emissions (CO2eq) from CH4 (AR5)  2002  15810.818754     0.785797\n",
       "83  Emissions (CO2eq) from CH4 (AR5)  2003  15588.252022     0.752533\n",
       "84  Emissions (CO2eq) from CH4 (AR5)  2004  16086.840658     0.721552"
      ]
     },
     "execution_count": 27,
     "metadata": {},
     "output_type": "execute_result"
    }
   ],
   "source": [
    "CH4.head()"
   ]
  },
  {
   "cell_type": "code",
   "execution_count": 28,
   "id": "f9d4d7d6",
   "metadata": {},
   "outputs": [],
   "source": [
    "N2O=df2.loc[df2['Element_x'] == 'Emissions (CO2eq) from N2O (AR5)']"
   ]
  },
  {
   "cell_type": "code",
   "execution_count": 29,
   "id": "d1ffe9c7",
   "metadata": {},
   "outputs": [
    {
     "data": {
      "text/html": [
       "<div>\n",
       "<style scoped>\n",
       "    .dataframe tbody tr th:only-of-type {\n",
       "        vertical-align: middle;\n",
       "    }\n",
       "\n",
       "    .dataframe tbody tr th {\n",
       "        vertical-align: top;\n",
       "    }\n",
       "\n",
       "    .dataframe thead th {\n",
       "        text-align: right;\n",
       "    }\n",
       "</style>\n",
       "<table border=\"1\" class=\"dataframe\">\n",
       "  <thead>\n",
       "    <tr style=\"text-align: right;\">\n",
       "      <th></th>\n",
       "      <th>Element_x</th>\n",
       "      <th>Year</th>\n",
       "      <th>emission</th>\n",
       "      <th>temperature</th>\n",
       "    </tr>\n",
       "  </thead>\n",
       "  <tbody>\n",
       "    <tr>\n",
       "      <th>100</th>\n",
       "      <td>Emissions (CO2eq) from N2O (AR5)</td>\n",
       "      <td>2000</td>\n",
       "      <td>7316.777503</td>\n",
       "      <td>0.674260</td>\n",
       "    </tr>\n",
       "    <tr>\n",
       "      <th>101</th>\n",
       "      <td>Emissions (CO2eq) from N2O (AR5)</td>\n",
       "      <td>2001</td>\n",
       "      <td>7506.319104</td>\n",
       "      <td>0.741204</td>\n",
       "    </tr>\n",
       "    <tr>\n",
       "      <th>102</th>\n",
       "      <td>Emissions (CO2eq) from N2O (AR5)</td>\n",
       "      <td>2002</td>\n",
       "      <td>7704.619815</td>\n",
       "      <td>0.787067</td>\n",
       "    </tr>\n",
       "    <tr>\n",
       "      <th>103</th>\n",
       "      <td>Emissions (CO2eq) from N2O (AR5)</td>\n",
       "      <td>2003</td>\n",
       "      <td>7750.504686</td>\n",
       "      <td>0.753642</td>\n",
       "    </tr>\n",
       "    <tr>\n",
       "      <th>104</th>\n",
       "      <td>Emissions (CO2eq) from N2O (AR5)</td>\n",
       "      <td>2004</td>\n",
       "      <td>7987.294222</td>\n",
       "      <td>0.723385</td>\n",
       "    </tr>\n",
       "  </tbody>\n",
       "</table>\n",
       "</div>"
      ],
      "text/plain": [
       "                            Element_x  Year     emission  temperature\n",
       "100  Emissions (CO2eq) from N2O (AR5)  2000  7316.777503     0.674260\n",
       "101  Emissions (CO2eq) from N2O (AR5)  2001  7506.319104     0.741204\n",
       "102  Emissions (CO2eq) from N2O (AR5)  2002  7704.619815     0.787067\n",
       "103  Emissions (CO2eq) from N2O (AR5)  2003  7750.504686     0.753642\n",
       "104  Emissions (CO2eq) from N2O (AR5)  2004  7987.294222     0.723385"
      ]
     },
     "execution_count": 29,
     "metadata": {},
     "output_type": "execute_result"
    }
   ],
   "source": [
    "N2O.head()"
   ]
  },
  {
   "cell_type": "code",
   "execution_count": 30,
   "id": "681c50ab",
   "metadata": {},
   "outputs": [
    {
     "data": {
      "image/png": "[encoded data removed]",
      "text/plain": [
       "<Figure size 432x288 with 1 Axes>"
      ]
     },
     "metadata": {
      "needs_background": "light"
     },
     "output_type": "display_data"
    }
   ],
   "source": [
    "df2.plot (x=\"Year\", y=\"emission\", style=\"o\")\n",
    "plt.title(\"Emissions per year\")\n",
    "plt.xlabel(\"Years\")\n",
    "plt.ylabel(\"Emissions in kilotonnes\")\n",
    "plt.show()"
   ]
  },
  {
   "cell_type": "code",
   "execution_count": 31,
   "id": "73775a4a",
   "metadata": {},
   "outputs": [
    {
     "data": {
      "image/png": "[encoded data removed]",
      "text/plain": [
       "<Figure size 432x288 with 1 Axes>"
      ]
     },
     "metadata": {
      "needs_background": "light"
     },
     "output_type": "display_data"
    }
   ],
   "source": [
    "df2.plot (x=\"Year\", y=\"temperature\", style=\"o\")\n",
    "plt.title(\"Temperature increase per year\")\n",
    "plt.xlabel(\"Years\")\n",
    "plt.ylabel(\"Temperatures\")\n",
    "plt.show()"
   ]
  },
  {
   "cell_type": "code",
   "execution_count": 32,
   "id": "ba480de6",
   "metadata": {},
   "outputs": [
    {
     "data": {
      "image/png": "[encoded data removed]",
      "text/plain": [
       "<Figure size 432x288 with 1 Axes>"
      ]
     },
     "metadata": {
      "needs_background": "light"
     },
     "output_type": "display_data"
    }
   ],
   "source": [
    "sns.lineplot(x=df2['Year'],y=df2['emission'], ci=None)\n",
    "plt.savefig('emissionyears.png',dpi=200)\n",
    "plt.show()"
   ]
  },
  {
   "cell_type": "code",
   "execution_count": 33,
   "id": "a0340aa0",
   "metadata": {},
   "outputs": [
    {
     "data": {
      "image/png": "[encoded data removed]",
      "text/plain": [
       "<Figure size 432x288 with 1 Axes>"
      ]
     },
     "metadata": {
      "needs_background": "light"
     },
     "output_type": "display_data"
    }
   ],
   "source": [
    "sns.lineplot(x=df2['Year'],y=df2['temperature'], ci=None)\n",
    "plt.savefig('temperatureyears.png',dpi=200)\n",
    "plt.show()"
   ]
  },
  {
   "cell_type": "markdown",
   "id": "b02c4cd1",
   "metadata": {},
   "source": [
    "# Hypothesis = Temperature rises over years"
   ]
  },
  {
   "cell_type": "code",
   "execution_count": 34,
   "id": "e2ba6699",
   "metadata": {},
   "outputs": [],
   "source": [
    "# Reshape the variables into NumPy arrays and put them into separate objects.\n",
    "\n",
    "i=CH4['temperature'].values.reshape(-1,1)\n",
    "J=CH4['emission'].values.reshape(-1,1)\n",
    "\n",
    "y=emCO2['temperature'].values.reshape(-1,1)\n",
    "X=emCO2['emission'].values.reshape(-1,1)\n",
    "\n",
    "a = indiN2O['temperature'].values.reshape(-1,1)\n",
    "B = indiN2O['emission'].values.reshape(-1,1)\n",
    "\n",
    "c = diN2O['temperature'].values.reshape(-1,1)\n",
    "D = diN2O['emission'].values.reshape(-1,1)\n",
    "\n",
    "e = CH4['temperature'].values.reshape(-1,1)\n",
    "F = CH4['emission'].values.reshape(-1,1)\n",
    "\n",
    "g = N2O['temperature'].values.reshape(-1,1)\n",
    "H = N2O['emission'].values.reshape(-1,1)\n"
   ]
  },
  {
   "cell_type": "code",
   "execution_count": 35,
   "id": "260c3afe",
   "metadata": {},
   "outputs": [
    {
     "data": {
      "text/plain": [
       "array([[12238.23401761],\n",
       "       [10949.4311802 ],\n",
       "       [13018.58407094],\n",
       "       [12238.75285956],\n",
       "       [13105.52256884],\n",
       "       [12662.04557724],\n",
       "       [13202.13490307],\n",
       "       [11981.78651943],\n",
       "       [11847.86498716],\n",
       "       [12579.53050263],\n",
       "       [11765.80582305],\n",
       "       [ 8458.59683637],\n",
       "       [ 8408.0410326 ],\n",
       "       [ 8396.67377637],\n",
       "       [ 8768.48032659],\n",
       "       [ 9411.52170088],\n",
       "       [ 9767.76821258],\n",
       "       [ 9576.98182232],\n",
       "       [10198.42960821],\n",
       "       [10923.98535328]])"
      ]
     },
     "execution_count": 35,
     "metadata": {},
     "output_type": "execute_result"
    }
   ],
   "source": [
    "X"
   ]
  },
  {
   "cell_type": "code",
   "execution_count": 36,
   "id": "4d2eb09e",
   "metadata": {},
   "outputs": [
    {
     "data": {
      "text/plain": [
       "array([[0.68131399],\n",
       "       [0.74626663],\n",
       "       [0.79037056],\n",
       "       [0.76092808],\n",
       "       [0.72542203],\n",
       "       [0.76469298],\n",
       "       [0.77874566],\n",
       "       [0.82797889],\n",
       "       [0.74197892],\n",
       "       [0.80429234],\n",
       "       [0.86650442],\n",
       "       [0.75465692],\n",
       "       [0.77743847],\n",
       "       [0.80803105],\n",
       "       [0.89655879],\n",
       "       [0.98537045],\n",
       "       [1.03437885],\n",
       "       [0.96480548],\n",
       "       [0.98186433],\n",
       "       [1.05796084]])"
      ]
     },
     "execution_count": 36,
     "metadata": {},
     "output_type": "execute_result"
    }
   ],
   "source": [
    "y"
   ]
  },
  {
   "cell_type": "code",
   "execution_count": 37,
   "id": "105e0f66",
   "metadata": {},
   "outputs": [],
   "source": [
    "# Split data into a training set and a test set.\n",
    "\n",
    "X_train, X_test, y_train, y_test = train_test_split(X, y, test_size=0.3, random_state=0)"
   ]
  },
  {
   "cell_type": "code",
   "execution_count": 38,
   "id": "529c8679",
   "metadata": {},
   "outputs": [],
   "source": [
    "# create a regression object\n",
    "\n",
    "regression = LinearRegression()"
   ]
  },
  {
   "cell_type": "code",
   "execution_count": 39,
   "id": "20777fbb",
   "metadata": {},
   "outputs": [
    {
     "data": {
      "text/plain": [
       "LinearRegression()"
      ]
     },
     "execution_count": 39,
     "metadata": {},
     "output_type": "execute_result"
    }
   ],
   "source": [
    "# fit the regression object onto the training set\n",
    "\n",
    "regression.fit(X_train, y_train)"
   ]
  },
  {
   "cell_type": "code",
   "execution_count": 40,
   "id": "86d4719b",
   "metadata": {},
   "outputs": [],
   "source": [
    "# Predict the values of y using X.\n",
    "\n",
    "y_predicted = regression.predict(X_test)"
   ]
  },
  {
   "cell_type": "code",
   "execution_count": 41,
   "id": "c4e0b2c9",
   "metadata": {},
   "outputs": [
    {
     "data": {
      "image/png": "[encoded data removed]",
      "text/plain": [
       "<Figure size 432x288 with 1 Axes>"
      ]
     },
     "metadata": {
      "needs_background": "light"
     },
     "output_type": "display_data"
    }
   ],
   "source": [
    "# Create a plot that shows the regression line from the model on the test set.\n",
    "\n",
    "plot_test = plt\n",
    "plot_test.scatter(X_test, y_test, color=\"gray\", s = 15)\n",
    "plot_test.plot(X_test, y_predicted, color = \"red\", linewidth = 3)\n",
    "plot_test.title(\"Emissions CO2/Temperature increase\")\n",
    "plot_test.xlabel(\"CO2 emission\")\n",
    "plot_test.ylabel(\"temperature\")\n",
    "plt.savefig('regression.png')\n",
    "plot_test.show()"
   ]
  },
  {
   "cell_type": "markdown",
   "id": "e846588f",
   "metadata": {},
   "source": [
    "## "
   ]
  },
  {
   "cell_type": "code",
   "execution_count": 42,
   "id": "43519d7c",
   "metadata": {},
   "outputs": [],
   "source": [
    "# create objects with model summary statistics\n",
    "\n",
    "rmse = mean_squared_error(y_test, y_predicted) # This is the mean squared error\n",
    "r2 = r2_score(y_test, y_predicted) # This is the R2 score. "
   ]
  },
  {
   "cell_type": "code",
   "execution_count": 43,
   "id": "e56adb48",
   "metadata": {},
   "outputs": [
    {
     "name": "stdout",
     "output_type": "stream",
     "text": [
      "Slope: [[-2.11598106e-05]]\n",
      "Mean squared error:  0.01808419900126357\n",
      "R2 score:  -0.271971712053356\n"
     ]
    }
   ],
   "source": [
    "# print the model summary statistics\n",
    "\n",
    "print('Slope:' ,regression.coef_)\n",
    "print('Mean squared error: ', rmse)\n",
    "print('R2 score: ', r2)"
   ]
  },
  {
   "cell_type": "code",
   "execution_count": 44,
   "id": "586af733",
   "metadata": {},
   "outputs": [
    {
     "data": {
      "text/plain": [
       "array([[0.83090452],\n",
       "       [0.81501347],\n",
       "       [0.8155519 ],\n",
       "       [0.79600278],\n",
       "       [0.79773913],\n",
       "       [0.84405424]])"
      ]
     },
     "execution_count": 44,
     "metadata": {},
     "output_type": "execute_result"
    }
   ],
   "source": [
    "y_predicted"
   ]
  },
  {
   "cell_type": "code",
   "execution_count": 45,
   "id": "16a92098",
   "metadata": {},
   "outputs": [
    {
     "data": {
      "text/html": [
       "<div>\n",
       "<style scoped>\n",
       "    .dataframe tbody tr th:only-of-type {\n",
       "        vertical-align: middle;\n",
       "    }\n",
       "\n",
       "    .dataframe tbody tr th {\n",
       "        vertical-align: top;\n",
       "    }\n",
       "\n",
       "    .dataframe thead th {\n",
       "        text-align: right;\n",
       "    }\n",
       "</style>\n",
       "<table border=\"1\" class=\"dataframe\">\n",
       "  <thead>\n",
       "    <tr style=\"text-align: right;\">\n",
       "      <th></th>\n",
       "      <th>Actual</th>\n",
       "      <th>Predicted</th>\n",
       "    </tr>\n",
       "  </thead>\n",
       "  <tbody>\n",
       "    <tr>\n",
       "      <th>0</th>\n",
       "      <td>0.981864</td>\n",
       "      <td>0.830905</td>\n",
       "    </tr>\n",
       "    <tr>\n",
       "      <th>1</th>\n",
       "      <td>0.746267</td>\n",
       "      <td>0.815013</td>\n",
       "    </tr>\n",
       "    <tr>\n",
       "      <th>2</th>\n",
       "      <td>1.057961</td>\n",
       "      <td>0.815552</td>\n",
       "    </tr>\n",
       "    <tr>\n",
       "      <th>3</th>\n",
       "      <td>0.741979</td>\n",
       "      <td>0.796003</td>\n",
       "    </tr>\n",
       "    <tr>\n",
       "      <th>4</th>\n",
       "      <td>0.866504</td>\n",
       "      <td>0.797739</td>\n",
       "    </tr>\n",
       "    <tr>\n",
       "      <th>5</th>\n",
       "      <td>0.964805</td>\n",
       "      <td>0.844054</td>\n",
       "    </tr>\n",
       "  </tbody>\n",
       "</table>\n",
       "</div>"
      ],
      "text/plain": [
       "     Actual  Predicted\n",
       "0  0.981864   0.830905\n",
       "1  0.746267   0.815013\n",
       "2  1.057961   0.815552\n",
       "3  0.741979   0.796003\n",
       "4  0.866504   0.797739\n",
       "5  0.964805   0.844054"
      ]
     },
     "execution_count": 45,
     "metadata": {},
     "output_type": "execute_result"
    }
   ],
   "source": [
    "# Create a dataframe comparing the actual and predicted values of y.\n",
    "\n",
    "data = pd.DataFrame({'Actual': y_test.flatten(), 'Predicted': y_predicted.flatten()})\n",
    "data.head(30)"
   ]
  },
  {
   "cell_type": "code",
   "execution_count": null,
   "id": "310e3c07",
   "metadata": {},
   "outputs": [],
   "source": []
  }
 ],
 "metadata": {
  "kernelspec": {
   "display_name": "Python 3 (ipykernel)",
   "language": "python",
   "name": "python3"
  },
  "language_info": {
   "codemirror_mode": {
    "name": "ipython",
    "version": 3
   },
   "file_extension": ".py",
   "mimetype": "text/x-python",
   "name": "python",
   "nbconvert_exporter": "python",
   "pygments_lexer": "ipython3",
   "version": "3.8.11"
  }
 },
 "nbformat": 4,
 "nbformat_minor": 5
}
