{
 "cells": [
  {
   "cell_type": "markdown",
   "id": "d8aa3cc4",
   "metadata": {},
   "source": [
    "# 1. Importing libraries and data"
   ]
  },
  {
   "cell_type": "code",
   "execution_count": 1,
   "id": "39103806",
   "metadata": {},
   "outputs": [],
   "source": [
    "import pandas as pd\n",
    "import numpy as np\n",
    "import seaborn as sns\n",
    "import matplotlib\n",
    "import matplotlib.pyplot as plt\n",
    "import os\n",
    "import sklearn\n",
    "from sklearn.model_selection import train_test_split \n",
    "from sklearn.linear_model import LinearRegression\n",
    "from sklearn.metrics import mean_squared_error, r2_score\n",
    "import statsmodels.api as sm\n"
   ]
  },
  {
   "cell_type": "code",
   "execution_count": 2,
   "id": "e10cbed7",
   "metadata": {},
   "outputs": [],
   "source": [
    "# This option ensures that the graphs created are displayed within the notebook without the need to \"call\" them specifically\n",
    "\n",
    "%matplotlib inline"
   ]
  },
  {
   "cell_type": "code",
   "execution_count": 3,
   "id": "9efad617",
   "metadata": {},
   "outputs": [],
   "source": [
    "path = 'C:\\\\Users\\\\Marce\\\\careerfoundry\\\\World Food Fit'"
   ]
  },
  {
   "cell_type": "code",
   "execution_count": 4,
   "id": "c8522f8e",
   "metadata": {},
   "outputs": [],
   "source": [
    "df = pd.read_csv(os.path.join(path, '02 Data', 'Prepared Data', 'merged.csv'))"
   ]
  },
  {
   "cell_type": "code",
   "execution_count": 5,
   "id": "f62a09d1",
   "metadata": {},
   "outputs": [
    {
     "data": {
      "text/plain": [
       "Index(['Unnamed: 0', 'Area', 'Element_x', 'Year', 'Unit_x', 'Value_x',\n",
       "       'Element_y', 'Months', 'Unit_y', 'Value_y', '_merge'],\n",
       "      dtype='object')"
      ]
     },
     "execution_count": 5,
     "metadata": {},
     "output_type": "execute_result"
    }
   ],
   "source": [
    "df.columns"
   ]
  },
  {
   "cell_type": "code",
   "execution_count": 6,
   "id": "26845a45",
   "metadata": {},
   "outputs": [
    {
     "data": {
      "text/plain": [
       "(6213092, 11)"
      ]
     },
     "execution_count": 6,
     "metadata": {},
     "output_type": "execute_result"
    }
   ],
   "source": [
    "df.shape"
   ]
  },
  {
   "cell_type": "code",
   "execution_count": 7,
   "id": "ec638a6d",
   "metadata": {},
   "outputs": [
    {
     "data": {
      "text/plain": [
       "Unnamed: 0    0\n",
       "Area          0\n",
       "Element_x     0\n",
       "Year          0\n",
       "Unit_x        0\n",
       "Value_x       0\n",
       "Element_y     0\n",
       "Months        0\n",
       "Unit_y        0\n",
       "Value_y       0\n",
       "_merge        0\n",
       "dtype: int64"
      ]
     },
     "execution_count": 7,
     "metadata": {},
     "output_type": "execute_result"
    }
   ],
   "source": [
    "df.isnull().sum()"
   ]
  },
  {
   "cell_type": "code",
   "execution_count": 8,
   "id": "6528b288",
   "metadata": {},
   "outputs": [
    {
     "data": {
      "text/html": [
       "<div>\n",
       "<style scoped>\n",
       "    .dataframe tbody tr th:only-of-type {\n",
       "        vertical-align: middle;\n",
       "    }\n",
       "\n",
       "    .dataframe tbody tr th {\n",
       "        vertical-align: top;\n",
       "    }\n",
       "\n",
       "    .dataframe thead th {\n",
       "        text-align: right;\n",
       "    }\n",
       "</style>\n",
       "<table border=\"1\" class=\"dataframe\">\n",
       "  <thead>\n",
       "    <tr style=\"text-align: right;\">\n",
       "      <th></th>\n",
       "      <th>Unnamed: 0</th>\n",
       "      <th>Area</th>\n",
       "      <th>Element_x</th>\n",
       "      <th>Year</th>\n",
       "      <th>Unit_x</th>\n",
       "      <th>Value_x</th>\n",
       "      <th>Element_y</th>\n",
       "      <th>Months</th>\n",
       "      <th>Unit_y</th>\n",
       "      <th>Value_y</th>\n",
       "      <th>_merge</th>\n",
       "    </tr>\n",
       "  </thead>\n",
       "  <tbody>\n",
       "    <tr>\n",
       "      <th>0</th>\n",
       "      <td>0</td>\n",
       "      <td>Afghanistan</td>\n",
       "      <td>Emissions (CH4)</td>\n",
       "      <td>2000</td>\n",
       "      <td>kilotonnes</td>\n",
       "      <td>308.4856</td>\n",
       "      <td>Temperature change</td>\n",
       "      <td>January</td>\n",
       "      <td>?C</td>\n",
       "      <td>1.596</td>\n",
       "      <td>both</td>\n",
       "    </tr>\n",
       "    <tr>\n",
       "      <th>1</th>\n",
       "      <td>1</td>\n",
       "      <td>Afghanistan</td>\n",
       "      <td>Emissions (CH4)</td>\n",
       "      <td>2000</td>\n",
       "      <td>kilotonnes</td>\n",
       "      <td>308.4856</td>\n",
       "      <td>Standard Deviation</td>\n",
       "      <td>January</td>\n",
       "      <td>?C</td>\n",
       "      <td>1.947</td>\n",
       "      <td>both</td>\n",
       "    </tr>\n",
       "    <tr>\n",
       "      <th>2</th>\n",
       "      <td>2</td>\n",
       "      <td>Afghanistan</td>\n",
       "      <td>Emissions (CH4)</td>\n",
       "      <td>2000</td>\n",
       "      <td>kilotonnes</td>\n",
       "      <td>308.4856</td>\n",
       "      <td>Temperature change</td>\n",
       "      <td>February</td>\n",
       "      <td>?C</td>\n",
       "      <td>-0.881</td>\n",
       "      <td>both</td>\n",
       "    </tr>\n",
       "    <tr>\n",
       "      <th>3</th>\n",
       "      <td>3</td>\n",
       "      <td>Afghanistan</td>\n",
       "      <td>Emissions (CH4)</td>\n",
       "      <td>2000</td>\n",
       "      <td>kilotonnes</td>\n",
       "      <td>308.4856</td>\n",
       "      <td>Standard Deviation</td>\n",
       "      <td>February</td>\n",
       "      <td>?C</td>\n",
       "      <td>2.590</td>\n",
       "      <td>both</td>\n",
       "    </tr>\n",
       "    <tr>\n",
       "      <th>4</th>\n",
       "      <td>4</td>\n",
       "      <td>Afghanistan</td>\n",
       "      <td>Emissions (CH4)</td>\n",
       "      <td>2000</td>\n",
       "      <td>kilotonnes</td>\n",
       "      <td>308.4856</td>\n",
       "      <td>Temperature change</td>\n",
       "      <td>March</td>\n",
       "      <td>?C</td>\n",
       "      <td>-0.237</td>\n",
       "      <td>both</td>\n",
       "    </tr>\n",
       "  </tbody>\n",
       "</table>\n",
       "</div>"
      ],
      "text/plain": [
       "   Unnamed: 0         Area        Element_x  Year      Unit_x   Value_x  \\\n",
       "0           0  Afghanistan  Emissions (CH4)  2000  kilotonnes  308.4856   \n",
       "1           1  Afghanistan  Emissions (CH4)  2000  kilotonnes  308.4856   \n",
       "2           2  Afghanistan  Emissions (CH4)  2000  kilotonnes  308.4856   \n",
       "3           3  Afghanistan  Emissions (CH4)  2000  kilotonnes  308.4856   \n",
       "4           4  Afghanistan  Emissions (CH4)  2000  kilotonnes  308.4856   \n",
       "\n",
       "            Element_y    Months Unit_y  Value_y _merge  \n",
       "0  Temperature change   January     ?C    1.596   both  \n",
       "1  Standard Deviation   January     ?C    1.947   both  \n",
       "2  Temperature change  February     ?C   -0.881   both  \n",
       "3  Standard Deviation  February     ?C    2.590   both  \n",
       "4  Temperature change     March     ?C   -0.237   both  "
      ]
     },
     "execution_count": 8,
     "metadata": {},
     "output_type": "execute_result"
    }
   ],
   "source": [
    "df.head()"
   ]
  },
  {
   "cell_type": "code",
   "execution_count": 9,
   "id": "e1de67be",
   "metadata": {},
   "outputs": [
    {
     "data": {
      "text/plain": [
       "(6213092, 11)"
      ]
     },
     "execution_count": 9,
     "metadata": {},
     "output_type": "execute_result"
    }
   ],
   "source": [
    "df.shape"
   ]
  },
  {
   "cell_type": "code",
   "execution_count": 10,
   "id": "dea30d7d",
   "metadata": {},
   "outputs": [],
   "source": [
    "dups = df.duplicated()"
   ]
  },
  {
   "cell_type": "code",
   "execution_count": 11,
   "id": "695f89b3",
   "metadata": {},
   "outputs": [
    {
     "data": {
      "text/plain": [
       "(6213092,)"
      ]
     },
     "execution_count": 11,
     "metadata": {},
     "output_type": "execute_result"
    }
   ],
   "source": [
    "# no dups\n",
    "\n",
    "dups.shape"
   ]
  },
  {
   "cell_type": "code",
   "execution_count": 12,
   "id": "3eceb6ba",
   "metadata": {},
   "outputs": [
    {
     "data": {
      "text/plain": [
       "Emissions (CO2eq) (AR5)             904264\n",
       "Emissions (N2O)                     896784\n",
       "Emissions (CO2eq) from N2O (AR5)    896784\n",
       "Emissions (CH4)                     754222\n",
       "Emissions (CO2eq) from CH4 (AR5)    754222\n",
       "Direct emissions (N2O)              693940\n",
       "Indirect emissions (N2O)            693940\n",
       "Emissions (CO2)                     618936\n",
       "Name: Element_x, dtype: int64"
      ]
     },
     "execution_count": 12,
     "metadata": {},
     "output_type": "execute_result"
    }
   ],
   "source": [
    "df['Element_x'].value_counts()"
   ]
  },
  {
   "cell_type": "code",
   "execution_count": 13,
   "id": "a6280637",
   "metadata": {},
   "outputs": [],
   "source": [
    "df.drop(columns=['Unnamed: 0','_merge'],inplace=True)"
   ]
  },
  {
   "cell_type": "code",
   "execution_count": 14,
   "id": "ed177abe",
   "metadata": {},
   "outputs": [],
   "source": [
    "df2=df[['Element_x','Year','Value_x','Value_y']]"
   ]
  },
  {
   "cell_type": "code",
   "execution_count": 15,
   "id": "232052b0",
   "metadata": {},
   "outputs": [
    {
     "data": {
      "text/html": [
       "<div>\n",
       "<style scoped>\n",
       "    .dataframe tbody tr th:only-of-type {\n",
       "        vertical-align: middle;\n",
       "    }\n",
       "\n",
       "    .dataframe tbody tr th {\n",
       "        vertical-align: top;\n",
       "    }\n",
       "\n",
       "    .dataframe thead th {\n",
       "        text-align: right;\n",
       "    }\n",
       "</style>\n",
       "<table border=\"1\" class=\"dataframe\">\n",
       "  <thead>\n",
       "    <tr style=\"text-align: right;\">\n",
       "      <th></th>\n",
       "      <th></th>\n",
       "      <th>Value_x</th>\n",
       "      <th>Value_y</th>\n",
       "    </tr>\n",
       "    <tr>\n",
       "      <th>Element_x</th>\n",
       "      <th>Year</th>\n",
       "      <th></th>\n",
       "      <th></th>\n",
       "    </tr>\n",
       "  </thead>\n",
       "  <tbody>\n",
       "    <tr>\n",
       "      <th rowspan=\"5\" valign=\"top\">Direct emissions (N2O)</th>\n",
       "      <th>2000</th>\n",
       "      <td>22.480746</td>\n",
       "      <td>0.672463</td>\n",
       "    </tr>\n",
       "    <tr>\n",
       "      <th>2001</th>\n",
       "      <td>22.656601</td>\n",
       "      <td>0.742463</td>\n",
       "    </tr>\n",
       "    <tr>\n",
       "      <th>2002</th>\n",
       "      <td>23.214713</td>\n",
       "      <td>0.788998</td>\n",
       "    </tr>\n",
       "    <tr>\n",
       "      <th>2003</th>\n",
       "      <td>23.539016</td>\n",
       "      <td>0.753128</td>\n",
       "    </tr>\n",
       "    <tr>\n",
       "      <th>2004</th>\n",
       "      <td>24.237413</td>\n",
       "      <td>0.725571</td>\n",
       "    </tr>\n",
       "    <tr>\n",
       "      <th>...</th>\n",
       "      <th>...</th>\n",
       "      <td>...</td>\n",
       "      <td>...</td>\n",
       "    </tr>\n",
       "    <tr>\n",
       "      <th rowspan=\"5\" valign=\"top\">Indirect emissions (N2O)</th>\n",
       "      <th>2015</th>\n",
       "      <td>8.191224</td>\n",
       "      <td>0.987950</td>\n",
       "    </tr>\n",
       "    <tr>\n",
       "      <th>2016</th>\n",
       "      <td>8.306482</td>\n",
       "      <td>1.029705</td>\n",
       "    </tr>\n",
       "    <tr>\n",
       "      <th>2017</th>\n",
       "      <td>8.381372</td>\n",
       "      <td>0.962424</td>\n",
       "    </tr>\n",
       "    <tr>\n",
       "      <th>2018</th>\n",
       "      <td>8.327186</td>\n",
       "      <td>0.984364</td>\n",
       "    </tr>\n",
       "    <tr>\n",
       "      <th>2019</th>\n",
       "      <td>8.400020</td>\n",
       "      <td>1.064004</td>\n",
       "    </tr>\n",
       "  </tbody>\n",
       "</table>\n",
       "<p>160 rows × 2 columns</p>\n",
       "</div>"
      ],
      "text/plain": [
       "                                 Value_x   Value_y\n",
       "Element_x                Year                     \n",
       "Direct emissions (N2O)   2000  22.480746  0.672463\n",
       "                         2001  22.656601  0.742463\n",
       "                         2002  23.214713  0.788998\n",
       "                         2003  23.539016  0.753128\n",
       "                         2004  24.237413  0.725571\n",
       "...                                  ...       ...\n",
       "Indirect emissions (N2O) 2015   8.191224  0.987950\n",
       "                         2016   8.306482  1.029705\n",
       "                         2017   8.381372  0.962424\n",
       "                         2018   8.327186  0.984364\n",
       "                         2019   8.400020  1.064004\n",
       "\n",
       "[160 rows x 2 columns]"
      ]
     },
     "execution_count": 15,
     "metadata": {},
     "output_type": "execute_result"
    }
   ],
   "source": [
    "df2.groupby(['Element_x','Year']).mean()"
   ]
  },
  {
   "cell_type": "code",
   "execution_count": 16,
   "id": "db1139ff",
   "metadata": {},
   "outputs": [
    {
     "name": "stderr",
     "output_type": "stream",
     "text": [
      "C:\\Users\\Marce\\anaconda3\\lib\\site-packages\\pandas\\core\\frame.py:5034: SettingWithCopyWarning: \n",
      "A value is trying to be set on a copy of a slice from a DataFrame\n",
      "\n",
      "See the caveats in the documentation: https://pandas.pydata.org/pandas-docs/stable/user_guide/indexing.html#returning-a-view-versus-a-copy\n",
      "  return super().rename(\n"
     ]
    }
   ],
   "source": [
    "df2.rename(columns={'Value_x':'emission','Value_y':'temperature'},inplace=True)"
   ]
  },
  {
   "cell_type": "code",
   "execution_count": 17,
   "id": "8d158ca9",
   "metadata": {},
   "outputs": [
    {
     "data": {
      "text/html": [
       "<div>\n",
       "<style scoped>\n",
       "    .dataframe tbody tr th:only-of-type {\n",
       "        vertical-align: middle;\n",
       "    }\n",
       "\n",
       "    .dataframe tbody tr th {\n",
       "        vertical-align: top;\n",
       "    }\n",
       "\n",
       "    .dataframe thead th {\n",
       "        text-align: right;\n",
       "    }\n",
       "</style>\n",
       "<table border=\"1\" class=\"dataframe\">\n",
       "  <thead>\n",
       "    <tr style=\"text-align: right;\">\n",
       "      <th></th>\n",
       "      <th>Element_x</th>\n",
       "      <th>Year</th>\n",
       "      <th>emission</th>\n",
       "      <th>temperature</th>\n",
       "    </tr>\n",
       "  </thead>\n",
       "  <tbody>\n",
       "    <tr>\n",
       "      <th>0</th>\n",
       "      <td>Emissions (CH4)</td>\n",
       "      <td>2000</td>\n",
       "      <td>308.4856</td>\n",
       "      <td>1.596</td>\n",
       "    </tr>\n",
       "    <tr>\n",
       "      <th>1</th>\n",
       "      <td>Emissions (CH4)</td>\n",
       "      <td>2000</td>\n",
       "      <td>308.4856</td>\n",
       "      <td>1.947</td>\n",
       "    </tr>\n",
       "    <tr>\n",
       "      <th>2</th>\n",
       "      <td>Emissions (CH4)</td>\n",
       "      <td>2000</td>\n",
       "      <td>308.4856</td>\n",
       "      <td>-0.881</td>\n",
       "    </tr>\n",
       "    <tr>\n",
       "      <th>3</th>\n",
       "      <td>Emissions (CH4)</td>\n",
       "      <td>2000</td>\n",
       "      <td>308.4856</td>\n",
       "      <td>2.590</td>\n",
       "    </tr>\n",
       "    <tr>\n",
       "      <th>4</th>\n",
       "      <td>Emissions (CH4)</td>\n",
       "      <td>2000</td>\n",
       "      <td>308.4856</td>\n",
       "      <td>-0.237</td>\n",
       "    </tr>\n",
       "  </tbody>\n",
       "</table>\n",
       "</div>"
      ],
      "text/plain": [
       "         Element_x  Year  emission  temperature\n",
       "0  Emissions (CH4)  2000  308.4856        1.596\n",
       "1  Emissions (CH4)  2000  308.4856        1.947\n",
       "2  Emissions (CH4)  2000  308.4856       -0.881\n",
       "3  Emissions (CH4)  2000  308.4856        2.590\n",
       "4  Emissions (CH4)  2000  308.4856       -0.237"
      ]
     },
     "execution_count": 17,
     "metadata": {},
     "output_type": "execute_result"
    }
   ],
   "source": [
    "df2.head()"
   ]
  },
  {
   "cell_type": "code",
   "execution_count": 18,
   "id": "c854c83b",
   "metadata": {},
   "outputs": [],
   "source": [
    "# export dataframe for further use\n",
    "\n",
    "# df2.to_csv(os.path.join(path,'02 Data','Prepared Data', 'final.csv'))"
   ]
  },
  {
   "cell_type": "code",
   "execution_count": 19,
   "id": "db144ddb",
   "metadata": {},
   "outputs": [
    {
     "data": {
      "text/plain": [
       "2000    312596\n",
       "2017    311882\n",
       "2019    311882\n",
       "2012    311780\n",
       "2014    311712\n",
       "2018    311712\n",
       "2016    311712\n",
       "2015    311712\n",
       "2013    311712\n",
       "2009    310658\n",
       "2006    310556\n",
       "2008    310556\n",
       "2010    310488\n",
       "2007    310488\n",
       "2011    310284\n",
       "2004    308720\n",
       "2002    308720\n",
       "2005    308652\n",
       "2003    308652\n",
       "2001    308618\n",
       "Name: Year, dtype: int64"
      ]
     },
     "execution_count": 19,
     "metadata": {},
     "output_type": "execute_result"
    }
   ],
   "source": [
    "df2['Year'].value_counts()"
   ]
  },
  {
   "cell_type": "markdown",
   "id": "fe1de67c",
   "metadata": {},
   "source": [
    "# Emissions CO2"
   ]
  },
  {
   "cell_type": "code",
   "execution_count": 20,
   "id": "3984ab47",
   "metadata": {},
   "outputs": [],
   "source": [
    "CO2=df2[df2['Element_x'] == 'Emissions (CO2)']"
   ]
  },
  {
   "cell_type": "code",
   "execution_count": 21,
   "id": "6e780bf5",
   "metadata": {},
   "outputs": [
    {
     "name": "stderr",
     "output_type": "stream",
     "text": [
      "C:\\Users\\Marce\\anaconda3\\lib\\site-packages\\pandas\\core\\frame.py:4901: SettingWithCopyWarning: \n",
      "A value is trying to be set on a copy of a slice from a DataFrame\n",
      "\n",
      "See the caveats in the documentation: https://pandas.pydata.org/pandas-docs/stable/user_guide/indexing.html#returning-a-view-versus-a-copy\n",
      "  return super().drop(\n"
     ]
    }
   ],
   "source": [
    "CO2.drop(columns={'Element_x'},inplace=True)"
   ]
  },
  {
   "cell_type": "code",
   "execution_count": 22,
   "id": "c4e2d3b9",
   "metadata": {},
   "outputs": [],
   "source": [
    "CO2 = CO2.groupby(['Year']).mean()"
   ]
  },
  {
   "cell_type": "code",
   "execution_count": 23,
   "id": "8c0eafef",
   "metadata": {},
   "outputs": [
    {
     "name": "stdout",
     "output_type": "stream",
     "text": [
      "          emission  temperature\n",
      "Year                           \n",
      "2000  12238.234018     0.681314\n",
      "2001  10949.431180     0.746267\n",
      "2002  13018.584071     0.790371\n",
      "2003  12238.752860     0.760928\n",
      "2004  13105.522569     0.725422\n",
      "2005  12662.045577     0.764693\n",
      "2006  13202.134903     0.778746\n",
      "2007  11981.786519     0.827979\n",
      "2008  11847.864987     0.741979\n",
      "2009  12579.530503     0.804292\n",
      "2010  11765.805823     0.866504\n",
      "2011   8458.596836     0.754657\n",
      "2012   8408.041033     0.777438\n",
      "2013   8396.673776     0.808031\n",
      "2014   8768.480327     0.896559\n",
      "2015   9411.521701     0.985370\n",
      "2016   9767.768213     1.034379\n",
      "2017   9576.981822     0.964805\n",
      "2018  10198.429608     0.981864\n",
      "2019  10923.985353     1.057961\n"
     ]
    }
   ],
   "source": [
    "print(CO2)"
   ]
  },
  {
   "cell_type": "markdown",
   "id": "d58c30c9",
   "metadata": {},
   "source": [
    "# emissions CH4(methane) in CO2 equivalent "
   ]
  },
  {
   "cell_type": "code",
   "execution_count": 24,
   "id": "52343941",
   "metadata": {},
   "outputs": [],
   "source": [
    "CH4 = df2[df2['Element_x'] == 'Emissions (CO2eq) from CH4 (AR5)']"
   ]
  },
  {
   "cell_type": "code",
   "execution_count": 25,
   "id": "fc6d35da",
   "metadata": {},
   "outputs": [
    {
     "name": "stderr",
     "output_type": "stream",
     "text": [
      "C:\\Users\\Marce\\anaconda3\\lib\\site-packages\\pandas\\core\\frame.py:4901: SettingWithCopyWarning: \n",
      "A value is trying to be set on a copy of a slice from a DataFrame\n",
      "\n",
      "See the caveats in the documentation: https://pandas.pydata.org/pandas-docs/stable/user_guide/indexing.html#returning-a-view-versus-a-copy\n",
      "  return super().drop(\n"
     ]
    }
   ],
   "source": [
    "CH4.drop(columns={'Element_x'},inplace=True)"
   ]
  },
  {
   "cell_type": "code",
   "execution_count": 26,
   "id": "b97b5eba",
   "metadata": {},
   "outputs": [],
   "source": [
    "CH4 = CH4.groupby(['Year']).mean()"
   ]
  },
  {
   "cell_type": "code",
   "execution_count": 27,
   "id": "1434de82",
   "metadata": {},
   "outputs": [
    {
     "name": "stdout",
     "output_type": "stream",
     "text": [
      "          emission  temperature\n",
      "Year                           \n",
      "2000  15049.882173     0.674438\n",
      "2001  15145.011218     0.740187\n",
      "2002  15810.818754     0.785797\n",
      "2003  15588.252022     0.752533\n",
      "2004  16086.840658     0.721552\n",
      "2005  16067.499355     0.763424\n",
      "2006  16217.500621     0.772319\n",
      "2007  16028.019523     0.821707\n",
      "2008  15959.576570     0.736871\n",
      "2009  16165.503848     0.798526\n",
      "2010  16055.016777     0.866587\n",
      "2011  16370.473035     0.745465\n",
      "2012  16318.872765     0.768806\n",
      "2013  16134.734481     0.804419\n",
      "2014  16337.896333     0.888528\n",
      "2015  16647.600369     0.978924\n",
      "2016  16329.725637     1.028572\n",
      "2017  16388.129352     0.959413\n",
      "2018  16506.520220     0.975087\n",
      "2019  16689.345784     1.054091\n"
     ]
    }
   ],
   "source": [
    "print(CH4)"
   ]
  },
  {
   "cell_type": "markdown",
   "id": "d61ed86d",
   "metadata": {},
   "source": [
    "# emissions N2O in CO2 equivalent"
   ]
  },
  {
   "cell_type": "code",
   "execution_count": 28,
   "id": "f9d4d7d6",
   "metadata": {},
   "outputs": [],
   "source": [
    "N2O = df2[df2['Element_x'] == 'Emissions (CO2eq) from N2O (AR5)']"
   ]
  },
  {
   "cell_type": "code",
   "execution_count": 29,
   "id": "b4511574",
   "metadata": {},
   "outputs": [
    {
     "name": "stderr",
     "output_type": "stream",
     "text": [
      "C:\\Users\\Marce\\anaconda3\\lib\\site-packages\\pandas\\core\\frame.py:4901: SettingWithCopyWarning: \n",
      "A value is trying to be set on a copy of a slice from a DataFrame\n",
      "\n",
      "See the caveats in the documentation: https://pandas.pydata.org/pandas-docs/stable/user_guide/indexing.html#returning-a-view-versus-a-copy\n",
      "  return super().drop(\n"
     ]
    }
   ],
   "source": [
    "N2O.drop(columns={'Element_x'},inplace=True)"
   ]
  },
  {
   "cell_type": "code",
   "execution_count": 30,
   "id": "850f8375",
   "metadata": {},
   "outputs": [],
   "source": [
    "N2O = N2O.groupby(['Year']).mean()"
   ]
  },
  {
   "cell_type": "code",
   "execution_count": 31,
   "id": "d1ffe9c7",
   "metadata": {},
   "outputs": [
    {
     "name": "stdout",
     "output_type": "stream",
     "text": [
      "         emission  temperature\n",
      "Year                          \n",
      "2000  7316.777503     0.674260\n",
      "2001  7506.319104     0.741204\n",
      "2002  7704.619815     0.787067\n",
      "2003  7750.504686     0.753642\n",
      "2004  7987.294222     0.723385\n",
      "2005  8032.104395     0.764452\n",
      "2006  8078.628079     0.773071\n",
      "2007  8266.699368     0.822787\n",
      "2008  8261.287455     0.738857\n",
      "2009  8272.419886     0.799347\n",
      "2010  8460.868503     0.867358\n",
      "2011  8662.201859     0.745951\n",
      "2012  8684.443685     0.768864\n",
      "2013  8630.557181     0.805342\n",
      "2014  8718.879102     0.889307\n",
      "2015  8773.776989     0.980121\n",
      "2016  8851.636674     1.028749\n",
      "2017  8968.224447     0.960681\n",
      "2018  8879.107220     0.976175\n",
      "2019  8919.472390     1.055355\n"
     ]
    }
   ],
   "source": [
    "print(N2O)"
   ]
  },
  {
   "cell_type": "markdown",
   "id": "80371ad7",
   "metadata": {},
   "source": [
    "# Plotting results"
   ]
  },
  {
   "cell_type": "code",
   "execution_count": 32,
   "id": "681c50ab",
   "metadata": {},
   "outputs": [
    {
     "data": {
      "image/png": "[encoded data removed]",
      "text/plain": [
       "<Figure size 432x288 with 1 Axes>"
      ]
     },
     "metadata": {
      "needs_background": "light"
     },
     "output_type": "display_data"
    }
   ],
   "source": [
    "df2.plot (x=\"Year\", y=\"emission\", style=\"o\")\n",
    "plt.title(\"Emissions per year\")\n",
    "plt.xlabel(\"Years\")\n",
    "plt.ylabel(\"Emissions\")\n",
    "plt.show()"
   ]
  },
  {
   "cell_type": "code",
   "execution_count": 33,
   "id": "ba480de6",
   "metadata": {},
   "outputs": [
    {
     "data": {
      "image/png": "[encoded data removed]",
      "text/plain": [
       "<Figure size 432x288 with 1 Axes>"
      ]
     },
     "metadata": {
      "needs_background": "light"
     },
     "output_type": "display_data"
    }
   ],
   "source": [
    "sns.lineplot(x=df2['Year'],y=df2['emission'], ci=None)\n",
    "plt.savefig('emissionyears.png',dpi=200)\n",
    "plt.show()"
   ]
  },
  {
   "cell_type": "code",
   "execution_count": 34,
   "id": "a0340aa0",
   "metadata": {},
   "outputs": [
    {
     "data": {
      "image/png": "[encoded data removed]",
      "text/plain": [
       "<Figure size 432x288 with 1 Axes>"
      ]
     },
     "metadata": {
      "needs_background": "light"
     },
     "output_type": "display_data"
    }
   ],
   "source": [
    "sns.lineplot(x=df2['Year'],y=df2['temperature'], ci=None)\n",
    "plt.savefig('temperatureyears.png',dpi=200)\n",
    "plt.show()"
   ]
  },
  {
   "cell_type": "markdown",
   "id": "db71983f",
   "metadata": {},
   "source": [
    "# 01. Regression of temperature vs CO2 emission"
   ]
  },
  {
   "cell_type": "code",
   "execution_count": 35,
   "id": "b0d3a7ea",
   "metadata": {},
   "outputs": [
    {
     "name": "stderr",
     "output_type": "stream",
     "text": [
      "C:\\Users\\Marce\\anaconda3\\lib\\site-packages\\statsmodels\\tsa\\tsatools.py:142: FutureWarning: In a future version of pandas all arguments of concat except for the argument 'objs' will be keyword-only\n",
      "  x = pd.concat(x[::order], 1)\n"
     ]
    }
   ],
   "source": [
    "#define explanatory variable\n",
    "X = CO2[\"emission\"]\n",
    "\n",
    "#define target variable\n",
    "y = CO2[\"temperature\"]\n",
    "\n",
    "# add an intercept (beta_0) to the model\n",
    "X = sm.add_constant(X) \n",
    "\n",
    "#fit linear regression model\n",
    "\n",
    "model = sm.OLS(y, X).fit()\n",
    "\n",
    "predictions = model.predict(X)"
   ]
  },
  {
   "cell_type": "code",
   "execution_count": 36,
   "id": "ab54d076",
   "metadata": {},
   "outputs": [
    {
     "data": {
      "text/html": [
       "<table class=\"simpletable\">\n",
       "<caption>OLS Regression Results</caption>\n",
       "<tr>\n",
       "  <th>Dep. Variable:</th>       <td>temperature</td>   <th>  R-squared:         </th> <td>   0.165</td>\n",
       "</tr>\n",
       "<tr>\n",
       "  <th>Model:</th>                   <td>OLS</td>       <th>  Adj. R-squared:    </th> <td>   0.118</td>\n",
       "</tr>\n",
       "<tr>\n",
       "  <th>Method:</th>             <td>Least Squares</td>  <th>  F-statistic:       </th> <td>   3.554</td>\n",
       "</tr>\n",
       "<tr>\n",
       "  <th>Date:</th>             <td>Tue, 19 Oct 2021</td> <th>  Prob (F-statistic):</th>  <td>0.0757</td> \n",
       "</tr>\n",
       "<tr>\n",
       "  <th>Time:</th>                 <td>14:06:29</td>     <th>  Log-Likelihood:    </th> <td>  17.889</td>\n",
       "</tr>\n",
       "<tr>\n",
       "  <th>No. Observations:</th>      <td>    20</td>      <th>  AIC:               </th> <td>  -31.78</td>\n",
       "</tr>\n",
       "<tr>\n",
       "  <th>Df Residuals:</th>          <td>    18</td>      <th>  BIC:               </th> <td>  -29.79</td>\n",
       "</tr>\n",
       "<tr>\n",
       "  <th>Df Model:</th>              <td>     1</td>      <th>                     </th>     <td> </td>   \n",
       "</tr>\n",
       "<tr>\n",
       "  <th>Covariance Type:</th>      <td>nonrobust</td>    <th>                     </th>     <td> </td>   \n",
       "</tr>\n",
       "</table>\n",
       "<table class=\"simpletable\">\n",
       "<tr>\n",
       "      <td></td>        <th>coef</th>     <th>std err</th>      <th>t</th>      <th>P>|t|</th>  <th>[0.025</th>    <th>0.975]</th>  \n",
       "</tr>\n",
       "<tr>\n",
       "  <th>const</th>    <td>    1.1268</td> <td>    0.155</td> <td>    7.258</td> <td> 0.000</td> <td>    0.801</td> <td>    1.453</td>\n",
       "</tr>\n",
       "<tr>\n",
       "  <th>emission</th> <td>-2.637e-05</td> <td>  1.4e-05</td> <td>   -1.885</td> <td> 0.076</td> <td>-5.58e-05</td> <td> 3.02e-06</td>\n",
       "</tr>\n",
       "</table>\n",
       "<table class=\"simpletable\">\n",
       "<tr>\n",
       "  <th>Omnibus:</th>       <td> 1.174</td> <th>  Durbin-Watson:     </th> <td>   0.575</td>\n",
       "</tr>\n",
       "<tr>\n",
       "  <th>Prob(Omnibus):</th> <td> 0.556</td> <th>  Jarque-Bera (JB):  </th> <td>   1.043</td>\n",
       "</tr>\n",
       "<tr>\n",
       "  <th>Skew:</th>          <td> 0.485</td> <th>  Prob(JB):          </th> <td>   0.594</td>\n",
       "</tr>\n",
       "<tr>\n",
       "  <th>Kurtosis:</th>      <td> 2.443</td> <th>  Cond. No.          </th> <td>7.39e+04</td>\n",
       "</tr>\n",
       "</table><br/><br/>Notes:<br/>[1] Standard Errors assume that the covariance matrix of the errors is correctly specified.<br/>[2] The condition number is large, 7.39e+04. This might indicate that there are<br/>strong multicollinearity or other numerical problems."
      ],
      "text/plain": [
       "<class 'statsmodels.iolib.summary.Summary'>\n",
       "\"\"\"\n",
       "                            OLS Regression Results                            \n",
       "==============================================================================\n",
       "Dep. Variable:            temperature   R-squared:                       0.165\n",
       "Model:                            OLS   Adj. R-squared:                  0.118\n",
       "Method:                 Least Squares   F-statistic:                     3.554\n",
       "Date:                Tue, 19 Oct 2021   Prob (F-statistic):             0.0757\n",
       "Time:                        14:06:29   Log-Likelihood:                 17.889\n",
       "No. Observations:                  20   AIC:                            -31.78\n",
       "Df Residuals:                      18   BIC:                            -29.79\n",
       "Df Model:                           1                                         \n",
       "Covariance Type:            nonrobust                                         \n",
       "==============================================================================\n",
       "                 coef    std err          t      P>|t|      [0.025      0.975]\n",
       "------------------------------------------------------------------------------\n",
       "const          1.1268      0.155      7.258      0.000       0.801       1.453\n",
       "emission   -2.637e-05    1.4e-05     -1.885      0.076   -5.58e-05    3.02e-06\n",
       "==============================================================================\n",
       "Omnibus:                        1.174   Durbin-Watson:                   0.575\n",
       "Prob(Omnibus):                  0.556   Jarque-Bera (JB):                1.043\n",
       "Skew:                           0.485   Prob(JB):                        0.594\n",
       "Kurtosis:                       2.443   Cond. No.                     7.39e+04\n",
       "==============================================================================\n",
       "\n",
       "Notes:\n",
       "[1] Standard Errors assume that the covariance matrix of the errors is correctly specified.\n",
       "[2] The condition number is large, 7.39e+04. This might indicate that there are\n",
       "strong multicollinearity or other numerical problems.\n",
       "\"\"\""
      ]
     },
     "execution_count": 36,
     "metadata": {},
     "output_type": "execute_result"
    }
   ],
   "source": [
    "# Print out the statistics\n",
    "model.summary()"
   ]
  },
  {
   "cell_type": "code",
   "execution_count": 37,
   "id": "59f32f5d",
   "metadata": {},
   "outputs": [
    {
     "data": {
      "image/png": "[encoded data removed]",
      "text/plain": [
       "<Figure size 432x288 with 1 Axes>"
      ]
     },
     "metadata": {
      "needs_background": "light"
     },
     "output_type": "display_data"
    }
   ],
   "source": [
    "x = CO2['emission']\n",
    "\n",
    "y = CO2['temperature']\n",
    "\n",
    "# label axis\n",
    "plt.xlabel('Emission CO2')\n",
    "plt.ylabel('Temperature')\n",
    "#obtain m (slope) and b(intercept) of linear regression line\n",
    "m, b = np.polyfit(x, y, 1)\n",
    "\n",
    "# Plot chart\n",
    "plt.plot(x,y,'o')\n",
    "\n",
    "# plot with regression line\n",
    "plt.plot(x, m*x+b)\n",
    "\n",
    "# save plot as png\n",
    "plt.savefig('emission CO2.png',dpi=200)"
   ]
  },
  {
   "cell_type": "markdown",
   "id": "7c98eefe",
   "metadata": {},
   "source": [
    "# 02. Regression of temperature vs CH4 emission"
   ]
  },
  {
   "cell_type": "code",
   "execution_count": 38,
   "id": "8317e94a",
   "metadata": {},
   "outputs": [
    {
     "name": "stderr",
     "output_type": "stream",
     "text": [
      "C:\\Users\\Marce\\anaconda3\\lib\\site-packages\\statsmodels\\tsa\\tsatools.py:142: FutureWarning: In a future version of pandas all arguments of concat except for the argument 'objs' will be keyword-only\n",
      "  x = pd.concat(x[::order], 1)\n"
     ]
    }
   ],
   "source": [
    "#define explanatory variable\n",
    "X = CH4[\"emission\"]\n",
    "\n",
    "#define target variable\n",
    "y = CH4[\"temperature\"]\n",
    "\n",
    "# add an intercept (beta_0) to the model\n",
    "X = sm.add_constant(X) \n",
    "\n",
    "#fit linear regression model\n",
    "\n",
    "model = sm.OLS(y, X).fit()\n",
    "\n",
    "predictions = model.predict(X)"
   ]
  },
  {
   "cell_type": "code",
   "execution_count": 39,
   "id": "47b84833",
   "metadata": {},
   "outputs": [
    {
     "data": {
      "text/html": [
       "<table class=\"simpletable\">\n",
       "<caption>OLS Regression Results</caption>\n",
       "<tr>\n",
       "  <th>Dep. Variable:</th>       <td>temperature</td>   <th>  R-squared:         </th> <td>   0.494</td>\n",
       "</tr>\n",
       "<tr>\n",
       "  <th>Model:</th>                   <td>OLS</td>       <th>  Adj. R-squared:    </th> <td>   0.466</td>\n",
       "</tr>\n",
       "<tr>\n",
       "  <th>Method:</th>             <td>Least Squares</td>  <th>  F-statistic:       </th> <td>   17.56</td>\n",
       "</tr>\n",
       "<tr>\n",
       "  <th>Date:</th>             <td>Tue, 19 Oct 2021</td> <th>  Prob (F-statistic):</th> <td>0.000549</td>\n",
       "</tr>\n",
       "<tr>\n",
       "  <th>Time:</th>                 <td>14:06:29</td>     <th>  Log-Likelihood:    </th> <td>  22.855</td>\n",
       "</tr>\n",
       "<tr>\n",
       "  <th>No. Observations:</th>      <td>    20</td>      <th>  AIC:               </th> <td>  -41.71</td>\n",
       "</tr>\n",
       "<tr>\n",
       "  <th>Df Residuals:</th>          <td>    18</td>      <th>  BIC:               </th> <td>  -39.72</td>\n",
       "</tr>\n",
       "<tr>\n",
       "  <th>Df Model:</th>              <td>     1</td>      <th>                     </th>     <td> </td>   \n",
       "</tr>\n",
       "<tr>\n",
       "  <th>Covariance Type:</th>      <td>nonrobust</td>    <th>                     </th>     <td> </td>   \n",
       "</tr>\n",
       "</table>\n",
       "<table class=\"simpletable\">\n",
       "<tr>\n",
       "      <td></td>        <th>coef</th>     <th>std err</th>      <th>t</th>      <th>P>|t|</th>  <th>[0.025</th>    <th>0.975]</th>  \n",
       "</tr>\n",
       "<tr>\n",
       "  <th>const</th>    <td>   -2.0873</td> <td>    0.697</td> <td>   -2.996</td> <td> 0.008</td> <td>   -3.551</td> <td>   -0.623</td>\n",
       "</tr>\n",
       "<tr>\n",
       "  <th>emission</th> <td>    0.0002</td> <td> 4.33e-05</td> <td>    4.191</td> <td> 0.001</td> <td> 9.04e-05</td> <td>    0.000</td>\n",
       "</tr>\n",
       "</table>\n",
       "<table class=\"simpletable\">\n",
       "<tr>\n",
       "  <th>Omnibus:</th>       <td> 0.558</td> <th>  Durbin-Watson:     </th> <td>   0.897</td>\n",
       "</tr>\n",
       "<tr>\n",
       "  <th>Prob(Omnibus):</th> <td> 0.756</td> <th>  Jarque-Bera (JB):  </th> <td>   0.593</td>\n",
       "</tr>\n",
       "<tr>\n",
       "  <th>Skew:</th>          <td> 0.043</td> <th>  Prob(JB):          </th> <td>   0.743</td>\n",
       "</tr>\n",
       "<tr>\n",
       "  <th>Kurtosis:</th>      <td> 2.161</td> <th>  Cond. No.          </th> <td>6.17e+05</td>\n",
       "</tr>\n",
       "</table><br/><br/>Notes:<br/>[1] Standard Errors assume that the covariance matrix of the errors is correctly specified.<br/>[2] The condition number is large, 6.17e+05. This might indicate that there are<br/>strong multicollinearity or other numerical problems."
      ],
      "text/plain": [
       "<class 'statsmodels.iolib.summary.Summary'>\n",
       "\"\"\"\n",
       "                            OLS Regression Results                            \n",
       "==============================================================================\n",
       "Dep. Variable:            temperature   R-squared:                       0.494\n",
       "Model:                            OLS   Adj. R-squared:                  0.466\n",
       "Method:                 Least Squares   F-statistic:                     17.56\n",
       "Date:                Tue, 19 Oct 2021   Prob (F-statistic):           0.000549\n",
       "Time:                        14:06:29   Log-Likelihood:                 22.855\n",
       "No. Observations:                  20   AIC:                            -41.71\n",
       "Df Residuals:                      18   BIC:                            -39.72\n",
       "Df Model:                           1                                         \n",
       "Covariance Type:            nonrobust                                         \n",
       "==============================================================================\n",
       "                 coef    std err          t      P>|t|      [0.025      0.975]\n",
       "------------------------------------------------------------------------------\n",
       "const         -2.0873      0.697     -2.996      0.008      -3.551      -0.623\n",
       "emission       0.0002   4.33e-05      4.191      0.001    9.04e-05       0.000\n",
       "==============================================================================\n",
       "Omnibus:                        0.558   Durbin-Watson:                   0.897\n",
       "Prob(Omnibus):                  0.756   Jarque-Bera (JB):                0.593\n",
       "Skew:                           0.043   Prob(JB):                        0.743\n",
       "Kurtosis:                       2.161   Cond. No.                     6.17e+05\n",
       "==============================================================================\n",
       "\n",
       "Notes:\n",
       "[1] Standard Errors assume that the covariance matrix of the errors is correctly specified.\n",
       "[2] The condition number is large, 6.17e+05. This might indicate that there are\n",
       "strong multicollinearity or other numerical problems.\n",
       "\"\"\""
      ]
     },
     "execution_count": 39,
     "metadata": {},
     "output_type": "execute_result"
    }
   ],
   "source": [
    "# Print out the statistics\n",
    "model.summary()"
   ]
  },
  {
   "cell_type": "code",
   "execution_count": 40,
   "id": "ef07c758",
   "metadata": {},
   "outputs": [
    {
     "data": {
      "image/png": "[encoded data removed]",
      "text/plain": [
       "<Figure size 432x288 with 1 Axes>"
      ]
     },
     "metadata": {
      "needs_background": "light"
     },
     "output_type": "display_data"
    }
   ],
   "source": [
    "x = CH4['emission']\n",
    "\n",
    "y = CH4['temperature']\n",
    "\n",
    "# label axis\n",
    "plt.xlabel('Emission CH4(methane)')\n",
    "plt.ylabel('Temperature')\n",
    "\n",
    "#obtain m (slope) and b(intercept) of linear regression line\n",
    "m, b = np.polyfit(x, y, 1)\n",
    "\n",
    "# Plot chart\n",
    "plt.plot(x,y,'o')\n",
    "\n",
    "# plot with regression line\n",
    "plt.plot(x, m*x+b)\n",
    "\n",
    "# save plot as png\n",
    "plt.savefig('emission CH4.png',dpi=200)"
   ]
  },
  {
   "cell_type": "markdown",
   "id": "1609066c",
   "metadata": {},
   "source": [
    "# 03. Regression of temperature vs N2O"
   ]
  },
  {
   "cell_type": "code",
   "execution_count": 41,
   "id": "c054e642",
   "metadata": {},
   "outputs": [
    {
     "name": "stderr",
     "output_type": "stream",
     "text": [
      "C:\\Users\\Marce\\anaconda3\\lib\\site-packages\\statsmodels\\tsa\\tsatools.py:142: FutureWarning: In a future version of pandas all arguments of concat except for the argument 'objs' will be keyword-only\n",
      "  x = pd.concat(x[::order], 1)\n"
     ]
    }
   ],
   "source": [
    "#define explanatory variable\n",
    "X = N2O[\"emission\"]\n",
    "\n",
    "#define target variable\n",
    "y = N2O[\"temperature\"]\n",
    "\n",
    "# add an intercept (beta_0) to the model\n",
    "X = sm.add_constant(X) \n",
    "\n",
    "#fit linear regression model\n",
    "\n",
    "model = sm.OLS(y, X).fit()\n",
    "\n",
    "predictions = model.predict(X)"
   ]
  },
  {
   "cell_type": "code",
   "execution_count": 42,
   "id": "5229b364",
   "metadata": {},
   "outputs": [
    {
     "data": {
      "text/html": [
       "<table class=\"simpletable\">\n",
       "<caption>OLS Regression Results</caption>\n",
       "<tr>\n",
       "  <th>Dep. Variable:</th>       <td>temperature</td>   <th>  R-squared:         </th> <td>   0.601</td>\n",
       "</tr>\n",
       "<tr>\n",
       "  <th>Model:</th>                   <td>OLS</td>       <th>  Adj. R-squared:    </th> <td>   0.579</td>\n",
       "</tr>\n",
       "<tr>\n",
       "  <th>Method:</th>             <td>Least Squares</td>  <th>  F-statistic:       </th> <td>   27.10</td>\n",
       "</tr>\n",
       "<tr>\n",
       "  <th>Date:</th>             <td>Tue, 19 Oct 2021</td> <th>  Prob (F-statistic):</th> <td>5.95e-05</td>\n",
       "</tr>\n",
       "<tr>\n",
       "  <th>Time:</th>                 <td>14:06:29</td>     <th>  Log-Likelihood:    </th> <td>  25.227</td>\n",
       "</tr>\n",
       "<tr>\n",
       "  <th>No. Observations:</th>      <td>    20</td>      <th>  AIC:               </th> <td>  -46.45</td>\n",
       "</tr>\n",
       "<tr>\n",
       "  <th>Df Residuals:</th>          <td>    18</td>      <th>  BIC:               </th> <td>  -44.46</td>\n",
       "</tr>\n",
       "<tr>\n",
       "  <th>Df Model:</th>              <td>     1</td>      <th>                     </th>     <td> </td>   \n",
       "</tr>\n",
       "<tr>\n",
       "  <th>Covariance Type:</th>      <td>nonrobust</td>    <th>                     </th>     <td> </td>   \n",
       "</tr>\n",
       "</table>\n",
       "<table class=\"simpletable\">\n",
       "<tr>\n",
       "      <td></td>        <th>coef</th>     <th>std err</th>      <th>t</th>      <th>P>|t|</th>  <th>[0.025</th>    <th>0.975]</th>  \n",
       "</tr>\n",
       "<tr>\n",
       "  <th>const</th>    <td>   -0.6086</td> <td>    0.277</td> <td>   -2.194</td> <td> 0.042</td> <td>   -1.191</td> <td>   -0.026</td>\n",
       "</tr>\n",
       "<tr>\n",
       "  <th>emission</th> <td>    0.0002</td> <td> 3.32e-05</td> <td>    5.206</td> <td> 0.000</td> <td>    0.000</td> <td>    0.000</td>\n",
       "</tr>\n",
       "</table>\n",
       "<table class=\"simpletable\">\n",
       "<tr>\n",
       "  <th>Omnibus:</th>       <td> 0.515</td> <th>  Durbin-Watson:     </th> <td>   0.792</td>\n",
       "</tr>\n",
       "<tr>\n",
       "  <th>Prob(Omnibus):</th> <td> 0.773</td> <th>  Jarque-Bera (JB):  </th> <td>   0.471</td>\n",
       "</tr>\n",
       "<tr>\n",
       "  <th>Skew:</th>          <td>-0.321</td> <th>  Prob(JB):          </th> <td>   0.790</td>\n",
       "</tr>\n",
       "<tr>\n",
       "  <th>Kurtosis:</th>      <td> 2.607</td> <th>  Cond. No.          </th> <td>1.43e+05</td>\n",
       "</tr>\n",
       "</table><br/><br/>Notes:<br/>[1] Standard Errors assume that the covariance matrix of the errors is correctly specified.<br/>[2] The condition number is large, 1.43e+05. This might indicate that there are<br/>strong multicollinearity or other numerical problems."
      ],
      "text/plain": [
       "<class 'statsmodels.iolib.summary.Summary'>\n",
       "\"\"\"\n",
       "                            OLS Regression Results                            \n",
       "==============================================================================\n",
       "Dep. Variable:            temperature   R-squared:                       0.601\n",
       "Model:                            OLS   Adj. R-squared:                  0.579\n",
       "Method:                 Least Squares   F-statistic:                     27.10\n",
       "Date:                Tue, 19 Oct 2021   Prob (F-statistic):           5.95e-05\n",
       "Time:                        14:06:29   Log-Likelihood:                 25.227\n",
       "No. Observations:                  20   AIC:                            -46.45\n",
       "Df Residuals:                      18   BIC:                            -44.46\n",
       "Df Model:                           1                                         \n",
       "Covariance Type:            nonrobust                                         \n",
       "==============================================================================\n",
       "                 coef    std err          t      P>|t|      [0.025      0.975]\n",
       "------------------------------------------------------------------------------\n",
       "const         -0.6086      0.277     -2.194      0.042      -1.191      -0.026\n",
       "emission       0.0002   3.32e-05      5.206      0.000       0.000       0.000\n",
       "==============================================================================\n",
       "Omnibus:                        0.515   Durbin-Watson:                   0.792\n",
       "Prob(Omnibus):                  0.773   Jarque-Bera (JB):                0.471\n",
       "Skew:                          -0.321   Prob(JB):                        0.790\n",
       "Kurtosis:                       2.607   Cond. No.                     1.43e+05\n",
       "==============================================================================\n",
       "\n",
       "Notes:\n",
       "[1] Standard Errors assume that the covariance matrix of the errors is correctly specified.\n",
       "[2] The condition number is large, 1.43e+05. This might indicate that there are\n",
       "strong multicollinearity or other numerical problems.\n",
       "\"\"\""
      ]
     },
     "execution_count": 42,
     "metadata": {},
     "output_type": "execute_result"
    }
   ],
   "source": [
    "# Print out the statistics\n",
    "model.summary()"
   ]
  },
  {
   "cell_type": "code",
   "execution_count": 43,
   "id": "c0aa6f16",
   "metadata": {},
   "outputs": [
    {
     "data": {
      "image/png": "[encoded data removed]",
      "text/plain": [
       "<Figure size 432x288 with 1 Axes>"
      ]
     },
     "metadata": {
      "needs_background": "light"
     },
     "output_type": "display_data"
    }
   ],
   "source": [
    "x = N2O['emission']\n",
    "\n",
    "y = N2O['temperature']\n",
    "\n",
    "# label axis\n",
    "plt.xlabel('Emission N2O')\n",
    "plt.ylabel('Temperature')\n",
    "\n",
    "#obtain m (slope) and b(intercept) of linear regression line\n",
    "m, b = np.polyfit(x, y, 1)\n",
    "\n",
    "# Plot chart\n",
    "plt.plot(x,y,'o')\n",
    "\n",
    "# plot with regression line\n",
    "plt.plot(x, m*x+b)\n",
    "\n",
    "# save plot as png\n",
    "plt.savefig('emission N2O.png',dpi=200)"
   ]
  },
  {
   "cell_type": "markdown",
   "id": "51bed0cb",
   "metadata": {},
   "source": [
    "# Following section is just to try out something new/different approach"
   ]
  },
  {
   "cell_type": "code",
   "execution_count": 44,
   "id": "1c90ff1f",
   "metadata": {},
   "outputs": [],
   "source": [
    "df3=df2[['Year','temperature']].groupby('Year').mean()"
   ]
  },
  {
   "cell_type": "code",
   "execution_count": 45,
   "id": "8b04d6ee",
   "metadata": {},
   "outputs": [
    {
     "data": {
      "text/html": [
       "<div>\n",
       "<style scoped>\n",
       "    .dataframe tbody tr th:only-of-type {\n",
       "        vertical-align: middle;\n",
       "    }\n",
       "\n",
       "    .dataframe tbody tr th {\n",
       "        vertical-align: top;\n",
       "    }\n",
       "\n",
       "    .dataframe thead th {\n",
       "        text-align: right;\n",
       "    }\n",
       "</style>\n",
       "<table border=\"1\" class=\"dataframe\">\n",
       "  <thead>\n",
       "    <tr style=\"text-align: right;\">\n",
       "      <th></th>\n",
       "      <th>temperature</th>\n",
       "    </tr>\n",
       "    <tr>\n",
       "      <th>Year</th>\n",
       "      <th></th>\n",
       "    </tr>\n",
       "  </thead>\n",
       "  <tbody>\n",
       "    <tr>\n",
       "      <th>2000</th>\n",
       "      <td>0.675281</td>\n",
       "    </tr>\n",
       "    <tr>\n",
       "      <th>2001</th>\n",
       "      <td>0.742282</td>\n",
       "    </tr>\n",
       "    <tr>\n",
       "      <th>2002</th>\n",
       "      <td>0.787976</td>\n",
       "    </tr>\n",
       "    <tr>\n",
       "      <th>2003</th>\n",
       "      <td>0.754691</td>\n",
       "    </tr>\n",
       "    <tr>\n",
       "      <th>2004</th>\n",
       "      <td>0.723924</td>\n",
       "    </tr>\n",
       "  </tbody>\n",
       "</table>\n",
       "</div>"
      ],
      "text/plain": [
       "      temperature\n",
       "Year             \n",
       "2000     0.675281\n",
       "2001     0.742282\n",
       "2002     0.787976\n",
       "2003     0.754691\n",
       "2004     0.723924"
      ]
     },
     "execution_count": 45,
     "metadata": {},
     "output_type": "execute_result"
    }
   ],
   "source": [
    "df3.head()"
   ]
  },
  {
   "cell_type": "code",
   "execution_count": 46,
   "id": "35682ab3",
   "metadata": {},
   "outputs": [],
   "source": [
    "df3=df3.merge(CH4['emission'],on='Year')\n",
    "df3.rename(columns={'emission':'CH4'},inplace=True)"
   ]
  },
  {
   "cell_type": "code",
   "execution_count": 47,
   "id": "08d5156c",
   "metadata": {},
   "outputs": [
    {
     "data": {
      "text/html": [
       "<div>\n",
       "<style scoped>\n",
       "    .dataframe tbody tr th:only-of-type {\n",
       "        vertical-align: middle;\n",
       "    }\n",
       "\n",
       "    .dataframe tbody tr th {\n",
       "        vertical-align: top;\n",
       "    }\n",
       "\n",
       "    .dataframe thead th {\n",
       "        text-align: right;\n",
       "    }\n",
       "</style>\n",
       "<table border=\"1\" class=\"dataframe\">\n",
       "  <thead>\n",
       "    <tr style=\"text-align: right;\">\n",
       "      <th></th>\n",
       "      <th>temperature</th>\n",
       "      <th>CH4</th>\n",
       "    </tr>\n",
       "    <tr>\n",
       "      <th>Year</th>\n",
       "      <th></th>\n",
       "      <th></th>\n",
       "    </tr>\n",
       "  </thead>\n",
       "  <tbody>\n",
       "    <tr>\n",
       "      <th>2000</th>\n",
       "      <td>0.675281</td>\n",
       "      <td>15049.882173</td>\n",
       "    </tr>\n",
       "    <tr>\n",
       "      <th>2001</th>\n",
       "      <td>0.742282</td>\n",
       "      <td>15145.011218</td>\n",
       "    </tr>\n",
       "    <tr>\n",
       "      <th>2002</th>\n",
       "      <td>0.787976</td>\n",
       "      <td>15810.818754</td>\n",
       "    </tr>\n",
       "    <tr>\n",
       "      <th>2003</th>\n",
       "      <td>0.754691</td>\n",
       "      <td>15588.252022</td>\n",
       "    </tr>\n",
       "    <tr>\n",
       "      <th>2004</th>\n",
       "      <td>0.723924</td>\n",
       "      <td>16086.840658</td>\n",
       "    </tr>\n",
       "  </tbody>\n",
       "</table>\n",
       "</div>"
      ],
      "text/plain": [
       "      temperature           CH4\n",
       "Year                           \n",
       "2000     0.675281  15049.882173\n",
       "2001     0.742282  15145.011218\n",
       "2002     0.787976  15810.818754\n",
       "2003     0.754691  15588.252022\n",
       "2004     0.723924  16086.840658"
      ]
     },
     "execution_count": 47,
     "metadata": {},
     "output_type": "execute_result"
    }
   ],
   "source": [
    "df3.head()"
   ]
  },
  {
   "cell_type": "code",
   "execution_count": 48,
   "id": "3da9de79",
   "metadata": {},
   "outputs": [],
   "source": [
    "df3=df3.merge(CO2['emission'],on='Year')\n",
    "df3.rename(columns={'emission':'CO2'},inplace=True)"
   ]
  },
  {
   "cell_type": "code",
   "execution_count": 49,
   "id": "49a09a1f",
   "metadata": {},
   "outputs": [
    {
     "data": {
      "text/html": [
       "<div>\n",
       "<style scoped>\n",
       "    .dataframe tbody tr th:only-of-type {\n",
       "        vertical-align: middle;\n",
       "    }\n",
       "\n",
       "    .dataframe tbody tr th {\n",
       "        vertical-align: top;\n",
       "    }\n",
       "\n",
       "    .dataframe thead th {\n",
       "        text-align: right;\n",
       "    }\n",
       "</style>\n",
       "<table border=\"1\" class=\"dataframe\">\n",
       "  <thead>\n",
       "    <tr style=\"text-align: right;\">\n",
       "      <th></th>\n",
       "      <th>temperature</th>\n",
       "      <th>CH4</th>\n",
       "      <th>CO2</th>\n",
       "    </tr>\n",
       "    <tr>\n",
       "      <th>Year</th>\n",
       "      <th></th>\n",
       "      <th></th>\n",
       "      <th></th>\n",
       "    </tr>\n",
       "  </thead>\n",
       "  <tbody>\n",
       "    <tr>\n",
       "      <th>2000</th>\n",
       "      <td>0.675281</td>\n",
       "      <td>15049.882173</td>\n",
       "      <td>12238.234018</td>\n",
       "    </tr>\n",
       "    <tr>\n",
       "      <th>2001</th>\n",
       "      <td>0.742282</td>\n",
       "      <td>15145.011218</td>\n",
       "      <td>10949.431180</td>\n",
       "    </tr>\n",
       "    <tr>\n",
       "      <th>2002</th>\n",
       "      <td>0.787976</td>\n",
       "      <td>15810.818754</td>\n",
       "      <td>13018.584071</td>\n",
       "    </tr>\n",
       "    <tr>\n",
       "      <th>2003</th>\n",
       "      <td>0.754691</td>\n",
       "      <td>15588.252022</td>\n",
       "      <td>12238.752860</td>\n",
       "    </tr>\n",
       "    <tr>\n",
       "      <th>2004</th>\n",
       "      <td>0.723924</td>\n",
       "      <td>16086.840658</td>\n",
       "      <td>13105.522569</td>\n",
       "    </tr>\n",
       "  </tbody>\n",
       "</table>\n",
       "</div>"
      ],
      "text/plain": [
       "      temperature           CH4           CO2\n",
       "Year                                         \n",
       "2000     0.675281  15049.882173  12238.234018\n",
       "2001     0.742282  15145.011218  10949.431180\n",
       "2002     0.787976  15810.818754  13018.584071\n",
       "2003     0.754691  15588.252022  12238.752860\n",
       "2004     0.723924  16086.840658  13105.522569"
      ]
     },
     "execution_count": 49,
     "metadata": {},
     "output_type": "execute_result"
    }
   ],
   "source": [
    "df3.head()"
   ]
  },
  {
   "cell_type": "code",
   "execution_count": 50,
   "id": "dbc7f01b",
   "metadata": {},
   "outputs": [],
   "source": [
    "df3=df3.merge(N2O['emission'],on='Year')\n",
    "df3.rename(columns={'emission':'N2O'},inplace=True)"
   ]
  },
  {
   "cell_type": "code",
   "execution_count": 51,
   "id": "cc3ab1a9",
   "metadata": {},
   "outputs": [
    {
     "data": {
      "text/html": [
       "<div>\n",
       "<style scoped>\n",
       "    .dataframe tbody tr th:only-of-type {\n",
       "        vertical-align: middle;\n",
       "    }\n",
       "\n",
       "    .dataframe tbody tr th {\n",
       "        vertical-align: top;\n",
       "    }\n",
       "\n",
       "    .dataframe thead th {\n",
       "        text-align: right;\n",
       "    }\n",
       "</style>\n",
       "<table border=\"1\" class=\"dataframe\">\n",
       "  <thead>\n",
       "    <tr style=\"text-align: right;\">\n",
       "      <th></th>\n",
       "      <th>temperature</th>\n",
       "      <th>CH4</th>\n",
       "      <th>CO2</th>\n",
       "      <th>N2O</th>\n",
       "    </tr>\n",
       "    <tr>\n",
       "      <th>Year</th>\n",
       "      <th></th>\n",
       "      <th></th>\n",
       "      <th></th>\n",
       "      <th></th>\n",
       "    </tr>\n",
       "  </thead>\n",
       "  <tbody>\n",
       "    <tr>\n",
       "      <th>2000</th>\n",
       "      <td>0.675281</td>\n",
       "      <td>15049.882173</td>\n",
       "      <td>12238.234018</td>\n",
       "      <td>7316.777503</td>\n",
       "    </tr>\n",
       "    <tr>\n",
       "      <th>2001</th>\n",
       "      <td>0.742282</td>\n",
       "      <td>15145.011218</td>\n",
       "      <td>10949.431180</td>\n",
       "      <td>7506.319104</td>\n",
       "    </tr>\n",
       "    <tr>\n",
       "      <th>2002</th>\n",
       "      <td>0.787976</td>\n",
       "      <td>15810.818754</td>\n",
       "      <td>13018.584071</td>\n",
       "      <td>7704.619815</td>\n",
       "    </tr>\n",
       "    <tr>\n",
       "      <th>2003</th>\n",
       "      <td>0.754691</td>\n",
       "      <td>15588.252022</td>\n",
       "      <td>12238.752860</td>\n",
       "      <td>7750.504686</td>\n",
       "    </tr>\n",
       "    <tr>\n",
       "      <th>2004</th>\n",
       "      <td>0.723924</td>\n",
       "      <td>16086.840658</td>\n",
       "      <td>13105.522569</td>\n",
       "      <td>7987.294222</td>\n",
       "    </tr>\n",
       "  </tbody>\n",
       "</table>\n",
       "</div>"
      ],
      "text/plain": [
       "      temperature           CH4           CO2          N2O\n",
       "Year                                                      \n",
       "2000     0.675281  15049.882173  12238.234018  7316.777503\n",
       "2001     0.742282  15145.011218  10949.431180  7506.319104\n",
       "2002     0.787976  15810.818754  13018.584071  7704.619815\n",
       "2003     0.754691  15588.252022  12238.752860  7750.504686\n",
       "2004     0.723924  16086.840658  13105.522569  7987.294222"
      ]
     },
     "execution_count": 51,
     "metadata": {},
     "output_type": "execute_result"
    }
   ],
   "source": [
    "df3.head()"
   ]
  },
  {
   "cell_type": "code",
   "execution_count": 52,
   "id": "1708d284",
   "metadata": {},
   "outputs": [
    {
     "name": "stderr",
     "output_type": "stream",
     "text": [
      "C:\\Users\\Marce\\anaconda3\\lib\\site-packages\\seaborn\\axisgrid.py:2076: UserWarning: The `size` parameter has been renamed to `height`; please update your code.\n",
      "  warnings.warn(msg, UserWarning)\n"
     ]
    },
    {
     "data": {
      "image/png": "[encoded data removed]",
      "text/plain": [
       "<Figure size 1080x360 with 3 Axes>"
      ]
     },
     "metadata": {
      "needs_background": "light"
     },
     "output_type": "display_data"
    }
   ],
   "source": [
    "sns.pairplot(df3, x_vars=['CO2','N2O','CH4'],y_vars='temperature',kind='reg', size=5)\n",
    "plt.savefig('allinone regression.png', dpi=200)"
   ]
  },
  {
   "cell_type": "code",
   "execution_count": null,
   "id": "98ae0d71",
   "metadata": {},
   "outputs": [],
   "source": []
  },
  {
   "cell_type": "code",
   "execution_count": null,
   "id": "add0ebf5",
   "metadata": {},
   "outputs": [],
   "source": []
  }
 ],
 "metadata": {
  "kernelspec": {
   "display_name": "Python 3 (ipykernel)",
   "language": "python",
   "name": "python3"
  },
  "language_info": {
   "codemirror_mode": {
    "name": "ipython",
    "version": 3
   },
   "file_extension": ".py",
   "mimetype": "text/x-python",
   "name": "python",
   "nbconvert_exporter": "python",
   "pygments_lexer": "ipython3",
   "version": "3.8.11"
  }
 },
 "nbformat": 4,
 "nbformat_minor": 5
}
